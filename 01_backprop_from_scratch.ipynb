{
  "nbformat": 4,
  "nbformat_minor": 0,
  "metadata": {
    "colab": {
      "name": "MLB_D1_Abstraction.ipynb",
      "provenance": [],
      "toc_visible": true,
      "authorship_tag": "ABX9TyN3f8YyqAgjekpqTj2UPeW6",
      "include_colab_link": true
    },
    "kernelspec": {
      "name": "python3",
      "display_name": "Python 3"
    },
    "language_info": {
      "name": "python"
    }
  },
  "cells": [
    {
      "cell_type": "markdown",
      "metadata": {
        "id": "view-in-github",
        "colab_type": "text"
      },
      "source": [
        "<a href=\"https://colab.research.google.com/github/AayushKucheria/ML-Bootcamp/blob/main/01_backprop_from_scratch.ipynb\" target=\"_parent\"><img src=\"https://colab.research.google.com/assets/colab-badge.svg\" alt=\"Open In Colab\"/></a>"
      ]
    },
    {
      "cell_type": "markdown",
      "source": [
        "# Neural Network - from scratch to Pytorch"
      ],
      "metadata": {
        "id": "i_s5S4sBsaJu"
      }
    },
    {
      "cell_type": "markdown",
      "source": [
        "In this notebook, I build a network that approximates the sine function with a 3rd degree polynomial.\n",
        "\n",
        "To understand pytorch mechanics better, I'll be gradually moving up the abstraction ladder. Initially, building the whole network and learning simply using Numpy, and then adding abstractions to the code step-by-step and making it easier.\n",
        "\n",
        "1. Bare Numpy (computing gradient by hand)\n",
        "2. Bare Pytorch: using Tensors (same as above)\n",
        "3. Using Autograd\n",
        "4. Using torch.nn\n",
        "5. Optimizer abstraction (stopped iterating on parameters to update them)\n",
        "\n",
        "Sources/Inspiration\n",
        "1. https://pytorch.org/tutorials/beginner/pytorch_with_examples.html\n",
        "2. https://github.com/EffiSciencesResearch/ML4G/blob/main/days/w1d1/pytorch_tuto.ipynb"
      ],
      "metadata": {
        "id": "EYXwrrxWnBqe"
      }
    },
    {
      "cell_type": "markdown",
      "source": [
        "# Bare Numpy: Implementing the network using numpy"
      ],
      "metadata": {
        "id": "mANeB4onng9Q"
      }
    },
    {
      "cell_type": "markdown",
      "source": [
        "Numpy isn't aware of computation graphs, deep learning, or gradients. So I'll be manually implementing the forward and backward passes through the network using numpy operations."
      ],
      "metadata": {
        "id": "3L6a3_I7nysf"
      }
    },
    {
      "cell_type": "code",
      "source": [
        "import numpy as np\n",
        "import math\n",
        "\n",
        "# Creating random input and output data\n",
        "# Why math.pi? Coz we're playing with sine\n",
        "x = np.linspace(-math.pi, math.pi, 2000) # Generates random numbers over the interval\n",
        "y = np.sin(x)\n",
        "\n",
        "# Randomly initializing weights for the 3rd degree polynomial\n",
        "a = np.random.randn()\n",
        "b = np.random.randn()\n",
        "c = np.random.randn()\n",
        "d = np.random.randn()\n",
        "\n",
        "# plot_y = []\n",
        "plot_y_pred = []\n",
        "lr = 1e-6\n",
        "epochs = 2000\n",
        "\n",
        "for t in range(epochs):\n",
        "    # Forward pass: Compute predicted y\n",
        "    y_pred = a + b*x + c*(x**2) + d*(x**3) # Degree 3 polynomial\n",
        "    plot_y_pred.append(y_pred)\n",
        "    # Compute Loss (MSE)\n",
        "    diff = y_pred - y\n",
        "    loss = (diff**2).sum()\n",
        "    if t % 100 == 0:\n",
        "        print(t, loss)\n",
        "    \n",
        "    # Compute gradients of the loss wrt a, b, c, d\n",
        "    dl_dy = 2 *diff # Calculated by hand using the MSE formula\n",
        "\n",
        "    # The sum decides the \"direction\" the gradient is pointing towards.\n",
        "    # Could also use the mean but it'll be much slower\n",
        "    grad_a = (dl_dy * 1).sum()\n",
        "    grad_b = (dl_dy * x).sum()\n",
        "    grad_c = (dl_dy * x**2).sum()\n",
        "    grad_d = (dl_dy * x**3).sum()\n",
        "\n",
        "    # Update weights using gradient descent\n",
        "    a -= lr *  grad_a \n",
        "    b -= lr * grad_b\n",
        "    c -= lr * grad_c\n",
        "    d -= lr * grad_d\n",
        "\n",
        "print(f\"Result: y = {a} + {b}x + {c}x^2 + {d}x^3\")\n"
      ],
      "metadata": {
        "colab": {
          "base_uri": "https://localhost:8080/"
        },
        "id": "jLJCDF5Gngd0",
        "outputId": "be964037-4781-489c-b456-74d8ead83831"
      },
      "execution_count": null,
      "outputs": [
        {
          "output_type": "stream",
          "name": "stdout",
          "text": [
            "0 287518.48777536413\n",
            "100 1602.7939525428735\n",
            "200 1135.005688096289\n",
            "300 804.5817875006161\n",
            "400 571.158192701761\n",
            "500 406.2409955440313\n",
            "600 289.7125282604155\n",
            "700 207.36696532074183\n",
            "800 149.17167980273163\n",
            "900 108.04038821634677\n",
            "1000 78.96727779391443\n",
            "1100 58.415799790710466\n",
            "1200 43.88715935195668\n",
            "1300 33.61562528980736\n",
            "1400 26.353357618674472\n",
            "1500 21.218432684596817\n",
            "1600 17.587491136593645\n",
            "1700 15.019897844583966\n",
            "1800 13.204158005092747\n",
            "1900 11.920054251762354\n",
            "Result: y = 0.04950424450729623 + 0.8529734591509849x + -0.008540305931692874x^2 + -0.09279451148424846x^3\n"
          ]
        }
      ]
    },
    {
      "cell_type": "code",
      "source": [
        "import matplotlib.pyplot as plt\n",
        "\n",
        "plt.plot(x, y_pred)\n",
        "plt.plot(x, y)"
      ],
      "metadata": {
        "colab": {
          "base_uri": "https://localhost:8080/",
          "height": 282
        },
        "id": "Jus_A22SZR8B",
        "outputId": "78952ab8-c87c-41e2-82d2-6052c80b0d8a"
      },
      "execution_count": null,
      "outputs": [
        {
          "output_type": "execute_result",
          "data": {
            "text/plain": [
              "[<matplotlib.lines.Line2D at 0x7f576082ef50>]"
            ]
          },
          "metadata": {},
          "execution_count": 25
        },
        {
          "output_type": "display_data",
          "data": {
            "text/plain": [
              "<Figure size 432x288 with 1 Axes>"
            ],
            "image/png": "[encoded data removed]"
          },
          "metadata": {
            "needs_background": "light"
          }
        }
      ]
    },
    {
      "cell_type": "markdown",
      "source": [
        "# Bare Pytorch: Tensors\n",
        "\n",
        "Numpy cannot utilize GPUs, which is a HUGE drawback. To solve this, I'm gonna bring in \"Tensors\" from Pytorch.\n",
        "\n",
        "It's basically a numpy array which works on a GPU, and keeps track of a computational graph and gradients.\n",
        "\n",
        "Note that all we're doing here is replacing numpy arrays with pytorch tensors. To use the backward(), gradient, etc functionality - we still need to define autograd. Which isn't done here. So the code is pretty much still the same."
      ],
      "metadata": {
        "id": "kB3C726VZUAJ"
      }
    },
    {
      "cell_type": "code",
      "source": [
        "import torch\n",
        "import math\n",
        "\n",
        "device = torch.device(\"cpu\")\n",
        "if torch.cuda.is_available():\n",
        "    device = torch.device(\"cuda:0\")\n",
        "\n",
        "# Create input+output tensors\n",
        "x = torch.linspace(-math.pi, math.pi, 2000, device=device)\n",
        "y = torch.sin(x)\n",
        "\n",
        "# Initialize random weight tensors.\n",
        "# Since this is a 3rd order polynomial, we need 4 weights.\n",
        "# And since we WANT to compute gradients on these tensors later on,\n",
        "# we'll initialize them so.\n",
        "\n",
        "a = torch.randn((), device=device, requires_grad=True) # Setting size as () sets it to 1 - a scalar tensor\n",
        "b = torch.randn((), device=device, requires_grad=True)\n",
        "c = torch.randn((), device=device, requires_grad=True)\n",
        "d = torch.randn((), device=device, requires_grad=True)\n",
        "\n",
        "lr = 1e-6\n",
        "n_epochs = 2000\n",
        "for t in range(n_epochs):\n",
        "    \n",
        "    # Forward pass\n",
        "    y_pred = a + b*x + c*x**2 + d*x**3\n",
        "\n",
        "    # Compute and print loss\n",
        "    loss = ((y_pred - y)**2).sum()\n",
        "    if t % 1000 == 0:\n",
        "        print(t, loss)\n",
        "\n",
        "    # Backprop to compute gradients of weights wrt loss\n",
        "    grad_y = 2 * (y_pred - y)\n",
        "    grad_a = (grad_y * 1).sum()\n",
        "    grad_b = (grad_y * x).sum()\n",
        "    grad_c = (grad_y * x**2).sum()\n",
        "    grad_d = (grad_y * x**3).sum()\n",
        "\n",
        "    # Update weights using gradient descent\n",
        "    with torch.no_grad(): # Why: https://stackoverflow.com/questions/62198351/why-doesnt-pytorch-allow-inplace-operations-on-leaf-variables\n",
        "        a -= lr * grad_a\n",
        "        b -= lr * grad_b\n",
        "        c -= lr * grad_c\n",
        "        d -= lr * grad_d\n",
        "\n",
        "print(f\"Result: y = {a.item()} + {b.item()} x + {c.item()} x^2 + {d.item()} x^3\")"
      ],
      "metadata": {
        "colab": {
          "base_uri": "https://localhost:8080/"
        },
        "id": "iH_ByQvKZrU7",
        "outputId": "413c5062-c298-4142-8f09-525fdeb217a1"
      },
      "execution_count": null,
      "outputs": [
        {
          "output_type": "stream",
          "name": "stdout",
          "text": [
            "0 tensor(397060.0938, grad_fn=<SumBackward0>)\n",
            "1000 tensor(44.3529, grad_fn=<SumBackward0>)\n",
            "Result: y = -0.032403603196144104 + 0.847296953201294 x + 0.005590161774307489 x^2 + -0.09198707342147827 x^3\n"
          ]
        }
      ]
    },
    {
      "cell_type": "code",
      "source": [
        "import matplotlib.pyplot as plt\n",
        "\n",
        "plt.plot(x, y_pred.detach().numpy())\n",
        "plt.plot(x, y)"
      ],
      "metadata": {
        "colab": {
          "base_uri": "https://localhost:8080/",
          "height": 282
        },
        "id": "_w7d6f7tnl6i",
        "outputId": "180ecaab-5b11-4c48-9dbb-5cdb0e3682ed"
      },
      "execution_count": null,
      "outputs": [
        {
          "output_type": "execute_result",
          "data": {
            "text/plain": [
              "[<matplotlib.lines.Line2D at 0x7f57607ae550>]"
            ]
          },
          "metadata": {},
          "execution_count": 29
        },
        {
          "output_type": "display_data",
          "data": {
            "text/plain": [
              "<Figure size 432x288 with 1 Axes>"
            ],
            "image/png": "[encoded data removed]"
          },
          "metadata": {
            "needs_background": "light"
          }
        }
      ]
    },
    {
      "cell_type": "markdown",
      "source": [
        "# Autograd in Pytorch\n",
        "\n",
        "Implementing the backward pass was kinda easy, but it gets super hard as the layers increase. Check [this](https://brilliant.org/wiki/backpropagation/) page out for details lol. But thankfully Autograd has automatic differentiation which, well, automates the computation of backward passes in NNs.\n",
        "\n",
        "In Autograd, the forward pass defines a computational graph, with the nodes as tensors, and the edges as functions that input and output tensors. Backpropagating through this graph allows easy gradient computation."
      ],
      "metadata": {
        "id": "8FoCO2uwejw_"
      }
    },
    {
      "cell_type": "code",
      "source": [
        "import torch\n",
        "import math\n",
        "\n",
        "device = torch.device(\"cpu\")\n",
        "if torch.cuda.is_available():\n",
        "    device = torch.device(\"cuda:0\")\n",
        "\n",
        "# Initialize i/p and o/p tensors\n",
        "x = torch.linspace(-math.pi, math.pi, 2000, device=device)\n",
        "y = torch.sin(x)\n",
        "\n",
        "# Initialize random weights.\n",
        "# For a 3rd order polynomial, we need 4 weights: y = a + b*x + c*x^2 + d*x^3\n",
        "a = torch.randn((), device=device, requires_grad=True)\n",
        "b = torch.randn((), device=device, requires_grad=True)\n",
        "c = torch.randn((), device=device, requires_grad=True)\n",
        "d = torch.randn((), device=device, requires_grad=True)\n",
        "\n",
        "lr = 1e-6\n",
        "n_epochs = 2000\n",
        "for t in range(epochs):\n",
        "    # Forward Pass\n",
        "    y_pred = a + b*x + c*x**2 + d*x**3\n",
        "\n",
        "    # Compute and print loss\n",
        "    loss = ((y_pred - y)**2).mean()\n",
        "    if t % 100 == 0:\n",
        "        print(t, loss.item())\n",
        "\n",
        "    # Use autograd to compute the backward pass\n",
        "    loss.backward()\n",
        "\n",
        "    # Manually update weights using gradient descent\n",
        "    with torch.no_grad(): # Why: https://stackoverflow.com/questions/62198351/why-doesnt-pytorch-allow-inplace-operations-on-leaf-variables\n",
        "        a -= lr * a.grad\n",
        "        b -= lr * b.grad\n",
        "        c -= lr * c.grad\n",
        "        d -= lr * d.grad\n",
        "    \n",
        "        # Manually zero gradients after updating weights\n",
        "        # Either method works\n",
        "        a.grad = torch.tensor(0.0, requires_grad=True)\n",
        "        b.grad = torch.tensor(0.0, requires_grad=True)\n",
        "        c.grad = None\n",
        "        d.grad = None # Why does this work?\n",
        "\n",
        "print(f\"Result: y = {a.item()} + {b.item()} x + {c.item()} x^2 + {d.item()} x^3\")"
      ],
      "metadata": {
        "colab": {
          "base_uri": "https://localhost:8080/"
        },
        "id": "1VNvsbQwbZbs",
        "outputId": "7e455b23-4107-4b6f-cebd-0e3a78c3a5e1"
      },
      "execution_count": null,
      "outputs": [
        {
          "output_type": "stream",
          "name": "stdout",
          "text": [
            "0 416.12237548828125\n",
            "100 393.51739501953125\n",
            "200 372.1477355957031\n",
            "300 351.94580078125\n",
            "400 332.8480224609375\n",
            "500 314.7942199707031\n",
            "600 297.7264709472656\n",
            "700 281.59124755859375\n",
            "800 266.33770751953125\n",
            "900 251.91775512695312\n",
            "1000 238.28553771972656\n",
            "1100 225.39816284179688\n",
            "1200 213.2149658203125\n",
            "1300 201.69749450683594\n",
            "1400 190.8091583251953\n",
            "1500 180.5157470703125\n",
            "1600 170.7846221923828\n",
            "1700 161.58506774902344\n",
            "1800 152.88804626464844\n",
            "1900 144.6660614013672\n",
            "Result: y = -0.5667429566383362 + -0.9713417291641235 x + -0.128072127699852 x^2 + -0.8205883502960205 x^3\n"
          ]
        }
      ]
    },
    {
      "cell_type": "code",
      "source": [
        "import matplotlib.pyplot as plt\n",
        "\n",
        "plt.plot(x, y_pred.detach().numpy())\n",
        "plt.plot(x, y)"
      ],
      "metadata": {
        "colab": {
          "base_uri": "https://localhost:8080/",
          "height": 282
        },
        "id": "bRu3SotEhW9S",
        "outputId": "2ded5b37-d1a5-4a8d-8217-98b41816cb91"
      },
      "execution_count": null,
      "outputs": [
        {
          "output_type": "execute_result",
          "data": {
            "text/plain": [
              "[<matplotlib.lines.Line2D at 0x7f57606a1fd0>]"
            ]
          },
          "metadata": {},
          "execution_count": 31
        },
        {
          "output_type": "display_data",
          "data": {
            "text/plain": [
              "<Figure size 432x288 with 1 Axes>"
            ],
            "image/png": "[encoded data removed]"
          },
          "metadata": {
            "needs_background": "light"
          }
        }
      ]
    },
    {
      "cell_type": "markdown",
      "source": [
        "# nn Module\n",
        "\n",
        "Now, let's structure everything together into \"Layers\""
      ],
      "metadata": {
        "id": "3a8fdaKAn_dM"
      }
    },
    {
      "cell_type": "code",
      "source": [
        "import torch\n",
        "import math\n",
        "\n",
        "# Input/output tensors\n",
        "x = torch.linspace(-math.pi, math.pi, 2000)\n",
        "y = torch.sin(x)\n",
        "\n",
        "# Since the polynomial function is linear, we can consider the network\n",
        "# as a linear layer neural network.\n",
        "# Preparing the tensor (x, x^2, x^3)\n",
        "# Ie, Calculating powers of each x-element\n",
        "p = torch.tensor([1, 2, 3])\n",
        "# Squeeze elements one level inside, then calculate 3 of each ones' powers\n",
        "xx = x.unsqueeze(-1).pow(p) # Damn fuck this is some good pytorch wizardry"
      ],
      "metadata": {
        "colab": {
          "base_uri": "https://localhost:8080/"
        },
        "id": "XAcs833vnyv9",
        "outputId": "48560530-1298-4c50-f00c-5987acd57e8a"
      },
      "execution_count": null,
      "outputs": [
        {
          "output_type": "stream",
          "name": "stdout",
          "text": [
            "torch.Size([3])\n"
          ]
        }
      ]
    },
    {
      "cell_type": "code",
      "source": [
        "\"\"\"\n",
        "In the above code,\n",
        "\n",
        "x.unsqueeze(-1) has shape ___1x2000 instead of 2000x1. That is, it transposes the vector.\n",
        "NO! unsqueeze(1) will transpose it bruh. unsqueeze(-1) indents it a level inside. So it'll have\n",
        "shape original x 1 instead of original\n",
        "\n",
        "p has shape 3\n",
        "\n",
        "xx will have shape original x 3\n",
        "\"\"\""
      ],
      "metadata": {
        "id": "ZsUZEVafof-_"
      },
      "execution_count": null,
      "outputs": []
    },
    {
      "cell_type": "code",
      "source": [
        "# Use the nn package to define our model as a sequence of layers\n",
        "model = torch.nn.Sequential(\n",
        "    torch.nn.Linear(3, 1),\n",
        "    torch.nn.Flatten(0, 1)\n",
        ")\n",
        "\n",
        "loss_fn = torch.nn.MSELoss(reduction='sum')\n",
        "lr = 1e-6\n",
        "n_epochs = 2000\n",
        "for t in range(n_epochs):\n",
        "\n",
        "    # Forward pass\n",
        "    y_pred = model(xx)\n",
        "\n",
        "    # Compute and print loss\n",
        "    loss = loss_fn(y_pred, y)\n",
        "    if t % 100 == 0:\n",
        "        print(t, loss.item())\n",
        "    \n",
        "    # Zero the gradients before running the backward pass.\n",
        "    # We do this just to make sure there aren't any backlogged updates that\n",
        "    # get carried along in this iteration\n",
        "    model.zero_grad()\n",
        "\n",
        "    # Backward pass\n",
        "    # Computes gradient of loss wrt all the learnable parameters of the model\n",
        "    # The learnable parameters are all params with requires_grad = True\n",
        "    loss.backward()\n",
        "\n",
        "    # Update the weights using gradient descent\n",
        "    with torch.no_grad():\n",
        "        for param in model.parameters():\n",
        "            param -= lr * param.grad\n",
        "            # Manually zero gradients after updating weights\n",
        "            param.grad = None\n",
        "\n",
        "# Since we have only one layer, we can simply pick out it's weights and visualize them\n",
        "linear_layer = model[0]\n",
        "print(f\"Result: y = {linear_layer.bias.item()} + {linear_layer.weight[:, 0].item()} x + {linear_layer.weight[:, 1].item()} x^2 + {linear_layer.weight[:, 2].item()} x^3\")\n",
        "\n"
      ],
      "metadata": {
        "colab": {
          "base_uri": "https://localhost:8080/"
        },
        "id": "orN7fsLNqen_",
        "outputId": "09eca74c-a845-46b4-ff20-4e674bf6df3f"
      },
      "execution_count": null,
      "outputs": [
        {
          "output_type": "stream",
          "name": "stdout",
          "text": [
            "0 52285.32421875\n",
            "100 428.50262451171875\n",
            "200 286.5834045410156\n",
            "300 192.66653442382812\n",
            "400 130.51251220703125\n",
            "500 89.37663269042969\n",
            "600 62.14966583251953\n",
            "700 44.127464294433594\n",
            "800 32.197364807128906\n",
            "900 24.299428939819336\n",
            "1000 19.070526123046875\n",
            "1100 15.60830020904541\n",
            "1200 13.315641403198242\n",
            "1300 11.797358512878418\n",
            "1400 10.791748046875\n",
            "1500 10.125648498535156\n",
            "1600 9.684379577636719\n",
            "1700 9.39200210571289\n",
            "1800 9.198262214660645\n",
            "1900 9.069866180419922\n",
            "Result: y = -0.002908254275098443 + 0.844417154788971 x + 0.0005017217481508851 x^2 + -0.09157744795084 x^3\n"
          ]
        }
      ]
    },
    {
      "cell_type": "code",
      "source": [
        "import matplotlib.pyplot as plt\n",
        "\n",
        "plt.plot(x, y_pred.detach().numpy())\n",
        "plt.plot(x, y)"
      ],
      "metadata": {
        "colab": {
          "base_uri": "https://localhost:8080/",
          "height": 282
        },
        "id": "9Midk5ysskvU",
        "outputId": "00dacd9b-46d9-47f5-c3b8-873843c67d6b"
      },
      "execution_count": null,
      "outputs": [
        {
          "output_type": "execute_result",
          "data": {
            "text/plain": [
              "[<matplotlib.lines.Line2D at 0x7f5760500f90>]"
            ]
          },
          "metadata": {},
          "execution_count": 45
        },
        {
          "output_type": "display_data",
          "data": {
            "text/plain": [
              "<Figure size 432x288 with 1 Axes>"
            ],
            "image/png": "[encoded data removed]"
          },
          "metadata": {
            "needs_background": "light"
          }
        }
      ]
    },
    {
      "cell_type": "markdown",
      "source": [
        "# Optim\n",
        "Finally, we automate everything that can be automated with the optim module which also updates the weights automatically!"
      ],
      "metadata": {
        "id": "V1Fr1e2btEvr"
      }
    },
    {
      "cell_type": "code",
      "source": [
        "# Use the nn package to define our model as a sequence of layers\n",
        "model = torch.nn.Sequential(\n",
        "    torch.nn.Linear(3, 1),\n",
        "    torch.nn.Flatten(0, 1)\n",
        ")\n",
        "\n",
        "loss_fn = torch.nn.MSELoss(reduction='sum')\n",
        "optim = torch.optim.RMSprop(model.parameters(), lr=0.01)\n",
        "lr = 1e-6\n",
        "n_epochs = 2000\n",
        "for t in range(n_epochs):\n",
        "\n",
        "    # Forward pass\n",
        "    y_pred = model(xx)\n",
        "\n",
        "    # Compute and print loss\n",
        "    loss = loss_fn(y_pred, y)\n",
        "    if t % 100 == 0:\n",
        "        print(t, loss.item())\n",
        "    \n",
        "    # Zero the gradients before running the backward pass.\n",
        "    # We do this just to make sure there aren't any backlogged updates that\n",
        "    # get carried along in this iteration\n",
        "    optim.zero_grad()\n",
        "\n",
        "    # Backward pass\n",
        "    # Computes gradient of loss wrt all the learnable parameters of the model\n",
        "    # The learnable parameters are all params with requires_grad = True\n",
        "    loss.backward()\n",
        "\n",
        "    # Update the weights using RMSProp\n",
        "    optim.step()\n",
        "\n",
        "# Since we have only one layer, we can simply pick out it's weights and visualize them\n",
        "linear_layer = model[0]\n",
        "print(f\"Result: y = {linear_layer.bias.item()} + {linear_layer.weight[:, 0].item()} x + {linear_layer.weight[:, 1].item()} x^2 + {linear_layer.weight[:, 2].item()} x^3\")\n"
      ],
      "metadata": {
        "colab": {
          "base_uri": "https://localhost:8080/"
        },
        "id": "q9V6a6VqsqZh",
        "outputId": "79fd1579-7bbd-4cca-c6d5-80bc6bdf0f46"
      },
      "execution_count": null,
      "outputs": [
        {
          "output_type": "stream",
          "name": "stdout",
          "text": [
            "0 78186.1640625\n",
            "100 339.21661376953125\n",
            "200 127.15892791748047\n",
            "300 31.66986083984375\n",
            "400 10.355947494506836\n",
            "500 8.834793090820312\n",
            "600 12.158185958862305\n",
            "700 14.753618240356445\n",
            "800 9.502144813537598\n",
            "900 9.81873893737793\n",
            "1000 12.420866012573242\n",
            "1100 20.64423942565918\n",
            "1200 23.617156982421875\n",
            "1300 18.386016845703125\n",
            "1400 17.786296844482422\n",
            "1500 19.4328670501709\n",
            "1600 19.701974868774414\n",
            "1700 19.047311782836914\n",
            "1800 18.99478530883789\n",
            "1900 19.23280143737793\n",
            "Result: y = 0.005026446655392647 + 0.8617546558380127 x + 0.005026446655392647 x^2 + -0.08831659704446793 x^3\n"
          ]
        }
      ]
    },
    {
      "cell_type": "code",
      "source": [
        "import matplotlib.pyplot as plt\n",
        "\n",
        "plt.plot(x, y_pred.detach().numpy())\n",
        "plt.plot(x, y)"
      ],
      "metadata": {
        "colab": {
          "base_uri": "https://localhost:8080/",
          "height": 282
        },
        "id": "2eEPQdZatvZ9",
        "outputId": "1a663eb5-2706-412a-9416-c4c669d2dc27"
      },
      "execution_count": null,
      "outputs": [
        {
          "output_type": "execute_result",
          "data": {
            "text/plain": [
              "[<matplotlib.lines.Line2D at 0x7f576042e190>]"
            ]
          },
          "metadata": {},
          "execution_count": 49
        },
        {
          "output_type": "display_data",
          "data": {
            "text/plain": [
              "<Figure size 432x288 with 1 Axes>"
            ],
            "image/png": "[encoded data removed]"
          },
          "metadata": {
            "needs_background": "light"
          }
        }
      ]
    },
    {
      "cell_type": "code",
      "source": [
        "\"\"\"\n",
        "TODO: \n",
        "1. Learn how to define new autograd functions\n",
        "2. Learn the mechanics of building custom nn modules\n",
        "\"\"\""
      ],
      "metadata": {
        "colab": {
          "base_uri": "https://localhost:8080/",
          "height": 35
        },
        "id": "4e-rUzmkuBtM",
        "outputId": "9d4feb8c-aab9-4526-d150-3fb8c51ba052"
      },
      "execution_count": 1,
      "outputs": [
        {
          "output_type": "execute_result",
          "data": {
            "text/plain": [
              "'\\nTODO: \\n1. Learn how to define new autograd functions\\n2. Learn the mechanics of building custom nn modules\\n'"
            ],
            "application/vnd.google.colaboratory.intrinsic+json": {
              "type": "string"
            }
          },
          "metadata": {},
          "execution_count": 1
        }
      ]
    },
    {
      "cell_type": "code",
      "source": [],
      "metadata": {
        "id": "sdq3E0gkuHna"
      },
      "execution_count": null,
      "outputs": []
    }
  ]
}