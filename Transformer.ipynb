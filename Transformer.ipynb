{
  "nbformat": 4,
  "nbformat_minor": 0,
  "metadata": {
    "colab": {
      "name": "Transformer.ipynb",
      "provenance": [],
      "authorship_tag": "ABX9TyPa/o73HtiTVyxdxhcbC+MR",
      "include_colab_link": true
    },
    "kernelspec": {
      "name": "python3",
      "display_name": "Python 3"
    },
    "language_info": {
      "name": "python"
    }
  },
  "cells": [
    {
      "cell_type": "markdown",
      "metadata": {
        "id": "view-in-github",
        "colab_type": "text"
      },
      "source": [
        "<a href=\"https://colab.research.google.com/github/AayushKucheria/ML-Bootcamp/blob/main/Transformer.ipynb\" target=\"_parent\"><img src=\"https://colab.research.google.com/assets/colab-badge.svg\" alt=\"Open In Colab\"/></a>"
      ]
    },
    {
      "cell_type": "markdown",
      "source": [
        "# Transformer\n",
        "\n",
        "\n",
        "\n",
        "\n",
        "\n"
      ],
      "metadata": {
        "id": "zWFdk6AhTN0G"
      }
    },
    {
      "cell_type": "markdown",
      "source": [
        "This is an ever-updating notebook where I\n",
        "\n",
        "\n",
        "\n",
        "*   Build a transformer from scratch (mostly using Annotated Transformer)\n",
        "*   Try it out on different tasks\n",
        "* Run different experiments and play around with it\n",
        "* Modify certain parts and explore the changes that take place\n",
        "\n"
      ],
      "metadata": {
        "id": "_pXgMbd74nI0"
      }
    },
    {
      "cell_type": "markdown",
      "source": [
        "# Maintainence Stuff (skip)"
      ],
      "metadata": {
        "id": "dvjNKpZs5ViV"
      }
    },
    {
      "cell_type": "code",
      "source": [
        "!pip install -q torchdata torchtext spacy altair GPUtil\n",
        "!python -m spacy download de_core_news_sm\n",
        "!python -m spacy download en_core_web_sm"
      ],
      "metadata": {
        "colab": {
          "base_uri": "https://localhost:8080/"
        },
        "id": "_WatZpZOTO3s",
        "outputId": "d3738624-a79c-4789-8e40-0c6bb2e77788"
      },
      "execution_count": null,
      "outputs": [
        {
          "output_type": "stream",
          "name": "stdout",
          "text": [
            "\u001b[K     |████████████████████████████████| 4.4 MB 8.6 MB/s \n",
            "\u001b[K     |████████████████████████████████| 140 kB 92.6 MB/s \n",
            "\u001b[K     |████████████████████████████████| 127 kB 83.0 MB/s \n",
            "\u001b[?25h  Building wheel for GPUtil (setup.py) ... \u001b[?25l\u001b[?25hdone\n",
            "2022-08-23 08:04:46.177596: E tensorflow/stream_executor/cuda/cuda_driver.cc:271] failed call to cuInit: CUDA_ERROR_NO_DEVICE: no CUDA-capable device is detected\n",
            "Looking in indexes: https://pypi.org/simple, https://us-python.pkg.dev/colab-wheels/public/simple/\n",
            "Collecting de-core-news-sm==3.4.0\n",
            "  Downloading https://github.com/explosion/spacy-models/releases/download/de_core_news_sm-3.4.0/de_core_news_sm-3.4.0-py3-none-any.whl (14.6 MB)\n",
            "\u001b[K     |████████████████████████████████| 14.6 MB 8.0 MB/s \n",
            "\u001b[?25hRequirement already satisfied: spacy<3.5.0,>=3.4.0 in /usr/local/lib/python3.7/dist-packages (from de-core-news-sm==3.4.0) (3.4.1)\n",
            "Requirement already satisfied: spacy-legacy<3.1.0,>=3.0.9 in /usr/local/lib/python3.7/dist-packages (from spacy<3.5.0,>=3.4.0->de-core-news-sm==3.4.0) (3.0.10)\n",
            "Requirement already satisfied: cymem<2.1.0,>=2.0.2 in /usr/local/lib/python3.7/dist-packages (from spacy<3.5.0,>=3.4.0->de-core-news-sm==3.4.0) (2.0.6)\n",
            "Requirement already satisfied: srsly<3.0.0,>=2.4.3 in /usr/local/lib/python3.7/dist-packages (from spacy<3.5.0,>=3.4.0->de-core-news-sm==3.4.0) (2.4.4)\n",
            "Requirement already satisfied: wasabi<1.1.0,>=0.9.1 in /usr/local/lib/python3.7/dist-packages (from spacy<3.5.0,>=3.4.0->de-core-news-sm==3.4.0) (0.10.1)\n",
            "Requirement already satisfied: spacy-loggers<2.0.0,>=1.0.0 in /usr/local/lib/python3.7/dist-packages (from spacy<3.5.0,>=3.4.0->de-core-news-sm==3.4.0) (1.0.3)\n",
            "Requirement already satisfied: preshed<3.1.0,>=3.0.2 in /usr/local/lib/python3.7/dist-packages (from spacy<3.5.0,>=3.4.0->de-core-news-sm==3.4.0) (3.0.7)\n",
            "Requirement already satisfied: tqdm<5.0.0,>=4.38.0 in /usr/local/lib/python3.7/dist-packages (from spacy<3.5.0,>=3.4.0->de-core-news-sm==3.4.0) (4.64.0)\n",
            "Requirement already satisfied: setuptools in /usr/local/lib/python3.7/dist-packages (from spacy<3.5.0,>=3.4.0->de-core-news-sm==3.4.0) (57.4.0)\n",
            "Requirement already satisfied: packaging>=20.0 in /usr/local/lib/python3.7/dist-packages (from spacy<3.5.0,>=3.4.0->de-core-news-sm==3.4.0) (21.3)\n",
            "Requirement already satisfied: langcodes<4.0.0,>=3.2.0 in /usr/local/lib/python3.7/dist-packages (from spacy<3.5.0,>=3.4.0->de-core-news-sm==3.4.0) (3.3.0)\n",
            "Requirement already satisfied: thinc<8.2.0,>=8.1.0 in /usr/local/lib/python3.7/dist-packages (from spacy<3.5.0,>=3.4.0->de-core-news-sm==3.4.0) (8.1.0)\n",
            "Requirement already satisfied: pydantic!=1.8,!=1.8.1,<1.10.0,>=1.7.4 in /usr/local/lib/python3.7/dist-packages (from spacy<3.5.0,>=3.4.0->de-core-news-sm==3.4.0) (1.9.2)\n",
            "Requirement already satisfied: jinja2 in /usr/local/lib/python3.7/dist-packages (from spacy<3.5.0,>=3.4.0->de-core-news-sm==3.4.0) (2.11.3)\n",
            "Requirement already satisfied: pathy>=0.3.5 in /usr/local/lib/python3.7/dist-packages (from spacy<3.5.0,>=3.4.0->de-core-news-sm==3.4.0) (0.6.2)\n",
            "Requirement already satisfied: numpy>=1.15.0 in /usr/local/lib/python3.7/dist-packages (from spacy<3.5.0,>=3.4.0->de-core-news-sm==3.4.0) (1.21.6)\n",
            "Requirement already satisfied: catalogue<2.1.0,>=2.0.6 in /usr/local/lib/python3.7/dist-packages (from spacy<3.5.0,>=3.4.0->de-core-news-sm==3.4.0) (2.0.8)\n",
            "Requirement already satisfied: typing-extensions<4.2.0,>=3.7.4 in /usr/local/lib/python3.7/dist-packages (from spacy<3.5.0,>=3.4.0->de-core-news-sm==3.4.0) (4.1.1)\n",
            "Requirement already satisfied: typer<0.5.0,>=0.3.0 in /usr/local/lib/python3.7/dist-packages (from spacy<3.5.0,>=3.4.0->de-core-news-sm==3.4.0) (0.4.2)\n",
            "Requirement already satisfied: requests<3.0.0,>=2.13.0 in /usr/local/lib/python3.7/dist-packages (from spacy<3.5.0,>=3.4.0->de-core-news-sm==3.4.0) (2.23.0)\n",
            "Requirement already satisfied: murmurhash<1.1.0,>=0.28.0 in /usr/local/lib/python3.7/dist-packages (from spacy<3.5.0,>=3.4.0->de-core-news-sm==3.4.0) (1.0.8)\n",
            "Requirement already satisfied: zipp>=0.5 in /usr/local/lib/python3.7/dist-packages (from catalogue<2.1.0,>=2.0.6->spacy<3.5.0,>=3.4.0->de-core-news-sm==3.4.0) (3.8.1)\n",
            "Requirement already satisfied: pyparsing!=3.0.5,>=2.0.2 in /usr/local/lib/python3.7/dist-packages (from packaging>=20.0->spacy<3.5.0,>=3.4.0->de-core-news-sm==3.4.0) (3.0.9)\n",
            "Requirement already satisfied: smart-open<6.0.0,>=5.2.1 in /usr/local/lib/python3.7/dist-packages (from pathy>=0.3.5->spacy<3.5.0,>=3.4.0->de-core-news-sm==3.4.0) (5.2.1)\n",
            "Requirement already satisfied: idna<3,>=2.5 in /usr/local/lib/python3.7/dist-packages (from requests<3.0.0,>=2.13.0->spacy<3.5.0,>=3.4.0->de-core-news-sm==3.4.0) (2.10)\n",
            "Requirement already satisfied: certifi>=2017.4.17 in /usr/local/lib/python3.7/dist-packages (from requests<3.0.0,>=2.13.0->spacy<3.5.0,>=3.4.0->de-core-news-sm==3.4.0) (2022.6.15)\n",
            "Requirement already satisfied: urllib3!=1.25.0,!=1.25.1,<1.26,>=1.21.1 in /usr/local/lib/python3.7/dist-packages (from requests<3.0.0,>=2.13.0->spacy<3.5.0,>=3.4.0->de-core-news-sm==3.4.0) (1.25.11)\n",
            "Requirement already satisfied: chardet<4,>=3.0.2 in /usr/local/lib/python3.7/dist-packages (from requests<3.0.0,>=2.13.0->spacy<3.5.0,>=3.4.0->de-core-news-sm==3.4.0) (3.0.4)\n",
            "Requirement already satisfied: blis<0.8.0,>=0.7.8 in /usr/local/lib/python3.7/dist-packages (from thinc<8.2.0,>=8.1.0->spacy<3.5.0,>=3.4.0->de-core-news-sm==3.4.0) (0.7.8)\n",
            "Requirement already satisfied: click<9.0.0,>=7.1.1 in /usr/local/lib/python3.7/dist-packages (from typer<0.5.0,>=0.3.0->spacy<3.5.0,>=3.4.0->de-core-news-sm==3.4.0) (7.1.2)\n",
            "Requirement already satisfied: MarkupSafe>=0.23 in /usr/local/lib/python3.7/dist-packages (from jinja2->spacy<3.5.0,>=3.4.0->de-core-news-sm==3.4.0) (2.0.1)\n",
            "Installing collected packages: de-core-news-sm\n",
            "Successfully installed de-core-news-sm-3.4.0\n",
            "\u001b[38;5;2m✔ Download and installation successful\u001b[0m\n",
            "You can now load the package via spacy.load('de_core_news_sm')\n",
            "2022-08-23 08:04:55.958844: E tensorflow/stream_executor/cuda/cuda_driver.cc:271] failed call to cuInit: CUDA_ERROR_NO_DEVICE: no CUDA-capable device is detected\n",
            "Looking in indexes: https://pypi.org/simple, https://us-python.pkg.dev/colab-wheels/public/simple/\n",
            "Collecting en-core-web-sm==3.4.0\n",
            "  Downloading https://github.com/explosion/spacy-models/releases/download/en_core_web_sm-3.4.0/en_core_web_sm-3.4.0-py3-none-any.whl (12.8 MB)\n",
            "\u001b[K     |████████████████████████████████| 12.8 MB 8.2 MB/s \n",
            "\u001b[?25hRequirement already satisfied: spacy<3.5.0,>=3.4.0 in /usr/local/lib/python3.7/dist-packages (from en-core-web-sm==3.4.0) (3.4.1)\n",
            "Requirement already satisfied: jinja2 in /usr/local/lib/python3.7/dist-packages (from spacy<3.5.0,>=3.4.0->en-core-web-sm==3.4.0) (2.11.3)\n",
            "Requirement already satisfied: pathy>=0.3.5 in /usr/local/lib/python3.7/dist-packages (from spacy<3.5.0,>=3.4.0->en-core-web-sm==3.4.0) (0.6.2)\n",
            "Requirement already satisfied: packaging>=20.0 in /usr/local/lib/python3.7/dist-packages (from spacy<3.5.0,>=3.4.0->en-core-web-sm==3.4.0) (21.3)\n",
            "Requirement already satisfied: typing-extensions<4.2.0,>=3.7.4 in /usr/local/lib/python3.7/dist-packages (from spacy<3.5.0,>=3.4.0->en-core-web-sm==3.4.0) (4.1.1)\n",
            "Requirement already satisfied: catalogue<2.1.0,>=2.0.6 in /usr/local/lib/python3.7/dist-packages (from spacy<3.5.0,>=3.4.0->en-core-web-sm==3.4.0) (2.0.8)\n",
            "Requirement already satisfied: setuptools in /usr/local/lib/python3.7/dist-packages (from spacy<3.5.0,>=3.4.0->en-core-web-sm==3.4.0) (57.4.0)\n",
            "Requirement already satisfied: wasabi<1.1.0,>=0.9.1 in /usr/local/lib/python3.7/dist-packages (from spacy<3.5.0,>=3.4.0->en-core-web-sm==3.4.0) (0.10.1)\n",
            "Requirement already satisfied: thinc<8.2.0,>=8.1.0 in /usr/local/lib/python3.7/dist-packages (from spacy<3.5.0,>=3.4.0->en-core-web-sm==3.4.0) (8.1.0)\n",
            "Requirement already satisfied: cymem<2.1.0,>=2.0.2 in /usr/local/lib/python3.7/dist-packages (from spacy<3.5.0,>=3.4.0->en-core-web-sm==3.4.0) (2.0.6)\n",
            "Requirement already satisfied: langcodes<4.0.0,>=3.2.0 in /usr/local/lib/python3.7/dist-packages (from spacy<3.5.0,>=3.4.0->en-core-web-sm==3.4.0) (3.3.0)\n",
            "Requirement already satisfied: preshed<3.1.0,>=3.0.2 in /usr/local/lib/python3.7/dist-packages (from spacy<3.5.0,>=3.4.0->en-core-web-sm==3.4.0) (3.0.7)\n",
            "Requirement already satisfied: srsly<3.0.0,>=2.4.3 in /usr/local/lib/python3.7/dist-packages (from spacy<3.5.0,>=3.4.0->en-core-web-sm==3.4.0) (2.4.4)\n",
            "Requirement already satisfied: spacy-loggers<2.0.0,>=1.0.0 in /usr/local/lib/python3.7/dist-packages (from spacy<3.5.0,>=3.4.0->en-core-web-sm==3.4.0) (1.0.3)\n",
            "Requirement already satisfied: numpy>=1.15.0 in /usr/local/lib/python3.7/dist-packages (from spacy<3.5.0,>=3.4.0->en-core-web-sm==3.4.0) (1.21.6)\n",
            "Requirement already satisfied: tqdm<5.0.0,>=4.38.0 in /usr/local/lib/python3.7/dist-packages (from spacy<3.5.0,>=3.4.0->en-core-web-sm==3.4.0) (4.64.0)\n",
            "Requirement already satisfied: spacy-legacy<3.1.0,>=3.0.9 in /usr/local/lib/python3.7/dist-packages (from spacy<3.5.0,>=3.4.0->en-core-web-sm==3.4.0) (3.0.10)\n",
            "Requirement already satisfied: murmurhash<1.1.0,>=0.28.0 in /usr/local/lib/python3.7/dist-packages (from spacy<3.5.0,>=3.4.0->en-core-web-sm==3.4.0) (1.0.8)\n",
            "Requirement already satisfied: typer<0.5.0,>=0.3.0 in /usr/local/lib/python3.7/dist-packages (from spacy<3.5.0,>=3.4.0->en-core-web-sm==3.4.0) (0.4.2)\n",
            "Requirement already satisfied: requests<3.0.0,>=2.13.0 in /usr/local/lib/python3.7/dist-packages (from spacy<3.5.0,>=3.4.0->en-core-web-sm==3.4.0) (2.23.0)\n",
            "Requirement already satisfied: pydantic!=1.8,!=1.8.1,<1.10.0,>=1.7.4 in /usr/local/lib/python3.7/dist-packages (from spacy<3.5.0,>=3.4.0->en-core-web-sm==3.4.0) (1.9.2)\n",
            "Requirement already satisfied: zipp>=0.5 in /usr/local/lib/python3.7/dist-packages (from catalogue<2.1.0,>=2.0.6->spacy<3.5.0,>=3.4.0->en-core-web-sm==3.4.0) (3.8.1)\n",
            "Requirement already satisfied: pyparsing!=3.0.5,>=2.0.2 in /usr/local/lib/python3.7/dist-packages (from packaging>=20.0->spacy<3.5.0,>=3.4.0->en-core-web-sm==3.4.0) (3.0.9)\n",
            "Requirement already satisfied: smart-open<6.0.0,>=5.2.1 in /usr/local/lib/python3.7/dist-packages (from pathy>=0.3.5->spacy<3.5.0,>=3.4.0->en-core-web-sm==3.4.0) (5.2.1)\n",
            "Requirement already satisfied: chardet<4,>=3.0.2 in /usr/local/lib/python3.7/dist-packages (from requests<3.0.0,>=2.13.0->spacy<3.5.0,>=3.4.0->en-core-web-sm==3.4.0) (3.0.4)\n",
            "Requirement already satisfied: idna<3,>=2.5 in /usr/local/lib/python3.7/dist-packages (from requests<3.0.0,>=2.13.0->spacy<3.5.0,>=3.4.0->en-core-web-sm==3.4.0) (2.10)\n",
            "Requirement already satisfied: urllib3!=1.25.0,!=1.25.1,<1.26,>=1.21.1 in /usr/local/lib/python3.7/dist-packages (from requests<3.0.0,>=2.13.0->spacy<3.5.0,>=3.4.0->en-core-web-sm==3.4.0) (1.25.11)\n",
            "Requirement already satisfied: certifi>=2017.4.17 in /usr/local/lib/python3.7/dist-packages (from requests<3.0.0,>=2.13.0->spacy<3.5.0,>=3.4.0->en-core-web-sm==3.4.0) (2022.6.15)\n",
            "Requirement already satisfied: blis<0.8.0,>=0.7.8 in /usr/local/lib/python3.7/dist-packages (from thinc<8.2.0,>=8.1.0->spacy<3.5.0,>=3.4.0->en-core-web-sm==3.4.0) (0.7.8)\n",
            "Requirement already satisfied: click<9.0.0,>=7.1.1 in /usr/local/lib/python3.7/dist-packages (from typer<0.5.0,>=0.3.0->spacy<3.5.0,>=3.4.0->en-core-web-sm==3.4.0) (7.1.2)\n",
            "Requirement already satisfied: MarkupSafe>=0.23 in /usr/local/lib/python3.7/dist-packages (from jinja2->spacy<3.5.0,>=3.4.0->en-core-web-sm==3.4.0) (2.0.1)\n",
            "\u001b[38;5;2m✔ Download and installation successful\u001b[0m\n",
            "You can now load the package via spacy.load('en_core_web_sm')\n"
          ]
        }
      ]
    },
    {
      "cell_type": "markdown",
      "source": [],
      "metadata": {
        "id": "vowyNHtl5B8_"
      }
    },
    {
      "cell_type": "code",
      "source": [
        "import os\n",
        "from os.path import exists\n",
        "import math\n",
        "import copy\n",
        "import time\n",
        "\n",
        "import torch\n",
        "import torch.nn as nn\n",
        "from torch.nn.functional import log_softmax, pad\n",
        "from torch.optim.lr_scheduler import LambdaLR\n",
        "import pandas as pd\n",
        "import altair as alt\n",
        "\n",
        "from torchtext.data.functional import to_map_style_dataset\n",
        "from torch.utils.data import DataLoader\n",
        "from torchtext.vocab import build_vocab_from_iterator\n",
        "import torchtext.datasets as datasets\n",
        "import spacy\n",
        "\n",
        "\n",
        "import GPUtil\n",
        "import warnings\n",
        "from torch.utils.data.distributed import DistributedSampler\n",
        "import torch.distributed as dist\n",
        "import torch.multiprocessing as mp\n",
        "from torch.nn.parallel import DistributedDataParallel as DDP\n",
        "\n",
        "warnings.filterwarnings(\"ignore\")\n",
        "RUN_EXAMPLES = True"
      ],
      "metadata": {
        "id": "3crQ14B3TqnA"
      },
      "execution_count": null,
      "outputs": []
    },
    {
      "cell_type": "code",
      "source": [
        "# Convenience helper functions\n",
        "\n",
        "# TODO: don't understand the code here. Return function?\n",
        "\n",
        "def is_interactive_notebook():\n",
        "    return __name__ == \"__main__\"\n",
        "\n",
        "def show_example(fn, args=[]):\n",
        "    if __name__ == \"__main__\" and RUN_EXAMPLES:\n",
        "        return fn(*args)\n",
        "\n",
        "def execute_example(fn, args=[]):\n",
        "    if __name__ == \"__main__\" and RUN_EXAMPLES:\n",
        "        fn(*args)\n",
        "\n",
        "# TODO: Oo smart.\n",
        "class DummyOptimizer(torch.optim.Optimizer):\n",
        "    def __init__(self):\n",
        "        self.param_groups = [{\"lr\": 0}]\n",
        "        None\n",
        "\n",
        "    def step(self):\n",
        "        None\n",
        "    \n",
        "    def zero_grad(self, set_to_none=False):\n",
        "        None\n",
        "    \n",
        "class DummyScheduler:\n",
        "    def step(self):\n",
        "        None"
      ],
      "metadata": {
        "id": "XJVPWMcoTtif"
      },
      "execution_count": null,
      "outputs": []
    },
    {
      "cell_type": "markdown",
      "source": [
        "# Model Architecture"
      ],
      "metadata": {
        "id": "h4FY4Oam2mkj"
      }
    },
    {
      "cell_type": "code",
      "source": [
        "class EncoderDecoder(nn.Module):\n",
        "    \"\"\"\n",
        "    A standard Encoder-Decoder architecture. Base for this and many\n",
        "    other models\n",
        "    \"\"\"\n",
        "\n",
        "    def __init__(self, encoder, decoder, src_embed, tgt_embed, generator):\n",
        "        super(EncoderDecoder, self).__init__()\n",
        "        \n",
        "        self.encoder = encoder\n",
        "        self.decoder = decoder\n",
        "        self.src_embed = src_embed\n",
        "        self.tgt_embed = tgt_embed\n",
        "        self.generator = generator\n",
        "    \n",
        "    def forward(self, src, tgt, src_mask, tgt_mask):\n",
        "        return self.decode(self.encode(src, src_mask), src_mask, tgt, tgt_mask)\n",
        "    \n",
        "    def encode(self, src, src_mask):\n",
        "        return self.encoder(self.src_embed(src), src_mask)\n",
        "    \n",
        "    def decode(self, contextVector, src_mask, tgt, tgt_mask):\n",
        "        return self.decoder(self.tgt_embed(tgt), contextVector, src_mask, tgt_mask)    "
      ],
      "metadata": {
        "id": "YlEwFwRWU5CT"
      },
      "execution_count": null,
      "outputs": []
    },
    {
      "cell_type": "code",
      "source": [
        "class Generator(nn.Module):\n",
        "    \"\"\"\n",
        "    Define standard linear + softmax generation step\n",
        "    ---\n",
        "    Given an embedding, generates an output sequence\n",
        "    one element at a time\n",
        "    \"\"\"\n",
        "\n",
        "    def __init__(self, d_model, vocab):\n",
        "        super(Generator, self).__init__()\n",
        "\n",
        "        self.proj = nn.Linear(d_model, vocab) # Embedding -> Vocabulary\n",
        "    \n",
        "    def forward(self, x):\n",
        "        return log_softmax(self.proj(x), dim=-1) # Return probabilities"
      ],
      "metadata": {
        "id": "bm-IPNl1VKZ3"
      },
      "execution_count": null,
      "outputs": []
    },
    {
      "cell_type": "markdown",
      "source": [
        "## Encoder and Decoder Stacks"
      ],
      "metadata": {
        "id": "9yiOiwFCU2t5"
      }
    },
    {
      "cell_type": "markdown",
      "source": [
        "![image.png](data:image/png;base64,iVBORw0KGgoAAAANSUhEUgAAAeYAAAJtCAYAAADjDNNJAAAABHNCSVQICAgIfAhkiAAAABl0RVh0U29mdHdhcmUAZ25vbWUtc2NyZWVuc2hvdO8Dvz4AAAAudEVYdENyZWF0aW9uIFRpbWUAVHVlIDIzIEF1ZyAyMDIyIDExOjU0OjMxIEFNIEVFU1QyboBjAAAgAElEQVR4nOzdd3zV9d3//8f7c3b2DlmQBBIJI2xFUAERB+5d96p2XFfHVWt/ba+2ai+t39ZKh1Vb90ZUkKkoe8jeG5IAgYSQQfY48/P+/XHIkcgQWyAn8Lrfbrlpcj7n/XmfA+R53ltprTVCCCGECAtGZ1dACCGEEF+RYBZCCCHCiASzEEIIEUYkmIUQQogwIsEshBBChBEJZiGEECKMSDALIYQQYUSCWQghhAgjEsxCCCFEGJFgFkIIIcKIBLMQQggRRiSYhRBCiDAiwSyEEEKEEQlmIYQQIoxIMAshhBBhRIJZCCGECCMSzEIIIUQYkWAWQgghwogEsxBCCBFGJJiFEEKIMCLBLIQQQoQRCWYhhBAijEgwCyGEEGFEglkIIYQIIxLMQgghRBiRYBZCCCHCiASzEEIIEUYkmIUQQogwIsEshBBChBEJZiGEECKMSDALIYQQYUSCWQghhAgjEsxCCCFEGJFgFkIIIcKIBLMQQggRRiSYhRBCiDAiwSyEEEKEEQlmIYQQIoxYO7sCQojwY5omDQ0N1NXVARAfH09sbCyGIZ/lhTjdJJiFEB3U1NQwceJEFi5cSFNTEwAxMTGMGjWKO++8k8TExJMua+fOnRiGQV5e3imrn9/vZ9OmTWRkZJCamnrKyhUiXEgwCyFCqqur+e1vf0tFRQV33XUXffv2BWDr1q28++67bN++nd///vckJSWdVHmTJ0/GZrPx2GOPnbI6ut1uXnjhBW699VauvPLKU1auEOFCglkIAYDWmvfee4+ysjL+9re/0bNnz9Bjffv2ZdCgQfzkJz/h/fff50c/+hGBQIBAIIDD4ehQhtfrxWKx4PV6aWxsxG6309LSgtPpJBAIYBgGpmlSWVmJx+MhKSmJ2NhYlFIAeL1elFLYbLZQuaZp4vV6sdlsNDc309zcTFNTEx6PB7vdHnquEGcDCWYhBABVVVV8/vnn3HfffR1CuV1eXh5333037733HnfeeScbNmxg9+7dPPjgg1itwV8lLS0tvPTSS4wcOZKVK1cyf/58LBYLAA8++CBffvklNpuNAwcOsHv37lC433TTTYwbNw7TNHn77bfJzMzs0Breu3cvkyZNYty4cXz00Uds3LiR1tZWDh48yIMPPkhkZOSZeZOEOAMkmIUQAOzevRu3282wYcOOe82wYcN45ZVXKC0tZd++fWzcuBGtdehxr9fLihUrGDhwILfeeislJSXYbDbuv/9+kpOT2bBhA6tXr+ahhx7ijjvuwG63s3jxYl588UUSEhIYNGgQmzZtwu/3d7hvfX09y5cv57bbbuPuu+9m+/btXH311VxzzTU4nc7T9p4I0RkkmIUQANTV1eFyuYiJiTnuNbGxsbhcLmprazEM45iztA3DwGq1kpmZSXJyMjabjdzcXEzTxOfzkZ6ezs0330xERAQA1157LevXr2fatGn0798fwzCO6ppWSmEYBi6Xi27duhETE0NmZiYZGRmn9k0QIgzI2gchBAB2u51AIHBUa/VIPp8Pv9+P3W7v0FI+0pGhqrXucJ3FYqGwsDAUyhAM8gEDBrB7925aW1tPerz4ePcXoquTYBZCAJCRkYHb7Wbfvn3Hvaa0tBSPx0N6evoxg1FrjWmaxw1XpVSHyWLtnE4nXq+XQCBwzOeZpilBLM4ZEsxCCAB69OhBz549mTZtGj6f76jHfT4f06dPJy8vjx49eqCUwu/3Y5pm6Jrm5mZqa2s7PO/IkA4EApSWlh4VwAcOHCA2NjY0Xvz1+9fU1BzVmpaZ2OJsJcEshAAgIiKC+++/n6VLl/Lmm29SX18f6oqur6/ntddeY9myZdx///3Y7XZSUlI4cOAA9fX1oTKWLVtGWVlZaOxZKYXb7Q49rpRi2bJlbN26NfSz6upqFi5cyIUXXkhUVBTJyckUFxfj9XoB8Hg8LFq0iObm5lAZWms8Hs+ZeFuEOOMsTzzxxBOdXQkhRHjIysoiMTGRt99+my+++IINGzYwf/583nrrLTZt2sRPf/pTxo4di1KK2NhYFi1axLp162htbWXp0qXs3LkTgBEjRtCjRw+qqqr49NNPOXToEN27d2fNmjVorSkpKeHgwYPs2rWLt99+m6ioKB555BEiIiJwuVxMmTKF8vJyampqmDNnTuhDwlVXXUVsbCxbtmxh4cKF+Hw+evXq1WHNsxBdndIycCOEOILWmtLSUr788kuKi4sB6NWrFyNHjgx1Ybfbu3cvc+fOpba2lh49ejBy5EhqamrIzMwkKSmJ1tZW1qxZQ0tLC+effz5//OMfycjIYOzYsSxdupTGxkZ69uzJmDFjSEhIAILjyRs2bGDJkiX4/X769u3LwIEDKSsro1+/fjidTmpqalizZg0ul4sLL7wQu93eKe+VEKeDBLMQ4owIBAL88pe/JCsrix//+MedXR0hwpaMMQshzhi73S7dzkJ8A2kxCyHOCK0127Ztw+VykZub29nVESJsSTALIYQQYUS6soUQQogwIsEshBBChBE5xEKIs4DX62X16tXU1NSEfqa1xuFwkJeXR05OTuj4xW+roaGBoqKi0FKl01VGQ0MDu3btorCwkJqaGmpra+nTpw+7du3C6XSSk5MTOpfZ4XCglAo9p3///nLKlDhrSItZiLNAQ0MDTz31FM8//zyTJk3igw8+YNKkSbz44os8/PDDvP/++8fdh/qb7N27lz//+c9HbbV5qssoLS3lr3/9Kw0NDSxdupRXX30Vj8fDBx98wBdffAHAwYMHefbZZ6mqqurwnLq6un+7bkKEG2kxC3EWME0Ti8XCj370I0aPHh0KYY/Hw7Rp03j55ZcZMGAAhYWF37rsQCBAW1vbf3SIxMmUkZGRwf33309MTAxerxe3241hGFx99dVERkYC0NLSwvLly7n77ruPeo4QZwsJZiHOEkopIiIiOhypGB0dzU033cT06dPZuXMnKSkpNDQ0kJGRwZYtW3C5XBQWFlJfX8+iRYsoKSnB6XQybNgwBg0ahM1mC52F3NjYyIYNG9i5cycRERGMGDGCfv36hfbFbmhoYMmSJRQVFWGaJj179mT06NHExcWdVBk2m42EhIRQl3v7DmPth1uUlpYyf/58qqqqmDNnDiNHjiQzM7PDc3w+H2vXrmXNmjV4vV4KCgq4+OKLiYqKAoIt7qVLl1JaWorT6eSCCy5g0KBB/3Y3vxCng3RlC3GW83q9eDweHA4HS5cu5cUXX+Tpp5/mySefZPXq1ZSXl/PEE0+wYMECMjIysFqt/PWvf+Xdd99Fa41SiubmZv71r3+xbt06srKycLvdPPXUU8yZMweAtrY2nnvuOaZPn05qairp6enMmjWLv//97/j9/pMqY8+ePTz77LPU1dWFQtk0Td555x1mz55NfX09JSUlNDc3U1RURGVlJbt37w49R2vNBx98wIQJE7DZbKSmpjJ58mT+9re/4Xa7qaqq4qmnnmLTpk1kZ2fj8Xh48sknmTt3bqf92QhxLNJiFuIsYZom5eXl7Nmzh0AggFKKxsZGPvjgA0zTZNCgQSxdupR58+Zx00038cILL5CWlsYLL7yAx+PhmWeeIT4+HoDCwkKeeuopBgwYgM1mY//+/YwaNYqf//znoUlW6enpvPrqqwwePJiamhqKi4t54oknyM/PB6CgoID//d//5cCBA1gslm8sQ2tNW1tbh2Mk4asPFgMGDMDlcrF161Z+8IMfkJuby7p162hrawNg586dTJo0iUcffZQxY8YAcNFFF/GLX/yCJUuWALB//34ef/xxkpOT0VrjdDpZtWoVY8eOxWqVX4ciPMjfRCHOAkopWlpamDBhAm+99VZoLNc0TVJTU/nNb35DVlYWgUCAlJQUHnnkETIzM6mtrWXFihU89NBDoVAGGDZsGL169WLhwoWMHTuW+Ph4xo8f32Hm85gxY5g4cSJbtmzh/PPP58knnyQzM5O6ujpaWlrYuXNn6BxlrfUJy9i2bRvx8fHf+oxlpVToa+XKlSQkJNCvXz+am5vRWpOUlETfvn1ZsmQJ48eP59ChQ0yZMoUrrriClJQU7r33XlpbW6UrW4QVCWYhzgJaayIiInjooYcYPnx4qNVptVpJSUkhOjo6dF1ubi5JSUkANDY20tbWRvfu3TuUZ7Vayc7Opry8HK/XS1JSEsnJyR2uiYyMJDY2loMHD+JyuSgpKeEf//gHtbW1aK1xu914vd7Q+cmJiYknLOPIDwb/zus/ePAgO3bs4Omnnw79XCnFnj176NOnD/379+eHP/whH3/8MVOnTiU5OZkhQ4Zw++23f+sPBEKcThLMQpwlLBYLWVlZ5OXlnfA6q9UaCqL2yV3t3cFHamlpweFwYBgGHo8Hn8/X4fH2NcUul4t58+bxxz/+keuuu4477riD9PR06urq+MUvfhH6kHCiMhwOx3/y0gFwOBz079+fRx55BMMwQr0GgUCAmJgYbDYbt912G1deeSV79+5l06ZNTJkyhd27d/PMM890mDQnRGeSYBbiHJaQkEC3bt1YtWoVQ4cODf28traWLVu2cMMNN2C326moqGDLli0dDp/Yv38/9fX15OTkMHPmTIYMGcJPfvKT0CztsrIyGhsbMQwDwzA4ePDgccvo2bPnUWPLJ/L1Fq5Siry8PJYvX05qaiqJiYlAMPjff/99XC4XAE1NTdx7770MHjyYwYMHc9555/G73/2Ompqao3oNhOgsMitbiLOEaZrfuNZYa90hAF0uF7fccguzZ8/miy++oKGhgYMHD/Lyyy9jt9sZO3YspmnicDiYMmUKa9asoampidLSUl5++WUKCwspKCggPT2dPXv2UFxcTFNTE1u2bGH69Om0tbVRXFyM1+vF6XQet4zevXtjmmZo/fWR9TzydTkcDnw+Hxs2bKCurg7TNENfw4cPx+Fw8PLLL1NZWUljYyPz5s3jgw8+ICUlhaioKCZNmsTSpUtpbGykpqaGtWvXkpmZKeugRViRFrMQZwGHw8H5558faikeT2ZmJoWFhaFWLcBll12Gx+Nh8uTJTJ8+Hb/fT2xsLL/+9a9JTk6msbGR22+/nR49evDOO++gtaa1tZXu3bvz8MMPY7fbueaaaygpKeHpp58mNjYWu93OuHHjSEpKYvXq1Vx//fXcfvvtdO/e/Zhl2Gw2YmJiOP/883E4HGRmZjJgwAAsFgt9+vQJjYl369aNW265hU8//RTTNCksLAw9JzExkV/+8pe8+uqrPP7441itVtxuN/fffz8jRozA5/NRXl7OG2+8QWRkZGjL0p/+9KfExcWd1j8fIb4NOfZRiLNA+2Qru91+whnGPp8v1AL++vPr6uqorq7GbreTlpYWmj3dPg5st9tD17hcLtLS0rDb7aEyPB4PFRUVeDwekpOTiY+Px+/3h8aQ/X7/Ccs4crw5EAgQCARwOBx4PJ7QBiQQHDNubW3FarVit9vx+XyhvbMBWltbOXjwID6fj6SkJBISEjqsiz506BCHDh3C4XCQkpIS2lVMiHAhwSyEEEKEERljFkKcVqZp4vF4OrsaQnQZEsxCiNNq165dTJw48ailUkKIY5NgFkKcVrNnz+aFF15g//79nV0VIboECWYhxGlTU1PDrFmz2LhxIwsWLOjs6gjRJUgwCyFOm1WrVrF27Vp8Ph/Tpk2joaGhs6skRNiTYBZCnBYej4dp06ZRV1cHwIoVK1i7dm0n10qI8CfBLIQ4LXbu3Mm8efNC31dXV4c2MBFCHJ8EsxDilNNaM2/ePOLi4khPT8cwDPr378/mzZspLi7u7OoJEdYkmIUQp5zH46Fv377861//onfv3iileOihh3j88ce/1WEVQpyLZK9sIcQp53A4uPzyy2loaAidx+xyubjkkkskmIX4BtJiFkKccu17Ux9rx98jD9AQQhxN/oUIIYQQYUSCWQghhAgjEsxCCCFEGJFgFkIIIcKIBLMQQggRRmS5lBBd2LFmPYeL9mVSXxfOdYavZpQL0VkkmIXoYnw+Hxs2bGDp0qVUVVV1dnVOyO12U1xcjNaaTz75hL1794ZtMGutsdvtFBQUMHr0aNLS0jq7SuIcpXS4/isRQhzF4/Hwyiuv8Nxzz7Fv3z7ZrOM0cLlcjBkzhmeeeYbCwsLOro44B0kwC9GFzJgxg+9+97tUVVWR1asHPfvk43Q40cg/41PhUHUNm1ZvxNvSxk033cTLL79MYmJiZ1dLnGOkK1uILsLj8TBlyhSqqqooHD6YRyf8loycDNQp3knryDHW/+hzuwa62HCt1+Nl/sez+cv/9wcWLlzI+vXrueyyyzq7WuIcI8EsRBfhdrspKysD4OLxY8jt2wvTNNFo1H+YgKEyTE1DbT0tLS1EREQQmxCHYbVgavOE92h/vun34wuY2O02DIuBNvUpqd+ZoNFEOu2MGD+KKa9NYn/RHkpLSzu7WuIcJMEsRBehtQ61YCMiIjp8/592ZSulaG1qYfGULyjZVowPP8o0SMlI5fLvXE1it+QTtp6VUlQfqOSz96cRHRPL2FuvpKG6jtTsdGw2W5fpatemxmazERkZfH8DgUBnV0mcg2QdsxBd0OmYGrJ05gJKi0u56Qd38vBvfsR3fnQPba2tTP7n+3ja3KEubsMwsFgsGBajw8/WLVyJDmguumY07uY2Zr8zDXdLG4YRvE4p9dVzD3e/K6VCZR3ZqFZKYVgsHa5t//mR2ss91SSORWeSFrMQ5zoFfq+PPVuKGDLuQrLyeuD3+YmOjeG6+25m+hsf09zQhDPCRSAQoKxkPwf3lxETF0eP/ByckS5qqw+xe3sxyd1SsNisVOwvo6aymoq9B3A4HcHZ4xoOVR7i4P4yUtPTyeyZRU1VNaXFe4iKiianoCd2pwOApvpG9u7cTWtrC5lZWaTnZOLz+WhpbCYmMS4U9s0NTWitiYqN7uQ3UYhTR4JZiHOdBmUxcES72LRsHT375BGbEIeyK5IyUvnOT+7H7nLg8/lYPHkOG1auIzEtibaGVhwRDq5/6DY2r1jP2iWriI6Nxu8PcKCsnG0btmB/bzI3P3wX5UWl7NywFZvTjmmazN3zKecN6IPH7cVv+qgoPcB5/Xpz9YM3U1tRw7TXP0RZDCw2C4s/mcfo6y8jv39vPnrhHYZfNYqBI4dQW3WIKS+9z5CxFzLgwsFhuz5aiG9LglkIgcViYdwt45n88kSe/9WzpKSlkl2QS/6AvvQ4Lxub3c721ZtZu3gld/z0QTJ6ZeFuaePjf77H4qlzGX/fjRRvLyI1NZUr7ryWir3l4DO5478foFuPdDYvWcOhA9U88vufEJecwIIpnzP1lUn8z4TfkF2QS+mOPXzw9zcZeehStq/eRHK3FK5+8GbsDjsrv1jK6rnLGHjRUIaMHs6cD2aSlJzE8tmLcUQ4KRjUt7PfPiFOKQlmIQQAWfnZPPLEjykv2c/e7cXs3lrMss8X02/oAK7/7m1sX7OZ8wb2Ieu8HpgBk8iYKEZeNYZpr07C5/VhdzlwRjhxRUbgjHJhtTtwRUdgsVowrBb6DiskPiW4Jjg1I538wgLSstMBiE+ORxvQ2thK4YgheL1eaiqqcDe5OVCyn7pDtQQCAQaNOp/KfRX841fPkpGTxV0/fwi7y4E2pbUszh4SzEKc45RStDW3UlF6gB752fQacB55A3oT8PnZX7yP1//fi+SszKOpqYnM3O6hpU+mNomOjcZiseLzeFHm4ZnjaDABNFoDOjg5zOFydJid7YxyYSgDjcZEh8K1prKGlXOWEBUdRXxyAkoZWGw2tNZYbVZy++Qz6YW3GXjREGKT4iWUxVlHZmULcY5TStFwqJ5Jf3+T6gOVwfXIpolhtdD9vGzSszJoPtRAUkoy1eWVmKYZmmF96GA1ftOP3eUAdWRABv/fMNRxNxlRgY7LvAzA09bGnA9nkDeogGsfvIUxt15Jz8J8lCUY7nWVh5j/yWxueuRO9u/ex6ZlazvM2hbibCB/o4U4x2mtSUhNJDE1mc/en07F3nLcLW00NzSxdsEKKsoqyOmbT7/hg9izrZiNy9fhbm2jorSc+VM+p9+QQiKjI4ObnRyegGVYLbibWthfXIqn1Y3SoANfhbDGJKC/2udbaQjoYKu5taUNX5sHn89HxZ5yVs5bRkNNPfXVdXz67jSS0lK49v6buPTmK/j8vRmUF++XE6HEWUW6soXogpQ6fkv029JaY3c6uPH73+HziTOY+Pc3sdoswfuYivF3XUeP/GwwFJffeQ2LPpnDomlz0QFN9nm5XHT9pWggK7sHsUnxmKZJbHwcBUP6MXfKp0TGRJPcPQ2LzUDr4C5g0bExdM/LCbZ2NVhsVvL7nUd8Sjyjrr+M+ZNns3bJaiKcLvIH9MYwYPlni8BQXHHHNVhsVgpHDKGmvIqdG7cGx6qNUxfOllNWkhDfngSzEF1E+2YcAA0NDcFlTqewpZiS0Y07fvoAjYfqaaxvwmq1kpCaQERUZKglPPiSC+jVvzd11XVERLlISE3CYrGgteaiay/FooLbcNqcdq554GbcbjcOh4OsXt0xUKCD3dcZed1Jy8nAYgv+CoqIjuS6h27FareRlJZKz375NNc2EpMQS2xSPBd6RuH3+bDZ7VgddrTWWKwWLr31KgI+PxinZqMRwzDwtHloampCKYXVKr8ixZknf+uE6CJcLhc5OTkAzJ82h0EXDaNHfjan8uBHA4XD4SCpW3Cjj4A/QGNdQ4drlFIkpgZnV7c1tmC2jye3Two74nutoM3XGnruV4+BVgrd2tahXHebGwCbzUZCtyS01rTUN6IPh26gzd3hOe338Lg9p+S1e71e5n78GaW7dpMQn0Bubu5/XK4Q35Yc+yhEFzJv3jweeOAB9u/fT2K3JDJzesjkp1OotamF4m07CfgD3H333fzjH/8gNja2s6slzjESzEJ0IX6/n4kTJ/KnP/2JoqKiLnPIglKqy+zMFRUVxVVXXcUTTzxBfn5+Z1dHnIMkmIXoYgKBAMXFxaxatSo41hzGlFLU1dVRXl5Onz59wnr2tNYai8VCbm4uF1xwAfHx8Z1dJXGOkmAWQpxWs2bNYvLkyfzlL3+RbmEhToIMTgkhThuPx8O0adOYMWMGa9eu7ezqCNElSDALIU6bXbt2MX/+fGpqapgxYwZ+v7+zqyRE2JNgFkKcNrNnz2bv3r0AfPHFF5SUlHRuhYToAiSYhRCnRWVlJTNmzAjNHC8qKmLu3LmdXCshwp8EsxDitFiyZAk7duzAbreHdi2bMWMGNTU1nV01IcKaBLMQ4pTzeDyUl5fz85//nIEDB2IYBg8//DBDhgxh9+7dnV09IcKabMkphDjlLBYL9957LwBz5sxBa01hYSH33HMPHs9/vn2mEGczaTELIU45q9VKfHx8hx2/TNPE4XAQExPTybUTIrxJMAshhBBhRIJZCCGECCMSzEIIIUQYkWAWQgghwogEsxBCCBFGJJiFEKeNUip01KNhyK8bIU6GrGMWoovRWlNeXs7GjRupra0lXE9uVUrR2tpKVVUVNpuNFStW4HQ6MU2zs6t2XHa7ndzcXPr27UtkZGRnV0eco+Q8ZiG6ENM0mTlzJn/605/YtGkTXq+3s6v0jfx+P1prLBZL2LealVIkJCRw44038stf/pLMzMzOrpI4B0kwC9GFLFu2jPvvv5+ioiIio6LJyuqBzbBhIv+MT4Xmlkb2le7BMAweeeQRnn32WWk5izNOurKF6CJ8Ph8TJ06kqKiI3J55/PZ3/4/evfthUcZpDWYDhVYQ/Aivj3oMINg53ZU/HCiUgtbWFiZ98Db/+udf+OSTT7jrrrsYOXJkZ1dOnGMkmIXoItra2igqKgLg2utuZdSoy4IPnOY81FoTMANYLBbU4SAG0AowNaZpYliMDo91VYbF4M67HmDOnFmU7d9LcXGxBLM448J7wEcIEWKaJn6/H4DExERQCm1qtD6NXwoOlO/n/fdep7m5Gc1XjymgpHgnsz79hIA/cHrrcYa+AoEAERFRxMbEYZqmHLghOoUEsxBdkQZ1BnqOFdDQWM/aNSuPOdHMYrHgcDiDbWUV/FKGCragDXVUYYZhHP8xS/CxIxveylChMo96zmnTlbvkxdlAurKFECekUMFA/drPtdYkp6bhiowCpWhsbMRmsVJWVkpVVRXpmZn06J4TnImtoLW1lZLdu2hqaqRHZjbpGVmhNc7VlQcp2VsCQG5OL1JSUjEDJmX79xMfG0d1dRWgycnNCz1HiLOVBLMQ4t9iKIPikh2sWbWcO+58kA8mvoHb4wYg4DfZP2UP1153C5deegW1tbW89+4rNDY2EBkVwxezpzNmzFWMGj2WTZvXMe2TD4mJicPn8/HZzCncd9/36J6dy6yZH2OamuamRoZfcDHZub3OirFsIU5EglkI8e9R4PV6aGhoQGvN7pJi0jMzeeih/yYiMpJ5cz9j/rzZXHjhJSxa8DkWi5X/+dlviIyMZMe2LXww6S1yc3JZ/uViLh55KaPHXg4aXnv9BZavWEKP7J5UHqzA5YrgkUd+QnxCYme/YiHOCAlmIcR/ILjlptKa6JhoLhxxCTHRMWitycnpxby5s2lsbGDDhrVkde/B+rWrCZgBzIBJXV0te3aXcM21t2C1Wtm3r5SW1iYOVhwgLi4erTUOp5OLLh5LUkoKAX+gs1+sEGeEBLMQ4j9mAlarHafdeXhNtcaiDAyrwufzUlt7CK01Ho8H0wxOrurZM5/klFRKinexZet6YmPjSUpKxmazYxgGGo3DGUFMTAym7IMkziESzEKIb6QUYBjBwDwckoYy+Po8LH3E9yYaE3DY7KSlpTN67BVcNHI0gUCwxbx67XKaWpuY/fl0HnrgB+Tk5mG326k9VENdXd3hsWTdoUwhzgUSzEKIb9TS2sqBsn00NzeFgtlhs+Fp84a+12YA0IfjNEj7TOxOJ/37D2T2p9PonpVDYmISmzav49OZnxpTCLMAACAASURBVHDl+OtpbWnGb5p4fV5KineyauWXpKam4fF60KY+qkwhznYSzEJ0RWewFRkdHUNcXAITJ76JxRr8laG1JjY2jkGDh9EztxcWi4XcnnlERQbHl9HgckXQu3cfLBYrY8ZeRfWhav71z79gt9kxTZPx19zIoIHD2FNSxOuvvUBMTCzRMTGMGzeeLVs3U1G+n9yevb4q84xRssOD6FQSzEJ0EUeebexxu0MbepzOpqTWmrSMTH77u2cIBDpOvrIohd3hBMBms3HjDd/BYrUGd9ECuqWmccedD+CwO0DBvfc8QlVlBS0tLSQmJxMfnwDA7bffx+hR42h1t5GS0o2Y6BhGX3olNpuN7tm5WC3WMxbMSikCAT+eNg9KqbA/DUucnSSYhegiHA4H3bp1A2DJ4vlcfsW1pKdlok9zJ69C4XK5jv3g4VsHzECoNd0e4AqFzWojYB7+Xim6pWWglAptf9n+87T0TJRSmNrENE2chwO/3dc/FJwOCoXf52fFskUUF+/E5XKRnp5+2u8rxNdJMAvRRTidTq699lpmzZrFkiXz+cmPH6RPn/5YLNb2o5/Ef0Ip6uvrWLp0AR5PG6NHX8LQoUM7u1biHCTnMQvRhbS0tDBhwgSef/55qqurO7s6ZyWr1cqwYcN49tln5WQp0SkkmIXoYtra2li6dCkLFiwILisK872j29raqKurIy0tLezrarFYyM/P56qrrqJnz55hX19xdpJgFqKLMs3geGw4s1gsLFiwgJkzZ/L4448TFRV1hmdYfztKKSwWS2dXQ5zjZIxZiC7KOLzhRzgLBALMnj2byZMnc8cddzBs2LDOrpIQYS+8/1ULIbq0vXv38vnnn7Nv3z4+/fTTsG/hCxEOJJiFEKfN/Pnz2blzJwCzZs2ivLy8k2skRPiTYBZCnBb19fVMmzYNj8cDwNatW1m0aFEn10qI8CfBLIQ4LVavXs3KlStDM5vb2tqYOnUqTU1NnVwzIcKbBLMQ4pTz+XysX7+em2++mX79+mGxWLjtttuIiooKdW0LIY5NZmULIU45rTW33norLpeLe+65h61btzJ27FhuuOGGM7K9phBdmQSzEOKUs9vt5OTkUF9f/9WxkFqTnJzcyTUTIvxJV7YQQggRRqTFLEQXZJpmWO+gBe1HKAY6tJjhzJwUFY4Mw5AtPsVJkWAWogvweDzs37+f7du3U1JSQmVlJW63u7OrdUJKKdxuN8XFxWit+fjjj9m5c2fYf6A4HQzDICYmhqysLPLz88nPzycpKSnsd24TnUP2yhYijLW0tPDll18yefJklixZQllZGS0tLbKDVhdlt9uJjY2loKCA8ePHc+ONN9KrVy8JaNGBBLMQYUhrzZYtW3j++eeZOnUq1dXVGIZBWmYmvfPySU9Px+F0dHY1T0ih8Hq9zJo1i5qaai6++GIKCvpg6nPvQ4U2NQ0NDezdu5ddu3bS2NiI1WqlT58+PPLII9x1113ExcV1djVFmJBgFiLMBAIBPvvsM373u9+xYcMGLFYr4y67jBtvvImhw4aR1q0bTqcTpQwI4yFLpRSNDY3cdfedLF60iBdfeol77rn33Bxj1ppAIEBTUxMlJSXMmzePDyd/TPHOnURERPCd73yH3/72t2RnZ3d2TUUYkDFmIcKIaZp88sknPPbYY+zdu5fzzuvNo48+yvjx44mPjwc4ajJVuDIMA4vlqwlPhjKwGAaEeb1PF6vVisPhICUlhWHDhnHLLbfwyquv8tqrr/DWW29RW1vLhAkTyMnJ6eyqik4mwSxEGFm8eDG//vWv2bt3L6NGjeapp55i0KBBAF1uXDn0weHczOGjHDkrXSlF7969+b/f/56C3r15/PHfMX36dKKjo5kwYQJJSUmdXFvRmWTGgRBhoqysjKeeeoqioiLOv+ACnnvuOYYMGYLWOuxbxycUxt3tnSkQCOB0Orn33nt56qmncDqdfPTRR7z55pvnZne/CJEWsxBhwDRN3nvvPRYvXkxqt248/vgTFBQUHPcXdFdYE6uUCtaz/XtDYbFYOrVOJ+tMrRPXWmO1WrnjjjspKdnNhAnP8fLLLzN27NhQT4k490gwCxEG9uzZw8SJE/H5fDz04ENcNHLkcYNBA7t372bDhk1UHCzH7/Of2cqeJKWgze1mz549AMyePZu62lpMM3xb/1HRUeTn5TNw4ECioqLOWDg7HA4e+u53WbhwAevXr2fSpEn0798fq1V+RZ+LZFa2EGHg9ddf54c//CHpGRl8/PFkep933jHHlE3TZMbMWTzzh6fZtm0b+hxcenS6RUZGcuONN/HLX/2KnOzsMza2r5TipZde4he/eIzCwkKmTp0qs7TPUfJxTIhO5vF4WLRoER6PhzGjx5Cbm3PMlpphGCxfvpxfPPZzDhwoJzEljuwe6ShLeHdpdxVKQ0tLGzu37+Xdd9/BYrHwpz/9icjIyDPSclZKMXr0aNLT0ykpKWHjxo0SzOcoCWYhOlldXR07duxAKcUFF1yAw+445tiy1+fl48kfc+BAOf0Ke/HHv/+M8wq6d0KNz14eT4BJ78zmqd/+kylTJnPPPfcwYsSIMzIZS2tN9+7dGTBgIJ999imbN2/m+uuvP+33FeFHglmITlZbW0tlZSURERHk5uYe8xqlFO42N0VFRQBcf8tYRl7S//CM7ROXrxQEAsHuWIvFOPH1WhMwzeNO0mqfIX6sLSSDc9EUPo8Pw2rBajWOO57cPrnKarUcVZ9AINBpk9ssFoPb7rycSe9+xq4dpezZu5cRI0ackXtrrXG5XOTm5qK1prS0FJ/Ph81mOyP3F+FDlksJ0cmamppwu924XC5iYmKOe53WGvNwwMYlBK8zTR0Ky+N9+Tx+XvvndN55/TN8vsBxr1MKKspree+N2bQ0t4Xu+dXjinWrdjB9ytJj3tfr9TFrxjKefvw1np8wiZLiiqPKaC9nzYodPPPEGxysqEep9jW+mrZWD++89hmlJZWhn5/Jr0DAxBlhIyY2Gq01fv/RE+uUCs4uPx3L2CwWCwkJCQA0NDQc8/7i7CfBLEQna289ti8vOuEv+/ZGpD65DbQMw2Df3mqWLFjPF5+u4EB5LYahjrrGYrFgMSzUNzazatkWfN5gICj11Q5eFsOgbF8VWzYV8/U5ZxaLwdpVu/h8+pdcPn4EsTFRvPvaTNxtHr7e8FVKUbavkjf+9Qnvv/kpPk/gq9a2z8+KZZs5VNsQajEHg7DjLmLBeqvQe9b+/8Hvg8HZ3qrv+Pxvfs/QKjjgTMcl2O3vU1tbGytWrGDGrFm43e5T3rKPiQ1+6PJ4PF1uUxlxakhXthBh5FRPMdJas/zLTVwyeiiHDtWxctkWemRfCuhQF/fe4oOUH6gkPS0F0xfAsAT34A4e2+ilaEcZDQ1N9Mzrjj4c1EdTVFfVkZIaz0WjB5CQHMeWfxTj8fhwuhxHvTKtFJdcegHbtuxh8eINjB03NPjhBLBYjQ6hXFVZT0nRPqxWK3nnZREXH00gYFJWWk1sfCRVVQ1orUlPTwheX9VA2b4K0jNTyc5JpaqygZKifcRER5JXkIXDYTv5XUFVsBUbCASoqKhg+fIVTJ8+lZUrV/Looz/HbrcfNf7c3qJWSv0b66EVhpL20rlOglmIs5RSirraJrZuLuG+715LdVUd06csYvy1w4mMcuH3Bpjy4QJWLdtCcrc4/D4TwzDw+wOHD6Bo5tUXp1NVeYj4hGgWzV1PU1MzsbFR6K9lh9YmA4ecx5IF65j3xVo2rStiyLA+RMdEHDuYTE1uzwyGX1zIh+/OIS+/Bz2yk4+q/6rl2/jwvc+JjYsEDZM/9HLfd6+hV14GH70/D4C6hkYuHjOIHZv3snVzCVaLwuv3UVZWxZBh/WhqaMbn87C/tIpBQwu456GrsFhOLvzaWttYt349n38+m5kzZrB+/QYCAT92u50vl33Jjh3bj3p9VpuN7llZDBw4iH79+hEbG/stur1l9aqQYBbirGUYik0biomKctGzVxrd0uP56P05bN9ayvARfdmwuYglCzfw45/fQa+8dBoam3n+zx9yqLYewzD44rNV1NY18dhv7iUuPpp9pVX89rEXsDnsR42BaQ0pybEkJMTwq5/+jQe+fyM33jbq8FiseVQL1QQCWjPq0oFs3VjMe6/P5NH/vat9BtnhlnID77/5GdfcdDGjxw7GNE2mfLiI917/jJ//791UVFTjdDr58WN3kJIay2v/mM7+vRU8/sfvk5wSy5QPFvDaS1P58wv/Q5/+2WzfXMoLf5nEVdeNJC09/sQbnWgFKHbu3MXCRQuZOWNGh5ax1+vlw0mTTvj+R0VFMWrUaO5/6EHGjh6D3W7v2lurijNGglmIs5TX7WPxgvVkZiZTVV2PaWqSU+JYNG8tw4YXsHlDMf0G9iK/IBPTNElMimXc+OGU7j2A2+1n26YSxo4bRnJKHH5/gNyeaYy5bBjl+ys73EcpRWuLm3df/xy7w8537rmS2up6vF4/pbv3k5QaS2JS9FGhpNq3o7zvKp781T+Z8/lqLhk1CKWDHyq2b9mNK8LBxaMHYLVaUMrClVdfwMqlmyndXYkr0sWYy4bQLS0O09QYNgtDL+xHt7Q4QJGV3Y3+g/LI7ZWGUorU9HiUAa3NrUACJ2ydquBktL59+/CTn/yYq668iunTp7NkyWKampqwWCzcfPMtpKWnhSbktWtra6OoaBdr1qxh1qyZLF68iP/52c/4/ve+T0xMjISz+EYSzEKchQzDYM/eg2xcs52DByrYsa0YgOqqelqbPRysqKOpqZnExPjQhCjT1MTERRLhchLw+WlpaSUuruO2lPGJMVRW1KBNUIdXVCmlWLxwA2UHqvjFr+/CZrXy4t8m88a/ZlJT3cB37rmcpORjB5LWmrT0eO68bzxvvzaDjPQUjMMbptTVNxIbG4nNZgs9NyLSQXRcFM3NbUQ4HcTFfhX4hmHgdNnbS0YB0VERwTFzvjoq0/wW3cU2m42cnBy6d+/O9ddfz8aNG5k1aybz5s1n6NChfO973ztqzN00TZqamli/YQOvvfoK06ZN46n/+z88bg+PPfYYTqdTwlmckASzEGchrTVLF29gxCUDefD71xGc7KXwek2e+8PbrF61lcTEeKqr6jBNQrOZa6rqaWluxW63ER0dSVVNXWi2M2gOlh/C5/PTcX6SZk/RAXr1zCQuLhpTm9z38NX86n9eoK6ugbSMhBMGkWlqLry4H1s2FfP2qzNpbGxFoUhJTmDxoXW42zxERjnRStFU76b+UAMxsRGH7/y1ck/87b910JVpmpimSXR0NJdccgnDhw/nwQf3sL+sHI/HQ0REx3F0wzCIi4tj7KWXMnDAAHr16sWECRP461//Qn5+Prfffvu/UQtxLpHpf0KcZZRS1B5qZO2qbVxy6RASk2KJi48hNi6abmnxjBwzmC8XbCCvd3e2b93N2lU78Hi8lO6t4rPpX+L1+rE5LAw8vzdzZi1nz+5KPB4PG9cVs2ThuqOWBymlyM3PYM3KrRQVHaCtzU3lgVosFgO/z8+u7fuPqqPWGr/+qhVrtRrcdtdltLS6Wbt6Gxoo6JeNNuGz6ctpbmqjsa6JKR8tIDklju7Zqfi+Nhv66xOstAZtHvm9wjR1+0qoby24zjmAxWIhPz+fS8eMxuVyHbcnIBAIkJCQwM9+9ih3330PHo+HF198gbLy8uPMbBciSFrMQnRFiuOuyVVKUVlZR8+8DHr36U4g8NWSnUDA5PwL+rBj825SUxO49pZRfPDWbJwRNux2BwV9c+mZl4VhKC4dO5iDZYd4/k/v44p2EOFyccXVI4mKchJsiwYrYJqaiy4pZE9xOX//47tERjsIBOCamy8hMsLFutXb6dM/m5jYyFB4dktLwN2aGaqzaWoSk2L53n/fhMNhITLaRVx8NA/+8HomvjmbNas2A4ro6Cjuf/g6IqOc5OZmEBMdGQxgrUnLSsJusx5+rYqY2ChyemWglEJrsNkMevfNISKivf7He281Sgdf2/GuOtn1xaZpEhcXx/d/8H3mz5/HunXrWLx4MXfdeedJPV+cmySYhehC2lurLU2tgDrm5hZaa/J6ZZD745twOOwdngeQkhrHjx69DZvdSkb34QwZWkBNTR2JiXEkJsUQCPix2WwYhuL+R67mQPkhWlpaSUtLJCo6Ar8ZOKrFFxXt4uH/uoGKA4dobGwmNSWRpJQYtIZhF5yH/Yh6aK0ZMbIfw0f26bBsSWvNwCF5/LHvj7HZrZimSd9+Ofzyd/dSVl6NzWIlPTMZV4SDgDa59a7RoR24AC69dNDhcgA0eb3Tyc1LxWYLDoZHx0TwyH/dgO3wOuZjvXeGEezub2lpAxSWU9CyNU2TgoICLr/8cl5//XW+/HIpt95yS4excyGOJMEsRBfhcrnonhU8tGL2Z19yxdUj6J6dgqlAfa0B1545rS2eo8rRBhgavB4/4Cc62kVMrAttgtfjA8AX8KLMYDnJybGkpMQRwAw93uo9ulylICkpluTkOLTWoXsrZeDz+g/f72v183mOKgOCddM6eL1hsZCdkwaAGdC0NLtD1wb8X10Xeq4v8LV7eDu8bo/bd8wNRpQCvz/AF7OWs2vHHlwuJxmZmUdf+C1prXHYHQwZMpTXX3+dkuJiWlpaiIuL+4/LFmcnCWYhugCtNXa7netvuIGpUz9hxeIN3Hf7r+mZ1z3UCg1X7dtthnMdIdiCbmlpY82KTfh8AcaPv4IBhYWnZFtMpRRJyckYhkFjYyMejyfs/9xE55FgFqKL0FozZvRonnzy9/zpT39k1/ZSdm0v7exqnXUMw2DcuHH86te/Jj4+/pTtV91+YpeEsfgmEsxCdBHtreYHHniAIUOHsnz5MsrLDmCageNOBOtcCo/Xw7SpU6msrGTMmEvp379f2AaT1hAZGUnv3gVccsnFpKamyiESolNIMAvRhWitsVgsDBs8hCGDB4d1cCilaGxsZOeOnVRWVnLb7bdz3733HnXoQzg58oSvcH5vxdlNglmILshvtk9wCsumMnBE3Y74z1eblYSvcP7gIM4NEsxCdDHt4WaaZliHSHsd2+urCYZeuNe5fSxYWsyis0gwC9GFBLfV9LJy1SqWLllCbW1tZ1fphHw+H6V7S7HZbEz++GM2b9oUtmPMABarhfy8fMaNG0dWVlZY11WcvSSYhegilFK43W5e+udLPPfn56ivr+vsKn0rc+fOYe7cOZ1djW+klGLkyIt45plnGDRokISzOOMkmIXoIpRSzJk7l2f+8AdaW1vJGziEnv0LD+9+1dm16/qUgub6elYvms/SpUv4wx+e5p///BeJiYkSzuKMkmAWogtQSuHxeJgxfTqtra0MGnMZP332HySdgp2pRFD7TmJLp03hzz/9PvPnzWPTps2MHXtpWI+Li7OPBLMQXYTb7ebAgXIALrj0ctJyc/GbJuoMtuaUUnCM/aOV1gS0PmV1aZ8wdirLPBl2p43Boy6jx3l92L15AwcqDpyxewvRToJZiC6kPaIcDkfwIIYzHMqNtYdY/ulMWttasBw+lDmgTZKTuzH08itxfu1s4n//PrWUbFpPv+EjsTocp6L6J0VrjbJZcbicgMzMFp1DDgUVQpwUpRR1FRUs+uRDHHY70fEJRMfFExuXgDMmBmUYmIA+3No91nrl4M+NEz5mGAb1VZUsnvoxHre7E9Y969ChIOG94lqcraTFLIQ4ScFDF+KTUxl1w61EJyaCGWwdm2h0IIACfG43tbV12Bx2YuLjUYd30lJK0drcTEtjA5FR0UTExIRa10op2lpaaK1vICIuNnQvIc5FEsxCiP/A4fA8vJFIedEuFk7+gPq6Wgyl6D14GCOuuwm7w8HmLxez+vNPafO4sdvtnD/uKvpfNAqlFNtXLmfFp9Np87iJjYsnMS29c1+WEJ1IglkIcdIUisaGQ2xcupjIuBhMrTGUontebxxOF1+8+wa5/QZw7djLaamr44t33iAyJo7MXvksnvwho265new+/TlQvIu5H71HfEo37BEuvnjvLS664WbyBw2hrqKCGa+/RGNNTdhv3ynE6SDBLIQ4SRoUtNQ1sGXVciIiI9FaY1gsxMYn4WlpobmpkV6DhuJpc2OPiKTXwMFsW/4lNRVlxKelkdajJ22tLSSkZ5GUlsGOVctxRUWRlpvL4DGXgWEQl5TC8Cuv4/N33wh1lQtxLpFgFkKcpOC4b7fsbG7/758Rk5SI1sFZUobVxrKpUyjetplPXv4HWgVb1153G0lp6ZTv2U3Jts3UHTqEqU0UitaGRgaPSqPqYAXJaRkoiwUdCGCiSE7PIDIqBi0NZnEOkmAWQnwrSoGyGGAYodnLBmCLiKDPkPP5zk9/iWGxogxoaWqkraGB1fO/4OIrrmHU7XcFJ4kpRV3lQWx2BxsXzcPT2tKhfHdrKx6/p3NeoBCdTJZLCSFOntZfzaQ+Yta01pqsnnk019ZRW1FOTHIikbGxbFm6kO2rlpHbr5DdO7fid3uISUrGarOzZPpkKkp306NPP3Zt2UhtWTnKYsHT2sr6xfNoa2ySMWZxTpIWsxDiJGkMm43ouAQwOgamaZqkdO/O0LGXM/21F8nq3Q9PawsNNVVc/93/IiEtneKN65g44Q9k9MyjrvwAtkgX+YOGYnM66bFuNZP+/iwZPfNobWrA19ZGTu+CTnqdQnQuCWYhxEkxTZPU7Bxu+dGjRERFH7XOWBkWLrrhZrIL+lJatAunK4JeAweSkNoNgBu+92N2b95IZfk+sgv60nPAYCKjowEYf//D7NmymYNl+zlv4BAyzuuNt7UN5+EJZkKcSySYhRAnze5wkpSZBcfcqjI4Qzu7X39y+g8ANKZphoLVEeGi4MIR9GUkJhqOeMzidJJ//gX0Pn946DFiYkOTy4Q4l0gwCyG+Bf2NS5iC+0sfHahaawgEONY5TUoHdw7r+Ji0lMW5SSZ/CSGEEGFEglkIIYQII9KVLYQAvjrd6etdyPqIJVJhxzAOd62Haf2E+DdIMAshggdQlBSxftH8wyEcXA6ltUmPgj70H34RygivDjaf18u2lcvIKehPbHJS+H54EOJbCq9/aUKITmEYBrs3bmDdvDm4omKIjIk9/BWHw+4KHUx8vPOU278/3jnMJ3IyZerQY8HyDcPA7/GwaOrH1FVWHG7pC3F2kBazEAIAbZpk5xdw2e13oiwW1OEGqNYm5uFjHd2trTQ31GN3RRAdG4tSikDAj7fFjSPSRUtTE8piwRUR8VULWweXTRkWS+he7eUZhoG7tZWmunrsTjvR8fEYhuWoMi02G86oKPweN411ddjtDgzDCO4+Ji1lcZaRYBZChOjDWRoMZR1c9HQ4+IrXrWXptCk0tzVjtVopGDyMC6+9kbamRhZ89D4Jicns3rGNlPQMopNTGXHN9VitVvbt2M6SGVMYf+/DxKam4GlpYenUjym8ZAwttbUsmTGFpsYGTNOkYNBQRt98Oy1HlrltCxdefT3xKd2Y99F71FZX43JG0CM/H7/bG9xcW4iziASzECJIKQ6W7WPdkgVYDANtgt1uJ7ffABqqqpj11stceNX1nDfsAuqrKpn1+j9xOCPoPex8tixbSt6AQVx594O0NDfx2VuvUHjRJcQnp1C0dhUrZ8+k3wUjGJieRtW+UnauW02f80ew4KP36H/RGHqfP5z6qko+eemv5PTpR2JGZqjMK+55iMj4eKb8/c+kZudw5X3fxdfqZtHUSewr3nHMCWtCdGUSzEIIINjwrCzfz6Yvl2AoA7QmIjqa9NyebFmxhG7ZuQy74iowDBJSUrjk5ttYOm0K3Xv3wR7hYsTVN5Cen09bczPR0XEcLC4mIjqaygNlXHT1DZTt3M6AS8awb/sW0nN7EZucxLArriZv8DAUiojYWFCKQ5VVJKZnYXMFy8zsXUDRmlW0tTYz6qbbiYyNQynFxdfdwqYvl0hXtjjrSDALIYDgsqj+wy7k7kd/FRwP1hqUQgEHy/aR2TMPi8VCIBDAD6RmZYNp8v+zd97xUVXp/3+fOy2TSe8J6aSQhN47IlIEAaXZC7qWdS3r6rqr359u31VX3bU39PtV3LWsioKC9A6h1wAhJCGEFEiDlJnJZOae3x8zGQgJCGskAe779RrI3HPn3GfuzNzPPc95zvPYG+oIi4jCPzQc1enEx2wmMSuLgv17CIyIRLpc9B83iXXffkXNseMU5eXSc9hIfAMCMegNrPhkLlKq6I1GThyvQEUipCQkIgL/0HCkVKmuPI5fUAgmX19U1V020j8khNDoGE/aTs2drXH5oAmzhoaGGwmKdAdkKYpyqryjEPhY/LDV1XoTbQohaKyrx+VyotMbECgt1ngk9ejN6q8+JW/HFkIjo4hNS8doMpO3dRNOm42EjCzyd+5g5df/YeyNtxGRkITRx4fSwgJvOUmdcPcpJfhYfHE2NqKqLnR6PVIInI4mbNYGbY5Z47JDW2OgoaEBuGdppZTe/5sRQiG9d18O7txG1dFidDodTXYbW1YsJiIuEUtAIE55Ksu1lJKI+ASQsG3ZEuK6ZWHy86NLcldWf/M5odExBIaGcby4CKPJh+SevQkKC6PmWBn5+/egulRUIXF5bJBSJTo+idoT1Rzes8eTVETlwOaNHDtc6FlWpbmzNS4ftBGzhoYGKmDy8cUnMKCVU9glVdL6DaDowD4+e+UFYrqmU1ddia2ulut//igGgwm/gEAUz/IoKSVmi4UuKWkUHcolpmsKUkri07NY9PH/kdi9J4rirkKV/f13fPLyc1gCArHX15GclsnBXVtJSO+Gf2CQu09VJSQ6hoHjruP7uR+wd8tGpMtFw8kauvXtj15vuOjnS0Pjp0QTZg0NDVRVpfvwEaQNGNAqw5eQEqPJh3G33UXhvr2UFuQTn5ZOao8++IeG0uRoZNwd9+DrH+AdaUspGXztZDKHfdHdWAAAIABJREFUjsA/JBTV6SQ6JYVHXnqDoKgomlxOopO6cttvniFv904URSG5Zy/8A4OoPnaMoOhoxt/Wss9BEybSpWsKRbkH8AsMILlHL1SXC4t/oKeilYbG5YEmzBoaGggp8QsKAmgztaWUEr3BRHqfAXTrO/C0esoqeoOB0KiYFrWTpZT4BgRgDgz01m7WGwxEJSXhktI7jxyemEhUUhKAd7slMBCXlPha/Fr0KRSFhIxMEjOz3HPdnn6lZ821hsblgibMGhoaQNuCfMYeqGpb1ZRpIaAt+jujT1VVW7rKVbVFDebm+W33rHFrey7WyFhq0TcaHYj29dPQuJTwaJXqUrVg5J8AKQRIiavJ2dGmaFzBaCNmDY1LBIPBQJDH3Xxg+1ZG19biFxDoditrtAsKUHzwAKWHC1AUhaDg4I42SeMKRBNmDY1LACklZrOZMWPGMH/+N6yY9xlCUUjq2RupCG/BCY0fgQB7Qz0bvplHfU01PXr3pmfPnlo5SY2LjibMGhqXEFOnTmXr1q3MnfsRSz6bC5/N7WiTLkuioqJ48okniYuN1SK+NS46mjBraFwiSCkJDQ3lT3/6E7169WLZsqUcO3YMVe28IzohoMnppMnRhNnX3OmDp00mI1lZ3Zk1axaDBw/GM+WsoXFR0YRZQ+MSolmc77//fm677TZsNlundrUqikLOvn1s3LiR22+7DYOhcycD0ev1+Pn5YTQaUVVVE2WNDkETZg2NS4xmIbZYLFgsFk9Kys7Lrp07mffVl9w4cyZxcXGd2jXcfG47s40alz+aMGtoXKKcnmWrMyKEoLKykgUL5rN3716Wr1hBUnKyJnoaGj+Ato5ZQ0PjJ0FRFDZv2cLWrVsBmL9gPjU1NZ1+hK+h0dFowqyhodHuCCGw2WzMnz8fh8MBwMYNG9i+Y4e32MWVhsvlznEmhK6DLdHo7FyZvxANDY2fFEVROJB7gGVLl3q3Wa1W5n/zDY2NjVfcqFlKScXx46iqSmCgPyaTqdNOQWh0PJowa2hotDtOp5P169eTkZFBTJcuAAwdOpzS0lIKCguuKGEWQtDY2Oh16aempmHxs3SwVRqdGS34S0NDo91pcjoZPHgI48dP4JFHHqa0pIRbbr2FwYMG4WPyuaJGi4qikJOTw5IlixFCMGz4cIwGoxYEp3FWNGHW0NBod4wGA/369qW2tta7Ta/T0b17d5qamq4YYVYUhaqqKl5//TVKS0sZPHgwo0aO7GizNDo5mjBr/OSoqkpTU5M3+OVyQQiBwWBAr9d+Rm0hpfSUfjy17UoYJQohvI/y8nJefPFFPvvsM3x9LTz44C+Iioq6Is6Dxn+PdkXR+MmoqKhg8+bNbNq0iYKCAmw2W0eb1K7odDqioqLo06cPw4YNIzk5WRPpc9As1Jf7aNnpcnLyxEm2bN3Ke+++y9KlS1AUhV/96ldMmjSpo83TuATQriIa7Y7NZmPhwoW88847bNq0qYU783LEYDCQmprKTTfdxOzZs4mNje1okzoXnjiv/3zxHw7k5nbq3N4/Gqly4sQJDhw4wK5dO3E4HISGhvL4409w9913a9HYGueFJswa7cqJEyd4+eWXeeONN6iuriYiIoIRI0bQvXt3by3hy4XGxkYKCgrYvHkzBw8e5I9//CPZ2dn89a9/pVevXh1tXqehOf56xfLlrFi+vENtuZgEB4cwZcoYZs+ezdBhQzHoDZooa5wXmjBrtBtWq5UXX3yRl19+GVVVmTlzJg888AD9+/fH39//slwi09jYyOHDh/n000959913WbhwIVarlbfeeotu3bp1tHmdgmYpGjlyFFlZmR53doea9BMi8fPzJykpiZ49e5Keno6fn98V4cLXaD80YdZoN77++mvefPNNVFXloYce4re//S1hYWEdbdZPislkIj09naeffpqsrCyefPJJVq1axQsvvMArr7yCv79/R5vY8Xj06Oabb+aOO+647IIAz0QIgaIoCCFQVVUL9NK4YDRh1mgXSktLefvtt6mpqeGWW27hqaeeIjQ0tKPNumgYDAamTZtGbW0tv/zlL5k3bx5Tpkzh+uuv/8mO2Rz521kRQiAUQbOJiqKg03X+dJTtMbrVxFjjx6AJs0a7sG7dOrZu3UqXLl148MEHryhRbkZRFKZPn87ChQv58ssvmTdvHhMmTMDHx6fdj9PU1ERNTQ02m71d+25PhBDU1dVi9UTjV1ZVUVRUhMvVeUVLUQSBgYFeT4fmftboCDRh1vjROJ1O1q1bh81mY/jw4fTp06ejTeowAgMDmTp1KgsWLGDr1q2UlZWRlJTUbv0LITh8+DAfffQRS5cu4cSJk+3Wd3sjBLhcKsXFRwB48e9/54P33+/UYqcoCqmpqdx6621MnHgtRqOxU9urcXmiCbPGj8Zut1NYWAhA79698fX17WCLOpbu3bsTGhrKsWPHKCkpaTdhVhSFo0eP8sQTT7Bo0ULPNsGpuOfOiRACnU5Hbe0JTp480dHmnBMpJYcO5bFmzRr+9re/ceedd16x1bA0Og5NmDV+NE6nE5vNhqIohISEdLQ5HU5wcDABAQEcPXqUurq6dutXVVW++uorFi1aiMXPxAMP30TfwVlu4dAGdT8eAbXVdfx77kJWL9vCq6++wsiRI0lNTdXmjDUuKpowa/xoTg9C6szBSBcLnU6H0Wj0piJtD4QQWK1W1q1fB8CNt03iyWfvxMfH+INLj6QAnWdUrf7Azu6PTwBtL2lSxLn7UYRAeF6vnqWP0/dTUVvs80PH/ylpPk9p3RK4KSefgoIC9u7NIS0t7eIaonHFownzBeJwOKipqeH48ePU1tZe8XfS7gCfOmpqagDIy8tj/fr1l8x58fHxITQ0lPDwcPz8/Nr9xqI9+3M6ndTX1QPQLTMZk8mI03l+S48KCstRFIX4hIiz7iME2KyNlJVVEx8Xgc6gO6NdUFFZh9VqJzau9TI4IQTVNXXkHzxKYGAAiSlR6HSt3cBCCI5X1FJZWU1KalyLfVwulaLDx4iMDMLP33zx1zsrgtiESOLiojlWVk1dfft5PDQ0zhdNmM+T48ePs3btWpYtW8bOnTspKyujvr7+khGgnxIppfdcvPHGG8yZM6ejTTpvjEYjISEhdO3alREjRjB27FiysrIwGo0dbVrbeHReCIF6Hv5rIQS1Jxv42+8+wGQy8Nw/H8biZ24zoEkIheLiSj546yue+v3dBAb5tdhPURQ2Ze/hwN7D/PLJmzn9nkMIQXlZDe+8+gVOZxM2m4PhV/VlyrQRnHlvoigKG9ft5vk/vs/zrzzG8FG9UFUVIQQ2ayNvvfofbr9rEn36p170CG4pQQiJ8Mwrn+22qnneWfv9a/wUaML8A1itVm/e5+zsbOrr6xFC4OPjQ1BQEEajiSt9gs/lcnnnUo1GIwEBgVwK50RKqKur5eDBg+zfv59Fixbx9ttvM2PGDO69915SU1M72sRzIuQPn2VFEezemU9wSCD1dVb27y1i4NAMXC73K4UQSAmuJieKSUFKSUO93SvIiqLgcrlQnSp6vZ6mRic2WyNSBaE7/TgKWzbvw6m6+H9/upecPQV8/MFCrh7bj4BAS6sbAafDicsp+ff/LiIlLZ6o6CCkdN/k2eptuJyq1z4hoKnRCYrAYNAjpdv9raoSnc5ts8ulotfrvEk9XE0udAYdiuJ+f06HE0WvoNMpP5yrWwr3yT3zfHumbFRVpaysjKNHj5KZlYWvue0bHQ2N/xZNmM9BeXk5L730Eh988AHV1dUEBwczY+ZMrhp1FWlpaYSGhmIwGDrazA6l2ZX96KOPsmXLZh5//AluuOGGS2IkIaWkvqGBo6Ul7Ni6je8Xf8+unTt5+eWXWbt2Lb/73e8YO3bsJZEU42w47E1kr9vDmGsHUVFew7rVO+k7MM0rMqXFlXz/3UZKjpYTFx9DTFy4dx4ZYM+OfFYs3UxdXQNZ3VOpra1H16Z7XhISHIDT4cTZ5KT2ZANBwf4YDG1fYlxSctU1A/EL8OWTDxfx0GMzMZj07hGqIkC4v1sN9VaWfr+FvbsOYjDo6Tcoi5GjeqHodSxZtJnw8GD27jpEZEwoycmxWBus5OUWk3uggLj4aMZdO4Q9ew6xffM+zGYTk6aOIi0j9oKEtDmq3G63c/DgQZYuXcrCxd8z9brJ9O3XF51O12Z/UspL4neg0fnQhPkslJaW8tvf/pZPP/0UVVWZPmMG9917H3379sVisQBa8gHwuEpra7FY3EukIiIiSElJuWTSLgoh6NO7NxPHT2D27NnMnz+fN998g+zsbB588EFeeOEFpk+ffkkGtSmKQuHhciqO19C3Xzdqqmr55wsfU15WQ2xcGBXHa3n9H58RnxjNpCkjKCmuZP4Xq6mvb0Cn07Ev5zDvvP4lo6/pT2JyNDl7DrPo2/V075GMOGPqWFUl/QaksWrpFv74/+bg5+fL9TOvwtdianOEKiX4+pq4bfYk/vb791m1aifjJgxosY/D4eSjOYsoLavk2kmDaWpysuCrtVRWnOSGGaPYuGYPJ0/UM+KqXvTqlcLyJVtZuWwr108fxbWTh/PNF6t4atlWxk8cyrXXDWXLpgO8//Y8nvnzPfj5+57X71dVVSorK9m0ZQvfzp/PkiWLKS0txWg0MrD/AD54//1W78/Pz4/Y2FhSUlKIjIxEr9drAq1xQWjC3Aa1tbX89a9/5ZNPPsFgMPLUU7/lnnt+RnBwsNtNdomIzsWg2bXXfI1rHiVcihei2NhYb9GNZ599hrVr13pTi44ePbqjzbtgpJRkb9hDSno8EZGBBAX7EhEZwuaNOcTHj2Zz9l58fEzc/cBkzGYT/QeD1Wpn/rxVuFwqyxZuYuCQ7sy45WqEEPTsm8rBA4dpbGr7+19YWE5Dg42d2w5w+z1T6NknBYfD6Rlxtg4CU1WV+IRwZt02lk8//J5uGYkEB7lvehVFkH+wlJw9+Tz1h7uJT4hAABERIbz16n8YMrwnjY2N9B2QzqzbrvFkQ3OSlh7L5OkjMBoMNNqdzHnjSyZOHUJEeDCxCTH88el3qK6swz/A9zwCywQ5+/axatUqvv56Hg6Hw9vicDh45Z//OOsrjUYj6enduO66ycyaNZOUlBTPtIF2M6/xw2jCfAZSSj7//HM++ugjhBA8++yz3H///ZhMJk2QL3OabyYGDRrEyy//g4cfeZjsjRv5y1/+Qmpq6iVVZ7k56Gv5kmwio4L5v3e/QQVKjpZTWVXDxClDOFJYTte0eHx83NHdOp1CVs9k1qzcht3exLHySoaOdJevdDpdmEwGevZNI2//YVSg2cGvKIL83FI+fHcBk64fwY23jWfu+9+RmZXEobwS+vZPJ7VbTJsjZ1VVGTmyNzu35PLxB99x7y+mIaTb/vz8YiJjQoiKDsbpdAt8Utdo/AMslB2tJCjIn6yeXRHC3Y/BYCCpaxx6vYIqXZhMRpJS4rH4mXGqLnQ6QKo4nE00L8k6N5KEhAQmTZxIaFgoi7//nsLCQqSU6HQ6hg4bhp+fX4tuXEhOVtdQUFDInj272bNnN/Pnf83TT/8/Jk66Viv9qHFeaMJ8Bvn5+bz11lvU1dVx9z33cPfd92DyrEnVuDJwuVxkZWXx7DPPMnv2XaxZs4ZPPvmEJ5544pJxaSuKYNeOQyiKQveeKd4R69ARvVi+ZCsH9xe7A6fOEMtTouHOKNZKQ1SJCrQc/wrWrNpBQmIMI0f3BqCmeiRz3pqHw9HEgCEZnEsIDSY9t9w1kb888x5LF206tSZeAXGGARK32xzhdtXrz5j/V1qMzKUnM9p/T0BAAGPGjGHI0KHcf9/9rFixgm+++YacnBxmzbqRG2fNavWaxsZGSktLWbFiBR9++CE5OTk89NAveK7+OW666SYtk5jGD6J9Q85gwYIF7N69m+TkZB64/wH8/f1+MCmDBp09K+QFo6oqQ4cOZfbsu2lqauKzzz6jqKioo806bxz2Jtav2sH464Zzxz3XcfOd13LLXddy9wPXM3Bwd9at3klcYhS5+w9jbbCj1+uQEnZtz6Omphazj57omHD27MxDStDrddhsjWzbsh+Hw9nqeBJJU1MTUrrFcOjI7piMBirKqwjw86W1KJ96rqoq0THB3HznBOZ/sZL8g0cRQtA1JZ7SkiqOFldi0OvR63Tk5RZTe7KB6C5h7ipQZ/Yr2/zTs0Fc+FoBKXG5XBj0elJTU7nvvvuYO/dj3n73Xe+SOovFgq+vr/cRHBxMjx49ePjhh5k7dy6TJl1HTU01v//971i3fr0mzBo/iPYNOY2amhoWLVqE0+lk+vQZpKend6j7WlEU949YNOdD7nwPpU1F7ni7zvVojrI91+hXSonRaGTatGnExsayb98+Nm7ceNb9OwJ5FvMVRaHoSAUlxRUMHJKJS3Xhcrk8yUgkw6/qTc7ufJKTYwHJ26/NY82KHXz+8XK2bd5PWFgIik4w7trBbN+yn4//93vWrNjBR3MWUXH8BAH+rZc/DR7eg5xdefzfe9+xevl2Pnh7AT6+RrJ6pTDvy1U0Nja1svH0eWdVVRk0NIvhV/WhrPw4AF1Touk7IIO3Xv0Pixdl8+38dfzvO/MZPW4AUVHB7rrHp32GiiJajJCVM+e2hUT/A597835nntzm2AkpJSEhwVw7YQKzZs3EZDJ5t5/+cLlcSCnJysri+eef56qrRlNWVsYbr79GTU3NJeN50egYNFf2aRQWFrJv3z7MZl9Gjx6NwWDoEGEWQuB0Otm1ezfZ2dlUV1VddBvOGyFotNs5lJcHwPwFCyg+ehTZSV3/Enft5PS0dIYNG0pYWNhZ5/xUVaVr164MHTaMzz/7jOzsbGbOnIle34E/m9OC7BQEbX07pZSYzUZuv2ciMV1CW8ztqqpKRlYCN94+jvDIAB56/CaWfb+Jdat3EJ8Qw4O/nEVDvRWTj4G0zDgefvxmVi3fwsZ1u8jomcJTz86mqamphbCoqkq3jHge/c1trF65nXWrd5CUHMu0G29Hrxfs3ZWPw96E0WjwCly/gRl0TenSIvmITqdw613jSc2Mp0tchPf56lU72L55H3qjgWk3jmHwcHd+8IlTh9IlLtL7/gaP6NFinXJScgyTrh/uXets8fPh5rsmEBEeeNbPXAiQUpxz6kpKiXS50Ot++HvgcrlITk7m8SeeYPv2bSxdupQN2dlcN3GiFrOicVY0YT6NwsJCampqSExMoGvXrh0SpCGEwOFw8NFHH/HCC89TWlp60W34MSz87lsWfvdtR5vxg+h0OiZcey1//MMf6datW5sXYiklPj4+9O3Tl88/+4y8vDysVisBAQEdYDHo9Xp3sBGwb+8hbNZGfC2mNqOL4+LDSYiPwNVGo8XPzOir+6GiIhDcec9EXKoLRWnOqH0qF3ZWj0QyeySgqio65dR8blvTOz17d6VH72R3sg/P3K9EMmZs/1Z2pKTEADGt+gkJC2TixKHeHNp+/mYmTR7GtZOGIAQoQkF68mj37Z/u/RugW7e4FrZFRAcRGR3sfe7jq2P4iF7nzOGNEBQVlFJ0pBRFUfAPDDzLjuePqqoMHjSIa8aO5asvv2T1ypWMHztWc2lrnBVNmE/j+PHjOBwOIiOj8Pf37zBhXrlqFc8++wy1tbV0TY0lo3uKdw6wM+MebXS0FedGAaqrT5K9fhffffstvmZfXn311bN+3kIIomOiURSFqqqqDhNm9yjYzIgRI/juu2/5bO5C/AL8GDAkC4Ne/6PzrJ0rRrlZrM/3GOcT73yhXKgN/y01FSf499zvqCyvIT29G90zs370dUBKia+vL0OHDuWrL79k3759NDQ0EBAQoEVoa7SJJsynYbVaUVUVs9mnQzJ6CSFobGzk63lfUVtby+CRvXnp1cdJ6hqNUECewzssFVA882I/9GMXCt60g2312dx+Vnef4knlqHLWPpr3k0IgZMt9fuj4PyVCgUZ7E599vIynf/UPFi5cyL33/ozhw0e06VoUQuDra0EIgd1ub7dqUf8NiqIwffp01m9Yz4L583n9xY+9KSs7L832ueW6swtRsxs8ICCIxx57jKSkxHZZkaEoCl26xCKEoKamBrvdTmDg2V3qGlc2mjC3QUcGZjQ0NJCfXwjAxEnDyeqZdN4XhoZ6G0KAr8V8zv2cThd2mx1fi7lNd5rD4cDpdOJr8aFluLV0z387XNScaMDHR3/ORA2NjQ4ctkb8AywtzqmUkoY6Kz4+JvTmi/0VlO7UjFOG895bX5Cfe4QjR4rP+YrOEqijqirR0dH8/e8v0qtnL5YsXUJ1dXWnTkuuqipFRYdxuVyEhoYSEhLSqb0qBoOetLR0brn1VsZ53M3tJZ4GgwEhBC6XUxNkjXOiCXMH0fyDP/MHqqoqTqd7VGa2mDmfUYYQYLc18eJf5mI0GXjif27zJPtv67iCkiMVfP7vpTzwyHSPsJ7aUadT2Lh2LwWHSrjz3kmtKgjV1Vr5dO4y9uccwmz24fqZV9N/ULdWNup0CuvW7GbunPn8z5/uJy091ltByNpg581XvmDy9KvIzGqfEcmFIKVEZ9DjYzIipaTJ2Xr5T2dFSklcbCy//vWvufe++7BarZ12/kAIQW1dHQ899As2b9rE448/wYwZMzwVozqnzTqdjqCgICwWS5u/Tw2Ni4EmzBcZIQQlpaUUHT5MZmYmwcHBwFnKx8nzvOYqCnkHiik7Wo3d0UhBXjndsuKR8lSFnuZlJIpQsDU2UlRY5nXdnt6uEzpqauooK6lAquKMCkKCTRv3kbu/gMeevJ09ew/xxSfLyMhKaKOUoOBEdT2bN+zlw3e/4ek/zPaO5F0ulcMFZVjr7V7hVxTF+7c7cld6jyll8//SU5bP3X/z/qoqW7h0VfV8Lqin2jvHePj8UVUVRVEICw1FhLWui9xZEEJw8uRJfM3uzz00LJSEhIROHY3cLMZaQiGNjkQT5nbELS7nnucVQuBjMjHn/TlUV1Uxder1XHXVVcTHx2M0Gv8rt6l0qWxYu4cxEwZyvKKaDWt3kZ4Z5z2etcHOti0HKCooJT4pBl+zCZ1eeNsrjp9kc/ZeTlTVktUzBVeT66wRo06nC7PFl5i4MKqqTp77vUrJNdcOo6G+kW/nbWDmrWMQwrOaWCe871VVJTm789mz8yB6o4E+/TPomhKNqqrs3JZPWEQIhYeKMfkYSU6OxSVVigpKOXiwiKTkLvQb0I2CQ6Xs2nmQwCA/hg7vQXDI5RtY01wZqqmpqVOLnBACm82GyyNyDkcTVpsV9SLXWL5QDAYDOp1OE2eNDkMT5nZAURScTidHjx4lNy+PosIC6uoazrq/UAT1dfUsW7aM5cuXk5aWzsSJE5k4cSJRUVGtsxmd89iCstIaCvKLuXbqTVRV1PDhe99SU11HSKg/1oZG3nvrayrKT5DZPYFd2w5SfLgca0MjiqJQVlrNq3//N8EhAXSJDWfpok3k5R4hMSmqzQpCAwZlsGb5DuZ+sIjS4uOMHj/grJV6XBLCIoK4bupI3vznZ2T2SKJnn5QW+0gJC+dvYMXizfTonYKzzsZrf/+Embdcw6BhWSyav4H6hkZCQixcNaY/K5ZuJXv9HlLTY/EPMPPpR4tZvHATEeHBhIUHsHHNLnJ25fPokzdhMhk6q5f3v6Y5CG31mjUsXbKYY8eOd7RJZ6X55mHXzt0AvD9nDitXrmiVBrQzoSgKqampTJ48mR49enSa+AKNKwtNmH8EzT/a3IMH+ezTT5k/fz55eQdxXsCcpZSS3NwD5OYe4OOP/8X1119P7cnaC7Jh2+b9REWHEZ8QTkREAEaTnl07DnHNuP5s25JLceExnv793YRHBdJoa+KtV7+kaK17ffT3CzYQHhHMw7+ahclspLqqlqceex2r3dH6WLiTLxhMOt58+VMeevwWxo4f0Gq/01FVlV59uzL6mv58OOdbnvnzPae51QVHiyv5fsEG7n94On36pyKlZMWSbcz7fCVpGYnU1NQSFR3Kw0/Mwtfsw+5teegNCrPvn0yAv4XImHDefuVz7nv3tyQnRVFQWM7zf/hfKo7XEhd/9uQhlyLNovzqa6/y0osv0tBw9pu/zsjOnTvYuXNHR5txXnz+n8954YW/M37cuI42ReMKRBPm/5Lm7FwLFy3iL3/+Mzk5exFCEBMTQ1paOoGBgXCWu21FCAoKCrwXKZPJzJAhg5kyZQo9evRk+/Zt522DtaGRlUu2EJcQweYNez25imH5ks2MHN2bg/uL6N4rhbDIAJxOF0YfPcNH9Wbf7nzsdif5+UeZeN0wTGZ3haGQ0ACGj+pDfv7RVseqrKjl3de/IjU1nj5/uJfN2XsoLanmcEE5icnRdIkPhTNGQ82VgqbOGMmenXnM+89qbpg5yr1dERzYX0hIRCCZWYket6yg/6BufPfNOo4UlhMQ4MeQEb0wm024VBWdUU+vvulY/HxwSRfBQQFkZaUSERmAU3VisRgRQuKw2/lpVtR2HM1r3JtF+arBvRk2sAdGo4HL6X12FAJB9clavl2+gUP5+fz5T38io1s3EhMvfoCixpWNJsz/JaqqMm/ePJ544nGqqqrIyMjg7nvu4erRVxMTE3PWddBCCOrq63n66aepqKhg/PjxTJ4yhf79+hEaGkpVdTU6va7N156JogjyDhRTfLQMX38DyxZnu4+BJHdfAUeKjuNwNBIU1DJ7kcnHiN6ow+VScTqaMPkYvSNLKcFsNrmjxlW8wV9CCFYu3YpOr+PG269BUQT19Q28/coX1NfZ+PmjM1AIQ21DIKSUBARauPNnk3npuY9JSIr2zmHbrHZ8TUYUveIJ7JIYjHp8fHxodDShN+oxm01e+4QQHiHy9o7Jx9BqOdbleBltampiyeLFNDQ0MGZEX+a+9BuiYztv8NcliZRMGTuEG+//Pbt27WTLli0kJSV1tFUaVxiaMP8XKIpCdnY2v/vds1RVVTFx4kTgbfN1AAAgAElEQVR+//s/kJmZ+YPF0IUQlJWVMXz4MB595BFSU9Pw8TmVCF91uc578ONyqaxZuYNxE4Yy+/7rcEmJ4tn+9z/NJXvtbiKjI8g7UITTqaLTKShCcLiojJMn6zGZDASHBHKksIwBg7uhKAqqqnIorxinw9lqjrmq6iSh4UGeuVvJ9Juu5tcPv0Jp8XEio4PO+b5VVSWjRyITJg9j7vvfUt/QgBCCuLhIln23idqT9YSEBiCE4Fh5JdVVNYSFBYLaRnDZuZ9eclHW50PzfG1paQkAw/pkEB0X1spDcR4duf9v67M6V1uL/Tz/nLUP2fZ3+IeO/VNMO1xov0IwsEcamd2SWL1xt3uduIbGRUZL1nqBCCGora3ljTfe4MiRIwwdOpznnnue7t27t6hAc7aHqqrExsZy+2230717d4xGg7cSzYXMhyqK4FhpDfv25jNkZE/0eh16TzUqHx8jw0b1Jnv9btLS4jh65BjfzVtPaUkVmzbuY/H8jSiKDoNBYfio3iz7fhMb1+6ltKSSJYs2sy37AIY2CjX06J1K9rpdrF25i6PFlaxdvRMpJf4BvqxZvcuzPvUUUkqcp43EAa6bMpSo6BD27jiIlJJuWQmERQQx9/1FFBaUk3vgKHPnLKBbZhJxCeFu97Zs2efp50nKU9ma3M8FLlUiLlPPbvN7NRjPz6vSgiYXdVW1qI2t4wcAnPZG6qvr4AfcttLhpLHe7n7iTmDtMQ739qa2I8VdNsep17XoUGKrtYKznSPMXS7stRe+zlsoYDitQMXlFKegcWmgjZgvEEVR2L59O99/vwiz2cwvH3+MlJSUC1q2ovMk+P/BeStx1mlqAOqtdq4a04+uKTEt+lJVSe9+aRw9coywyGDu+fn1fDtvDevWbCMsPITJM0ZitdrR6xUGDs2krt7K/K9W4XK5iE/owr2PTMPtaZY0jz9VVWXA4G5U14xm/terUZ1OQkKDufcX0zD7mNi6eR/1dTYCg04lZkhNi8Vi8WmxPtlsMXHvQzOIiAwhJCwIs9nEz34xjS8+XcYbL3+CTqcjrVsSN8wahdFkoN+QDCIig71rmLtlJWDQ67wXy4joEAYMy0TB7Qr38dEz6pr+BAS1Lk3Y6uR6uBQvuxd846Eo5BeX8sizr3PbtLHcPP3qloIl4Z1/LWL91r28+ceHCQoPbFvQFIU9uUfYuCOX+2+dwPFj1ZQcq6JPrxSkqvLBF8sZNTCLzKyklgKvKKzM3sOBwqM8dOfkU2IuBI0Njbz0/lfMmDiSbt0SfvDG4Pzer6C4qJKPv17OL++ehjnAfP4CfTnOg2hcUmjCfIG4XC7WrVuH1Wpl3LjxjBg6rF0DQ3Q6nbcAe0Odleb6wWcipbtebdeUaG/76bsFBftx6+wJAETHBJPRPYGGehsWPx9vDdnm102YNJgRo3rhcDjw87dgMOhbtDejN+qZPHU4Y67ph93uwM/fjMlkREpI6dblNDvc7vw+/VLp3S/1jPlfSEqO5NEnbwIEqiqJjgnhwUenU1fbgCIU/AJ8vZnRJkwc5OnP/fqBQzJaeCcTkyJJSIzwHsPiZ2bWLWNa2NIKRcHhaMJmbXTPWXdAXvSOoMHayP6CEhas2MTUsUPwbRYrIag8VsO3K7Zwsq4Be5MT74Lz013lntHxSZud4pJKUAT7i8tYvWE3fXqnIhSFHhlJhAW3IepCUFlTS3FpZSu7XC6V/MJS6qz2U/dLisJppa5O9Xf6CL2ttma7FQVrYyP5h8taeXI0NDo7mjBfAM0JE3Jy9gIwePCQdq9CZbFYSE1NYd26tcz/aiXDRvUmNT0WgcKZIU0CxV0IQkJbM63u6T6BRCKEOw9wo91Jo83V4nXN/eh1emzWRmzS4Wlvo9qSZ1+DQY/d1oTN2uQ5N83HUlvt29o+0Wp/IQQ6RYcE6utsnmO3sZ9n9qXF8xbHEKcJd9vnpNHWxBefLKUwvxg/f38SExPP+ZlcLkgpyUpNQi907M4rZPCALPdicyHYsPMA0eGhRISGICTY6qycONlAdFSod8LreGklvmYfFASKXuFYeQ27cw5RcPgoW3YeoFd6ElGhQfj6GNs8fnNiFM+TFoKqCAXFo8TS6WJnTh57cwvxs1gY3i+T8OgQAGqr61i/fT/l5RVER4YxvH93/IItADisdrJ3HuRwUSkJ8dFYPEGMGhqXGpowXyB2eyMVle67/ri4WBRFabfsS1JKjEYj06fPYMGCBWzfso/bZ/yW1LQEFN1/Mad4kblUFiedrKllz648VFVy/fXX07179ytiOYyUksBAXwb0yWDd5hwG9+kGioLTZmfD1n1cNaQn67bvA0WwY18Bazfn8JsHpnvKgQk+/24VCXFdCAsLRggoLqtg284D5BaUsH7THhJjovjXglVMGtWf/qHpbtE/A1V14XA6MagCFVAQOFxO1OYyY6rk0wVrWbcth36ZyRw6UsqaLXt57O4bCAn04+/vfYXZx0BcVCirNu1mW04+v71/BlLCa/+3gPKKanqkJ7Btdx4FJcewORo7efUtDY3WaMJ8gaiqC5fT5XaBmtoeGfy4/lWGDR/Gc889z3PPPUd+/iHKS6va/ThXOiaTiZkzp/Pkk7/Bz8/vihDmZob3zWDOZ4soL6shKj6cA4dKqLfa6N8jhXVbcwBocrqw2htbvM5md9DocHtIVCnp1yuV22dOYHX2Hh66expCShrtTThRAXHKHS2bnwrWbtrN71/4wJ1kRgJCYG10cCD/CHq9jqPFFazbmsOv751BYlosuFx89OlSvlmezbC+mQQG+PHIPVMx+pspLTzG/zz3Acera8kvKafg6DH+9Ks7CIkMQm1s4p/vzWNVUdm5AzU0NDohmjB3Qgx6A7NmzaJv335s376NEydPdt4lQEJgt9mYM+c9CgsLmTXrRgYPGYLspEInAb1OR3LXFPr360tgYOAVJcouVSUuJpyoiBA27c5lalwYqzbtoVdGMqEhgcjTRrnijG+dFC3n7N3TD+4CKHqdgtPjOVIQnDh+goUrN2Gz2fG3+DJpzBAA0rvGMXXSSAwonikWQZ3NRmFxBQAH8o9wpLiMZWu3oFu/FSEUCo8co7S6htumXs1NocHkHjzCiboGCo8co6SiAofDwf7cI/TO6EpIRCA4XShGPSOH9mRnTn6nrb6loXE2NGHuhEjpvmClp6eRkdG6pGJnonn52NKlSyksLOSaa67hzjvv7NTFFZrnN1VVvaJEuRmz0cCwgVksX7ODgT3S2HfoCI/ePRVFiJZTES10WbZYlta8re2/3dntDAY9LpcBg0EPngC+6MhwBvXNdI+mcc9vN9RaCQlcjpQSq82OUa/HZDyVNKZrUhTDB3fnaFkFX36/ni6RYcRHh9ElJpzQYHexErvdTvDpiXQk+BqMngj+H33KNDQuKpowd1KaL0qNjY2dWuSEULDabLhUt42NDoengpCks844CyEwGAzeyO8rDVWq9O/Wla8XbWDuNysJDQogLTGGyso67z6KomC3O3ABOkWhye6gqKSSlMS4tjtVFO+csookIDyQmdOuxuvLFs1lOyW41BaBX0JVvU9jIsOI7hLB9Kmj8Q1wB3Ud2F9Ibl4x367YREJMOLNvvRb0OkqOHKOpyYmi0xETFcH+/CPgVEGngCIoKC7nREOD5snWuOTQhLkTIoSgoaGBZStWsGL5MmqqazptOiuBwNHkYOdudwWhD95/n1WrVnZewZOg0+vI6JbBlClTSE9P72iLLhoST61qVRIQFkC3rnG89sE8/vmHBxGetKzNtaxjI0I4XFzO+s05ZCbHsmn3IfIOlzNupM6Toc6d3cvHZKTgSDnZ2/fRPS3ptM/dI8DN6HQt6my3QPXEbrhUMtMTUID//fcipk0YTm19A+9+8j3D+2fhZzFzsLCUkiPHsDc6+HbVVsqP13C0rIJBvdNZtGIzXy/awPC+GRwpq+Cb5ZtQlM4fNKmhcSaaMHcyhBDU1dXx3PPP89abb+BwtJ2lqbOyY8d2duzY3tFmnBdffvklL774IiNGjOi8NxLthZREhAYxcVR/TCb3uu0JI/vibHIwpHc3UCUWXxNjR/TGz2wiKjKYGyeP4tP5K/E1GchM78oDt11HQpcIQoMCGNq3GwA9UhMY1rcb2Vv2kh4fy7D+GcSEBree15Uq6cld8DWbWrnIjSYd40b1JzIsEF9/M7+6Zzoff72Cv77xb3Q6HQN7ZzB57ECqqup499NF/PWNfxPg78/wAT14ZPYNlJRXMbR/Jg/dNZmvFq1n5cbthIeFMmvCcOptdk+WtMv889W4rNCEudMhWLBgAa+//hqqy0W/MeNI790PnU532aaZvJhIASerKlm3aAE5OXt57rm/kZ6eTmRk5OU93ywlXbqEcuesa9xz7KpKcnIMjyRPc7erKpZAX26+YZQ3ivmGiUMZP7IPapMLvwDfU3mwFYWE+HAQAkugmfvvmOTJ1qVw3TUDPP2f8WVVJX16pNKnZ0rLKGkJepORW6aNdm93qSQmRfE/D82ivtaKTq93J0IREBUTyjMP30R9rRWD0YCPn9ndgaqCotC7Vyo9uiVgrbdjtvig9zG624TQdFnjkkIT5k5EcwKTRYsW4nI6GTFlGg+98AqBYeGctTDAT2bMWba3tw0Xe/GzEKiqSt8RV/OXn9/Fxg0b2b13L+Oioi6iER3ID024ntHu6+/r/sM7AhYt92ve7E3kcY7+lXO0txBridDr8A8NOHXs5mQ4Z24//dhSojMZ8DcZ3YZ5spppaFxqaGlxOhk2m42ysnIAeg0ZTnBEpDdPdHM41U/9cKc91LV6CKFDItr1OEIoF+19SdwR7zqdjvR+A+mSmIyjycExz/nWaAMpO2650dmOfS6bZHP7T2qZhsZPijZi7mRIeWoJj0538Zd6CCGoq6lhy7LF2K0N3uhwKSXBYRH0ufoafMzmHz0n23ycw/v2kN5/IAajqT3MPy9Uz/F1ngpC3qxTGhoaGp0AbcSs0QIhBNWlJSz75COcDgc6gwFF73no9F5HZHPe47aKRJxPG4pCzbFyVn7xKQ6bve1iEz8lQoI337aGl+ZCEB15fA2NKxxtxKxxBu71psERUYyZdQsBIaFIz4jSXfvY/bfdasVWV4+PnwWz5VSJRSHEOdoUGm1WrPV1+PoHoCAu74CrS5DGejsCMFrO8GCcqt3p/l8R7eMyPr0fhxNHk6v1sTU0rjA0YdY4JyqnXXul+9n+Tdls/v5baq0N+Jl8GTBxIlmDhgGwf9PGNtsEgrxtW9j47TfU2uoJDQklrMtZklVoXHwEOO1N/PHVf2EyGXjmoVsQRs8aYCHIPVCEwaAnuWsXcLrYuiOPlLjos9dtPh9c6ql+IoPYfbCY7J253HfzOHeSEA2NKxRNmDXaQFB/8gT7NmVjDgxASIkQCl1SUrDWnmTFZ/9i6PU3kJTZi5L8XNZ8+TlBIRHoDQaWf/4vhk09sy0co68vi+bOYcj4yaT0H0BNaSnfffgutZVVF9+NrdEaoXDg0FGKS6uwNTnIKyojLT3euxRpzZZ9+Pv5kpweT1OTk68WZzNj8gj6RgWD03X2OsnN9ZGh5ahbQpMqT/UTHUJYSCCZaQmn9lNEy+jvZu/K6aUj26rZrKFxiaMJs8YZuGs311ZXsW31Mnw8rmih0zHK15fCnN0ER0eTmN4DKVW6dE0jrEssBzZvQNHrCYlqq20jPhZ/IuIT6T9hIigKYVExDC4vY/GnH7Ze86px8VFVVm/aw4TRAyivrGHV5r2kpbk9GkUFpezPL8JiNrN/zyEabI0UFJeyfXcesSGBRMSEYW+wk70zlyNHyoiNjmBw3wx8A81YT1g5WWelwWZn6+5cdDodw/plERMdzN59Bd5+uoQF4u9rJjosyC22QlB6pIKNO/ZhszfSPT2ZXpmJCIOe6uMncKqSo2UV7M0tIDwkmBEDsvAL9tPEWeOyQBNmjTNwzzFHJyVx06NP4h8a4hZm3PmT1373NTlbNlJdVQmqihSC+hM19B0+irLDBezdkt2qrd+I0VSUHSWySxxCp0O6XKgIwuPisVgCkNqAuWMRgsryGnILS/j1fUOoqD7BO/9eRH3NSPyCfMnJPcyeffmYjAYSu4RhtTWSn38EX72OjMQoAoL8+OcH33DiZD3dkmNYuWk32bty+dW9N7Dr4GHe+nAhaSmxdAkP5OixSpas2c5vH7yRLbsOcqi5n67RKAYTy9bs5JmHZrInJ583//UdKfFRBAVYeO/TRQzq3Y07Zl7D/OWbWbdlP+kpXYgItvD92q1s3HWAZx66CYPZqC2V0rjk0YRZo02EAEWvQ9HrvSIrAIufH8PHX8eoGTejOl2gCGorKzGaTKz/bh7Dx09q1Wby8WHHyqXYbdYW/TfZbLianB33JjXcCMHGnbnERIYSFx9BeEQgBoOeLTl5jB7Zh4njBnG4tAI/iy93zBqDzWrnSFkVMyaPZFC/DFas3saJEw0889itWEL9aaxt4G+vf8bazfswmQxUnajhtutvJ7FrNA5rI0/++T1y84u566bx5BWVufvpn8G6DXtwNDVRb3Pw0VfLuXpIb2ZOHQk6hdEHj/KX1z5hYK906qxWdHp48I7rsARZGFt0jN/87T2OlFTQNTXOEwuhoXHpokVYaLSmuQoQIE7/X1FIyOhOcV4uQkBITDRmPz82Lvya8sMFJGX1arOtrDCf+IwsDu3dRU1ZOYpeT6Pdzq71q7DWntTmmDsSAU5bI0vWbkWng83b97Ez5xAGnWDJii3Q5ARFQed5oFMwKAqKomAQCgjYsSeP4xUVfLlgJf/3wdd89tVyysqPs/dgIS5V0jsrlfjYMHCpGE0GoiOCqLc1tuxH5/4OKIqgtLyKmhN1XD24p9ut7XSRnBxDWmocuw8cxmQwMqRvJpYAMzhdBAX54e9nxma/tPLKa2icDW3ErHEGEp1ej59/YGvBVFUyBw0ld9sW/v33vxKfnkFlSTFCCFL69ENnMLB/S3YbbX0x+ZjZvzWbz199gfi0DOpP1GA9UUNcWlrHvE0NN0Jh/6GjFB0px9ek47slGxGA6nKyt6CEouJKEpKjPTdqbQRYSUm91Y7Jx4hOp3i/M0P7ZNIrsys1VhsGo94zApCAOG2p9Gl9eQe5AnujAyEEPibDaSk/BQEWXxodToQAo+HUpUvB0592f6dxmaAJs0YLVFUSnpjEDQ/9CrOfX4sMX1JKfP38mP7zX3Jw11aOFxeTOXg4af364xcYBHDOtuvu+TmHdm+nvKiIjPR0EtKzcNismCy+l391p86KqrJiw04mXD2IB++Y5BXeJpfKH1/6F6s37eaO5GjAvQ4dRXFrqApSp4BOR3xMJH5+Fm69eaJXHFev3o5TVVHaUMvmYiwt+zkVsR0RGoQUcLj0OFmhXUGVOGyNHCwsZtJVAyk82qh9XzQuazRh1jgDidFsJiYxqc3kH1JKfPwt9Bw5GoXmi6vqvVCeq81kNpM1ZAQ9how41RYScmoZjMbFRQgqyqrZlVPIrx+YDgadt4aywajnquG9+PTrVcycOAKTycj2vQcZ0CuZpFh3wY/1m/eQEB7EiAGZ/OGf/+LbhesZ0iud3COl/OvrlTx611Qa7I5WNZib6zLrFAUp3P0kRgQjBbiaVMJCAxjaL4v3P1/C/coEgvwtLFi5BafTxaDe6RwqKmshzCqeOtOaVmtcJmjCrNEKISXqOa5yUkpwuXC1R5t2Ne04BNRZbYwZ0Zu0xJiWN0iqZFCPNIqKy7Fa7VwzrDdlxyvYvP0AKQkxTLtuKAsXZ7PvUBEjh/Xh53dO5pvFG1i8ehM+Jh9umjKKrMwkDuUfZXDv9FOlF4WkX480QoIDQa9jxrVD+W5pNvsPFREbE83gfunodQq3XD+K/3yr482PFyClJCoynMd/NgP/EH96pCdgMhm9xSxMeoXRg3sTEfwjkp1oaHQiNGHW0LhSUSXJSdEkJ0W3rlksJX5Bvtx983gAQhWFpx++2S18isKgvhkM6pXu3X3owCwG9EjB2mDHx8eEyc8HpCQlqQspyTEtEoWMGdUPpLsm9MD+GQzs09yPICkhAoTAx9eH22eOYfr4IbicLvwDfMHgXiEwbFCW134AndHArKmjPO9BE2aNSx9NmDU0LkHabe33+dZn9mbxOu356Zm+pMRgNhJoNp1qh7ZrMJ+esevMfjitf8A30HLqeXOfbdncnpH92loVjQ5GE+YrDPf8ntpqZCEUgaLoOsiqcyNVFaFoV0vAG/XsbOqE8/LS+0879nnxR8BSBafz1Pm9VJbzSSlxuVzo9W1f1lVPvIdO1zl/5xqn0IT5CkJRFA5u28KKrz5HbzR5BwYuKcnoO4AhEychOpE4CyGoKi9j56rlDJsyDaOvr3dd9ZWGlBK9wUB0tDtCesPO/RwrqyEyOkRz37Yzu3ILyc0vQghBcHBwR5tz3uTl5TFnzhymTZvG4MGDW7XPnz8fu93OrFmzULQb3U6NJsxXEEIISgsOcbLyONfNfsD745RSEhgRAcLzY1Xc61GFJ3rWOwpSFE9BC4GKO0js9OhYIcTZn3v7BCnVlts9fcrm/pr3FYL6mhPsWbuGQeMm4ePre0VnWzQaDIwdN5aPP/4Xy9Zs4+7HX2Bw/+7otEpM7YJAUFdvZcHS9ZRV1NC9e3f69+9/ySzNKi8v5/333ycnJ4c5c+Z4b+Ka2bp1K3V1dcyaNauDLNQ4XzRhvsIQCCK7xJE5aDBK85pUPBHTnqjc6pKjHC8rwd8/kMjERAxGE02ORk4er8QvJJiqkhL0PiaCQsMxmn0AcDmdOGw2fCwWr9vZ1tCAwWhApzdQXXKUYyUlmH19iUnqisnX3KpPS1AggWHhVBwtpqasjOCoKFBdCIPujHnIKxMpJVePvppfPvYo//zHP1i4cjMLV27uaLMuS2Jj43nqqf8hMTHxkqkZLqUkOTmZ+vp63n33XZ5++mkMBoO3XfFkWtPo/GjCrAG4R78uVWXb4kVsXrkYs38gTTYboVHRTLjrZzgbG1n04TtYAoOoq6khLCoaiWDCXT9DbzJRsG0r3/7vu9z+m2cIT0yk/sQJFn7wDiOnTKfkcD5bln2Pj9lCQ30tYRFRTLnvF9htVm+fJ6uqGDbpevZnb2D72hVY/INQFDD6mLV82h6klPj6+vL4r56gd+8+LFm8mMqqSs6W8koADVYrUkr8LJYO8TYI3HObVpsVi6+lfYO0LtCG2rpaAvwDUBTlrOdCEYLkrslMnTKVPn36XEwzfzRSSsLDw/nZz37Ga6+9Rt++fZk8eXKb+zqdTmpqaggJCWkx5+xwOKirqyMkJOSSmVu/HNGE+UpDCA7u3cWij95HCB0qErPZlwHXjKOipJiN333DdQ/8goSMLKwnavn6nVfZMP8rBo69loK9exkwZhzX/vJeTlZW8sXrL3KisoLwmC7k791JRXERRQf2EZnclWMF+VQfK0MCu1YuZeys20ju1Yv66hN89PzvKczZQ0xyKgV79zBgzHiufew+yg/ns3nZIq6/72Fi07tRV13DvDde5mS1VrO5Gbc4m5kyeTITJozH6XS1HW8l3CLz1bx52O12br7pZiTyoldeUhRBSUkJ8+bN4/bbbycgIPCiu4YVRVB+7BgffPABs++aTXR0VKukJ80IAQaDAb1ef8mMlE9HVVUGDhzIzJkzefPNN+nevTtJSUkt9hFCUFtby0svvcRVV13F+PHjEULQ1NTEJ598QlVVFQ899BBGo7GD3oWGJsxXIIoQCKGgKAIhhdf1vG/TRpJ79iKlZx+klARFRDD8uhv4/+ydd3xV5f3H38+5I7nZC7IXhLAJK+whGxyISl24q62r2qptHR3aVuv+1dra1q2IC5Qle4+wZyAhCYQkQBbZO3ec8/z+uBmEBASE5ALn/XpdJfee8b3n3ns+z/g+38+KOZ/Qa8gI/AODGDRpCp6+fpjc3fAPDuFERhrevv6UFRYw9qafcfxIOoNsk8lKTSYmvieBoWFMnnU/Pp2DKc7Lo7qkhKrycqrKK0BI/AIajhngz9HF+4jp2YeYPn2RUuIfGkLilOsozDuhezafQuNcvMlowmQ0tbmNEIKamhoWL1pIdXUNN990E35+fh0gigr79yfz8ScfM2rUKEaMGIGqtlV+5tJhMBhISUnhs9mfM2ToULp27XLWGJpWLlymGAwGZs2axc6dO3n33Xd5+eWXsVgsTa9LKfH392fy5Ml89NFHKIrCuHHj+PLLL9m8eTNPPfWULsodjC7MVxtSEte7H1Pvvr9heZREA6SqUl5STFTXeGdyl6ahSg3fwCAURWCvq8PbPwB3Ty80TcXo5k5c7/4cT0sloFMIwqDQb+w41nzxOcUnTpCXlcnwadNRFEF2WioFK5fi6e2Dl6+vMwwBQgPvAD/cPbzRNJWK8jL8gzohhXAukdI0fPz8nUlfeoe5FWcTWUVRSE5OZuPGjdTV1bF7zx4mTpjQroLT2Dj44YdF5GRns3z5cgYPHtyu85xCCGpra1m0cCHFhYUsWbyYSRMmYDabL5ukrvNFSomvry+//vWv+c1vfsOCBQu44447WmwjhGD8+PEoisLHH3/M6tWrqays5Omnn6ZHjx4dFLlOI3omwFWIpko0VUVVHaiqilRVFEXBNyCQ0pMFyIYsaUVRKC8uwq6qmN2dSV6NtzIhJTF9+lB6spC0nVsICY8iOCoGD38/UrZsBCA8vgepO7eRsnMr42bezqS77mPE9JsJ7BzWZGQAIIXzfL5+/lSWlTZlaaMoVJaXUldT02J7nR/HbrezfPlyysvLsVqt/PDDYqw2a7tOCSiKwqFDh1i7di0AS5YsITc3t12FWVEU0tLSWL16NQBr1qwmIyPjqkiCSkhI4L777uOjjz7i0KFDbb7nESNGEBISwpw5c0hMTNRF2UW48r+dOi2QOIdB29K53onDyUrez5G9e3DY7eEQF1AAACAASURBVJQXFLJ58fd0652AxccHVWtOwlKlJCA0DIPZxM41K4nq2QeTuzsRcd1Z8903BEdG4+nrS21lFQ6HA3dPL1SpcXjPbjIP7qO+rhpNqi3m+rr0G8DRA8kcTd6Pw2GnND+PncuWoNZZ2+HKXDkoisKJEydYsmRJ03MrV6zgaObRdhVmh8PBihUrKCoqAuDQoVQ2bNjQbucHUFWVFStWUFCQD0Bubi6rVq9CVS/foerz4ZZbbqFnz5688847lJeXt/j87XY7s2fPpry8nL///e9s2LCBFStWXLEjCZcT+lD2VYSUEu/AToRERbXK49U0jejefRh+wwyWf/Ex7l4+2Kx1dAoNY+SMmWiqg5DoGIwNc5pCSsxu7sT3T6SqvJzgBjeqqF69CAgOo1vCIADiByZyYOtGPnn5T3h5+uDl78uoa6dz/HA63RIGEBoTi9FoQqoqUb16kThpGks+/wAvHz+EFHSOisI/NBTF6DqFTy4H1q9fT3p6WtPfOTk5rF69iu7du59lr4uHoigcP36cxYt/aHpOSsn8BfO58cYb8fHxueQCoCgKubm5LF68qMXzPyxezKw7ZxEcHHxZzyW3xenX1NPTkyeeeIInnniCjIwMZsyYAThF+fPPPycpKYnf/e539OjRg8jISD788EOEEEyaNElPuOxAdGG+itA0jT4jRtJz6PA2S1wKRWHI1OvoljDIuY7Zx4fO0dGYzG5oqsrEWQ9gtrg1/fg1TWPAuAn0GTEad08PpKoSHBHFL/7+Ju4WC5rDQUBIMHf+7o8UZB1FEYLOMbG4ubtTV12Nu6cn42fdj5u785iKYmDE9Bl0TxxCaWEh/p07ExAcgsNux+zuftm15BtLJLYnQggqKipISUnhpptu5ocfFiMVhZtvvInDh49QUlJKYGBAu1zLHTt24O/vR5cuXTh69CiDByfisDs4cOAAo0aNapcY9uzdS3hEBLV1daSnpTFu3Di8fXzZu28fU6dMueTnb0+EEG2W4+zWrRsPP/wwDz/8cFPhnqqqKiorK3nmmWeahq/HjRsHQGZmJna7XU8A60B0Yb7KMJndMJ9Woet0/MPDCIgIb6r8JaVEKIpTfE/bz2gyYTolkUYoCp7e3k1/Synx9Pama/8BLap+efv7OzOLT0vCEUIQFBFJp8iopqInRpPpshJli8WCn58fNpuNvLy8dj+/EIKHH36EjMMZLFq0kPDQUJ599vcoioKxnUYeHA4H3bp147XXXuOZZ57m6NGj3HPvvYwbNw6b1douPVVVVendqzcvPP8Cv3jkYRCCO++cxcSJkygvL0NV1SuqVxgfH8/jjz+On59fq9emTp3Khx9+SEBAAAD+/v48/vjjrYT8mmuuYdSoUS0Kk+i0P/oc81XIj4qcpiFVteHm2bztmfY7/fm2/nYeT20h2Gc8ZsP5GyuRXRJRloLGr//FPrqPjw89evRA0zSSkpKora29yGc4M1JKvL296dKlC3t278ZutxMf352QkBDi4uLaZQgZnMPI/fv3x2q1kpKSgoeHB927d6dbXFy7DacLIYiL60p6RjqpBw4QGhJCv379CAkJplu3bleUKAOEhoYybdo0PDw8Wr3m5ubGddddx/Dhw5t6zSaTqdU1aHxep2PRhdnFcGZDO38szhZ9Bwd0BeJ0IpRoDclsykW+yGazmQkTJuDh4cG6devYvn37RT3+j6EoCocPZ/D9/O8BGD9+PF5eXu06rC6EoL6+nrlz51JWVsagQYPp0b07Doej3UY/DAYDmZlH+c9//oOqqkybdi1xcXHOlQiX0QiMztWHLswuhsViITgkBIDk7UmUFxehnGLqoD9++kPTNDL27iE3OxuTyUTn4OCL/jlec801jBw5kvz8fF5//XVycnIu+jnaQlEUysrK+Oc//0naoUP07NmLadOmtWvvsNGQZPEPi/nss09RFIXbbruNwMDAdhFEIQQGg4Hjx4/zyit/Y/u2bURFRXPvfffhfhnmKuhcfehzzC6ElBKLxcKUKVP4YfFiNi2cj6PORveBgxAGRXf3uwgIAdUlZaxfMh9bbTWjRo2iX9++F/1mHRwczJNPPsnBgwdZuXIlv/3tb3nxxRfp2bPnWUVSCJoaEOeDcO5IXm4ub7/9Np9++glms5knn3ySrl27Nq1Nv5Q0xl1XV8eiRYv4wx9eoKqqiltumcmNN97Y5vYXaz1xY2NA0zSqqqrYsn0b/3rnn6xbtxZPT0+ee/45BvTvf8VlYetcmejC7ILcOP1GUg4e5L///R9bVixmy4rFHR3SFUmPHj159tnnLtmymcmTJ/P888/z4osvMnfuXA4fPsy9997LhAkTiIiIwGQyYTAYqKurayqzWV9XT11dPZrmHHZ25r+dfQhaVVVKS0vZtm0bn3/+OZs3b0IIwa9+9QTXXnsddfX1l9yzWdMk1dVVpKen8/333/Pll19SW1vD2LHX8MILLxAQENB0jRVFQdM0SkpKyMzMJDc3j4qK8obGw4XH4FBVTp48yc6dO0navJna2lqCg4N54Q9/5LZbb3OaV+itW53LAF2YXYzGcnp/+MMfGTw4kbXr1lJWVoY4g4OQq6CqKtU1Nfh4e7t0Uo1EYjQY6dmzBzfeOIPevXtfspu1yWTioYcewsfHh1dffZX9+/fz29/+lvDwcKKjo/HxcTodlZaWUllZid1u54U/vIBvk9GDQCJ/NIvZarWSm3uCnJycpu1MJhO79+zhsccfQ17qXqIQ2Bx2CnLzOXw4g7q6WgwGA7fddjvPPvss8fHxLUT5xIkTzF+wgIULF5C8P5na2pqL/hlYLBam33gjjzz8CMOHj8BoNOiirHPZoAuzC9KYWXvrrbcyY8YMHA7Xtj1UFIXs7GzmffcdDz74IL7tlPl7oQghMJvNGAyGSz606ebmxl133UX//v2ZPXs2y5cvJzs7m+PHj7d57o0XqTKWzWZj/bq1F+VY54oQAj8/P0aPHsWtt97GtGnT8PPza3qfQsKGDRt45ZWXSUpKQkqJj48PCQkJBAQE/uQGnaIIfHx96dmjJ8OHD2fAwIH4+vigaZpLfx91dE5HF2YXpclByGRy+eULiqKwZ88ePv/sMyZMmMDIDnAQOl/a00FIURT69evHK6+8wqOPPkpaWhrHjx+nuroaIQTZ2dl8/PHH2O12HnvscUJCQ5CaBOGM026zn1VYjEYjBqOh3S0dT8VgMBAUFETXrl3p2rUrvr6+La6xEIKVq1fxm9/8mpzsbMLCw7nn7nuYMmUK0dHRWCyWizDSIjCZjC0aXfqcss7liC7MLo6rt/SFEFRWVbF48WJyc0+wfNkyEtvZQehywWQyERsb28ofd9u2bXz99ddIKbhz1iz69O7dRsPmbN+Djp86OFVUTxdERVE4ePAgf3jhBXKysxkxYhR/+ctLJCYmYmooHnMxv+cdUXHtx5AS6uvqkVJiNJn034fOWdGFWecn0Wwv6ByCXbp0Cffffz8xMTF6b+UcaRYlDdkgaud37Vy38SaEoLaujv/897+kpqbQp09f3nrrTRISElBV1eUE9FIhpcaxYzlIKQkKDMJisbh8o1un49CbbTo/CbvdzvJlSykvLwfg0KFDbNjYvg5CVxIS1x8lOR8UReHggQMsWrgAg8HAU089Rb9+/a4aQYbm+uUbNqwHIKF/Ah4ercvb6ug0oguzzgWjKArHjh1jydKlTc9JKVkwfwEVFRUunZ2t0z40liUtLS1l+PARTJgw4aoTJCEU1q1bz7p16/D08mLcNePaNJvQ0WlEF2adC0ZKyY4dO+japSt9+/YFYMiQIRhNRg4ePKgL81WOEAKbzcaBA8kADBs2jICA9nG2cgUaK5AlJ+/nzTdfx2azceP0G0lMTNSneXTOit5sO09OrcqkXSVm62dCVVUSEhIYPXo0f/3rXzlw4ACTJk3i7rvvwWqz6TcfHaxWKydPFgEQExODyWS6KoaxhRBYbVa2bd3GSy+9yN69e+nevTuPPvoonp6e+m9D56zownyemEwmvLw8kVJSVlbW0eF0KIqi0LNnT+x2W4teUFRUlL52VAdouSytuqaG3Ny8H61kdrljtVrJyspm+fKlfPPttxQXFREbG8vLr75KQkKCLso6P4ouzOdBYy3r2NguwBoOHDiA1WbFZLy8/IIvJs6lLm09d3VeD53WNM5ovPXmW3z26acdGkt7UFdXR15eLjabDSEE48eP5/e/f5YRI0Z0dGg6lwm6MJ8nJpOJIUOG8NFHH7J27VqOHD5C7zbXnero6JxKcfFJSkuLOzqMS4rEaSMa1KkTCf36c8MN13PttddesnrsOlcmujBfAKNGjaZv374kJyfz6aef8tJf/oK7m5veS9TRaYPGX8Wjjz3OxEmTrniBcjObCQkJITwsDB8fH4Ar/j3rXFx0YT5PNE0jMjKCBx/6Bb/59ZN88MH7xMTE8MADD2CxWPS5VR2d02n4OST068e1U6deFaNLjdM5uiDrXAi6MF8AQghmzpzJgeRkPvjgfV544QWOHTvG/fffT2yXLriZzR0dYrshhEDTVH1plM6PomnaVVXtS0fnQtGF+QKQUuLr48Nzzz2HlJJPPvmYd9/9J0uWLGH8+PH06dOHTp06oxiujmXiqkMlKzuro8PQcVX0NpuOznmhC/MFomkawcHB/OUvf6Fv3768//7/SE1N5cMPMwGuuh6kPnzfviiK0vQdc9VrLxTFGWfj30KgGAzOkW1XjbmxRoE+JaXTgejC/BPQNA0fHx8eeOABJkyYwObNm9m6bSs52TlUVJRfNT9sTdPIzMykpqamo0O54hGAJiErK4u9e/dRWFiAJjVcsVsqgLr6erKzcwBYtXoVVVVVaK76u5ASN3c3usd3p3///nh7e+tzxDodgi7MP5FG8W2087vt9tuor6vHZrN1cGTth91u59lnf8+8efM6OpQrHlXTWLRoMa+++gqpqamXVeNv3ty5zJs7t6PD+FE8PDy55ZZbePbZZ4mOiUHq4qzTzujCfJFobFmbjCZM3qYOjqb9EEJgt9uwWCwdHcoVj6IobN22jd///rfk5eUR0MmH8LBOKIaOjuzsSAEgEC7eiJAC6mvsZB4+wezZnyMUwRuvv4Gnp+dl1QDSufzRhfkiczX+gKV02SnDKwqb3cZ3380jLy+PPv3ieO2fTxHfI5Jz82NuHOo+121/ygd6rvufabufev4LRWC1Ovhm9gpe/tP/mP/999xz9z2MGDFCzyTXaVd0YdbRuQwQQlBfV8/hjAwAbpw5nhGj+wKtS6K23re54XTqv8+ElPKsyYtnel0IZ5wOh4bBIBqW0p3tZBIhlFaN2R87/6XEYFC49a4pfDtnORlpOWRlZ+ulNHXanatjPY+OzhWAlBK1wdHML8AXIUDTZFMxizM97HaVOZ8sZ+6c1Tgc2hm3AyjIL2XunNXU1tTjFP3mhxCC/XsOs3zptjbPa7eqrF21hzf+9hkf/Hshx48VN8V9+nH27EznnTe+orioEikaR5ok9XVWvv1iFcdyTjY0In78/V3Mh6pqWCwmfHy9kVLicDg66NPWuZrRhVlH53LilBHpc5k+UBTBiePFLF+cxILv1lNYUIaiiFbbGAwKBoNCWVkVG9ftwWa1N51MUZyvGRSF7Mw8dm8/hNROP4/C/n2H+f7r1Qwc2gub3c7sDxdjtdo4vfMrhCA7M493XpvDt3NWoDkaDyaw2RysW7ObosKypl6z09dYQRiUFj1pRXH2yhVFNPy7wTCj4f00vs/G/RXlHG93UoCQDRHp6LQ/ujDr6FzhbN98gBFjBtCrd1d2bknhVLmREnJPlLB7RxrHcorQVM0pYA3D0qpd5cjhXPbuTKeoqBwU0abACSHIPVZEcEgAU68dzsSpwygqKqO+zkZb8iaFYOTYwezafojtSSlNxxSAwai0EOXysir27c4gZf9RaqrrEEIgpSQ/r5TamnqOHysmJ/sk9XU2bDYHhXll7NmRRu6JUgDKSivZtyuDwxm5qPaLM1fsbBDot0+dS4M+x6yjc4UihKCivJoDe49wx31TOHmyjJVLtjL5uqFYPNxQVY2li7awYc0ufHw8QDHg6WFBVTWEENRU1zH742VkHj6Gt7cHJpOZ2norHu6tS85KqdF3YDc2bdjL1s0H2bMjjb4J8Xh5e7SdEKlJ4npEMXBwD776fDldukUQFh7QKv7kvUf46vNlGAxOoTaZzNz94PVERXbim9mrMRqNFOQXMWxMPxQhyEjNwWq1UlVdS0VJFSPHDqCwoJSKigoK88sYMbY/t82acEGiKoRoahQUFRWRm5tL9+7dsVgsV2XSp86lQ2/y6ehcoSiK4MD+LNwsJrr1iCBhQBw11XVkHDqG0WAgLSWHlT9s5d4Hb+D5Fx/gl4/fQllpJWUlFSiKwpqVu8g+msfTz97Dc3++n5tuHU9mWo5zePq0O4eUEBEZSGCQL8889jaaJpl5xzhMJkObiVwaIKRk4pREIqKC+fLTZdhsjqbOtRCCkuJKPvtgMSPG9OePLz/I8y89QEyXML74aAm1tVZyTxRy4ng+v3ziFq69fhj5OUUcTD7CHfdey59ffojhoxP49INFjBk3gOdefIAHH72JpPX7KC2qOq/kMudQuAG7w05aWhrvvfce999/P5s2bcLd3R2DwYDRaGzxMBgMeo9a54LRe8w6OlcoNpuDzev3Eh0bSnVVHaoqCQkNYMPaPQxI7M6+PRn07NOVfgPikFISFh7A1BtG8Mn/TmK1quzfncHEaUMJiwxEVTV69olm7MRE8vNbeioLAVarjW+/WAPA1OtHUFtbh6IoZGYU4B/oiZ+/V5vZ1+4WE7Puv5a/PP8/Nq7by9DhvQFno+LQwSyMJgOTpibi7u4GCG64aQx/eeEDcrIKcXNzY8zEAUTHdEZqEmEwMHRkP6JjOiGEoGt8JH0S4ujeKwqz2UhUTDCKIqisrqGz8D+nXq4mJeXl5ezctZsffljEyhUryM7Oxmw2M2RIInPmzGlVHczDw4OIiAi6dOlCUFAQBoNBryCmc17owqyjcwWiKIKc7GK2b02mU5APB5PTAcjPK8bhkNxZeC0V5ZUEBvk3ZXdrmiQgyAcPDwsOm53q6hoCA3xbZG13CvanpKgMqYFoKGwihMKmDcmkH8rh6efvxGw28a+35/LFxysoyC/mltvG4x/g3aYQapokMqoTt949hW/nrCY0tFNT0lZRSTn+/t6Y3cxomkQIiZePOz7+3lRW1uLp6U5QgJ8zPpxz054Wd6BhyRXg6+OFwdi8JEvK86mBLUhJSWHzpk3Mn/89dXV1Ta/YbDZef/31tvcSAovFQq9evbju+uuZectMYmNjm+LS0fkxdGHW0bkiEWzduJ9hw/py7y+nNz1rszn4x6tz2L0zFX9/P0pLKpHS2etVFEF5SRW1tXUYzSY8PT0oLatsmFt17l98shyHQz1tKFty+FA28T2iCezkh9Qk9/1iOn945t9UVtXwWPitZxUkKSXXXNOfg/uOMPvjH6ittgKCwABfysqqsFntuFvMCCGorqqjorQSL29Lw5lPO+7Z/zzPLGtJVGQkkydPxmKxsGrVSo4dOwaAwWBg8ODENquCVVRUkJ2dxa5du9i1axeLFi7kuedfYPKkSRiNRl2cdX4UlxPmgoICNm3axNChQ4mKimr1+p49e7Db7QwZMuSqc3DS0TkXGjOZd25N4da7JhMWHti0/tlgUBh5zQA2r9vLjbdcw6fvLyIlOYv4npEUnaxi2ZKt1NXZcHMz0K9/N1Yv20affnEEBHpxNDOX9Wt20b1HVKvzRcaGsm75TnKPD6NTZx9qauoxm03U19ZzLDufwCDvlvtIidrUi5WY3Izcee9UnvvNP9mzMxWAXn1imfflatas3sWkKYmoDo0lC5Lw9vEkKqZz03tq5NSevfNvTvtboEnZuBLqnPD182PqlCmMGT2aI0eOsHr1ahYtWkhGRgZ33X03M2+Zyenyb7VaOZGby9q1a/jss8/Yu3cvjzz8S1577XVuvfVW/b6l86O4nDAfOXKEJ598khkzZvDGG846taeyaNEiqqqqSExMvOK/4Kda+7kyp8bZuIzkcoj7srT2awy3cc1uGwghyDtRQmhYIL36xqCqze9T0zSGjuhDavIROocGMnHqUD58bwH+QV4IKQgP60TnTn4IAROmDuZYTgFvvvwZvn6eCBRGjhmIn79nQyCNFomSMWMTyEjJ4Y2/fIJfoBe1NVbGTU7Ey9vCpnV76dotHB9fZ+9SQ+LfyYfIyOCmmDVNEhziz0OP3sz7/9awWNwIDPLlngev5+vZy9m2ORk0DTBw7y9uwNvLg9CIIDw9LQ3ruSVBnf0wuxub1nd7eVkIi+zckEkNRqMgpksY7u5mWvelT72AsrHAd0PRERWTyUSvXr3o2bMnd9xxB1u3baO8rAyDQWnVa/b29qZz584k9OvHxAkTefGlF1m5YgV//vOfiIyKYtTIkfqcs85ZcTlh1jQNX19fkpKSmDdvHvfcc0+Lm7yqqlf8l7pxSUajtd/Jk4UuLSCqqpKSchCArdu28d5777lsvBJwd3eje/fuJPRLuOwMChp/CzVVtYBoswEkpaRrfCiPPvUzPL3cW+wnJYSFB/Dk727H4u5G5M/GMGhYL07mF9MpJJCw0ABsdjvuFjcMBoWHn7yZrKMFVFfWEBkdir+fB3aHo2EeuPncvn5e/OqZn5GTeZLyigpCw4MJCw8EJMNH9sbD4tYchyYZPbYfw0f0blgG1SyCQ0b0one/32LxcEPTNAYmxhPTJYTso/kYjUZiuoTi4+uJpmncftdEzG7NQ8MTpw5qOg5AfI8IYrqGYDQ6J8O9fTx45MmZWDzcGobvW187RRHYbBq1NXWAwNCQWX1qbzwoKIjpN9yAzWZDUZQ270eNtbX79+/Pm2+8yWO1dWzatJF//+td+vTuja+v72X1vdNpX1xSmKOjo5k6dSqff/45/fr1Y8CAAU2vn/pj0jQNTdMwGo2tjtHW85cLDoeDBQsW8MYbb5CamnJZ/YDXrF7NmtWrOzqMH8XLy4uZM3/G737/e6Kjoi6Lxp7FYmma3lm+ZBNTrhtBTGzwGft+RpOB+jp7m6+Z3Uw4VA2HqhEc4kdIqDNL2aFqGIwGbNbmUpQxscHOuteq83XFoJzxuFFdOhMtgpFSYq13Wp+6W9yc56praYVqMLYdn9lsxmHXcNid23t4WOiT0BU00NCoq7U27K+02K6R+lPOYzAqWOubz2EyG7HbVOy0XWjE4VBZuWQLaWlZWCzuhIeHt9qmUaTP5f6iqipxcXE8/dvfsnfvHpYvX8627duZNnWqboyhc0ZcVrmmT59OXl4e77zzDv/3f/+Hv79/i9eFEKSnp7NixQpmzZpFUFAQ4PQGnj9/Pj4+PkydOrUjQv9JKIpCUlISv3/29xQWFBAY5ENoWFCrdaMuhzyl93E+k3jtjRTU1Vk5eiSPTz/9BIPRwKt/f9Xli0RIKTGbzcy46SYWLJjPts3J3HfbC3TrEYNBCFy5WdH41XXlGMF5T6mqqmHHln2odpVJ0yaTkJDwkxttmqYxYtgwJk6cxIIF89mwfh0TJ1xYkROdqwOXFWaLxcJjjz3GI488wuzZs3n88cdbfZGDg4M5efIkb7/9Ns888wy+vr588803rF+/nqeffrqDIr9whBDY7DbmzZtHYUEB/Qd255X/+zVx8a1b7ToXjtXq4KvPlvH3Fz/k++++465ZdzF06FCX78E4s5ev4aWX/sJrr71K+qFs0g9ld3RYVxyKojBp0mReeOEF/Pz8fnKDTUqJp6cnI0eOZMGC+RxMSaG2thZv77aXkOnouKwwSymJjo7m8ccf57XXXmPQoEGMHDmyxev+/v48/fTTvPXWW7z11ltERUWxe/dunnrqKXr27NmB0V84NdU1pKc715xOv8Vp7edce3n2/S62td/ZziOEQFW1JhOBs1v7Nc+ZX4zzXwwMBoXb7pzKV7OXkp2Zx9GsLIYOHdohsZwPUkrMJhP33X8fAwcNZOuWrRQXFyOlhqvaLdTX1/P999+Rn5/PpEnOHqiripFzVMKN+PhujB07luDg4IsWq6IohEdEIISgtKSUuro6fHx8XPZa6HQsLivMjUyaNIldu3bxj3/8g27durW6mQcEBPD444/z0EMPsWDBAj744AN69erVQdH+dFRVxWp1zqF5+3oB8keFD8Dh0PhmzircTCZuum1cKwehRoQQFOSXsWntbq6bMQoPT7cWIq4oCvt3Z5BXUMLkqUNbZf46HBpJG5PZtmU/gYH+XDt9FGHhga1uMIqisGdHGhs37OHu+64nIMi7QYydc4ALvtvIiNH9iY7pdE7v72KiaRpmixlPT2cdZ5vN9uM7uQhSSowGI4MHJzJ40GCXnhsXQlBRUcHBgwfJz8/n5ltu4Z577kFz6ZEJpxPVpcjYN5vNDY1ahy7IOmfF5Sc5TCYTDz30EJqm8dFHH2G3t0wWsdvtrFixgsDAQMaOHcvSpUspLS3toGjPDVVVz82d5rys/UpYvjCJ+fPWUVhQ/iPWfpVsWLv7jNZ+WZl57NqW2ra1354jfPfVagYM7onNamP2B4ux1bdt7ZeVmcc7r37BN1+uOmXNaYO139pdFBWWtrL2a7XU6gzWfs3bX6C13ykpU67Z1zw7UtOaaji76qOxbnTj52lQFExGI0YXiO3MD6XVemgdnfbG5XvMAKGhoTz55JP86U9/wmazMXz4cMBZFm/OnDls3LiRZ599lpCQEN544w3efPNNnnrqqaaEsI7gTMO0QghycnLYtm0bAwcOJLZLLG5m59KQCx/aFexIOsDwsQMoK65gx9YUbr51DI3i47T2K+VkQTGdQwJBladY+4HDppJ1vIDqimoiY0IarP1ax+K09jtJcEgA1143gtTYcP73j7nU1dswt7E2VArBiLGD2L01FCMOkAAAIABJREFUhe0DujFyTL+mUonG09Y+V5RXcSy7EIPJQHR0CJ5eFjRN42ReOT4+FsrKqtE0Sedg34bhwGoK84voHBJESGgA5aVVHM8pwMPbk+iozhhMhgu8lq6PoihUV1eTlZ1FZUVlR4dzRoQQVNfWUlpaAkBGRgYbN21y6R6zUATBwcFERkZiMpp0gdbpEFxOmBsX9J/+gxg1ahQ33XQTzz33HEOGDEFRFDIyMti/fz/PPPNM05zyM888wzvvvMP69euZOXNmu8Xd2AOWUmK3Oxrm/draEHx8fFi7bh0vv/wy06ZN5brrr2dA/wH4+fk1Ceb5nLeivJrkfYe54x6ntd+qpVuZcu2QZmu/H7ayYeUuvH3dUYQRT69ma7/a6npmf7KcIxk5eHlbMJvcsFptuLmZWp1LSo0+A7qxacMetialsGfnIfoOOLu1X7ce0QwY3IOvPltOl7hIwsJbZ9cf2HeEOZ8vx6hIpBS4uZm56+c3EBUZxNzZqzCYjOTnFTFsTF8UDBxOy6G+vp6q6moqSmsYNXYQBfnFTdZ+o8YO4GezJpxxOP9yRghBcnIy//jHP1izZg2VlRW4dp+/earg7bff4p///GcHx3M2nHkPYeHh3H777fzyF78kKChIF2eddsflhDk0NJRp06a1qvilKAp33303lZWVxMU53XC6du3KH//4RwICmn1cAwICeOaZZ3A4HKcf+pLQ6NFaWVnJgQMH2LNnD5mZmdTU1Jx5H0WQkZFOVtZR3nvvPT777DNGjhzFjTNupFev3ueVHey09juKm5vT2i80LIj5X68lI+04gxK7k5KcxcpFW/jF4zfTs3c0JaXVvPvm103WfqtX7yYrM5ffPHs3QZ18OJqRz4sv/JcePaPbtPaLjAoiqJM/Tz/2FrffNY2Z9zmt/TSt9fBfo7XfpCmDSU0+wlefLeVXz9zWwtqvtKSST99fzDUTBjHp2iGoqsbcL9fyxUc/8Ovf38HxE4UoisJjT91GeEQgn/7nBw7sP8yfXvkFoSH+fPPVGj55fwGvvP0r+vbvwsF9R/ngvfmMn5JI5+CfnlHrSiiKQlZWFk8//QxbtmxGEYIAf29MBuNZC1l1NEIIpAJo0qXjREB9vZWso0d59e9/p6qyij//+c8uv5RO58rD5YS5e/fuxMXFYTC0HooMCAjg+eefB5odXCwWS6vtvL29Wz13KRBCYHfY2bRpMx9++AFrVq8+qyCfiZqaGlauXMHuPbu5acZNVFRVnfO+p1v7aVIjJCyQjWt3M2BwfIO1Xyz9Bra09vv0vw3WfjvTmTBtKBGRQU5rv77RjDubtd+ctUhNMuXa4dTVOa39jh4uxC/A4yzWfmbuvv86Xnrhf2xcv4+hw5zJeYoiSG2w9ps4zdnDB8ENN4/hr6dZ+8XEOq39DAYDQ0f0JTrGWWqxW3wUffp2pUejtV+s09qvqqqG4JBzs/a7XJBSsnDhQrZs2Uwnf29efvYXjBzcu6k6lc5Pp7beyuffreSdj77n889nM336dEaNGuXyS+l0rixcTpiFEGetqNOWYHcEQghqa2v54MMPefONNygrK8Xi4cGYMWPo06cv/gEBZxxgFEKwdds2Vq9aiRCCmJhYpkyZwvU3XE9EeAT79+8/pxgURXA8q4TtW5MJ6uTDweQ0AApyS7Crkln3ntnaz+LZbO0XdI7Wfps3JpOems1Tz92Jm5uJd9/6li8+XUFhXgk33zrurNZ+EdGduPWuyXz7xSpCQ4KahpmLi53Wfm7uzdZ+3mex9hNGBR+LF3CKtZ+f90+w9rs8EEJgtVrZs2c3ADdfdw0/v2MKivki95aFAEU461K3ddzG6YELzaRvzKO4GJ+PIpwxXszPWhGEdApg3ZZ97E/NJD0jnVGjRl284+vonAMuJ8yXA0IIbDYb//nPf/jrX/+Cqqpcd931PPTLXzJ44EC8vb3P2IAQQlBcXEx6ejqjR49m+o0zmDBhArGxMbi7uVNUXHweSWCCpM37GTKsL/f94oaG40tsNpV/vDaHnTtT8ff3pbSsqqW1X+mPWPsVtW3tl5FyjPge0QR19kOTkvt/eWOztd+vf/bj1n7jBjRY+y2htroeEAQE+FJefgZrP88Gb91Lau13+aBpGrW1tQBEBPujmAygXsTlUgIqS6rJKywmLjYMo5v5tAAgN7cIKSURkZ3O7KJxFipKq1CEwNvf6yeHW5xfhrubGS9/z4vXOJECXy8LnQJ8AbDb7FdcI0/H9dHHwC6QZStX8MYbr6OqKg8//Aj//ve/mTxxYlMCV2MPtK1HXV0d9957L198MYdHHn6Y7vHxmIwmZ9LbOa5Lbbb2O8jYCYMIj3BmJ3cODSQmNoRRYwayed0+4rpHkbL/MKnJWaiqRmFBOcuWbMXaYO3Xp38cq5dtozCvDIdDIyP1OBvW7Gp1M3Ja+wWTvC+dvBMlOGwOamubrf1ycgpax9iGtd8d906jsKC42dqvdwz1Vjtr1+zGbrVTV1vP0oVbnNZ+scHtYu13eSFO+e9FRlFYlbSPGx78Mxt3poLhlNuDEFRW1PDYH97llf98jebQzj8IRWHp+t2s2pIMF2H4/YsFa1iz9eIcqwW6EOt0MHqP+TwRQlBUVMT/3nuP6upqbrllJs899xyBgYHnNA8lpSQ8PJzIyMgWYt147JYnO7u1X25uMcGhAfTuG9ts7Sedhf6HjOzDgQOHCQ4NZMLkIXzw3nwCgrxBCsJCOtEpyGntN2lqIsePFfD6y5/h6++JkAojRg3Az99Z3ORUa7/RYxNIT8nm9b9+gn+ANzVV9VwzKREvb3c2rt9N125hTdZ+Ukr8g3yIiOzcFLOmSUJC/Xnw0Zt5/18N1n6d/LjnAae13/ZN+5Gac5T03gcbrP3CW1r7BQb74mY2Nd07Pb0shIW3tvZra/lWq4vb+Jn86Kd29WC12bGrknVbkhk/vF+zOCuCnQczOF5YSkhoJ1QpUWgY9m783hsMDdaMNH9xVc25TcMQeG29zXm9Gy//6UPbitL28dp4raq2nnqrjSt3jETnakUX5vNEURS27dhBUlISgYFBPPrYYwQFBZ13csiZKjYpioLR6FyqZK2zcjZrv7huYTz+1M+weDkT4E639vvN7+7A4u5GxM/GkjisNwX5RXQKCSI8rKW13yNP3ELW0QKqKqqJjg7FN8ATh/10az+Jn78Xv3rmVrKzCqkoqyA8PJjQiEAARozs08LaT0rJqLH9GD6ytbXf0BG96N33GTws7miaxqAhTmu/nKN5GIxGYruGNVv73T0Bs6l5PemkKYOA5hKf3XtEENs1+Lys/ZzVl1TsNrszp8Gg/wwakRKGD+5DQUk52ceLiOkSCpqGtNrZvDOFscMTUBquqaPeyupN+9lzMB1VSob068HE0f0xuJkpPVnBso27yMzJxd/Hi2vHDaFrfGTD59HwmSgKWZm5pGbmMn5YXywWIxu2JLNtdwqaJhkysBfjhvVBMZvAobJlVwqbtjvtRYcN7IXdrjYcT29a6VxZ6Hek88Rut7MlaTOqqjJu3DgS+vW7qGURPT09iY2NZsuWzaxYlsTka0cQGRPUqgoXgFDAaDRhO5O1n9mMXWoIq0bnUD+Cw5xZyqrUMBiMTdZ+QoGYmBCE4hROTTuztV/Ttl1CGqz9nNu4W9xbWfsJBQwGY5vHcXNzwy6bt/f0tNCnfxwAmiqbrf0MxhbbiYaeV33T385tWlj7mUxntPYTCthtKiuXbCXz8HEsFguRkRFtXr+rESklkcFBBAX6sGV3qlOYFYUj2Sc4WVzONcMHsH13KlJKvv0hieS0LKaOG4jN6uC7ZUkYDAYmju7Pv75YjJvZxITRA8jIzOMfnyzkz0/Oam4oCUHy/sPM/n4Nk8YMwuJhZvGq7SzfuJvrxw/BqCgsWbOdiopqbr5hNCs37GXe8s1MnzgUTy93tuw+xJadqfTrEYveY9a50tCF+TwQQlBfX09G+mEABg0ahMViuWjCLKXEzc2NG2bMYOHChWxau5t7bn2Obt1jEELBtXsGp94cXTdO55rzarYn7cXhULnhhqn07dvXpWtOtzdGo8KoIb2Zu3gjN00ZgcXHwqadqXTvGkFwiD+akNhsTi/nn985lfieMWBXOXrsJPvTMhme2IvsnAIeuGMKI0f0Z3hiX3x+8KS2zlm6VQIbNu3ju6WbmXXjNQxN7EVNeQ0rk/Zy/8xJDB7UA4DQ4EA++Ho5Q/r3YMn6ndx18wTGjOoPSPrExbJl+wHUdq6zrqPTHujCfJ5YbTYqKsoRwlm672I7JEkpmTR+An/60595443XSUvJIi0l66KeQ6fZ2u/ZZ5/F19dXz7w9BU2T9ImL4Vu5gUNHjhEfF8nulMP88vZpVFutSAlms8L0iUNJPXKMgylrsdo1tu05SPcuYXh6unP9xKF8tXgDew9m0iUqlCEJ8URGdUZL0lixfhfVtbUEBHjTu2cXUBQKS8pJSc3kGwMsWZUEQK3VyvHjeRzJycVmt9Ona5RzjllKOnXyJaFP1w6+Ujo6lwZdmM8TqWlNvSuD8eKvqW7sNT/0i4dIHDKErVu2NFj7uaZwCOF0nFq2bBmHD6eTmDiE0aNHA9Jlk1vNZjM9evRgzJixBAd3dtlr21FIKfHxsTCwdzeSdqdSWVuPxWymd3wU25IzEAKqq6188PVSPNzdGJgQR3hQEGUVVVRVV4Kmce01iQzr34O07BOkpuewdN0Onrj3RjRNYlDgr0/fw2fzVvHNgvX8/K6paFLiH+DD+FGD8PNtKPGqAQZBgJdzfbxswyhFR+dKRBdmF6TR2m/okCEMSUx0+WFWh8NBaWkJhw+nM3nyJJ577oUz1wp3ARrrml8Ka7/LnaarIQQjB/Xk1ffncSjzOBNHDsDg6Y6UEkUIjuWdJOPIcd566RH8OvuB1UHJgnKMCuTml/HF96t49P4ZjJ+YyPixg3j7v/PYujcNo9HAxDGD6J0Qxy/NJv72z6/o3SOaPnFRBPn7Edo5kP6Jzrr3x4/mM2/JRm6/dgwmo5G07BOMDAkAJCUnyzmQmkWf+JgOulI6OpcOXZhdmOZKVq4tHs74mp2snL1l143Z6QstmrLHdZpRhHBmXWsaXaOD8fVwY8/BTP78xKyGRePO6xbg541DU/l+yWb6do/iUGYeR7MLMbkpOFSVypp6/v3ZIsYP60tpRQ1ph49x980TOHqsEEU4lz117RbOrdPH8unclbz067u5Zlg//vXJIm4vrcDd3cyiVdvo3iWS0LBAJo0awCffrqS2ug5PL3c27UjFoWmYTSZcOadBR+dC0IXZBRFC4HA42LdvHxs2bOD48WNoLprkIgSoqkZS0hYAli5dQnFxkcsOYwMYjQa6dYtnwoQJdOnSpaPDcR00ybD+8cTHhjpz+UxGfnHbVAomVxDc2Q9Uje5RocycNoKosEB+8/ObWbJuBzk5efTu2ZU//3oW+1MO42408NQDNzF/1RYWrUjCw8uTO2eMY3RiL0IC/TAYlIaSnpIpY/rj7mZAtTu47fpR+Pl4kbQrBVVVGT6gJ9PGDwZFcMP4IXh5WUjaeRBFURg2sBdTRw8kwNvrwsuD6ui4KLowuyAOh4OvvvqKv/3tr+Tm5nZ0OOfFvn372LdvX0eHcU707duXl1/5O+PHjdN7zgBS0jUugq6CBicoSXzPGOJFY+1sSafQADqFBYAm6d+/G/37dkWqGsJkBIFzeVXDtXzwrmuRdgdCUcDoLBbSLT6y6VwAisnIuDGDaFwPOG3SEKZdMxCQYDI21cIWZgPjxwxg/Ih+zuca/bYvdq1sHR0XQBdmF0NRFLZv385LL71IQUEBPbtGMTghDpPR4EyG0flpKFBTZ2PTjgMcOHCAl158kbiuXYmOjnb5ufx2QZ5mzeisedr265qzALswGk55/rRSro0Jko3Xtk3f7lOuu9Saq42d3hPWZHP5Tb2XrHMFowuzi6GqKitXrqSgoICEnl2Y/c5z9Oke5XSH6ujgrgAUwKFJVm/axz1PvMyePbvZsmULMTExHR2ajo6ODqALs0vROLecn58PwDUjB9C3d6xzIlfKc3MccVpI4Sya3YZ1n9LwuqqdfQhQiKbzNtfMbtjeWSKs7f2bbAPbeL0provY2znb+c6A0SQYM6wvA/rFs3LDbnJycvShbB0dHZdBd5dyQRpFwmI2NT5xzvtq9XZWr97Ozt2pbfghCooKyli0aAMlBWVnccgAW209u3en4ai1giax19Q7xU+V7N+XQVlRRev9haC6tJqtWw+gWm2tDpty4Ag5mXkXZBfYdpyCmvIadmw/iFbfdlnSNpHO0VJLg++3pp1fnfPLFoGzcXRmZ5Rzc2pqbLSd8bUL2E85y34/BeVSHFRH59KiC7MLc959OCGorbPxynvf8Kc3Pqe6vLbVjXDuss08/Id3Sc05ceabsBCUVdQye+EGqmqslJdU8Z8vl1FTWY/UNNbvTONEYWmbwpxTUMz7Xy6npsba6vUFq7eyafehljfLH73Jt/GaoKmnnFtYzMdzV1FXbzsvwRdtzIde6djrbKQfyqK6rLqNzw7Kiys4kpGDtDvOfBAB9TX1nCwoa55babyMUlKYX4q12tpaZAVUl1VTmF/S+piaRu6xk9hq29jvJ+Cw2sg7XnRxPat1dNoBXZivMKSU+Hh7UVNnZ0/a0WYRFILK0ip27ztMt9gYnJ1E2VqbNOfTQtJkJVldbyPtaC61VhvCoDDrhjHEdwlrmbRzyvkdDkebmqeqGuqptoCqRnVpFfVVdS2FQgg0u4OqkkrqKmtbHkQRqFYHVaVVaPU2pCJQ7aqemPtjKApHcgr42aN/48O5K1p/Pg6Ntz78nod+/w6lpW0I9ynHSU7P4ZPvVgOSzKN5LFu7C6REc2jMXriOtKw853THafut2bqfD79Z0XIqQwjqa228+cE80jLb2O8nvN+cE0W8/eG8NhuJOjqujD7HfIUhpcTLy0LPbjEk7UphTGIv57itIth58Ahe3hb69owBBbIz8zmUeZxp4wY1CfjaTbsJCvAjrHMgiiI4XlDMvKUb2LIzmX988C13z5zMwcO5DOgVS9e4sDbni4UQYFSc521STIEQirNDJAS5xwr5YtF68vILMZhMjBnSjxsnJiLMJtLTj/Ht0k0UFZcghMKoxH7MnDYcYTZxIDmTecuTKK+ooHOnQKLDgp2Zwe11gS9j7HYVVQqSdh/ivpsr8QvycX4+iiAnp5gdBw6jGE04VK15SPrUz1dxjmDY7A6qqutAERwvKmXb/nSmThiMYlSYPn4ooUH+bUy/COqsdiqr61rFpSGpqKzG7nA0j4aIBp/nxuH1xgad0uCCoapOv+ZTYzzVA9ogcKga5RW1SD2DW+cyQxfmKxLJ8IE9WbVpF8dyi4mKCUFa7WzcfoCRg3uzJ/kIQkJOYRFb96Y51402+OTuSk4nJiqC8OAgpJT4ensydGAvUtKPM2pYAgEBvuw+sJ6I8EC6ivCWQ48N99Py6mp2Hkgn0MvTOV+uOFfB5BYUERMRgr26jvfmLCE6MoT7bhpPUXklH89dhZfFjZGDe/PhVysYNqgHY++YxonCEt79bDE9ukbQKcCXdz9fzNSxgxk9sCfHCor57xfLKCltY75bpxWalHSPi8LX15vdB48wYfwgUJ2JfZt3pRAfG0FtjdNus7SwjLyTJfTpFdt0bdNTjuLj7e0saWpQOHwklzVrdrA/PYtFSzYxcdQgSiqq8fPxxBvPVucXOCuLNSXsSUAIpBAIFBq/QLWVtazYtIfU9KN4eliYMGpgUxJkVmYeKzbupqComOCgAG4YP4yI6GAASgrLWbJ+J8dO5BMdGUZoaECTd7SOzuWEPpR9BaJqkrCQAKLCO7N1bxoogqPHCiksLmfYgB5I5wRrw/2x5Y1LNJZkbMDXy4PEvvFERnRmxODeBAb4OMtZSsChUlVaSWVxBdWlVeBQUYTgZFEZC5dt5tsl6/l2yQbmLd7A3CXrOZiRhaIopGQcp7SiiuvGDsLLw43Y8GDGDOnD2q37qamzMmH0QK6fOITAQB9iI0Iwm43kFRSzdW8akWGduPnaEXQKD2JQYk+mTxmGMLm6JaaLICVebmZGD+pN0p5UpNXuFMKKWnbsT2P88AQMZgMogpSs43y/anvDWmVACJas38G2/ekoinPkQ1VVrA47doeK1er8/5K1O8jKPXnGpKva+npKiyuoLKqgsriCquIKSksqsNnsTv23Ofjg62XsPnCYEUP7EB7amf9+uZTkg0cpyi/l/z5egIfFnYmjB2NzqPzj0wXUV9VTU17D6+/P5WRxGWNHJmA0Gvh6wQbKa2v1NpvOZYfeY75CMRsNjErszffLNnPT1OFs2plKfJdwQoP9WxbSOO2mdbqDDwANZg/S0bzESgiFE7kl/Oez+VRU1xDo58tj992EBLpER/CHJ+6hU4BXU4a5Bvz1nS8BOJ5fxL4D6bz63pcNo5aCquo6Ogf542lxI7STH1/OX4/VZkcxGMnNPYkDlRMFRcRGhDirSKkaoNA1MgQ/T099jvkckVIyNCGeHfvTyDp2ki7xkexPdzaY+naPYdn6XQBoqkQ9LWlKVTW0xs9TSnp0j+K6KSPx9Pbm1pvH47A70DTpbPhJWuYgGBQURZC0fT9/ctgaGn8SgaC+3k5a5nGMBgOHj+aSkZ3Hn56YRXCo07BCMRpYumEXU8cMZkj/ntw5cxyKyUhcdDi/e+V9SssqOHDkOFLCr34+AzdPd9AkVpud+cs2cWnSvXV0Lh26MF+hSE2S0D2WrxetZ8veNPakHuG+mydgMrQcJGkhaFJSU2dHttn7bDmPK4UkIjSApx+aiappGBQDAUG+FJWUY1QE7iYjwmxENFSHUiQYGrLA3c0mhgzsxfMP34pBURACamrrsdocpGUe55N5q7h1+hh6RIZh8bCQmXMcNLC4uVF/6jIsAfU2Ow6HqveKzhEHkuBO/nSNDmXr3kN06RLGhm0HGJrQA19vT6Ta/NmffklbNdqkRDYkCJ4qwgqCwtwSPv9uOdU1dfj6ePHArdMAGJrYlz8+ejuGhh61EFBRXcsLb3+OBI7k5JOalsl7n853TmkrgvzicqSEuKgQPNzdWLV6B5U19eQVlZJfWIJdVTmak0+vbjG4ebiBQwWDwsA+cWzYsg99NEXnckMX5isQZ+0PiYe/J/17xfHuJwuJDe1Mn/goVCmbaoN4md04WVxKda0drwBPTp4oZu/Bo01WerKpzKLA6nBgtat4NhQckVKC2UhAcEDziRXRULpYtizd2OiShUTTNLrFRlCxYD2VtfV06xkDmsba+RsoLa8iwM8bT4uJUYl9wGQgN7uQtIxjjB7Sh57do5jz/VrKiirx7+yLZrWzbtt+Siur0XtF547ZoDBqSG++XbSBQX27kX2ikLtmjANOk7AWLTGJ3aGdk8RJAb6+HowZ2R+H1Y7Z3YyXl9My0sfDg+DQQDA0zzG7V9XiYXZDSomqacREhTLhmkEYGwKwSw0fiwe7UzNZumY7IxP70L1LOD3jotibnOYczZFa64Ru5eIleevotCe6MF9hCEXg42nBYHDWKB49uBeffL2UO2+4BrOXBa3ehqeHO0aDQo/YCBQheP0/X9M9Noy8kko6dw7AYnFHUQTe7haEAG9vD9yMBt58/2vuu20qnp4WjIqhtYGAFBgNCl5eljZN7D3d3TCbjMTEBDNmWB/eeH8ewwf0oKq6lrSsPH59/wwUIVi0cgtv/3cufj5e5BdXEB7emf9n77zDo6rSBv67d2Yyk5n03kglhEBCS0IA6UjvCIgoTawfiAq2VXGxrGUXWRVWQVixroqA1NCkSg09EIpASAIhBJKQXmYy935/TDImkAhRCEm4v+cJD3duOWdmzpz3fc95y/6jp3lu4nD8fdx5d973tGoeSOa1PNIzsmka5KfI5VogSTKRTQP5Qd7Ogv+tI8DPAz9fd65mXLNeo1GrycsvxCRJaFQaCvOKOH02jbBg/xufJ8vIoljuSGZRzHT2emKjW/5+kSBUSqctV8kvK1iVRZkgP09sbLREhAXj4mVR+nbvPsrRUymkpF2mVYtghgztCsicOZ5MVnY+KpWKwCbe/Bp/HFOJEY2tFmRIOHGeazmFd+ATVFC4syiCuTEhy9jb6XjlqZH4eLmBWaJpoBdfzJ6Br6cbSJb9usce7IuLkwGDg56Zz4zl1/hjlJYaGdgtijEDu2Fro8HJUc9T4/rj6GiLoFHz2pQxJF9Kx8fNhYkjeuLiZGetCPR7+xKB/p68+MQD2NvrbgiZGTu0pyWbmSAwcWQvIsIDOXkqGS8PF0b07WzxrjXLvPHsw+w7cgqVSuTBgZ1xd3Yk9VIGDg62PD9pGHuOnCI5NZ02EU2ZNDKYwqISDLY2SpWhmyEIqBGQkbF1tKVtixDe/8/3LPzXDGu1JlFlqVEd7OfJ1avX+GHFdlqG+nH0VCo5BSVoNGoEsTwkTgYnOwOnz6WybNU2+nSJRhSFcqVMrprYQyXe4FhYGVG0tBve1A9vD2dmf/YTQ/rGkpdTxM8b9zBmaHdUIuzYd4yAJh6UlpSx9/BpSs1lHD2dzH1tW7Bh+wE++2oNnWLCuZCWyY59x3FydKiDD1ZB4faiCObGhlpFcNMmFqEpy6BW0bSZ/++5rQWBJgEeVmvXy8eVUSMsy5hVLGBZxj/Q0xoj6untgqevK0gyTgI3Wsvl9+v0Wkv71SQf8Wnibr1P1Khp3y6c9lHh1vYs1YMgNKwJoc39f39dhkg3B5AkVFqB7l3agtDW+iwnwUGpNnQzZJkAbzcmPdgHg60WZJn+XaNwczQQ1SIYzBKO9nrGDeuOk70enZ2OZycPY+3WeM6lXCS2dTivTBmNu5M9Lg4GhvaMAQEim/kzeWQfcnPzEAWBYb3bE+TjeeP3IcnERIYQ6O9+wxK5rVbD+Ad6EuTjgai1Yfqjw1m+J7uVAAAgAElEQVT5yz7Wrt+Ljd6GscO606V9BIUtmyLLELdpL87OjgzsHs39nSIpLC7B2cXAK0+NZsXmvaxat4smft48N2koBUVF6Gw1itKm0KBQBHNj5HqheMPxdWX8zDVMWjVd90dznMyNlnR1z6uuX1Wuu17o/64wVKcQKNwEWcbZ3YGeHlGWz12ScfNypr93J2utZRuDli6dW1u/p+io5kS3DkWWZEu95fLnIICrpyWJiEqnoc/97S3nJInods1/v+669oNC/Ai6PmkJIGjUdO3Stlw5k3BwsWfc6PvLazkL5bWcZQyOesY/2LtSjefy2Ofywijefm48PX4gcpnZUm6yImRLUdoUGhiKYFZQuFe4XmmqTsmpLMTK6x8LItf5Elj/Kb/uumfW2H41KWCra7ciJM9ay1n+g9dv4T4FhQaG4rOooKCgoKBQj1AE872IKN5aeb/bRZW0nYJSik9BQUHhD1AE872GLBO/P5FDB0/ecEoymqqU/Lv++M9SVmS0eOgKAtlXckg4eq7mfW2F+kFNyls15RxvC9dVF1MyxijcyyiC+V5CELiWVcAHC5byz4XLqtZrFgTWbDnAlt3HLBPy9cfWZ/B75aEa2qg8qUqmMhYt/YUz59NBJZKSnsm2AyeRK+913mwiVibquuUPlDerklXD8Z/CLGMqLLFGDZw/e5HzSZeU71zhnkURzPcSosDeo6cIDwnA1dmR/Ylnfl9WliE1/SppV65ZnXSqHAMIAuZSE/nZ+ZSVmG6cOGWZwpwCivOKrdebyiTOnk8ju6AQJInwpn6MHdgFQSVa7y/OK6bwWoHVqrYiCMhlZgqy8zEWlSgTdV0gCGRnV6+8Xa9kVTmuorzVQtESBLKz85j//XoK8yylJA+dSiHhdGrtrGhFeVNoRChe2fcKApQVlbJn/0n69YoiIyOHbXuP0aNDJIgCcZvjWbVpF1q1BhuVjMHWltWbdmGjUWOrhpGDu3Ek8TzLN+wmNy8Xezt7hvXpSEx0c5KS0jiYcI7iUhMJiacpNpbRtX0rBvWI4btVW9mx5wg5OTlIpf1wd3PlyKkURvbvQGlxKcvX7Wbf4RPIsoSvjydjB3bDL9CLvfuOczkzjwvpGZxNSkUQ1Ywc2IXOsRF3+5Ns3IgC+45YlLdrefnsTzxDj65tLVZtuZLVNrIpyFx3/LvyVlpQgslkws7OFjTqKudkUxmF+cVobDVobXUAFJYYOZF0kSKTCYMk07tTa2RBsHh7CwKYJQrzCxFUIno7W8trf/RMJWZZoYGjCOZ7BUHk1Lk0CkpKaBMeQo53AWs27eV8agZBwT6EhzShRWggBltb2rZsilqtpkWzQPQ6W9q0CiX5whU+/2Edg3t1ICYihGNnU/lq+WbcXZy4eDmbuV+t5ulxg5j++CguXMnk35//TKCfB9GtmvHL7qPEtIugaYAvpy5c5sixswzr054fV+3g8IlzPPHQABztDazZsp8Pv/iZd6ZP4OCxs6zbfpgZTwznwf6d+fXgSRZ+G0fLYH+cPRyVyfdOUJPy1jESY6mJr376hR17jpCbk0dOdg6paVetSpe5pA+dYiJZu+UA2/ceoaTUiI+XOw8P7kGToGoULZWaUQO7EuLvw8Jv17AvPoGPP1/C5DEDuHAlB0EQ6NIpguzL1/h25VbOJl9EpVIRGRbMgwO7YHC2q/aZIwcoyptCw0dZyr5XkCR27DtOy2YB2Nnp8PZypkkTd3bEHwdBICjUjxZNA4kICyIsIoSQMH/CQyzHoS1D2HXwJD6ernSOCkev09I+IhR/H8v9siwTFujD0D6x+Ph7ENsunPCmflxIz6RNZFOCm/gQ0zoM90BPBBlUGpHMrHx2HjjO5NF9aBEZgq+/JxNH3w/AvgRLzd/OMeH06NwaDz93+naPwkajJj3zmrJkeae4TnmLbRNGamoG5y9kYKPV0C6yKYGBvrRv14LwkCa0jbAcW5QuP7bHJxK3NZ4xg3vw2v89hK+XO5/9L47ivGIOHjvLoh82EBEWxGtTxtIlJpLPv42jtNRITFQ4AX4+dIxphYerM78lpXEuOR1zsZGPvlpJqamMGU88wJRxgzmXepmFP20As8T+Y2dueObCb+O4djVPGSMKDRrFYr4XEASuXc1jw/Z43F3suJR+GYDEk+f4LekCowd2xdbRFkmSLLWaJcmSTEmSkCQZTGWcTbnIrv3HyMzMslTyEQSuZOVyf+doJGR8fd3RazXlySYEbHVqS8YoSbI4eknS757YgsCVa9eQzTKBPp6WvWVZRqvX0SzIj0uXs1GrVTTx9rDsgUsyalHERqdCqimrmMJf5zrlzVanwd/XnR17jxMU7EvrCIuSFdU6DP+mTfAuKrUoXW3D8PB2Y+43a+naPpKwEF8wy/S9rw3xR06RcDa5iqKFKNDXXs/6LfEUG0uJbd2cX3Ye5b7oCAyu9giASiVy/HQqGVdzmD75AZzc7AGBpx4ewKyPvuXCxUxUglDtM9Mzr+Hs6aSsqig0WBTBfC8gCuw+fBIfH3ceGtIVFQKyKNAhOoLFP23i8MlzdOrYCuCGqlBCuRe2na0tg+7vxLghPTCbzQiCQHZOPgY7Pb9dSL+hSUHmRs/tSuszOhsNsixTYirDrlLu7fzCIlwc7SmuSLWoUDcIAjkVypvT78rb8dPnOJ18gQcHd0WlVv2uZEkScrnSJZhljMUlnDqXzG/nktl94KilFCOQcTWH0uJS1Gp1tYqWucyShtP6XKvuJpB88TJe7k44ORnKHQPB08MJFyd7LmfloNFoaOLtoChvCo0ORTA3dsr3DbfvPcqgHrF07RL1e6pCAc6lZrB51xE6xbQAoLjUZDkvWGorF5eaQIaWYYGs23YArU6Lwc2BssISvvh5C1EtQlDr1JYazNchl9dylsxmistMVotZkiS8PVyxdzCwI/4YIwZ1BrWK5HOXOPlbKgO6x7C7mlAduZoU2gq3CVFg15GqyhtUUt5OJNG+TbNKN1yndYkibs5ODOvdkZjIppjLQ6guZ+bg7+vByTMXqe7LE6hSAbIKep2WklIjkiQhlufFNpskikpK0ZZXw1IGhEJjRBHMjR1BJCk1g4KSUjq0DoMy8+9LfKJIj9hIPly0nKwruQT5efLF0g0YtCJjhvUgyNeDxcs2YqdT0a9bDHsOnGDWx9/Sunkg5y9eobjERPvWYSScTcZWp63SrE5rg41GjaBR4e3lyhffrEGQytDY2GCrtcFer2X88F7M/99aLqRl4OhgYP+xs3RpH0FE8wAOJJzBRqP53YKSwU6vtdaZVriNVChvexJqVt52HqFdyxAkSbIoWbKMCBaly2TERmdDaKAvJ5Iu0rdnDGg1ZKZl8r/VO3hsTN9q63NXpM4WETCVmSk1lQEWS1uSJFqGBvC/FdtIPJVCZKumgMzeo6cwmcoI8vFgj6K8KTRSFMHc2JFlvN2cePmxB3B1d6i67yZJhAX78NITD2Cw03F/l9Z4ezijUYsgC/Tu3AYfTxc0ahFHZztefno0uw6d5MLFdNq1CKFzTAT2LgbahAYS5OUBgmgtcDB6YDe0WhsAnnywH4lJKfi5ueLkbE8TN1cQBdq2CeU154fYc+gEJSWlTBrZm3YRwaASGdQjBpVKLC9fCVpbDVPGDcXL3aXm6lUKf45y5a2wuKRG5W3Of5eTda0Av3IlSy4z0rl9K7y9XPnvN2uQzSZG9OvMu5/+wHvzfsDP05WjJ84THOhDSIAXv8YnVq9oiQL2DraoVSIffv4jT48fjK3OBpUg4tPEg8F9OjDv61XERIZSZpY4mHCWscN7YO9qj42NWlHeFBolimBu7Mgy9i722LvaV19tx1qv2SIAW7UOtbwuSahUmirHBkc9fXpFWybCivJ9kozByYDB2VDl+Z6+7tb2DU4G2ke3tJ7XO+gt/y+v+ewf5FV+LdYShG5eztb7ARBFAoJ9/rhCkcKfo1x5e+nxmpW3Fx9/ABcnA4+N7sfxpGR83VxAFHnywX4cT0rB180FP38v3n5+PHsOJpKdm8eQvh3o2LY5qFXVKlr/N24o3u4uaA1aZk4ZQ9KldFwdHOjfpW1FxxjRvyOhAd4cTjyDwVbHS0+PJDTED2SJwT3a1/hMRXlTaMgogvle4GbCrHLZvj+q5VxT7ebqnl+lTOB191W+trray9ffX+Xa24kSUgPUTnlDIDa6ZXntZIvSVfnY08eFYX5df/9K5ZoVrcBKipaHjysefm43ln8URSJbNSWyddPfX5Ms99zsmQoKDRVFMNdjJKnCNFVmmduNBEhW4d9wBHTFVm3Z7Q4FumXl7Xol6ybHlV+/4Zm3cF+Vtmv5zD+NUP7bKz9SYqIV6hhFMNcjZFlGFEXs7e0BSDiZRFZmHq5eSkzmbUUQSLlwhdPn0wBwd3dvEJOvWqPGzd2yRXAk8Ty52YU4utkrY+N2IgicTb3EueSLCIJg/S0qKNQlimCuZ6jVarp07cp//7uIjTsOMPX1T+jeqU35Xtrd7l0jQICiklJWrt/Fb+fT8PX1IyamfbXhXvUJWZax0djQvVsPvvv2O1Zt2sW0mXPpFBOhjI3bhQCFRSX8FLedlEtXCQoOpm3btvV+bCg0PhTBXM+QZZlePXvy1FP/x3/+M5cfVm/lh9Vb73a3GiV2dnbMmDGDli1bWDKe1XNkWaZfv75MnjyZRYsW8vXyTXy9fNPd7lajxMnJmRdeeJHQ0NAGMTYUGheKYK5nyLKMwWDglVdepkWLcOLWxXHxwgWKi0tqTP9rMpkoKyvD1ta2bjtbCUmSKCkpwdbW9q4tC8syFBUVotPZWqzIGjAYDISEhDB8xAPcf//9qNXVJ0ipb8iyjIODAzNnziQiIoINGzdw6WIaJaWlNY6N0tJSZFlGp9PVbWcrYTQaKS4uxtHR8a71QZZliouLbzo+7ezsadasGQ+MHEn3bt1QqVQNYmwoNC4UwVwPqZiAH3nkEUaMeICiokLMZnO116pUIvsPHOT0qVOMGfMgglD3dUlEUeTixYvExcXx0EMPYWdnV+eTmSAIFBYW8s033zBgwAACAgJqtHQ0Gg0GgwGdTmdJHdmAJl5ZlnF2dubRRx9lzJgxFBUV1Tg2RFFk8+bNFBYWMnjw4LvyPlUqFfsPHGDzL7/wzDPPYGtre1fGRmZmJj/99BOjR4/G1dW1xj5oNBrs7OzQarUNbmwoNB4UwVxPqZgQ9Hpb9HqLln/9HGEpSytz+PAhNm3cxIMPjsHHx7tcINWN1SoIFgGwc+cufvppCQMGDiQ0NLRcWNSV5SxbBMD+/Sxd+hPh4eHExsYiSVINflG/pwZtiPw+NvTo9foax4bRZGTnzp1kZGQwevSDODo61PnYkGWZw4cOsX79OiZPnkxwcHCdjo2K8Xn4yBGWLPmRHj16EBERYU0ZWpXfP8SGOjYUGgdK2cd6ToXWLpUn+q/8B5B++TLr163nwIH9bN++zXr99dfeuT+ZgoICVq1aydmzZ1m/bh0mk6nO+2A0Glm7di1JSUnExcVRUFDwB31oHJbQzcbGuXNJbNmymW3btnLgwIFK99TN9wKQlpbGmjVrSU5OZsOGDZjN5jofG0VFRaz4+WdSUlJYt3EDpUbjH46LxjA2FBo2imBuwAiCwL598SQkWKr5/Pzzz+Tl5dXpHq8oipw4cYKtW7cAsHbtWtLT0xHFuhtaoihy4eJFVq1aBcCOHds5ffp0nfahviHLMtu2bSM19QLFxcWsXPkzpaWldb7/v3PnTo4fTwBg9ZrVXLlypc7HxomTJ9m4cSMAmzZsIO3ixXt6bCjUf5TR2UARBIHi4mLi4tZQVlYGwPbt2zh46FCdTjplZWWsX7+ezMxMABISjrJr1646a7+CLZs3c+qUpahBRkYGv/zyS417r40dQRDIyckhbu0aKpZn169fz+nffqszwSwIAgUFBaxcudK6LHzwwAH27ttXp8pBWVkZcWvXkpFhKWP52+nT7LwL41NBoTYogrmBIooiv/12hq1btlhfKygoYMXPdWcZiaJIWloa69evt7YnyzKrVq0kPz+/TvogCAJZWVksW7asyhJkXNxarl69ek9aRqIocvjwEfbs2Wt97eLFi8StXVtne6eiKHL06FESEo5ai0poNBri1q6lsLCwzsbnhQsXWLlyhfU1SZJYu2Y1BQUFDSKpjMK9yb03azUSzGYzu3fvIiysOaGhYQAEBweTdimNs2fP1tmkcy4piX79+tGvX38AJk6cRPPm4Vy4cKHOBPOhw4eRZAlPT0sxjJj27dHpbDl0+PAdb78+UmosZefOX+nYsSO+vr4AtGzZkhMnTnCpjrYZysrKyC8sZObMN7jvvs4IgsBLL79CbIcOZGVl1cnYkGWZPXv24OjkhIODEwBdunYlLy+fkydPKoJZod6iCOYGislkok2bNixcuJAxYx4EwNPHh+nPT8fOzr5OHFgkSSKqXTtmzJiBv38TAFq3bs2LL76Iv79/nVhnZrMZ/yZNeH76DHQ6LaIo8szUZ/jPf/6Dl6fnPbecLQgCJqOJXr16sXDhQqvCFBYWxpSpU1HXYVxuj27dGDp0KAaDAYCmIU2ZOGECnl6edTI2ysrKaNW6NU8/9TQgodfr+dsrf+Nfs2djZ2eneF4r1FsUwdxA0Wg0xMbG4ufnR48ePXB1dSV+zx7OJZ3D379JnU2+9vb2aDQaa9J/SZKwtbW1TsZ3GlEUCQ4OZt+e3aSkpNAyIoL27dsTEhJC69at7zmrSJZlbG1t6dSpEz4+PvTp2xeNRsOmTb+Qm5uLt7d3nYwNQRCwsbEpb6t8bMhm1Go1alXdRGmq1WoCAwL45ZdfyMvLo2OnTrRq1YqWLVoQFhZWJ31QUPgzKIK5ASPLMmazmdatWzN69GjMZjP//OCf7Ny5E1EU62y58PqJvq5CTkRRxGw2s2zZMj799FMEQWDC+PH4+vrec5by9VSMjc733cfAgQPJz8/jH++8zbHjx1GpVHcxO1vdKIyiKGIymfhi8WL+97/vsLHRMmHCJJydne/5saFQ/1ESjDRwKtItPvnkUxw6dIh9+/Yxbdo0Zs58gz59emNnZ1cn/RBEy0QvimKdTPyyLJOdnc2PP/7Ie++9S35+PqNGjWb06AfLE24osaiyLOPk5MRzzz3PsWPH2b9/P1OnTuH112fSpXPnO56mUxCEKmNBFFRWR7A7iSTLXEpP58vFi5kzZw5lZWVMmfIU/fv1VcaFQoNAEcyNAEmSaBoayrvvvseLL77IoUMHefzxyQwcOJB+/frTNLQptjodd2JOEgQBs9lM5lVLuFRa2kUSEhLu6P5dQUEBxxOPs3rVarZu3YokmRkwYACvv/46rq6uyt5hJSRJIioqig/+9S9eeuEF9sfHM2H8eIYMGcL9999PUFAQNjaaOzY2SkpKuHYtB1mWSUlNJiEh4Y5arDm5uRw5fJgVK35m3759AEyYMJEZM2ag1+uVsaHQIFAEcyNBliRiY2NZsGAB//73v1m6dClLly5l2bJl2Nraolbf2a+6oKAAgI8++ogFCxbc0bZKTCaMxcUAODs7M3HiJJ5++ml8fX2VibcG+vbujcuiRXz44YesX7+Or7/+im+++Rq9Xn9HrdiKzHAAb735Jv/84IM71hZASUkJRqMRAB8fH5544kkeffRRRWFTaFAogrkRIcsyLVq0YM6cOYx44AHWrlnD/v37yci4XENu4NvWcqU+gFqtuYNtgYtej1/LCDp1uo9BgwYSHR2NVqtVJt6bEBsby/z589mydQvr4tZz5MhhMjOvWh337gQVqTnBYkGrNZo7Wjvazc2OwMBAunbtxsBBg4iMiECtVitjQ6FBoQjmRoYkSdjZ2dG/Xz969exJZlYWOdeulWcHu/37voJgCd167733iItby4QJE3jiiSfu4GQvY2Njg6urK87OzuUe4ZIy8d4CkiTh7OzMyAdGMmjgIDIzM8nJzUW6Q0UlLNm/8nnp5Zc4dPAgL774EkOGDLmjSqJOp8XNzQ1HR0dUKlV5HnFlX1mhYaEI5kZIhVe0RqPBx9sbH2/vO+qMZTKZcHV1BcDb25tWrVrd0cmwcrEBxcO2dlR8blqtFj8/P5o0aXLH2hIEgdzcXBzs7QFo4u9P69at7+h3VnlsKMqaQkNFEcy1RBAEq3Eh38ElwNtBXYQtCYJQxSqRZUmxYBsAdTs2ytuUJMxms6JMKSjcBCWOuZao1Rr0ej2yLJObm3u3u6OgoNBAKCsrsyhDdzGOXKFhoAjmWmKr1xHgHwDAiRMnrB6gCgoKCjUhyzKX09ORZRkXR0e0Wq2y961QI4pgrgWyLGOjsSE6JgaAbdu3ceHChXuygpGCgsKtUVGide/ePQA0bx6OwWBQBLNCjSgS5U/QpXNnmjZtyulTp/jf999jNBmVpSmF24Iyihofoihy8NAhNm3ahEqlolv37tjY2FR/rTICFFAEc62RJImgoCAmTpyEIAjMmzuXn5b8RFmZWbGcFf4yig3VuFCpVKSlpfHxRx+RlZVFt+7dua9TpxqdIyVkSktLrfcqCv+9ieKVXQ03W2FSq9U88sgjHD5ymGVLl/LSSy+ScSWDMQ+OwcvLq07yAdcXKlJyNu4J5M6KSxsbG9RqNcXFxRiNjXv1RRCERv3+Kqh4j0lJSbz99tusXbsGFxcXpk59Bjc3txoFsyzL5OTkAKDX6xVl/x5FEcyV0Ol0iKJISWlJeUKO6pEkCXd3d96c9SaSWWLFip95Y+ZMVq5cSb++/Yhs1ao8drPxT0AIFm/TS5cu3e2e3BFkWaa4qMQa+3snUps6Ozvj4ODA1atXuXLlym1//l2n/GdQVlZGaWlpow+lKysr48qVK+zcuZNF/13Egf37sdXree311+nRo3uNe8uCIGAqM3E54zIAHh4eaDR3NoueQv1EEcyVcHd3R6PRcPXKVQoKCnBwcKjxR1SxpP3hhx/SsmVLFi/+ggP793Ng/35EUbzjuanrGyaT6W534Y4gyzIZGelIkoSLiwt6vf62t+Hi4oK/vz+nTp0i8fhx+vTufdvbqA8s/nIxv/76a6N3esrPz+f06dOcP5+ELMsEBgbx8iuv8ODo0WjUmj98/znXcjiRmIhGoyE0NPSeWn1T+J17S3rchICAABwdHUlOTiYlJQVfX98/vF6SJDw9PXnhhRcYMGAAmzZtYu/evSQnn6eouPhesJcBi/BKT09vdKFjgiBgNBo5evQoAMHBwXdEMDs4ONCuXTs2btzI9h3befTRR3F0dGw0Aqzid3DwwAEOHjhwV/tSV4iiSEBgIAP6D+Dhhx8mMjISURT/8DsVRZHjxxNJTEzE1dWVNm3a1GGPFeoTimCuREhICGFhYWzfvp1t27YRGxt703skSUKlUtG6dWsiIyMpKioiLy/P6sDR2JezLbmyy/j7399g5coVd7s7txVBEEhOTmbXrl1otVpiY2PvyNKiKIrcf//9LFq0iF07d7J33z769+vXaDJkVYiiwYOHEBUV1WgUjuspz32H3lZPQFAQ4WFhBAQEYGNjc9Oc3YIgUFxSwooVyykqKqJHjx6Eh4fXVdcV6hmKYK6Eq6srvXv3ZufOnSxfvpzRo0cTEhJyS3tiFdcYDAbs7OzudFfrDRVWpYODw93uym3HbDazevVqkpKSiIiIoFOnTnesrejoaLp27cry5ctZtHAh0VFRf+gk1KAol0cDBw1iwvjxjUbhqIkKB7fa5OwWBIEdO39l2bJl6PV6Ro0ahZOTUx30VqE+orj8VUIQBIYOHUpoaCgnTiTy5ZeLKS0trZUXacUP8V76q4u8y3WNSqXiyJEjfPHFf1GpVIwYMYLg4OA71p6joyOPPfYYnp6ebNiwni+++KLxeWhXKjDRmP+k8pzgt1rZSqVSkZSUxL/ef5+cnBx69erFgAED6uALUaivKIL5Olq0aMHjjz+OTqdjwYIF/Pjjj/dAOJBCZVQqFcnJybzzzjskJycTExPD+PHj77gjTs+ePZk8eTIqlYoPP5zNt99+i8lkUkJmGjEqlYqUlBRenzmT3bt3ExQUxPTp03F3d7/bXVO4iyi/+OsQRZHx48czcuRIioqKeO211/jmm28oKSlRPCQbOYIgIIoiJ0+e5KWXXmLjxg34+vryyiuvEBIScsfb12q1TJs2jVGjRlFUVMQrr7zCvz/6iMzMTCXZRCOjQtk6ePAgzz33PCtX/Iy7uzszZ86ka9eud7l3CncbZY+5Gtzc3Jg1axa5ubmsXbuWGTOmc/z4cR599FGaNWuGjY1No1u6/StUThphEW4CDUnnq9gPvHbtGpt+2cQnH3/M4cOH8fT0ZNasWQwcOLDO+uLp6cm7774LwNKlS3nn7bfYHx/P5Mcfp0NsLE6Ojg3Ggq5QdCr0CUEUFeUWMBqNpKSksGr1ahZ+voDz58/j7e3NG2+8wdixYxvM96tw51AEcw2EhITw0Ucf4erqypIlS5g//zPWrVvHoEGD6NytK6HBIY3S4am2CIKAyWSioKAQgNzcPNLSLjUYpyWTycTly5c5cuQI69bFsX37dkwmE+Hh4cycOZORI0fWeUx6QEAAc+bMITAwkP/+97+sWxfHtm1b6dipE926dSMiIhJ3Nze0Wm2d9qu2CIJAQUEB+fn5AFy8eIFjx441euev6pBlmYKCAlJTU9m/fz9bt23l9KlTiKJITEwMr776KgMHDlQSiigAIMiK6feHXLt2jR9//JFFixZx7NgxjEYjKpUKdw8PnJ2cEURleVGWZVKSkykqKsLJyRlfX58Gk/O5tKSUjIzLFBZaFAt3d3cGDBjAlClTaNeu3V21XkpKSti2bRuLFi1i+/btZGVlIcsyarUGW1sdanX9nsQFwRKtkJuba6nMZmODnZ3dTVPeNjYEwfIbKS01UlJSjCRJaDQaQkJCGDlyJOPHj6dp06bKVoWCFUUw3wKSJJGSksL69evZtGkTiZdIdTcAACAASURBVImJZGZmNrqEGn+FkhJLGlMbG5saK+fUR0RRxM7ODn9/fzp27MigQYOIjY3FYDDc7a5Zyc3N5eDBg2zevJkDBw6QmppKXl7eH6aNrS/Iskxubi5GoxF7e3v0ev09uQ0kCAI6nQ43NzeaNWtG586d6dGjB6GhofdclkCFm6MI5logyzKFhYWkp6dz6dIlCgoK7slJpjIVccwfffQRO3bsYOzYsYwdO7bBfC4ajQY3Nzf8/PxwdXWt15Ok2WymoKCArKwscnJy6r1iKAgC+fn5vPrqqxw8eJCXXnqJ4cOHN5htjtuJIAgYDAZcXV1xcnLC1tb2bndJoR5Tf2eheoggCNjZ2REaGkpoaOjd7k69oaSkhJ9++gmAsLCwOnWWupdQqVQ4Ojri6Oh4t7tyy+Tm5lr7GxwcTPv27e9yjxQU6j+K+5/CbaHCQr4XrSGFmqmcfKahrKIoKNxtFMGsoKCgoKBQj1AEs4KCgoKCQj1CEcwKCgoKCgr1CEUwKygoKCgo1CMUwaygoKCgoFCPqLNwqepKA1bOsXy72qh4bk3n6zK7Tl23p6CgoKDQ8KkTwZyfn8+XX35JUlKSNcVhRYq+tm3b0qdPH5ydnf9yOwcPHuT8+fMMHz4cURRJS0vDyckJe3t7ioqKWLJkCZ07d6Zp06Z/ua2bkZaWxoYNG3jggQcaVNypgoKCgsLdpU4Ec0FBAStXriQkJIRmzZohSRKCIHDt2jXmz5/P/v37mTVrFnZ2dn+pnZSUFA4ePMjQoUMpLS3lgw8+YNiwYdx///0YjUb27t1Ls2bN6kQwZ2RksGLFCvr27XtbBLMsy+Tl5ZGamsrZs2e5dOkSRUVFAOh0Ory9vQkJCSEgIAAnJyelQo2CgoJCA6VOBLMsyxgMBh566CG6d+9e5dy+ffuYMWMGBw8epFu3bsDvqQdlWcbOzu6GNIllZWXWogMGg8F6vmfPnsTGxqLRaCguLiY7O9sqvOzt7fnb3/6Gq6trlX4VFhZiMpnQ6/VVqvVUXnYvKirCaDRiMBhuyANdVlZGQUGBtS8V1WEqSt79VcxmM2fOnGHdunVs3LiRs2fPWvtb0ReTyURRURGiKBIYGEjPnj0ZPHgw4eHhSrUaBYU6pmJeqZzLXJZlVCoVer3+tqV9NRqNmM3matN7yrJMcXExNjY2dZJm1mw2U1paik6nU4yC28BdT8kZHh6Op6cnaWlpAFy4cIEff/yR5ORkALy9vRk1ahTNmjUD4MyZMyxbtoz09HSMRiN+fn488sgjBAQEkJSURGpqKkajke+//57jx4/zww8/cO3aNQYNGsSvv/5Kx44dsbOzIzc3l59//plDhw5hNptxcHBg4MCBdOrUCVEUiY+PJyUlBb1ez65du8jJycFgMDB27FjatWsHQGJiIkuWLLFW/XF2duahhx6iZcuWt+WzuXTpEl9//TXffvsthYWFxMTE8NxzzxEREYG3t7e10EJxcTEZGRmcOHGCX3/9la+++oqvv/6aUaNG8eijjxIcHHxb+qOg0NAwm81kZWWRmprKhQsXyM7OxmQyYWNjg6urK02aNMHf3x9nZ+fbVis6NzeXv//97yQlJVWp3S4IAmFhYUycONE6n/0Vtm3bxrFjx5g2bRqCIBAfH09AQAC+vr4UFBQwe/Zshg0bRtu2bf9yWzcjKSmJb775hqlTp+Lh4XHH22vs1Klgrs4R6sKFC2RmZuLp6UlmZiZvvfUWPj4+PP3006jValatWsWbb77JO++8g5ubG7Nnz6ZZs2ZMmzaN4uJiFixYwJw5c5g9ezaJiYns2rWLTp06ERUVxZYtWwgPDycyMpKysjJWrFiBr68vAQEBzJ07l5SUFB599FG8vLzYu3cvH374IUajkZ49e5KYmMinn37K8OHDGTNmDAaDgR9++IH33nuP+fPnI8sy77//Pq1ateKRRx5BEASWLl3KnDlz+Pjjj/+S05csy+zevZs333yTkydPMnjwYMaPH0+rVq3Q6/XV3tO0aVPuu+8+xo0bx6lTp/j+++/57rvv2Lp1K6+//jp9+vRRitQr3DMUFBQQHx9PXFwce/bsIT09HVmW0Wq1qFQqzGYzJSUlqFQqfH196dSpEwMHDiQqKqrG39itUlpaysmTJ+nduzft2rWzpqnNzc1l+fLlvP7668ybN+8vC7DKq3IlJSUsXLiQUaNG4evrC1hyq9eV82l+fj5Hjx6luLi4Ttpr7NSJYBYEgdLSUjZs2MDFixer7DGvX7+eZs2aER0dzfLlyzEajTz//PM4OTkBMHXqVF5++WWWLFnCqFGjOHPmDJMmTSIkJMR6ftWqVZSUlCCKIoIg4OzsTOfOnfn2229p164d7dq1Izs7G0EQUKlUHD58mL179/Kvf/2L8PBwAIKCgsjNzeXrr7+mQ4cOANja2vLwww8TGBgIwLhx49i1axfnz5/H0dGRwMBAJk2ahJubGwDDhg3j2WefJSMj40//ICRJYs2aNbzyyis4Ojoyf/58evXqhU6nu6X7dTodbdq0oWXLlvTv359//OMfTJkyhTfffJOHHnqoXldPUlD4q5hMJvbs2cOCBQv49ddfcXV1pXPnzsTExBAcHIyLiwsajQaj0UhWVhbnzp1j7969xMXF8cMPP9CjRw+efPJJoqOj/9JvRafT0b59e+v2XAVRUVFMnjyZAwcOMGDAAMAisNPS0pAkCV9f3xscYQsLC0lLS6O4uBhPT088PDwQRdFqgAiCQE5ODgUFBeTm5lJYWIher+f//u//qvjtlJWVcenSJbKzs3F0dMTX19e6HWY0GpEkCVEUuXjxIvn5+VXaAovBkJWVZVVyvLy8cHd3t0bXVMy/Cn+dOhPMJpOJQ4cOkZGRYQ2dUqvV9O3bl1GjRqHX69m/fz8dO3a0CmWwCMdu3bqxbNkyxo0bR1hYGP/4xz8YNmwYkZGRBAYG8uyzz1ZZMqpM5dcqBs2hQ4cICAi4wQmsa9eurFixwrqs3rx5c7y8vKzn7e3tsbOzo6CggKioKF544QWuXbvG6dOnuXLlCvv27ePy5cuYTKY//Vlt2LCBF154gebNm/P+++/TokWLP/UcjUZD9+7dCQoKYubMmcycOROVSsWYMWOUPSCFRsm1a9f4/PPPmT9/Ph4eHrzyyisMGDAAPz+/GoVs165deeSRR0hJSWHNmjV89dVXjBs3jmeeeYZJkyZhb2//p/pSXXgoYC37mJubC8CePXv49ttvAUttcKPRyMiRI+nVqxeiKPLbb7+xaNEiSktLkWWZ7OxsBg8ezOjRo9mzZw+JiYn07duXRYsWkZCQQFFREVeuXOHBBx9k4cKFDB48mDZt2pCTk8OXX37JsWPHcHBwoKCggMDAQB5//HE8PDzYvHkzhw4dwsnJifPnz1NaWkpmZiYjR45k+PDhCILA+vXrWbZsGQaDAVmWyc/PZ/To0fTv3/9PfUYKNVOnzl9Tp06le/fuSJKELMuIooiNjQ2CIFBUVERhYWEV56wKnJ2dKS4uRqvVMmvWLJYvX87OnTtZtmwZKpWKsWPHMmbMmFvuS05ODk5OTjc4Rjk6OqJSqcjLy7MWNq9p+TcnJ4dPPvmEgwcP4uTkhLu7Ozqdzrrv+2dISEjgtddeIzg4mI8//pigoKA//awKAgIC+OCDD5g+fTpvvvkmfn5+dO3a9S8/tyYUjVnhbpCens7f//531qxZw0MPPcTUqVMJDAy8pfGo0Who2rQpzz77LP379+ff//437733HsnJybz66qvWFbHaUrnimiAIlJWVsWfPHjIyMggJCeHs2bPMnj2boUOHMmTIEFQqFVu2bGHu3Lk4OjoSFRXFwoULcXR05JlnnkGtVrNlyxY+++wzoqOjuXz5MomJiUyaNIknnniCc+fOMWTIEIYMGYIsyxw9epTOnTsD8MUXX3D8+HFeeuklAgICyMjIsG67vfnmm6Snp/P999/z3HPP8eqrr6LValm5ciWLFi2ylupcsGAB48aNo2/fvgiCwJo1a/jiiy9o37698ru/zdSZYBYEARsbmxu8mivQaDQ4ODhw+fLlG85lZGRgMBgoKSkB4Mknn2TixIlkZmaybt06FixYQERExC1ZgoIg4ObmRlJSEqWlpVU8sbOysjCbzX8YU12xbLNq1Sri4+OZOXMm4eHhGAwGUlJS2L9//58qb5eXl8fs2bMxmUy8++67eHl5ce7cObKzswFwc3PD09PzT+1/eXt789ZbbzFhwgTee+89mjVrVmUlQEGhIZOZmclrr73Gpk2beOONN5gwYUK1nso3o8I5a/bs2YSGhjJnzhzKysp4++23axXyWGFofPrpp8TFxVkFc25uLidOnGDAgAG0atWK//znP/j5+TFmzBjrvDh48GCOHDnCsmXLCA8PJyMjA1dXV3Q6HVqtlt69eyPLsvX9iaKITqfDx8cHg8GAh4cHrq6u1q07URRJTU1ly5YtvPrqqzRv3hyAwMBAnnrqKWbMmEFiYiKCIODv78+wYcNwcXEBLFEuP/zwAxcvXsTX15dhw4bRr18/q/HRokULsrOzycrKUgTzbaZOM3/9ERqNhg4dOrBq1SpGjx6Np6cnYNl/2bx5M7GxsSQnJ/P555/zwQcf4OXlRZMmTRgxYgRxcXFcvXoVQRCqtCPLcpX6wBXnoqOjWbp0KceOHSM6OhqweG9u3LiRwMBAfH19a6wrXLFElZaWRsuWLWnfvr1VIThy5Ii1H7Vl/fr1bNmyhSlTppCQkMA777zD6dOnrc4UBoOBli1b8sADD9C3b18cHBxq9fzQ0FBefPFFpk6dytKlS5k6dWqt+3g9RqORU6dOsXv3bhITEwFL+FtcXBzR0dGKd6bCHae0tJSPPvqIDRs2WJXPv+pHYWdnZ7VQ33//ffz8/Jg+fXqtniuKIi4uLnh6elrnkiZNmjB27Fg6dOiAIAicOnWKzp07VzFWRFEkOjqaL7/8ErPZzNChQ5k7dy6nT5+mbdu2REZG0q1bNxwdHW+6dQcWJSEpKQmtVmsVyhUEBgbi7u7O6dOnEQSBgICAKvOKjY0NWq2WkpIS/P39GThwILt37yYpKYnMzEwSExOtW5MKt5c622O+FWHVv39/4uPjeffddxkxYgQajYY1a9YAMHLkSGxsbBBF0RoGoNFo2LJlCy4uLkRERJCenm4VzlqtFg8PD1avXo2dnR0tWrRAFEUkSSIyMpJ+/frx73//mzFjxuDt7c2ePXvYs2cPL7/8stWKrq7PFVpodHQ0H374IUuXLiU4OJhTp05Z9282btxITEzMLQvonJwcvv32WwRBYN26dSQlJdG6dWsmTJhAUFAQsixz9uxZtmzZwnPPPUefPn2YOXNmrcOg+vTpQ48ePfjf//7H8OHDrd6bf4YLFy7w2WefsWrVKjw9Pbnvvs707duP1NQU/vb663i5uzN16lT69u1b4yqJQuOnwiHodsX1X8/69ev56quvePLJJ3nkkUcoLCwkMzOT0tJSDAYDrq6uGAyGWivLNjY2PP7446SmpvLpp58SFRVFr169buleWZbR6XTV5m2ooKioCJPJVK1Tp1arpaysDLPZzIgRI2jWrBk7d+4kMTGR1atX4+fnxzvvvHPL78loNKJWq2/YlhNFEY1GQ2lpKWAxjqp7piiKnD9/npkzZ1JcXEzLli3x9/fH19fX6gimcHupE8Hs4OBQxZO6JlxcXJg5cyZr1qxh7dq1yLJMcHAwU6ZMwdvbG4BZs2axcuVKVqxYgSiK+Pn58frrr+Ph4UHbtm3x9PS0DsIpU6awefNmsrOz0el0jBs3jpCQEERR5IknniA4OJi9e/dSUlKCh4cHf//734mMjASgffv2BAUFVRnMer2ecePGERQUhJeXF8XFxezcuZP4+Hjr0lCfPn3IyMjAy8uLSZMm3dIS2JEjR9i7dy9ZWVnWkLD+/ftXuVeWZZ588kmWLVvGP//5T6ZPn868efPw8/O75e+hIsnLU089xa5duxg9evQt31uZc+fOMWPGDHJycnjr7bfp1rUrhYVFZGRk0KxZM9LSLvLNN9/w4osvcvnyZSZNmqR4g99jmM1mUlNT2bVrFxkZGajVavbt20d4eDgRERG3JRteRkYG8+bNo3nz5sTGxvL+++/z66+/cvnyZYxGI3q9noCAAPr27cvQoUNrrYjq9XqeffZZ9u3bx7x584iKiqrimPpX0Gq1eHp6cu7cuRvOJSUl4erqitlsZseOHURFRREZGYnJZCI5OZmXX36ZdevWVbtcX51g9fb2Jj8/nytXrlT53HNzc8nMzMTX15eUlJRqBWzF81avXg3AvHnz8PT0RBRFTp06xddff/2nPwOFmqmT2dJgMDBs2LBbutbNzY0JEyZgNBqtlm/lwRYQEMAzzzxj1fIqn2/RokUVL+amTZtW8bweNGiQ9f+2trYMHjyYfv36UVZWho2NTRUhXCGgK6PT6Rg8eLD1eOjQofTv3x+z2YxWq0UUxSoOW7fqvPXrr79y9epV2rVrx6effkpsbOwN1wiCgKurK4899hju7u48//zzzJ07l7fffrtWFmlMTAwBAQFs27aNESNG1Fpg5uXl8Y9//IPS0lI+//xza6KErdu289OSJXz++QJatGjBrFmzCAgIYM6cOTRp0oR+/frVqh2FhsvVq1f58ssv+fHHH9FobGgWFkbr1q1JS0vjqaeeolmzZkyZMoVu3br9pdj6jRs3cujQIaKjo5k+fTpms5mOHTsyaNAg7O3tuXLlCvHx8bz//vv89NNPzJw5kx49etTKevb39+eJJ57g1VdfZdu2bbc8j9XklV2BSqWiZ8+ezJs3j+PHjxMREQHA+fPn2bRpEw888ACiKDJ37lzGjx/PkCFD0Gg0+Pn54enpac0qdn3hnopMhxVIkkTTpk3x8/Nj2bJlPP/881aLfNWqVej1etq0acP58+drfB9gsbqdnZ1xc3Ozeo9v3bqVzMxMTCbTTd+vQu2ol2aMIAhVnLKqO3+rcb03Q6PR/KW0lX91mbawsJBDhw7h4ODA3/72t2qFcmVEUbQ6iHz33XeMGjXKuk9+K7i6utKuXTsOHz5MTk5OrT1ON23axP79+1m4cFGV7EUmk5GioiIqfpparZaJEyfy22+/WZWN21GoRKF+k5aWxquvvsrJk6f4v/+bQp8+vSkrM5OZlUlQYCBJSUl8+eWXTJ06lddee40xY8b8KeFcUFDAqlWryM7OJj4+ngcffJApU6YQFhZW5TdZUFDAzp07ee+995gyZQqffPIJvXv3rlVbFeFIy5cvp1+/fjedewRBwM7O7qbzSrdu3Th58iQffPAB9913HxqNhp07dxIZGcnAgQOxs7NjyJAhLF68mHPnzuHu7s7JkycxmUz069eP+Ph4qzOoTqejRYsW/PjjjxQWFtKnTx8MBgMqlQpbW1umTp3Khx9+yFtvvUV4eDjnz5/nxIkTTJ061Rrbfb0FLgiCNYVor169eOONN3jvvfcICgoiOTkZtVpNs2bNWLJkCf3798fOzk4JxbxdyAp3lbS0NLlNmzby4MGD5ZycnFu+79ixY3JYWJj8z3/+s9ZtfvbZZ3JYWJh88uTJWt1XUlIiT5w4UZ42bZpsNBqrnPv+hx/kwYOH3PAeDhw4IEdGRspbt26tdT8VGhaFhYXytGnT5Ps6d5YPHDxofX3Z8uXy2LEPy7m5udbrPvzwQzk8PFzevHnzn2rryJEjsr+/v6zT6eRZs2bJeXl5f3j9yZMn5R49esidOnWSk5KSatWWJEnyW2+9Jbdo0UL+7bffbnp9aWmpfOTIETk7O/um15aUlMi7d++W58+fL3/66afy1q1b5cLCQut5o9Eox8fHywsXLpTnzp0rL1u2TL506ZIsy7Kcnp4unzx5UjabzbIsy/K1a9fkHTt2yPv27ZMLCwvlY8eOVelDWlqavGTJEvmTTz6Rv/vuO/ncuXOyJEnWc6dPn7YeV7SdkJAgZ2dny5IkycePH5cXLlwoz5s3T16/fr2cm5srnzlzRt67d6989epVOSEhQS4uLr61D1XhD6mXFvO9RG5uLrm5ubUuDxkYGEhISAgJCQk3hH3dDG9vb3Jzc5k/fz6BgYG3vARVWFjIrl27ePudf1BUXEzBlStQnk0tKzOLoqIiLqWnU1hUhCzJqNQqi5OIvz8nTpyo0RFGoXGwfft2fvnlFz6ZO5eo8nzyYPGczsvLQyofZ3q9niefeoqkpPP85z//ISoqqtZ7zomJiVy5coXhw4czbdq0myYCad68OTNnzuTRRx9lyZIlvPTSS7e8pC0IAh06dGDRokWcOnWK0NDQP7zexsaG1q1b39KztVotHTt2pGPHjtWe12g0xMTEEBMTc8M5Ly+vKmGPTk5OdOnSxXpcsTxegY+PD6NGjaq2HR8fn2rbrryl17JlyxvqADg4OFi3C/9svLfCjSiC+S5TVFSELMvV/jD+CBsbG9zd3cnKyqKsrKxWglmr1VJUVMTHH39c2+5aPF1dXFi0cBErV660et1eTL/E5bQ0Jj/+OFq1GkmWcXZy5rXXXsPL3Z3MzMxat6XQcDCZTKxevZpOne6j8333VTlX4ZVdWQwa9HomTBjP5MmTOXr0aK2T3pw5cwaDwcDEiRNveYukY8eOdO3alfXr1/PYY49Vm8yoJoKCgrCzs+Ps2bO16qeCwp9BEcx3GZ1OZ81+VhtUKhX29vbWalq1yThWUFCAIAh06tQJNze3W7KYBUGgpKSEI0eOUFJSwqBBA4mMjLDmH//ll81s3vwLL73wAnblKfu0Wi0+Pj7k5xf8pYxoCvWfnJwcEhMTmTx5suW4POWkWiVSWFCA0WgiLy8PABlQiSIhISE08fdn8eLFnD17tsbcAdcjSRJbt24lJCTkli1TsPzW7rvvPvbs2cOlS5dqJZidnJxwdnbm8uXL1oRJCgp3ijrL/HV9fdLKaDQa9Hr9XRvscqXapRUFN+qqrqidnR1arZYrV67U6j6VSkVoaCgbN27k4sWLt2w1SJLEoUOHsLOzY/bs2bRp0waz2XzT+wRBoKCggMcee4yEhAQGDRpIWFiY9fyVq5kkJh6nR/fuVZYlz507R0pKMuPGPVKr96fQsCgqKqKoqAgPDw8WLlxIXFxc+WqKSEpqChdSL/DYY49hY2ODJMk4OTkyY8YLeHp48OWXX9Y67EaSJIYMGVKlSMOt4OnpiclksuaqvlVEUUStVlNUVIQkSUqlNoU7Sp0I5mvXrvH2229z9uzZG7yYJUmiffv2PP/887fN07q2lJSU8NFHH3H//ffj6urK4sWLee655+pkz8TR0REPDw/OnDmDyWSqlYd4x44d+fjjj4mLiyMiIuKWFJtz586xdu1a3N3dCQgIqFXqQoPBQO/evVmyZAkPP/wwAQH+1nOybMl/Xtn2lmWZdevWoVKp6qQmrMLdQ61WI4oipUYjHTp0wNnNDUEQUIsqduzYzq6dOxn94Bj0dgaQLAk43NxcKS4uJjQ0FD8/v1qF25w4ccKac7822NnZIUkS+fn5tbrPaDRSUFCghAQp1Al1IphLS0s5ceIEvXr1qlKfFCyTt4eHx18KWfqrlJWVkZiYSOvWrevcgcHe3p6WLVuyb98+srKyapXDOjIykr59+7J48WK6dOlCp06d/vD63NxcPvroIxISEhg7duyfCl8aOnQoy5YtY+7cubzxxhs4OPzudHP9nLVr124WLVrE448/TpMmTWrdlkLDwcHBAS8vL06cOMHQIUOqhPBJksSF1FRGPjCiymrKhQsXSElJ4dVXX2X48OG3tHIDljlj5syZHDt2jNLS0lpZzT4+Ptja2nLq1KlaVUW6ePEily9fxsPDQ7GWFe44dbaUrdPpiI2NvaE+aeVrioqK0Gq15ObmcunSJWxsbGjSpEkVq06WZTIzM7l8+TI2Njb4+flV2b+sfF6r1eLn53dD4QeTycSlS5fIzc3Fw8MDW1tbq7UZEBDAtGnTcHZ2xmw2Wz2er1y5wtWrV3F0dMTHx6eKImE0GklLS6OgoAAvLy9cXFxueTlcpVLRuXNnli9fzqFDh6w1Wm8FnU7HM888w5EjR5g+fTrvv/8+nTt3rjZpSEpKCnPmzGHx4sVoNBq6dOnypxL9BwQE8NprrzF9+v+zd99xUV3p48c/dwozMPQqIEUUFFABxd47Rk00ZjVtsylf0zYxu2mbZDcb/aVvookxxbWkmU3RxAgaNbZYUDEqNhQBGwoinRna9Pv7A5mAYC+gnndevqJzZ+6cGQ73uac951msNhtTpz5NRLt2xMbEMmnSJLQaDdXVNaxdt44333idfv36ce+994oxuZucm5sbgwcPZmlyMg/8+c+Nsmw115sCsHbtOoxGI/369bvk3O+dOnVi/fr1FBcXX9JYcUhICJ07d2bFihXcf//9+Pn5XfA1NpuNlJQUysvLHXuzn4/VauXEiRNUVVU1OSbLMh4eHoSGhrbYml+73c6pU6fw8PBArVZTVFREYGBgizaOhMau6+Sv83UD6fV6Zs2aRXh4OIcPH6a6uprS0lL8/Px49tlnCQoKwmKxkJKSwsqVK3FxcXFk7JoyZQqxsbFNjlssFlxcXHjkkUccGcHKysqYP38+2dnZuLu7Y7fbiYuLw2KxIEkSJ06c4Msvv+SZZ56huLiYhQsX0qFDBw4ePIjZbKaoqIgePXrw2GOP4eLiQmFhIXPnzuXkyZO4urqiUqmIi4sjMzOTqVOnXtRGDn369CEoKIglS5YwdOjQS+rSj46O5v333+ell17ikUceYeLEiSQlJREWFoZSqaS4uJitW7fy/fffk5+fj4eHBx4eHle09ePw4cOZNWsWb7/9Nvfeey9DhwwlJiYarc6F+fPnk7plC/v27mXixImOmxzh5nfHHXewePFi5syZw8svv+y4IZbtTX/39+7dy5w5nzFp0qTL2t40OjqampoaMjMz/UZDvwAAIABJREFUm2zOcD6urq7cc889TJ06lYULFzJ16tQLZr9bs2YNX375Ja6uro2S6pyLXq/nhRdeoKCgoMkyrvrsZP/85z9bbOiutraWd999lwkTJtCmTRvef/99x452Qutw3TaxsFqtjuw1DbusJEkiJCQEq9XKpk2byMrK4sUXXyQqKoqioiJefvllFi9ezDPPPMPatWv55ptveOaZZ0hMTMRkMjF79mxmzJjB7Nmz2bx5MwsXLuRvf/sbiYmJGI1GFi5cyNtvv817771HQEAAn3/+OVlZWbz88ssEBweTn5/P3LlzycjIcOzFvHv3bsfay6VLl3LHHXfw17/+FT8/P/bt28err75KfHw8AwcO5OOPP0av1/Ovf/0LX19fsrOzee+99zh8+DCPPfbYRX0/wcHB3HXXXXz88cekpqYyfPjwS/p++/btyxdffMGCBQtYvnw5P/zwA66uriiVSscM7N69ezNx4kQ+++wzxo4de8G1mOejUCgYNmwYnTp1YuXKlfz2229s3ryJ6upqAgIC6Nq1K0/99a/06NHjkpZxCTe2iIgIXnnlFV588UUAnnjiSYKCAomICGfo0KFonJywWCxs2bKF6dP/Hx06dOChhx66rK7h6OhoAgICWL9+PePGjbuk1LJJSUlMnDiRDz74AJ1Ox/3339/sqgGz2cyvv/7KK6+8wsmTJxk6dOhF/d5YrVZqa2v529/+Rr9+/ZoM3Tk7O7fo74XdbqesrIza2lq8vb0vu/dMuHauW2Cu35900aJFjsdlWUalUvH3v/+d7t27o1QqGTlyJPHx8UBdEo0BAwZw8OBB9Ho9P/30E6NHj3YkqnB1deWRRx7hl19+oby8vNnjDz30EDt27GD9+vUMGjSIDRs28NJLLzkWxXfo0IHJkyezatUqxzKI+rW5UDfh6c477yQsLAyAbt260aFDB3JycggKCmLXrl288847hIbWTYSKj49n1KhRHD169JK+n8mTJ5OSksLMmTOJjY11bNpxsdq3b8/06dN55JFH2L9/PydOnMBqtRIQEEBsbCz+/v68/PLL6HQ6HnrooavSbRUcHMz//d//8ec//5kDBw6wePFi/vrXvxIUFCRS892iRo8ejSzLvPXWW6SmppKUNJqY2FhiYzvz88/JbN68ic2bNzF48GD+8Y9/OLZ3vVRt2rRh+PDhJCcnk52d3ShH/oXodDpefvllamtrmT59Olu3bmXSpEnExMQ49n3PyckhOTmZlJQU7HY7zs7OjBw50rFX8YUolUr8/f3PuXGG1WqloKAAT09PTpw4QWZmJhqNhvj4+EbzMUwmExkZGRw5cgRnZ2e6dOlCWFiY4/p09vGuXbsSGhraaOiorKyM3bt3U1JSQlhYGO3atXMc9/b2ZsiQIbi4uFBbW0tJSQmenp5kZGRw4sQJfHx86N69e6Ner+LiYkdK36ioKDp06EBZWZnoDr+KrtsYs06n44knnqBfv35NWsw+Pj5UV1ej0+mabGXo5uaGzWajuLiYwsLCJnmhQ0JCePzxxzl58iQFBQVNjnt6etK5c2cOHDjgGNdpuLEF1N3pR0RENOluk2WZgICARsk/lEolrq6uWCwWTpw4gYuLiyMo14uOjj7nfqnnEhoayvPPP8/TTz/N+++/z7Rp0y6YzehsarWa9u3bN9nFy2Qy8cEHH7B69WreeOONS7qIXQyNRkNmZiZLlizhjjvuuKQdr4Sbi1KpZOzYscTExLB06VI2btzIokU/YDabcXd3JzY2lnfffZfBgwdf0dp2pVLJxIkT+fHHH/nf//7H9OnTL6nVHBgYyH/+8x+6devGV199xRNPPIGnpyeurq7U1NRQVlaGt7e346YzOzubcePGXVK2sPM9V6/XM336dIKDg7HZbPj4+HDixAkWLlzIq6++SpcuXTAYDHz66adkZ2cTHR1NdXU1//vf/3jwwQdJSkpyHM/KyiImJobKykrHiolRo0YhSRJHjhzh/fffR6PREB4ezu7du3FxcaGyshKFQuE4/vbbb1NQUMB//vMfOnXqhM1mw8PDg1WrVvHzzz8zffp0fH19ycjI4MMPP8TLy8vRMHF1dSUnJ4d33nnnkhMlCc27boH5QneQ1dXVKJXKc/5yWa1W7Hb7OcdlbDabY5LZ2bRaLWVlZZjN5mbfQ6lUnrNrqX4ZSHMudp/pi3XbbbeRnZ3NzJkzcXV15bnnnrvkSTFnq62tZc6cOcyaNYsHHniAu++++6pPxKrfUCA7O5vly5fTs2dP0WK+hUmSRPv27Xn22Wd5/PHHSUtLIzU11bEz2tXanzsuLo4//elPfPvttwwZMuSSh4C8vLx47LHHGDduHOnp6Rw6dAiDwYBOpyMyMpLu3buzZ88evv76a5544omLHsuuz4WwevVqTp061agrW6FQ0Lt3b9zd3Tly5AgKhYI33ngDf39/ampqeOGFF/j555/p0qULP/74I/v37+eNN96gXbt22Gw2vv76a7788kt69uxJcnIy+/bt480333QcX7ZsGZ999hnt2rUjIiKCTz/9FG9vb15++WVcXV2prKxkzpw5HDhwwLFLVElJCXa7HYvFQnp6umMOjbOzMydOnODJJ59ky5YtjBgxgo8++oioqCiefvppnJ2dKSoq4tVXX+XgwYMXPateuLAbJvOXh4cHLi4uHDt2rFGLr6ysjOTkZHr16oVOp+P48eON8rlaLBaOHTtGREQEbdq0wWQyUVJS0mhZVFlZGQUFBZcUsGRZJjQ0lKqqKo4dO9Zone6+ffuoqKi45ACoVqt58sknMRqNfPrppxQXF/PCCy9c1uQYgNOnT/PRRx/xxRdfMGnSJP7xj39ckwxc+/btY/PmzQCsXLmSKVOmOLr+hVuXJEnodDoOHDjAypUreeCBB65aUIa6m+ZHH330zJj1dNq2bXtJE8EAx57ubdu25fbbb290bO/evbz55pvExsbyl7/85ZJuNi0WCzt37qSgoKBRYFapVISGhuLu7o6zszNJSUmOCaIuLi4kJCSQnp5OcXExa9eu5c4773T8/iuVSsewWk1NDWvWrGlyPCkpiRUrVrB+/XqUSiWZmZm8/fbbjiVlbm5ujiWP9UN39dcpWZbx8/MjKSnJMeYcFBRE+/btOXXqFFlZWeTn5/PSSy85jvv7+zNmzBgOHjx4Sd+7cH7XrVljt9upqqqisrKSioqKRn+qq6sd+3k2151st9vx8vKiT58+LF261JF3WZZlfv31V1auXImvry+9e/fm559/bpSXOS0tjaNHjzJ48GAiIiIICQlh2bJlWCwWoO4XaOXKlZw8ebJRBW34/uf6PBEREXTv3p1PPvmEgwcPUlZWxoYNG1i3bt0l73NcT6fT8eyzz/LKK6+wcuVK7r//fr777jvKysou+hwGg4Fly5bxl7/8hYULF/Lkk08ybdq0ix4fuxQ2m43ly5dz+vRpoC7xw4YNG676+wg3ppKSEpYtW0Z6ejrr16+/6ucPCwtj+vTplJSU8Nxzz5GdnX1VzpuRkcHf//53LBYL06ZNu6Q5H/VDd88++yxz5szhs88+c/yZPXs2ffr0cfT+nb1qQ6PRIMsy5eXlGAyGJjcaHh4eDB06FJvNhl6vbzJLXKvVEhUVxbFjx8jLy0Oj0TQpe0BAACEhIc1ea729vfH09HQ8Vr8Fr91up7CwEFdX1ya5HkJCQnBzcxPJV66i69JiViqVyLLMjBkz+PLLLxsds9vtxMbG8vDDD6PT6ZoENCcnJ5ydnVEoFNx///28++67vPbaa/Ts2ZPi4mLS0tJ4+OGH8ff357777uOdd95xHDcYDGzZsoXJkyfTtWtXlEoljz32mGN5QGRkJLm5uZSWltK7d2+USiUKhQKdTufIAV3/94a0Wi0ajQaVSsUzzzzDF198wcyZM9FqtXh4eJCUlMTixYsvu6LWj8fHxsbywQcf8Pzzz/PVV18xbtw4+vbtS0hIiGPWdf2M95qaGvLz89mxYwcpKSns3LmTjh078sknnzBq1KhrNgs0NzeXFStWOD6r0WhkyZIlTJgw4Yq74YUb3/bt29m5cycWi4Xk5GTuuuuuS95J6kIGDhzIf/7zH55//nkef/xxXn/9dcfv86WyWq1s3LiRV199lcrKSmbOnEnPnj0vq1wajea8PQQKheKCrfCz84fLsozJZHI83lx+cbvd7mgJn6+xc64ynX29q3+9s7MzFosFs9nc6Hh1dbWjoSNcHdclMHt5efHaa6812+qrv0vz9/fn+eefbzKRatCgQcTFxaFSqfD39+ff//43W7du5ciRI3h6evLaa685uq4DAgKYNm2a47izszMvvviiIyhD3azq+hmjZWVldOnShV69elFaWoqvry9arZZ//OMfeHl54ezszAsvvNDoDlKhUPDAAw+g1Wqx2WwolUqeeeYZ9Ho9RqMRX19ffv/9d8ed5uVSqVQMHTqUuLg41qxZww8//MCMGTOYOXMmQUFBBAYGOi5wVVVVFBQUkJ+fj9VqpVOnTkybNo2xY8de87WJW7Zswc3NjaioKLKzs4mPj6eyspI9e/Zc0Vpp4cZnMplISUmhoqICqOu9Sk9PZ8iQIVf1fSRJYsyYMWi1Wl599VUeeughHn30USZPnkzbtm0vakjJbreTm5vLN998wxdffEFoaCifffYZ/c7aKet6qW+57t+/n65duzoez8vLY86cOdx33314e3uTkZHhWMUCdUEyMzOTfv36ERoaisVi4eTJk41mv+fn53P8+PFLHrpr3749ZrOZ3bt3M2LECKCuxyw1NfWyhu6Ec7sugdnJyanZ/UTP1rAC1gsMDGzUFePh4XHeVHoXOg51y7DOzuDTMANQ/Y41ze2rKkmSYy1jRUUFb775JiNGjCApKQmo6xpfv349YWFhVyWxho+PD3fffTdjxowhKyuL9PR0Dhw4QH5+PqdOnQLq7sxjY2O566676N69O9HR0Y1uJq4Vq9VKZGQk//3vf3n99dcdM1cnTZokJoIIZGVlsW7dOse/i4uLSU5Opn///ld9WY1CoWDEiBGEhoYya9YsZs2axeLFixk/fjxDhw6lffv2uLm5OTaqkWUZs9mMXq8nJyeHdevWkZycTGlpKRMnTuSpp5667LkdUHcdqM/bcPY6Zjc3N7RabbO5vmVZxmaz4e7uzm233caSJUuIi4sjOjqa2tpavvvuOwoLCwkNDWX06NH89NNPxMfHEx0djdls5qeffkKv1zNs2DBCQ0NJSEhg4cKFhIWF4ePjQ2lpKT/88MMfO301aD0317pu+Jy2bdsybtw45syZQ1VVFWFhYaSnp5OZmXnJK0iE87thJn+1Ru7u7sTFxTFv3jwOHTqEv78/hw4d4sCBA7z00ktXdaKLm5sbiYmJJCYmYrPZMJvNjuCnUChwcnK67HHty6VSqejduzdGo9HxmFKpbLJBu3DrkWWZdevW4enpSVBQEKdPnyY2Ntax5vZSJ2ldrI4dOzJjxgwmTJjAt99+yxdffMHcuXNp27YtYWFhBAQE4OLiQnV1NYWFhRw7doxTp06h1WoZNGgQ9913H7169bqi3i61Wo2fnx9ffvklixYtahTs6jMNPv3004SFhTVJF+zp6UlwcDCSJDFhwgQqKip47733CAkJQa/XU1tby9SpU3F1dWX8+PGUl5fz3nvvERoaSk1NDeXl5fz973933FQ8/vjjfPjhh/zrX/8iKCgIvV5PSEgI48ePR6fTodVqCQsLQ6VSOZZ+NryOSJJEmzZtHGlPH3zwQYKCgti6dSupqamOPBCfffbZZX9fQlOSLEbsr4jFYmHfvn3s3buXyspKxyS0iIiIW6Zrx2g08tBDD/H999/z2muvMW3atJYuktDCjEYjGzduxNfXlxdffJGNGzcyY8YMEhIS8PHxabRy4lqWIScnhx07drB7925yc3OpqKjAbDaj0Wjw8vIiPDychIQEevToQfv27a/KXAy73U5JSUmjG9aGNBoNPj4+6PV6Ryu+Xk1NDSaTCU9PT8f8kWPHjnH8+HFcXFzo1KlTo9zgDY87OzvTsWPHJvm/67u3y8vLadu2LREREdTW1qLVah3ZDj09PbHZbFRWVuLp6dlofF6v16NUKlGr1WRlZREREYFWq8ViseDs7MyKFSuYN28e8+fPv6S85cK5iRbzFVKr1XTv3p3u3bu3dFEEodXQaDSMGjUKvV7v6Dp2dnZm4MCB55x4dLVptVq6dOlCly5dsNlsGI1GTCYTVqsVlUqFRqNxBKerSaFQXFSO/OaCmIuLS6NWtEqlIjIy8pypQC90HOomk56deKnhDUh9OZRKZbNlqp/LYjAY+Pjjj0lISODBBx9Eq9VSVFTE0qVLiYuLuy7DZ7cKEZgFQbjqmlt6WK8lks/Ur7C4Fuv4bxXu7u7cf//9jk2APD09ycvLQ6vVXnbOc6F5IjALV9Wt0n0vXBxRH24uAwYMIDo6mpycHAwGA2PHjiUqKkpM/rrKRGBu5cxmc6teIyhJErW1tY7uSYvFQk1NTatONiBJUotMlrvarFYrZrO51X7XkiRRXV3tmKRoNpsb1ZXWSKFQoNFoRErZc5AkCT8/v4vax1q4fGLyVytVU1PD2rVr+eWXXygsLGzp4pyTJEnYbDb2799Pfn4+UVFRREZGttpgAXUX3/DwcMaPH0+fPn1uuB1x6utGc7mYWxNJkjCbzezYsYOSkhLi4uIIDw9v1XVDrVbTsWNHxo8fT7du3USAFlqECMytUG1tLTNnzmTmzJmXlIpTuDShoaG8/vrr3H///TfMBbimpob333+fWbNmibpxjUiSRMeOHXnnnXe4/fbbRXe8cN2JwNwKrVixggcffJCS4mKG9O5L/+6JqNRqQPyorpSERHVNDSs3bmBvVibR0dEsWrTohll7vXTpUh555BHKy8sZ1LMXPbvE3TA3FTeCapORXzduIPv4MRITE/n++++bbKMqCNfajT3IdhOyWq38+uuvFBcXMzCxJ1+/N4PgYLG/8dU2MWk0dz75OIcPHyY1NfWGCMxms5kVK1ZQVlbGsD59+fq9mQQFBoG4t76qNoxMY/LUJ8nIyCAtLU0EZuG6E4G5lbFarRQVFQGQGB9PcNCZ/auv98VXoYBWOnZ5xSSJLh070jkqipObTrXqMfyGLBaLo6z9u3UnKLjt9akXCgVIUt0fWa6rFzfrzYBCQY/OnYlpH8mmnb/fMHVDuLmIwNyKOSnOrAu83hdBq5XSinJ8vLzhJl2bKEkSTqq6z3YjjuY4Jqxd67JLEsWFpzl4+DDl5eX4+/vTtUMkrl5eN2dwPrNHsUqtOvPPm/AzCq2eGJwSGpMkispK+eDLL6kw6OtaSdfgPWoMBpavXYOxtubavMclFefGm9xzXeKF3c7K9euY9slstqTvIq+okDVbUvnn7A/ZtXfPhX9uCgW5J3JZv2XLlfe+SBI79uxm/4ED17y+SDdpR5Fw4xAtZqGxM8ufSvQV2K32P7owoe7iWv9v+1nH6iNF/bH6vzc8Bo5u0craGn7dmsqgxJ5oddLN2fq6kSkUpKXv4odflvHMXx4mITYWVCowm1m1aSMff/M10zw9CQs/swOTLDeuA5IEKiXHC0+zeddOhvbvB0iNg6rdXlcf6l/bsG41KAeyDEoluw8ewNXVjS4J8WBuvWv7BeFKicAsNKt+o3VDSSkniwupqqkhLX0XkiQxpE9fukTHoC8vo6i0lOraWrak78RittAroRt94hNApeJE7nFUKtUfY6E2GwcyD+Lh7s76tG1kHTnC0nWrGT1oEL5+ASI4txaShN1oZMmqldw2ZCgJ8fFgs9UFTLWapKHD2JeTzdJ1a3nmLw9xKCeb4MBA3DzqciWbqqrIyT2Gq86Vjdu2sS8zk1Xr1jG4Zy/yigpxUqvZeSCDw8ePExQQwKj+A/ALaEN5STHFZWVEte/gCOBHD+egdXamtKKC3/fsQeOipUNICD27xt20wyyCILqyhXNSKBQcOHaEV2bOYPOunXTs0B4XFxfemTuHk3knOXzyJK/OnsWyjRsIDw4htG1bvk7+meT1a0GSWL11C5t27XK0ko1mE5//uJjskycorSinqrqaopISTEZTi3dnCw1IEsVlpeSXFtO7a1zjG6Yzrdc+3btz8MhhDHoD/1u+nCMnTzpavKdLipn74yIKy8opLS/HUF1JUVkpRouZr5f+zNvz52KorKRbTCyFpaW8M/e/6MtKOXjkCIt/XdWoNyb5t3Vs2Z1OZXU1FZV6yioqKKsoEzdxwk1NtJiF86rbiUfJQ+Mn4BMUBEYzh48fZ++hQ/j7+lJVVcVD4yfQNiwcgLCgYOYu+p5hPXpjt9ux2W2Nzmc0mwny9qHr2PEcO3WK/5t8Nx7ePjfvDPAbVEVlJZIMHm5uTYOgLOPn7kFVbS01ZiMWmxW7XXbM2pZlOyazma4dozDddhve29J4YOKf4MwQSUxEex6cdDcolQzv249/f/Qha7dtxc/XF7Pd2uitLBYrsmynb79+ZGRn4ebqStKIJLA2fp4g3ExEi1k4L1khEdshqm6GtsUKSgXenp6YLGbsEnTtFE1wmzZ1F0qbjZh2Ech2G/nFhXUt5bNIkgQy2LEjyzL2hmOTQquhObNHsLm5PO2SRK3JjJNCgarZ7mSp7j+7jGSXsUvymYAt4+HqRveuXevqhtUKGg1x0dEcOnoUq92OJEtnvxUgOV4v6otwKxCBWbgghbJxNWnY66xQntUFrVQgKRRY7XZARuKP47IsY7Xb6q6z17C8whWSZfx8fNA6OdV1UTdzg3Xo2BEC/fxx1emQZblRnbDabI6NK84mSVKTTGVKSYHdbm92aZLVagPRmSLcYkRgFi5IPsfwr0KGfQczKSopqZuxq1SSd6oAm9VGkI9f3eSx6qq6SK5UUlxayomCgkZ79Srqk1cIrYcso3Nzp39iD376dRW1lYa6iVYKBSiVnM7PY82WVEb0G4DWSQN2mUpjLSgVoFJyJC+PiqoqZIWEXTqz/EipQJIkKioNpO/fX/c+SiXYbBw6fozw4GBc1Boqq6qRqRvHNhlryM49jizVBWw7dW1xlOKyJdzcxBizcEFSc81bCVAqqLVa+Sp5KcN698Fut/PtL8vo2607Xn6+dAxrx5xF3xMTGYmXi441aduQqWs1uThpqKqqYtGKX7hzxEh8/PxFF2Ur86cRoziam8vbcz5j1ODB+Lq6kVdUzNL1q+neuTODe/YElYp2IW1ZsmoFnlpnasxm1m7dgrNGg2SXcXfWcejYEZatXs2Q3r3RajVs37uH4FUriAoNIz3zIEdzT/DA7XcgSRKniwv56ddVdO7QgV2ZmRSXl6M+sz2nu07Hxh1ptA8JoVdcvJiVLdy0RGAWGpNlvNzc+dPIJJx1zkS2DcGpv+qP9aTA0N598fbw4HRFOX26JtC1UyeWr1uH2WKif7fu3D54KAD9ErpRVFbK8jWrcXdzp1+PHsRERuLt6YmbpyePTr6H/YcyqamtxUcSa5lbFVlG5+nJK489weq0razfkkqloRIvLy/uHJnEoG6JSGfGoe8eM5bvli/j66U/ExwYyJ2jR6M3GFCpVHSJjOSe0WOoMFRgsVhwd3FjYGJPCouL2bZzJz7e3jz/yCN1S+rsdp64/8+sXLeOPQcy6N41juenPIq/pxdYbYweMBCr1UpJaamoK8JNTQRmoTFZRuvqytABA0CWCQwKJjAouNGFsHt8AigUnNqxHaWTkqQBA0nq2x87Mgq1k+M8Sq2Wu8aM487hI+vWRTs5NTpP35696NuzV92MbDEru/WRZbRubtw+Monbhw6rm6GvVIFa3SihiKe3D0/8+S/YTCaUKlXdsEaDZCN3jL4NALvZhNVmJSwwmPGjRmOrrUWpVtc9/8wSqf49etE/LgG73Y7iTOCve7Edb18//jLp7sbJTAThJiQCs9C8+gtfcxfAMxdGnUZLgJd33eCfWl03YeHsNa+AQqNp/mIqgnHrV/9zUyhRaVR/bGJx9nMApVbb9OfcIKuXJEOAry9ajVPj5zc8n90OKhWK5npQREAWbhEiMAuXx26na2QUHUPD6ibjnO+CKS6mN4cL/RwvUAcklYr/mzARrVZ74ZsyUWeEW5gIzMJlUzg54VzfGhaEC5EknN3dRX0RhAsQgflmIknnXnp0qd3GFzsZ62Ivsuc7X8PNLsQksGujJepGc5p7nagbgtCICMw3EX1JCUVlpY0SNciAs1ZLaFBw3SSbiyHLGMrK0Ol0KDWaKy6X3Wym3KDHx9un2WQVxspKzGYz7u7ulOkr8Pb0EkthrrIbtW7oy8vQqNRonZ0pqygXdUO4JYjAfLOQZf774yLS0nfRITTM0bKwyTJtgwJ5fNI9F92NKFutzP/5J0b1H0BsdMyVTdJSKDhxKp///vA9/37yqaZlUCrZtHMHmceOct+425mz6AeeuudePL19ROvoarlR6wbwdfJS2oeE0q9bNz794XtRN4RbggjMN5HKyipuGzach++ciLVBSkSFQkKlcvqjO1OW65pLCumPLsIGe+PKskyZXl+XJ1mhaLpvLjS/L3PDfZgbnNNis1FcXla30UFdger+b7eDUkGNqZbyCj1urq6MHTQEV52u6T7QZ79/w3PU/13M2j2nFqsbFzhWXzdsDetGg+fqKw1UVdecqRuDRd0QbgkiMN9EJEnC2UmDQuuMU8OWzJm9kA8fzkEC0vbtpaCokB7xCSR07MTG33/n0NEjhIeEMG7gYDQaDQqVknJ9JSkrfiHr2BGCAtowqv8AfP38AbDU1LD+9+0cyDqETqdjWJ++dIhoD5JEZVkZq7du4XjeScLahhLg64NCUiIrAEniZG4ua7dtoUKvJy6mM1U1tSiUCmSbjNFqxi7L5J3IpdZk4nheHnsOHcTH04vRAwcTGBQEsszRo0f4LW0bhuoqesd3w8fdHXc3N9oEBokLcDOuZ90oLy3EODOiAAAgAElEQVRh9dYt5Obl0bZNG0Y2OHauuoECsNvZcyCDLbt2YkemT3x3bDY7kiQhyzJGq0XUDeGWIJLO3lRkamprMFYaqNXrHX9sRiOyzcbnS37iw28W4qRW0y4klM++/YZ/z56FvqqSrlEd2bjjd/73yzIAjDW1fL9yGYWlJcR1jKaguJi35/2X8tISsNmYv+RH1m3bSnT7DmidtXy48EsOZWdRW13Fe5/PJ/PYUTpHd6KqppqFS5OprKlCoVBwIvc4b837DLPFQkzHKPbnZPHzurXINjv6KgPf/7Kcmqoaft2Syr9mz+L4qVPEdYwmr7CQdxfMxVxdQ86Rw7w7fy5IEp3at2dL+i6ee/dttu3d0+w4pQDXo25UlJVSo9fz/oL55ObnE98pmqKyMmZ+vgB9edkF68bGHdv55H8L8fXxIaJtKKs2b2Tr7nQUKgV6g4Hvl4u6IdwaRIv5JmKz2fh+WQqZOdnY6vdvstkZ0qcftw8dRmVNNT07d+VPd0wA4MSpUxw/lcf9t48HF2fcPD1Y9MtyTCYTlTXVRAS3Zcrd94JazYh+/Xntow9Ztz2NbtExZORk89qTT+F/JiuYztmFXzZtJLZDJFUmI289+Ve0bu5gs2G2Wfll/TpkWSZ5/Tq6dIjisfv+DCoVw3pXk338GCaLGQC7zYYsyRiNRoL9/fm/u/6EpHOhZ5c4/vb26xw9lcey9evoE59Qt6evQkGvLnFs3J7W/BaFAnCd6kbaNnTOLqhUap57+BGUzi6MNA3knXlz2LRrJ65al3PWjcrqapauWc09Y25n6ODBAHTv3JnUXTuwn2nh2+yibgi3BhGYbyIKpZIxw4Zzz+jbsNV3V8oy7u7uALjrXInu0MEx3ubt6YWLi0tdikWLFRcnDWazCYvdhqe7G/3PbFKA1Yqk1RIXE0PW0aM4O2nIPnqEBYt/QJIklJKCvOJCzBYrNpuNrlEd0bq61e23q1TSu2sc29J3UWs0cjI/n7tuG1M3s9ZqReXsQr+EbmQfPXaml1FCBpRqNQnRMUhaLVisaF20uLroKKs0cDw/j1H9B9SNM1qteHv70j22C+dYDCRwferGwcOHUSqVHDyczYwF8+rSaioUZGQdQqPWoHVS0zWyad1I251OaVkZRpOJuOhOYLOBLNPGP4DEmM6ObR8lEHVDuCWIwHwTkZAI8PUlMDSs8WxZWcZuMqFUKFE26M6TJVA3XHoiy2cugjJKFKjOWkKjVCqw2e2YrRYC/fzo1rkryjOTcOLsMXh6erJ55w6UZ51TqVSiODNOaLXbGx8HVEolkqLxpbO5fXslxR/HGu/dKyPLIr3n+VzruqFSKLFZ6wJqZGgYiZ3jsMtWkCW6dIymfUgIq1I349pwy8YGdcN+Zv/uJns1K5VNBtxE3RBudmLQ5SYjSWf2q62fuXpmL2RJkuqaGw2uWZJMkz3o6/ZeliivMrDnrH1zs44eIyw4mPYhoeh0rvTr3p3hI0cyfORIfH18OXryBO2CQ8g5ehRMZscevgcO51Bm0KPVamnj58eBw9l/nNdiZW9mJmaT6cxE23NPzpHt4KpxJjQwiO1794CtLq9yYVEhv2fsu2rf4c3qWtaNQ8eOEhEWSlS7duhcXRk6YCDDh49k+PDhmCxmCivKaBcSQvaxY03qRrnegJenJ0qlkqMnT9YdUyqprDSQceTwRX02UTeEm4loMd9E7LKdbbt24abROsbl7ICbiws94uKaJH6SG/77zN/r91520Tizdc9uAgMC6BgWTnrmQY7knuC+cbfTxs8Pbzd3Zn6+gInDR1BeVcW3vyxj4vAkusVGszZtC/N//IEB3bqTe+oUa7ZswcVFh1pSMKr/AD786nO83TzoEBpKeuZBDh49SvfY2DNxQWpUjrM5qZRMHDGKd+bNofaL+QT6+ZGVm3um1S3uM8/letSN+8fdgVKp4NfUTXz+w7f0i08g8/gxVm3exD8emULniA6s3LSxSd3QuTjj6e7O4MTezP9xEWaLBZ2zlvXbt1NZXV23H3ODuwRRN4SbnXLatGnTWroQwh+sVivJyclkZGTQv3sPhvcfcHEvlCTUSiXG2lr01VXoqyrr/lQasFitdIyIwNPdnXZt29aNHQIahZLggAD8ff1ABpVCwtvTgw5h4Xh5eNA3oTsHjxxmY9o2rHY7D995F+3aRaBQqUjo2JHc0wVs2L6N3Lw8kgYMZHjfvji7utE5oj17s7JI3bEDs93GnSNH0aVjR9oFBRPYJpBg/zZs2bWTnfv34ePtzZ9GjaZDWBihAW3QubnWtcg1GkLatMH3TDIJJeCs0dI+PAx/Lx9ioqLQVxowVFYyqEdPDLXVtA0IoFOHqAsviZEkbFYri1f8QtaxYwwePJjBZyYctWYWi4WffvqJrKwshvbuw8DefS5u+c91qxvtcHVzI6ZdBLszD5K6YweVNTXcN+4OOkVG4eyia7ZuxHbsSETbEGIi2iMhsSFtG4eOHKFLp06MHTyUiOBgfL28cHHVXZe6YTWZ+W7FMo7lnWTEiBH07dv3yn94gnAJRIv5JjKgdx8G9Ol7zq0a+yT6NEq0EN2pk+MYgK+vH8MGDAZZple37iBJdO/SBavFjErVYN9cwNvXj8fuuQ+byYRCoUDSaOqOyTJhYeH8/aFHGr+uwfv26NaNHl26YLPaUGqcGiWIGNqnH8gynWM7NyqbpFYzdOBAAFLW/Eq5Xs8D4ycgqZ3IzzvJqYLT3D3qNrFO9RyuZ92IjIzihXYRWM1mVGp13QSyi6kbksTYESMZM2gwskTd3t6OpCeibgi3DhGYbyYXym7U3P6253pOg4ulStPMvrnyWXvwnn3sXK+DMxm/lChVzezv2/D9myubJNE9JpaPF37Nv2a8j6urjryiInrFxdMpov1lpYiUb8AL9rn2ozin61k3zmTcUjk7X1rdaBBopQYBudn3b65sV6luyKLXW2hhIjC3QtKZq67Zbq1/oGXv9i/lgn6xxy7m+DleExzcln8/+RQHjh3FYDDwp8BAOoSF17XMLvKcsixjttalppQuOcq1PIvF2tJFqNPK68ZdgYFEXmLdkOxy3QxzQWghIjC3MiqVCn//uvSFv+/ZQ15eHm1DQi6jiXRzc/bwIDGh2x83LQ3zdF+EfVlZZORkoVaradOmzTUs6dWjVqvx9fUF6lJnFp0uwL9NYAuXqvVx9vQkMTGx7h/2S6wbsszurEMcOpyDWq12/C4KwvUkAnMro1KpGDVqFN999x2pO3dw/wt/p29cAiqlEvk8S4mEiyMhUWMysXprKicLCoiJiaF///4tXayL4uTkRFJSEkuWLGF16iYeePF5BvXshe7MhC3hysiyTHFJCclrV1NQWkJcXBy9evVq6WIJtyBJvhEH2G5yRqORmTNnMnPmTEpLS1u6ODet8PBwXn/9de69994mCStaq6qqKt566y0++eQTDAZDSxfnptWuXTveeustJk+efEMOdQg3NhGYW6mamhrWrVvHqlWrKCwsbOninJckSVgsFioqKvDx8Wn1FzJJkggPD2f8+PH06tWrSRar1q6yspIVK1bcEHUD6vJ0V1RU4O3t3errhlKpJDIykjvvvJPevXvfcHVDuDmIwNzKWSwWLK08Ab9CoSArK4uvvvqK5557Dh8fH0cSi9ZIkiScnJyapAa90ZhMJsxmc0sX47wUCgU5OTksWLCAZ599Fj8/v1Y9C16SJLRarQjIQosSta+VU6vVqNXqli7GBaWlpbFo0SLGjBnDsGHDWro4twSNRoNGo2npYlxQeno6S5YsYezYsbRr166liyMIrd6NMbAmtGrl5eWkpKSQn5/PsmXLWn0LX7h+9Ho9ycnJnDp1ipSUlFbfwheE1kAEZuGK7dy5k+3btwOwevVqjhw50sIlElqL9PR0tm3bBsC6des4fPjiNqUQhFuZCMzCFbFYLKSkpDhmjx8+fJg1a9a0cKmE1sBqtbJs2TKKi4sBOHLkCL/++msLl0oQWj8RmIUrkpOT0ygQWywWkpOTKSkpacFSCa3B2YHYarWSkpJCUVFRC5ZKEFo/EZiFK7Jt2zZiY2Pp1q0bAEOGDMHd3Z09e/a0cMmElpaWlkbHjh2Jj48HYOjQoXh7e5Oent7CJROE1k0EZuGyWa1W+vTpw6xZs+jYsSMAgwYNYvbs2WL27S3OZrPRs2dPPvroI6KjowEYOHAgs2fPpn379q16yZQgtDSxXEq4bCqVipiYGIxGY6MLbXBwcAuWSmgNlEol0dHRTepGUFBQC5ZKEG4MosUsXFWiJSSci6gbgnBxRGAWBEEQhFZEBGZBEARBaEVEYBYEQRCEVkQEZkEQBEFoRURgFgRBEIRWRARmQRAEQWhFRGAWBEEQhFZEBGZBEARBaEVEYBYEQRCEVkQEZkEQBEFoRURgFgRBEIRWRARmQRAEQWhFRGAWBEEQhFZEBGZBEARBaEVEYBauCrGln3Auom4IwqURgVm4YpIk4e/vT3BwMJ6eni1dHKEVEXVDEC6dJIvbWeEKybJMfn4+FRUV+Pv74+/v39JFEloJUTcE4dKJwCwIgiAIrYjoyhYEQRCEVkQEZkEQBEFoRURgFgRBEIRWRARmQRAEQWhFRGAWBEEQhFZE1dIFEFpORUUF+/fvJyEhAVdX1+vynrIsYzKZUKlUqFSi+rUWJSUlbNmyhYyMDIxGI0FBQfTp04fOnTtf0s/JarVitVrRaDRIknTVymc2mwFwcnK6aucUhNZKtJhvYbm5ubzxxhucPn36ur2n0Whk9uzZpKenX7f3FM4vPT2dp556innz5qHX61EqlezcuZNnn32WTz75hJqamos+1++//86nn36KyWS6qmVcvHgxP//881U9pyC0VqLJcguz2+3U1tZe15SJVquVvXv3Eh0dfd3eUzi3EydOMG3aNGJiYpg6dSpt2rRBoVBgNBrZtGkTb7/9NjqdjkceeeSiWsCFhYXs3bsXm812VcuZnZ0tWsvCLUME5ltc/cXWYrGwe/duAgMDOXjwIPv370epVNK3b18SExNRKBRkZmai0+koLy9n69atVFZW0r59e4YNG4aXlxeyLJORkYGbmxvh4eGO96ioqCA7O5vg4GC2bdvGiRMn2Lp1Kx4eHvTq1QuTycTmzZs5dOgQNpuNzp07M3DgQHQ6XQt9K7eOH3/8EScnJ55//nl8fX0dj2u1WkaOHElpaSmff/45I0eOxN3dnaysLOLj49FoNEDd0MSBAwfQarVUVVU5fr7Lly+nT58+KBQKDAYDzs7ObNy4kdOnT+Pv78/QoUMddSQ3Nxe9Xk/nzp1RKOo68cxmM3v37iUwMJDDhw+TmZmJSqVi5cqV9O7dGy8vLzIzM9myZQslJSV4e3szePBgIiMjr2oXuiC0BNGVLSBJEpWVlbz//vu89dZb7Nu3jw4dOiDLMtOmTWPz5s0ALFq0iDfffJMffvgBd3d3IiIi2LhxI6+//jqlpaXY7XYWLlzIunXrGp3/+PHjzJw5k4KCAvLy8qiqquL06dMUFBRQU1PD7NmzWbVqFaGhoQQEBPD5558zd+7cq97qEhozGAxs3bqVpKSkRkG5oaFDh6JWq9mzZw9Hjx7lww8/RK/XO47b7Xa+++47fv31V0pLSyksLKSyspLjx49TXV3Ntm3beOONN/jss88wGo106tSJkydP8uqrr3Lw4EEANmzYwFdffdXo511dXc1HH31ERkYGBQUFlJeXU1ZWRm5uLhaLhfT0dN566y3HOfPy8nj55ZfJzs6+tl+aIFwHosUsOBQXFxMeHs5TTz2Fs7MzNpuN0tJSVq1aRb9+/TAYDGRnZzN//nw6dOgAwJAhQ3j22WdJSUnhgQcewGQyYbVaG523vss8KCiIKVOmsHPnTu68807Gjh1Lbm4uGzZs4M0336RHjx4AhIWF8f3336PX6/H29r7u38OtQq/XU1FRQVRU1Dmf4+npSVBQEMePH6dNmzaYTKYmQx9msxmbzcawYcMwGAwAPPXUU+h0OtLT09m7dy8PP/www4cPB+C2227jnXfe4fPPP+fdd9/FarU6JnfVk2UZo9GIRqPhnnvuISsrCycnJx5//HEAvvjiC7y9vXn88cdRqVSMHDmSadOmsX//fjp27Hg1vyZBuO5Ei1kA6i6EOp2OIUOG4OzsDIBSqSQyMhK9Xu8Itj179iQiIsLxOl9fXwYPHsy2bduora1tthtRkqRzdi+6uLig0Wj44Ycf2LdvHxUVFfTq1Yvp06fj7u5+DT6pUM9qtWK32887dqtQKFCr1Zc9mctutxMZGUliYqLjMScnJ5KSkjh06BCFhYUX3fXc8IagTZs27Nmzh2XLlpGXl4dCoeCVV15hxIgRl1VOQWhNRItZcNBoNE2CoVKpRJZlZFlGqVQSFBTkGAesFxgYSHl5OUaj8ZLH93x9fXn55ZeZP38+L774Im5ubkRGRnL33XeLnYiuMZ1Oh0ajoaSk5JzPMZlMlJWV0atXr8seu/Xz80Or1TZ6zN/fH7vdTnl5+Xlv3M7ljjvucIx/L1iwAH9/f4YMGcL48eMvq4yC0JqIwCw4XOgCabfbqaqqavK40WhErVY3CuIN1dbWYrFYmj2nzWYjMTGR+Ph48vLyyMrK4pdffuGVV17h448/bjSJTLi6PD09iYiIIDU1ldGjR6NUKps85/DhwxQUFBAbGwvQ5GdbP0xxPjU1NU3mC5hMJkdrvbk6Y7VaMZlMzdZHWZZxdnbm6aef5r777uPYsWPs3LmTBQsWYDAYePLJJ8UEMOGGJrqyhYsiSRJ2u51du3Y1mfyzZ88ewsPDcXV1RaPRUFFR0ei1hw4dwmAwOC6WDS/Ce/bs4b333sNutxMVFcW4ceOYPn06kiSJiTzXmJOTExMmTCA1NZWNGzc2OV5RUcHcuXPp1KkTXbp0QaPRYDKZGq1rLi8vJysr65zvIUkSWVlZnDx5stHj+/fvx93dnYCAAJydnTEYDI1u3nJzczl58mSjOlP/d7PZzCeffEJqaioBAQH07t2bp556invvvZcdO3ZgNBqv6HsRhJYmAvMtrmFLxmazNdsistvtyLKMWq0mPz+fb7/91jFTNiUlhd27dzN+/HjUajVdu3Zl27Zt7N+/H4PBwK5du9i8ebOj+1ulUqHRaNi3bx/5+fm4u7uzdetWFi9eTElJCeXl5Wzfvh2VSkVISMh1/S5uRQMHDmT8+PG8/vrrjsQvhw4dYtWqVTz33HPk5eXxzDPPoNVqCQ4OxsXFheXLl1NWVkZhYSEpKSmUlZU5gqarqytFRUXs27eP6upqFAoFJpOJhQsXkp2djV6vZ8eOHSxatIhx48bh7u5Op06dOHXqFJs2bUKv13P06FGWLVuG3W53lNPNzY3s7GwOHTrkeHzevHkcOHAAg8HAsWPHyMjIoGPHjo6lXIJwo1JOmzZtWksXQmgZtbW1lJWV0b9/f5ydnSkoKCAhIaHR0pmKigpUKhXdunVjw4YNREdH4+TkREpKCmvXriUnJ4cHHniAAQMGIEkSISEh5Ofnk5KSwvbt2zl58iRDhgzBx8eHHj164ObmhouLC9u3b6eoqIhBgwYRHh7OqlWr+O2339i4cSOHDx/mvvvuo2fPnqJL8hpTKpUkJCTg5eXFunXrWLZsGStWrGD37t1ERUXx4osv0qlTJ6Buop6/vz+rVq1iw4YN7Nq1Cz8/PxITEwkLCyMyMhIPDw+KiorYvn07bdu2paSkBKPRSLdu3UhJSWHdunWkpaUxZMgQJk2ahFqtxtfXF0mSWLp0KVu3biUjI4P4+HjatWtH586dCQgIcKxbPnjwILGxsSQmJpKfn8/y5cvZvHkzmzZtIjg4mIcffhg3N7cW/lYF4cpI8vVM+yS0Kna7HbPZ7GhhmM1m1Gp1o8ld9TN3lUolL730EqGhoTz55JOcPn0ao9GIj48PHh4ejQKo2WymsLAQs9mMn58frq6uWCwWnJyckCTJsRSmfqywfh11cXExUDchzM3NTQTl66yqqoqysjIsFgvu7u54eXk1yZMtyzIVFRWUlpY6AnX9JUStVgN1dcZoNOLi4sL//vc/tmzZwgcffEBVVRV6vR53d3d8fX0b1TObzUZJSQmVlZV4enri7e2NxWJBpVI5xr5NJhMWiwVnZ2eUSiVWq5Xi4mKqqqrQ6XT4+fk5yiAINzIx+esWplAoGs2Wba4LsP7CbLPZHN3aSqWS4ODgc57XycmpSTd0w3NLkuRYklXPzc1NtHRamKur6wU3M5EkCS8vL7y8vM75HJVK5ThPfZ1RKBT4+fnh5+fX7GuUSiUBAQEEBAQ4Hju7Pmo0mkaPqVQqAgMDL/i5BOFGIwKzcFEkSaJLly7nzBAlCM0JCwujpqamyRI7QRDOTXRlCxfNbDYjSZLoLhQu2sUkMREEoTERmAVBEAShFRH9S4IgCILQiojALAg3Ab1e3yjxS3MsFst5c17Xz5ZvuLbdYrFQWVnZZGOSK1E/a/tSnn+xubqb+wwXOndRUZHYyUxoVURgFoQbXG1tLQsWLCAzM/O8z/vtt9/48ssvzxlkq6qq+OCDDzhw4AAAJ06c4P/9v//HtGnTyMnJITs7+6pkY9uxY4djG8iLsWnTJubOnXvOtK4NGQwGPvjgg/OWs6qqirS0NGpqajCbzXz99dfs3bv3ossvCNeaCMyCcIPbtWsX+fn5xMTEnPd5ubm57Nu3r0l2t3qyLFNVVeUIgMnJyRQUFDBlyhTCw8P58ccfSU5OvuLyFhQUsHv37otupdanAb2Y6TAmk4nff/+dsrKycz7n9OnTvPfeexQVFeHi4kJERATJycmXvYOWIFxtYrmUINzArFYrq1evJiEhwbEzmNFopLCwEJPJhI+PD97e3kiShEKhcCTmKCoqorq6utFxV1dXnnnmGVxdXamqqiI3N5fw8HBCQ0Ox2WwYDAacnJyorq5Gq9U6En8YDAaKiopQKpUEBgY22UmqsrKSwsJClEolbdu2Pe9mKQ1ncZvNZmRZZsCAAfTo0cOxGsBut1NaWkp5eTnu7u74+fk1SmCjVCqRJInq6mpOnTqFk5MTbdq0QaPRYLVaMRgMVFZWOvJz9+3bl+XLl5OZmUl8fPw1/GkJwsURgVkQbmAFBQVkZWUxefJkAI4ePcoXX3xBRUUFNpuNmpoaJkyYwB133OEIVt988w2HDh2ipqaG6upqJk+ezJgxY6ipqeGrr76iX79+pKWlsWHDBpydndHr9ahUKn777TcUCgWyLDNlyhRCQ0PZvHkz3333HVCXhMbb25tHH32Udu3aAZCWlsY333yD3W53JARxcXE557rm1NRUjh8/7mihd+/endDQULKyspgyZQp2u53FixezadMmx81BYmIiubm53HbbbY7ENvv27WP16tVUVFRQXl5OSEgIU6dOJScnh3nz5pGTk8OMGTO4/fbbueOOOwgJCSE1NVUEZqFVEIFZEG5gWVlZKBQKgoODsdlszJs3DycnJ/7973/j5OTE6tWr+e9//0uXLl1QKBSkp6fTo0cPXnjhBbRaLT///DOffvop8fHx6HQ60tLSSEhIYNKkSWRnZ+Ph4cGjjz4K1I3NqlQqHn74Ydq0aUNmZiYzZsxg4sSJjB07FqPRyIIFC5g5cyZvv/02hYWFvP/++9x2222MHz8eWZZZs2YN8+bNIyAgoNlWc/0mKT4+PnTr1o3ExETS09PZs2cPsiyzbNkyli5dyvPPP09MTAxFRUXMmzeP5ORkevbsSVhYGJWVlaSmpjJ16lQ6derE6dOn+ec//8mPP/7In//8Z+677z6OHz/OAw88QNeuXVGpVMTExPDbb79hNBqbtPgF4XoTgVkQbmDHjx/H09MTFxcXzGYzeXl5xMfHO/Jcjx07Frvdjlqtxm634+/vz4QJExypL5OSkliyZAknTpwgJiYGhUKBSqWibdu2+Pr64uXlRfv27YG6HOZqtdrRGl62bBkRERHcfffdjm7mKVOmMHXqVNLT08nIyMDPz497773XEewmTpxIamoqp0+fPudnOnXqFC+99BJDhw4F6rYGVSqV6PV6kpOTGT9+PL179wbA3d2du+66i5UrVzbaInLIkCH07NnT8ZxBgwZx8OBBXFxcaNeuHa6urkRERDhShIaEhFBaWkplZaUIzEKLE4FZEG5gZWVluLm5oVKpcHJyIikpiTlz5nD06FG6detGbGwsY8aMwdXVFbvdTrt27fD09HS8XqPRoNVqm534JMtyowlXDf9tNBrJzMxEp9OxcuVKx1aMVquVyspKDh48SHZ2Np07d24U6NRqNT169GDNmjXNfh673U6XLl0cQbWh8vJySktL6dy5c6PH27VrR3h4uGN7Up1OR4cOHRo9x8PDwzF+Xf85Gn42Nzc3TCaT2MtZaBVEYBaEG5jNZkOlUjlai5MnTyYqKoqNGzeybds2/n979xMS1RbAcfw344zoRJN/0oWZkikDOkxhigiDwRANLdoEEtGuTavW4myshUtBok0StItqUSs34UoFGcHSakIuipMY5GB/1NRxhhnf4jEXdfK95+vfUb6f1eXcy5kz3MXvnnPvOefRo0fy+Xzq6emR0+lUYWHhT1m3OrczWTqdlmVZO/ZOPn/+vAKBgKampr7b+ywuLrbfVX/PsWPH9lz21el05rV/98dkBQUF+142NrdJC2ACghk4wI4ePapPnz4pm80qmUzqzZs3CgQCam1tVTKZ1MzMjCKRiAYHB3/KNpq5OgoLC1VRUaHTp0/r1q1b9vlMJqPXr1/r+PHjKi8v14cPH/LqmJ+f1+bm5r7bU1paKq/Xq1gspkAgYJfH43G9f/9+3w8c239/dXXVHnUA/jTmMQMHWHV1tb58+aJUKqW1tTX19fVpeHhYklRUVKSGhgadPHlSGxsbkvSf5gLnrtl9rcPhsOtxuVxqb2/XyMiIFhYW7Gssy1Jvb68SiYQ6OiWe/IoAAANNSURBVDo0MTGhmZkZ+3w8HtfQ0NCec5h3DzHnyrLZrLxer8LhsJ4+fapoNKqVlRVZlqUnT57sWDRlrzpyZQ6HQ5lMZsfw/eLiokpKSv5120vgd6DHDBxgPp9Pjx8/ViKRUE1NjS5evKiBgQHF43FVVFQoFovp27dvCofDGhsby9vj2OFw2NOOth9Lf79/3j4k3NjYqIcPH6q/v1/Xrl3TpUuXNDExoTt37igUCimdTmtoaEgtLS3y+/3KZrOKRqPq7e3VhQsXJEmvXr1SXV3dng8Ibrc7r425MofDoc7OTqVSKd2/f18ej0cul0tnz57V7Oystra28v7D7jq2trZUVlamyspK3b17V1euXFEoFNLs7Kx8Pp+OHDnyw/cE+FHsLgUcYBsbG4pEIgqFQrp8+bK98tXk5KSSyaSqqqoUDAZVW1ur+fl5LS8vq6mpyR72TafTmpqa0qlTp+T1eu3j8vJyTU9Py+12219lr6+v6+XLl1pdXVV7e7tKSkq0vLys4eFhWZYlp9OpxsZGBYNBO+DW1tY0MjKid+/eqaioSK2traqurlYikZDf788L0IWFBX3+/Fl+v99uY66sqalJ6+vrcrvdWllZ0devX1VaWqpUKqWbN2+qu7tbbW1tmpycVF1dncrKyvasd25uTm/fvlVtba1qamrU1dWl69evq6Oj43fcNuAfEczAATc4OKjx8XFFIpG83uZhkslkdO/ePXk8Ht24ccMO9efPn+vBgwcaGBjQiRMn9l3v6Oionj17ptu3b9urpwF/EkPZwAEXDAY1Pj6uWCym5ubmP92cX6agoEBnzpxRf3+/lpaW5PP59PHjR7148UJXr15VVVXVvutMpVIaGxtTOBwmlGEMeszAITA3NyeXy2UvSXlYZbNZTU9PKxqNamlpSR6PR83NzTp37tz/+qJ6c3NTlmWpvr5excXFv6DFwP4RzAAAGITpUgAAGIRgBgDAIAQzAAAGIZgBADAIwQwAgEEIZgAADEIwAwBgEIIZAACDEMwAABiEYAYAwCAEMwAABiGYAQAwCMEMAIBBCGYAAAxCMAMAYBCCGQAAgxDMAAAYhGAGAMAgBDMAAAYhmAEAMAjBDACAQQhmAAAMQjADAGCQvwBQPOSvl8TdLwAAAABJRU5ErkJggg==)"
      ],
      "metadata": {
        "id": "uprK-lkX6UnX"
      }
    },
    {
      "cell_type": "code",
      "source": [
        "def clones(module, N):\n",
        "    \"Produce N identical modules\"\n",
        "    return nn.ModuleList([copy.deepcopy(module) for _ in range(N)])"
      ],
      "metadata": {
        "id": "WtUDgyjIVh4U"
      },
      "execution_count": null,
      "outputs": []
    },
    {
      "cell_type": "markdown",
      "source": [
        "### 1.1.1. Encoder"
      ],
      "metadata": {
        "id": "k1DTCsBYVhep"
      }
    },
    {
      "cell_type": "code",
      "source": [
        "class Encoder(nn.Module):\n",
        "    \"Core encoder is a stack of N layers\"\n",
        "\n",
        "    def __init__(self, block, N): # block\n",
        "        super(Encoder, self).__init__()\n",
        "\n",
        "        self.blocks = clones(block, N)\n",
        "        self.norm = LayerNorm(block.size)\n",
        "    \n",
        "    def forward(self, x, padding_mask):\n",
        "        \"\"\"\n",
        "        padding_mask: Used to hide the (if any) padding values in the input sequence\n",
        "        \"\"\"\n",
        "        for block in self.blocks:\n",
        "            out = block(x, padding_mask)\n",
        "        \n",
        "        return self.norm(x)"
      ],
      "metadata": {
        "id": "v-0Lux07VmRB"
      },
      "execution_count": null,
      "outputs": []
    },
    {
      "cell_type": "markdown",
      "source": [
        "Each block in an Encoder consists of two sublayers. There is a residual connection around each of the two sub-layers, which is followed by layer normalization (check viz)\n",
        "\n",
        "LayerNorm explanation: https://arxiv.org/abs/1607.06450 (implemented by default in pytorch: nn.LayerNorm)\n",
        "\n",
        "Equation: $\\frac{x - E(x)}{\\sigma + \\epsilon}*a + b$"
      ],
      "metadata": {
        "id": "xcIkuaQvfvpC"
      }
    },
    {
      "cell_type": "code",
      "source": [
        "class LayerNorm(nn.Module):\n",
        "    \"Constructing a layernorm module\"\n",
        "\n",
        "    # TODO: What's the difference between LayerNorm, BatchNorm, and InstanceNorm?\n",
        "    # Check paper and pytorch page\n",
        "    def __init__(self, features, eps=1e-6):\n",
        "\n",
        "        super(LayerNorm, self).__init__()\n",
        "        # Learnable variable 1\n",
        "        self.a = nn.Parameter(torch.ones(features)) # initialized as 1 since involved in multiply\n",
        "        # Learnable variable 2\n",
        "        self.b = nn.Parameter(torch.zeros(features)) # initialized as 0 since involved in sum\n",
        "        self.eps = eps\n",
        "\n",
        "    def forward(self, x):\n",
        "        x = x.float()\n",
        "\n",
        "        mean = x.mean(-1, keepdim=True) # Ah, keepdim is an interesting hack\n",
        "        std = x.std(-1, keepdim=True)\n",
        "\n",
        "        res = (x-mean)/(std + self.eps)\n",
        "        return  self.a * res + self.b\n",
        "\n",
        "\n"
      ],
      "metadata": {
        "id": "5kUnTdvXfre6"
      },
      "execution_count": null,
      "outputs": []
    },
    {
      "cell_type": "markdown",
      "source": [
        "The output of each sub-layer is **LayerNorm(x + SubLayer(x))**\n",
        "\n",
        "Where SubLayer(x) is the function implemented by the specific sublayer.\n",
        "\n",
        "To facilitate the residual connections, all sub-layers in the model, as well as the embedding layers, produce outputs of dimension $d_{model} = 512$ "
      ],
      "metadata": {
        "id": "HcHxS4o9nfYL"
      }
    },
    {
      "cell_type": "code",
      "source": [
        "class SublayerConnection(nn.Module):\n",
        "\n",
        "    \"\"\"\n",
        "    A residual connection followed by a layer norm.\n",
        "    \"\"\"\n",
        "\n",
        "    def __init__(self, size, dropout):\n",
        "        super(SublayerConnection, self).__init__()\n",
        "\n",
        "        self.norm = LayerNorm(size)\n",
        "        self.dropout = nn.Dropout(dropout)\n",
        "\n",
        "    def forward(self, x, sublayer):\n",
        "\n",
        "        out = self.norm(x) # Note that we're applying this first as opposed to last, for code simplicity. Why doesn't it fuck up the code tho? Coz it's layerNorm.\n",
        "        out = sublayer(out)\n",
        "        out = self.dropout(out)\n",
        "\n",
        "        return x + out"
      ],
      "metadata": {
        "id": "ED23J61Mmcvb"
      },
      "execution_count": null,
      "outputs": []
    },
    {
      "cell_type": "markdown",
      "source": [
        "Each block has two sub-layers. The first is a multi-head self-attention mechanism, and the second is a simple, position-wise fully connected feed-forward network.\n",
        "\n"
      ],
      "metadata": {
        "id": "k3fxesTuo0jJ"
      }
    },
    {
      "cell_type": "code",
      "source": [
        "\n",
        "class EncoderBlock(nn.Module): # Every module in pytorch is a subclass of nn.Module\n",
        "    \"Encoder is made up of self-attn and feed forward\"\n",
        "\n",
        "    def __init__(self, size, self_attn, feed_forward, dropout):\n",
        "        super(EncoderBlock, self).__init__() # Delegates function calls to parent. Useful for inheritance \n",
        "\n",
        "        self.self_attn = self_attn\n",
        "        self.feed_forward = feed_forward\n",
        "        self.sublayer = clones(SublayerConnection(size, dropout), 2)\n",
        "        self.size = size # Most likely d_{model} = 512\n",
        "    \n",
        "    def forward(self, x, mask):\n",
        "        \n",
        "        # self_attn is the actual attention mechanism, while attn_layer is the block\n",
        "        # where self_attn takes place (along with norm and other stuff)\n",
        "        attn_layer = self.sublayer[0]\n",
        "        ff_layer = self.sublayer[1]\n",
        "\n",
        "        x = attn_layer(x, lambda x: self.self_attn(x, x, x, mask)) # K, Q, V, mask\n",
        "        x = ff_layer(x, self.feed_forward)"
      ],
      "metadata": {
        "id": "qmMjqc9SXZUp"
      },
      "execution_count": null,
      "outputs": []
    },
    {
      "cell_type": "markdown",
      "source": [
        "### 1.1.2. Decoder"
      ],
      "metadata": {
        "id": "TTRrBecd3D4k"
      }
    },
    {
      "cell_type": "code",
      "source": [
        "class Decoder(nn.Module):\n",
        "    \"Core decoder is a stack of N layers\"\n",
        "\n",
        "    def __init__(self, block, N):\n",
        "        super(Decoder, self).__init__()\n",
        "\n",
        "        self.blocks = clones(block, N)\n",
        "        self.norm = LayerNorm(block.size)\n",
        "\n",
        "    def forward(self, x, context_vector, src_mask, tgt_mask):\n",
        "        \"\"\"\n",
        "        src_mask: Hide padding in sequence\n",
        "        tgt_mask: Hide future characters in sequence\n",
        "        \"\"\"\n",
        "        \n",
        "        for block in self.blocks:\n",
        "            x = block(x, context_vector, src_mask, tgt_mask)\n",
        "        return self.norm(x)            "
      ],
      "metadata": {
        "id": "bZWUn3FjUHpY"
      },
      "execution_count": null,
      "outputs": []
    },
    {
      "cell_type": "markdown",
      "source": [
        "In addition to the two sub-layers in each encoder layer, the decoder inserts a third sub-layer, which performs multi-head attention over the output of the encoder stack. Similar to the encoder, we employ residual connections around each of the sub-layers, followed by layer normalization.\n",
        "\n"
      ],
      "metadata": {
        "id": "Qqq0GlWcyLoQ"
      }
    },
    {
      "cell_type": "code",
      "source": [
        "class DecoderBlock(nn.Module):\n",
        "    \"Decoder is made of self-attn, src_attn, and feed forward\"\n",
        "\n",
        "    def __init__(self, size, self_attn, src_attn, feed_forward, dropout):\n",
        "        super(DecoderBlock, self).__init__()\n",
        "        \n",
        "        self.size = size\n",
        "        self.self_attn = self_attn\n",
        "        self.src_attn = src_attn\n",
        "        self.feed_forward = feed_forward\n",
        "        # God I love this coding style - abstracting away everything.\n",
        "        self.sublayer = clones(SublayerConnection(size, dropout), 3)\n",
        "\n",
        "    def forward(self, x, context_vector, src_mask, tgt_mask):\n",
        "\n",
        "        c = context_vector # TODO What's this?\n",
        "        attn_layer1 = self.sublayer[0]\n",
        "        attn_layer2 = self.sublayer[1]\n",
        "        ff_layer = self.sublayer[2]\n",
        "\n",
        "        x = attn_layer1(x, lambda x: self.self_attn(x, x, x, tgt_mask))\n",
        "        x = attn_layer2(x, lambda x: self.src_attn(x, c, c, src_mask)) # Hmm different variables self_attn and src_attn - what's the differnce?\n",
        "        x = ff_layer(x, self.feed_forward)\n",
        "\n",
        "        return x"
      ],
      "metadata": {
        "id": "ZwGy18tyyMLn"
      },
      "execution_count": null,
      "outputs": []
    },
    {
      "cell_type": "markdown",
      "source": [
        "We also modify the self-attention sub-layer in the decoder stack to prevent positions from attending to subsequent positions. This masking, combined with fact that the output embeddings are offset by one position, ensures that the predictions for position i can only depend on the known outputs at positions < i."
      ],
      "metadata": {
        "id": "8R7VlG3hzezy"
      }
    },
    {
      "cell_type": "code",
      "source": [
        "def subsequent_mask(size):\n",
        "    \"Mask out subsequent positions\"\n",
        "    # TODO Yo what's this code doing line-by-line?\n",
        "    attn_shape = (1, size, size)\n",
        "    subsequent_mask = torch.triu(torch.ones(attn_shape), diagonal=1).type(torch.uint8)\n",
        "    \n",
        "    return subsequent_mask == 0\n"
      ],
      "metadata": {
        "id": "Z-uhTAR1zsiT"
      },
      "execution_count": null,
      "outputs": []
    },
    {
      "cell_type": "code",
      "source": [
        "def example_mask():\n",
        "    LS_data = pd.concat(\n",
        "        [\n",
        "            pd.DataFrame(\n",
        "                {\n",
        "                    \"Subsequent Mask\": subsequent_mask(20)[0][x, y].flatten(),\n",
        "                    \"Window\": y,\n",
        "                    \"Masking\": x,\n",
        "                }\n",
        "            )\n",
        "            for y in range(20)\n",
        "            for x in range(20)\n",
        "        ]\n",
        "    )\n",
        "\n",
        "    return (\n",
        "        alt.Chart(LS_data)\n",
        "        .mark_rect()\n",
        "        .properties(height=250, width=250)\n",
        "        .encode(\n",
        "            alt.X(\"Window:O\"),\n",
        "            alt.Y(\"Masking:O\"),\n",
        "            alt.Color(\"Subsequent Mask:Q\", scale=alt.Scale(scheme=\"viridis\")),\n",
        "        )\n",
        "        .interactive()\n",
        "    )\n",
        "\n",
        "\n",
        "show_example(example_mask)"
      ],
      "metadata": {
        "colab": {
          "base_uri": "https://localhost:8080/",
          "height": 315
        },
        "id": "W2JYLTwPEvqz",
        "outputId": "675b1b79-ad22-43a6-d837-665b0db1cb4e"
      },
      "execution_count": null,
      "outputs": [
        {
          "output_type": "execute_result",
          "data": {
            "text/html": [
              "\n",
              "<div id=\"altair-viz-e60e559a5a0f4bffb7bcff064139bb96\"></div>\n",
              "<script type=\"text/javascript\">\n",
              "  var VEGA_DEBUG = (typeof VEGA_DEBUG == \"undefined\") ? {} : VEGA_DEBUG;\n",
              "  (function(spec, embedOpt){\n",
              "    let outputDiv = document.currentScript.previousElementSibling;\n",
              "    if (outputDiv.id !== \"altair-viz-e60e559a5a0f4bffb7bcff064139bb96\") {\n",
              "      outputDiv = document.getElementById(\"altair-viz-e60e559a5a0f4bffb7bcff064139bb96\");\n",
              "    }\n",
              "    const paths = {\n",
              "      \"vega\": \"https://cdn.jsdelivr.net/npm//vega@5?noext\",\n",
              "      \"vega-lib\": \"https://cdn.jsdelivr.net/npm//vega-lib?noext\",\n",
              "      \"vega-lite\": \"https://cdn.jsdelivr.net/npm//vega-lite@4.17.0?noext\",\n",
              "      \"vega-embed\": \"https://cdn.jsdelivr.net/npm//vega-embed@6?noext\",\n",
              "    };\n",
              "\n",
              "    function maybeLoadScript(lib, version) {\n",
              "      var key = `${lib.replace(\"-\", \"\")}_version`;\n",
              "      return (VEGA_DEBUG[key] == version) ?\n",
              "        Promise.resolve(paths[lib]) :\n",
              "        new Promise(function(resolve, reject) {\n",
              "          var s = document.createElement('script');\n",
              "          document.getElementsByTagName(\"head\")[0].appendChild(s);\n",
              "          s.async = true;\n",
              "          s.onload = () => {\n",
              "            VEGA_DEBUG[key] = version;\n",
              "            return resolve(paths[lib]);\n",
              "          };\n",
              "          s.onerror = () => reject(`Error loading script: ${paths[lib]}`);\n",
              "          s.src = paths[lib];\n",
              "        });\n",
              "    }\n",
              "\n",
              "    function showError(err) {\n",
              "      outputDiv.innerHTML = `<div class=\"error\" style=\"color:red;\">${err}</div>`;\n",
              "      throw err;\n",
              "    }\n",
              "\n",
              "    function displayChart(vegaEmbed) {\n",
              "      vegaEmbed(outputDiv, spec, embedOpt)\n",
              "        .catch(err => showError(`Javascript Error: ${err.message}<br>This usually means there's a typo in your chart specification. See the javascript console for the full traceback.`));\n",
              "    }\n",
              "\n",
              "    if(typeof define === \"function\" && define.amd) {\n",
              "      requirejs.config({paths});\n",
              "      require([\"vega-embed\"], displayChart, err => showError(`Error loading script: ${err.message}`));\n",
              "    } else {\n",
              "      maybeLoadScript(\"vega\", \"5\")\n",
              "        .then(() => maybeLoadScript(\"vega-lite\", \"4.17.0\"))\n",
              "        .then(() => maybeLoadScript(\"vega-embed\", \"6\"))\n",
              "        .catch(showError)\n",
              "        .then(() => displayChart(vegaEmbed));\n",
              "    }\n",
              "  })({\"config\": {\"view\": {\"continuousWidth\": 400, \"continuousHeight\": 300}}, \"data\": {\"name\": \"data-ac10fa76400c18dafea2d104267bb03d\"}, \"mark\": \"rect\", \"encoding\": {\"color\": {\"field\": \"Subsequent Mask\", \"scale\": {\"scheme\": \"viridis\"}, \"type\": \"quantitative\"}, \"x\": {\"field\": \"Window\", \"type\": \"ordinal\"}, \"y\": {\"field\": \"Masking\", \"type\": \"ordinal\"}}, \"height\": 250, \"selection\": {\"selector001\": {\"type\": \"interval\", \"bind\": \"scales\", \"encodings\": [\"x\", \"y\"]}}, \"width\": 250, \"$schema\": \"https://vega.github.io/schema/vega-lite/v4.17.0.json\", \"datasets\": {\"data-ac10fa76400c18dafea2d104267bb03d\": [{\"Subsequent Mask\": true, \"Window\": 0, \"Masking\": 0}, {\"Subsequent Mask\": true, \"Window\": 0, \"Masking\": 1}, {\"Subsequent Mask\": true, \"Window\": 0, \"Masking\": 2}, {\"Subsequent Mask\": true, \"Window\": 0, \"Masking\": 3}, {\"Subsequent Mask\": true, \"Window\": 0, \"Masking\": 4}, {\"Subsequent Mask\": true, \"Window\": 0, \"Masking\": 5}, {\"Subsequent Mask\": true, \"Window\": 0, \"Masking\": 6}, {\"Subsequent Mask\": true, \"Window\": 0, \"Masking\": 7}, {\"Subsequent Mask\": true, \"Window\": 0, \"Masking\": 8}, {\"Subsequent Mask\": true, \"Window\": 0, \"Masking\": 9}, {\"Subsequent Mask\": true, \"Window\": 0, \"Masking\": 10}, {\"Subsequent Mask\": true, \"Window\": 0, \"Masking\": 11}, {\"Subsequent Mask\": true, \"Window\": 0, \"Masking\": 12}, {\"Subsequent Mask\": true, \"Window\": 0, \"Masking\": 13}, {\"Subsequent Mask\": true, \"Window\": 0, \"Masking\": 14}, {\"Subsequent Mask\": true, \"Window\": 0, \"Masking\": 15}, {\"Subsequent Mask\": true, \"Window\": 0, \"Masking\": 16}, {\"Subsequent Mask\": true, \"Window\": 0, \"Masking\": 17}, {\"Subsequent Mask\": true, \"Window\": 0, \"Masking\": 18}, {\"Subsequent Mask\": true, \"Window\": 0, \"Masking\": 19}, {\"Subsequent Mask\": false, \"Window\": 1, \"Masking\": 0}, {\"Subsequent Mask\": true, \"Window\": 1, \"Masking\": 1}, {\"Subsequent Mask\": true, \"Window\": 1, \"Masking\": 2}, {\"Subsequent Mask\": true, \"Window\": 1, \"Masking\": 3}, {\"Subsequent Mask\": true, \"Window\": 1, \"Masking\": 4}, {\"Subsequent Mask\": true, \"Window\": 1, \"Masking\": 5}, {\"Subsequent Mask\": true, \"Window\": 1, \"Masking\": 6}, {\"Subsequent Mask\": true, \"Window\": 1, \"Masking\": 7}, {\"Subsequent Mask\": true, \"Window\": 1, \"Masking\": 8}, {\"Subsequent Mask\": true, \"Window\": 1, \"Masking\": 9}, {\"Subsequent Mask\": true, \"Window\": 1, \"Masking\": 10}, {\"Subsequent Mask\": true, \"Window\": 1, \"Masking\": 11}, {\"Subsequent Mask\": true, \"Window\": 1, \"Masking\": 12}, {\"Subsequent Mask\": true, \"Window\": 1, \"Masking\": 13}, {\"Subsequent Mask\": true, \"Window\": 1, \"Masking\": 14}, {\"Subsequent Mask\": true, \"Window\": 1, \"Masking\": 15}, {\"Subsequent Mask\": true, \"Window\": 1, \"Masking\": 16}, {\"Subsequent Mask\": true, \"Window\": 1, \"Masking\": 17}, {\"Subsequent Mask\": true, \"Window\": 1, \"Masking\": 18}, {\"Subsequent Mask\": true, \"Window\": 1, \"Masking\": 19}, {\"Subsequent Mask\": false, \"Window\": 2, \"Masking\": 0}, {\"Subsequent Mask\": false, \"Window\": 2, \"Masking\": 1}, {\"Subsequent Mask\": true, \"Window\": 2, \"Masking\": 2}, {\"Subsequent Mask\": true, \"Window\": 2, \"Masking\": 3}, {\"Subsequent Mask\": true, \"Window\": 2, \"Masking\": 4}, {\"Subsequent Mask\": true, \"Window\": 2, \"Masking\": 5}, {\"Subsequent Mask\": true, \"Window\": 2, \"Masking\": 6}, {\"Subsequent Mask\": true, \"Window\": 2, \"Masking\": 7}, {\"Subsequent Mask\": true, \"Window\": 2, \"Masking\": 8}, {\"Subsequent Mask\": true, \"Window\": 2, \"Masking\": 9}, {\"Subsequent Mask\": true, \"Window\": 2, \"Masking\": 10}, {\"Subsequent Mask\": true, \"Window\": 2, \"Masking\": 11}, {\"Subsequent Mask\": true, \"Window\": 2, \"Masking\": 12}, {\"Subsequent Mask\": true, \"Window\": 2, \"Masking\": 13}, {\"Subsequent Mask\": true, \"Window\": 2, \"Masking\": 14}, {\"Subsequent Mask\": true, \"Window\": 2, \"Masking\": 15}, {\"Subsequent Mask\": true, \"Window\": 2, \"Masking\": 16}, {\"Subsequent Mask\": true, \"Window\": 2, \"Masking\": 17}, {\"Subsequent Mask\": true, \"Window\": 2, \"Masking\": 18}, {\"Subsequent Mask\": true, \"Window\": 2, \"Masking\": 19}, {\"Subsequent Mask\": false, \"Window\": 3, \"Masking\": 0}, {\"Subsequent Mask\": false, \"Window\": 3, \"Masking\": 1}, {\"Subsequent Mask\": false, \"Window\": 3, \"Masking\": 2}, {\"Subsequent Mask\": true, \"Window\": 3, \"Masking\": 3}, {\"Subsequent Mask\": true, \"Window\": 3, \"Masking\": 4}, {\"Subsequent Mask\": true, \"Window\": 3, \"Masking\": 5}, {\"Subsequent Mask\": true, \"Window\": 3, \"Masking\": 6}, {\"Subsequent Mask\": true, \"Window\": 3, \"Masking\": 7}, {\"Subsequent Mask\": true, \"Window\": 3, \"Masking\": 8}, {\"Subsequent Mask\": true, \"Window\": 3, \"Masking\": 9}, {\"Subsequent Mask\": true, \"Window\": 3, \"Masking\": 10}, {\"Subsequent Mask\": true, \"Window\": 3, \"Masking\": 11}, {\"Subsequent Mask\": true, \"Window\": 3, \"Masking\": 12}, {\"Subsequent Mask\": true, \"Window\": 3, \"Masking\": 13}, {\"Subsequent Mask\": true, \"Window\": 3, \"Masking\": 14}, {\"Subsequent Mask\": true, \"Window\": 3, \"Masking\": 15}, {\"Subsequent Mask\": true, \"Window\": 3, \"Masking\": 16}, {\"Subsequent Mask\": true, \"Window\": 3, \"Masking\": 17}, {\"Subsequent Mask\": true, \"Window\": 3, \"Masking\": 18}, {\"Subsequent Mask\": true, \"Window\": 3, \"Masking\": 19}, {\"Subsequent Mask\": false, \"Window\": 4, \"Masking\": 0}, {\"Subsequent Mask\": false, \"Window\": 4, \"Masking\": 1}, {\"Subsequent Mask\": false, \"Window\": 4, \"Masking\": 2}, {\"Subsequent Mask\": false, \"Window\": 4, \"Masking\": 3}, {\"Subsequent Mask\": true, \"Window\": 4, \"Masking\": 4}, {\"Subsequent Mask\": true, \"Window\": 4, \"Masking\": 5}, {\"Subsequent Mask\": true, \"Window\": 4, \"Masking\": 6}, {\"Subsequent Mask\": true, \"Window\": 4, \"Masking\": 7}, {\"Subsequent Mask\": true, \"Window\": 4, \"Masking\": 8}, {\"Subsequent Mask\": true, \"Window\": 4, \"Masking\": 9}, {\"Subsequent Mask\": true, \"Window\": 4, \"Masking\": 10}, {\"Subsequent Mask\": true, \"Window\": 4, \"Masking\": 11}, {\"Subsequent Mask\": true, \"Window\": 4, \"Masking\": 12}, {\"Subsequent Mask\": true, \"Window\": 4, \"Masking\": 13}, {\"Subsequent Mask\": true, \"Window\": 4, \"Masking\": 14}, {\"Subsequent Mask\": true, \"Window\": 4, \"Masking\": 15}, {\"Subsequent Mask\": true, \"Window\": 4, \"Masking\": 16}, {\"Subsequent Mask\": true, \"Window\": 4, \"Masking\": 17}, {\"Subsequent Mask\": true, \"Window\": 4, \"Masking\": 18}, {\"Subsequent Mask\": true, \"Window\": 4, \"Masking\": 19}, {\"Subsequent Mask\": false, \"Window\": 5, \"Masking\": 0}, {\"Subsequent Mask\": false, \"Window\": 5, \"Masking\": 1}, {\"Subsequent Mask\": false, \"Window\": 5, \"Masking\": 2}, {\"Subsequent Mask\": false, \"Window\": 5, \"Masking\": 3}, {\"Subsequent Mask\": false, \"Window\": 5, \"Masking\": 4}, {\"Subsequent Mask\": true, \"Window\": 5, \"Masking\": 5}, {\"Subsequent Mask\": true, \"Window\": 5, \"Masking\": 6}, {\"Subsequent Mask\": true, \"Window\": 5, \"Masking\": 7}, {\"Subsequent Mask\": true, \"Window\": 5, \"Masking\": 8}, {\"Subsequent Mask\": true, \"Window\": 5, \"Masking\": 9}, {\"Subsequent Mask\": true, \"Window\": 5, \"Masking\": 10}, {\"Subsequent Mask\": true, \"Window\": 5, \"Masking\": 11}, {\"Subsequent Mask\": true, \"Window\": 5, \"Masking\": 12}, {\"Subsequent Mask\": true, \"Window\": 5, \"Masking\": 13}, {\"Subsequent Mask\": true, \"Window\": 5, \"Masking\": 14}, {\"Subsequent Mask\": true, \"Window\": 5, \"Masking\": 15}, {\"Subsequent Mask\": true, \"Window\": 5, \"Masking\": 16}, {\"Subsequent Mask\": true, \"Window\": 5, \"Masking\": 17}, {\"Subsequent Mask\": true, \"Window\": 5, \"Masking\": 18}, {\"Subsequent Mask\": true, \"Window\": 5, \"Masking\": 19}, {\"Subsequent Mask\": false, \"Window\": 6, \"Masking\": 0}, {\"Subsequent Mask\": false, \"Window\": 6, \"Masking\": 1}, {\"Subsequent Mask\": false, \"Window\": 6, \"Masking\": 2}, {\"Subsequent Mask\": false, \"Window\": 6, \"Masking\": 3}, {\"Subsequent Mask\": false, \"Window\": 6, \"Masking\": 4}, {\"Subsequent Mask\": false, \"Window\": 6, \"Masking\": 5}, {\"Subsequent Mask\": true, \"Window\": 6, \"Masking\": 6}, {\"Subsequent Mask\": true, \"Window\": 6, \"Masking\": 7}, {\"Subsequent Mask\": true, \"Window\": 6, \"Masking\": 8}, {\"Subsequent Mask\": true, \"Window\": 6, \"Masking\": 9}, {\"Subsequent Mask\": true, \"Window\": 6, \"Masking\": 10}, {\"Subsequent Mask\": true, \"Window\": 6, \"Masking\": 11}, {\"Subsequent Mask\": true, \"Window\": 6, \"Masking\": 12}, {\"Subsequent Mask\": true, \"Window\": 6, \"Masking\": 13}, {\"Subsequent Mask\": true, \"Window\": 6, \"Masking\": 14}, {\"Subsequent Mask\": true, \"Window\": 6, \"Masking\": 15}, {\"Subsequent Mask\": true, \"Window\": 6, \"Masking\": 16}, {\"Subsequent Mask\": true, \"Window\": 6, \"Masking\": 17}, {\"Subsequent Mask\": true, \"Window\": 6, \"Masking\": 18}, {\"Subsequent Mask\": true, \"Window\": 6, \"Masking\": 19}, {\"Subsequent Mask\": false, \"Window\": 7, \"Masking\": 0}, {\"Subsequent Mask\": false, \"Window\": 7, \"Masking\": 1}, {\"Subsequent Mask\": false, \"Window\": 7, \"Masking\": 2}, {\"Subsequent Mask\": false, \"Window\": 7, \"Masking\": 3}, {\"Subsequent Mask\": false, \"Window\": 7, \"Masking\": 4}, {\"Subsequent Mask\": false, \"Window\": 7, \"Masking\": 5}, {\"Subsequent Mask\": false, \"Window\": 7, \"Masking\": 6}, {\"Subsequent Mask\": true, \"Window\": 7, \"Masking\": 7}, {\"Subsequent Mask\": true, \"Window\": 7, \"Masking\": 8}, {\"Subsequent Mask\": true, \"Window\": 7, \"Masking\": 9}, {\"Subsequent Mask\": true, \"Window\": 7, \"Masking\": 10}, {\"Subsequent Mask\": true, \"Window\": 7, \"Masking\": 11}, {\"Subsequent Mask\": true, \"Window\": 7, \"Masking\": 12}, {\"Subsequent Mask\": true, \"Window\": 7, \"Masking\": 13}, {\"Subsequent Mask\": true, \"Window\": 7, \"Masking\": 14}, {\"Subsequent Mask\": true, \"Window\": 7, \"Masking\": 15}, {\"Subsequent Mask\": true, \"Window\": 7, \"Masking\": 16}, {\"Subsequent Mask\": true, \"Window\": 7, \"Masking\": 17}, {\"Subsequent Mask\": true, \"Window\": 7, \"Masking\": 18}, {\"Subsequent Mask\": true, \"Window\": 7, \"Masking\": 19}, {\"Subsequent Mask\": false, \"Window\": 8, \"Masking\": 0}, {\"Subsequent Mask\": false, \"Window\": 8, \"Masking\": 1}, {\"Subsequent Mask\": false, \"Window\": 8, \"Masking\": 2}, {\"Subsequent Mask\": false, \"Window\": 8, \"Masking\": 3}, {\"Subsequent Mask\": false, \"Window\": 8, \"Masking\": 4}, {\"Subsequent Mask\": false, \"Window\": 8, \"Masking\": 5}, {\"Subsequent Mask\": false, \"Window\": 8, \"Masking\": 6}, {\"Subsequent Mask\": false, \"Window\": 8, \"Masking\": 7}, {\"Subsequent Mask\": true, \"Window\": 8, \"Masking\": 8}, {\"Subsequent Mask\": true, \"Window\": 8, \"Masking\": 9}, {\"Subsequent Mask\": true, \"Window\": 8, \"Masking\": 10}, {\"Subsequent Mask\": true, \"Window\": 8, \"Masking\": 11}, {\"Subsequent Mask\": true, \"Window\": 8, \"Masking\": 12}, {\"Subsequent Mask\": true, \"Window\": 8, \"Masking\": 13}, {\"Subsequent Mask\": true, \"Window\": 8, \"Masking\": 14}, {\"Subsequent Mask\": true, \"Window\": 8, \"Masking\": 15}, {\"Subsequent Mask\": true, \"Window\": 8, \"Masking\": 16}, {\"Subsequent Mask\": true, \"Window\": 8, \"Masking\": 17}, {\"Subsequent Mask\": true, \"Window\": 8, \"Masking\": 18}, {\"Subsequent Mask\": true, \"Window\": 8, \"Masking\": 19}, {\"Subsequent Mask\": false, \"Window\": 9, \"Masking\": 0}, {\"Subsequent Mask\": false, \"Window\": 9, \"Masking\": 1}, {\"Subsequent Mask\": false, \"Window\": 9, \"Masking\": 2}, {\"Subsequent Mask\": false, \"Window\": 9, \"Masking\": 3}, {\"Subsequent Mask\": false, \"Window\": 9, \"Masking\": 4}, {\"Subsequent Mask\": false, \"Window\": 9, \"Masking\": 5}, {\"Subsequent Mask\": false, \"Window\": 9, \"Masking\": 6}, {\"Subsequent Mask\": false, \"Window\": 9, \"Masking\": 7}, {\"Subsequent Mask\": false, \"Window\": 9, \"Masking\": 8}, {\"Subsequent Mask\": true, \"Window\": 9, \"Masking\": 9}, {\"Subsequent Mask\": true, \"Window\": 9, \"Masking\": 10}, {\"Subsequent Mask\": true, \"Window\": 9, \"Masking\": 11}, {\"Subsequent Mask\": true, \"Window\": 9, \"Masking\": 12}, {\"Subsequent Mask\": true, \"Window\": 9, \"Masking\": 13}, {\"Subsequent Mask\": true, \"Window\": 9, \"Masking\": 14}, {\"Subsequent Mask\": true, \"Window\": 9, \"Masking\": 15}, {\"Subsequent Mask\": true, \"Window\": 9, \"Masking\": 16}, {\"Subsequent Mask\": true, \"Window\": 9, \"Masking\": 17}, {\"Subsequent Mask\": true, \"Window\": 9, \"Masking\": 18}, {\"Subsequent Mask\": true, \"Window\": 9, \"Masking\": 19}, {\"Subsequent Mask\": false, \"Window\": 10, \"Masking\": 0}, {\"Subsequent Mask\": false, \"Window\": 10, \"Masking\": 1}, {\"Subsequent Mask\": false, \"Window\": 10, \"Masking\": 2}, {\"Subsequent Mask\": false, \"Window\": 10, \"Masking\": 3}, {\"Subsequent Mask\": false, \"Window\": 10, \"Masking\": 4}, {\"Subsequent Mask\": false, \"Window\": 10, \"Masking\": 5}, {\"Subsequent Mask\": false, \"Window\": 10, \"Masking\": 6}, {\"Subsequent Mask\": false, \"Window\": 10, \"Masking\": 7}, {\"Subsequent Mask\": false, \"Window\": 10, \"Masking\": 8}, {\"Subsequent Mask\": false, \"Window\": 10, \"Masking\": 9}, {\"Subsequent Mask\": true, \"Window\": 10, \"Masking\": 10}, {\"Subsequent Mask\": true, \"Window\": 10, \"Masking\": 11}, {\"Subsequent Mask\": true, \"Window\": 10, \"Masking\": 12}, {\"Subsequent Mask\": true, \"Window\": 10, \"Masking\": 13}, {\"Subsequent Mask\": true, \"Window\": 10, \"Masking\": 14}, {\"Subsequent Mask\": true, \"Window\": 10, \"Masking\": 15}, {\"Subsequent Mask\": true, \"Window\": 10, \"Masking\": 16}, {\"Subsequent Mask\": true, \"Window\": 10, \"Masking\": 17}, {\"Subsequent Mask\": true, \"Window\": 10, \"Masking\": 18}, {\"Subsequent Mask\": true, \"Window\": 10, \"Masking\": 19}, {\"Subsequent Mask\": false, \"Window\": 11, \"Masking\": 0}, {\"Subsequent Mask\": false, \"Window\": 11, \"Masking\": 1}, {\"Subsequent Mask\": false, \"Window\": 11, \"Masking\": 2}, {\"Subsequent Mask\": false, \"Window\": 11, \"Masking\": 3}, {\"Subsequent Mask\": false, \"Window\": 11, \"Masking\": 4}, {\"Subsequent Mask\": false, \"Window\": 11, \"Masking\": 5}, {\"Subsequent Mask\": false, \"Window\": 11, \"Masking\": 6}, {\"Subsequent Mask\": false, \"Window\": 11, \"Masking\": 7}, {\"Subsequent Mask\": false, \"Window\": 11, \"Masking\": 8}, {\"Subsequent Mask\": false, \"Window\": 11, \"Masking\": 9}, {\"Subsequent Mask\": false, \"Window\": 11, \"Masking\": 10}, {\"Subsequent Mask\": true, \"Window\": 11, \"Masking\": 11}, {\"Subsequent Mask\": true, \"Window\": 11, \"Masking\": 12}, {\"Subsequent Mask\": true, \"Window\": 11, \"Masking\": 13}, {\"Subsequent Mask\": true, \"Window\": 11, \"Masking\": 14}, {\"Subsequent Mask\": true, \"Window\": 11, \"Masking\": 15}, {\"Subsequent Mask\": true, \"Window\": 11, \"Masking\": 16}, {\"Subsequent Mask\": true, \"Window\": 11, \"Masking\": 17}, {\"Subsequent Mask\": true, \"Window\": 11, \"Masking\": 18}, {\"Subsequent Mask\": true, \"Window\": 11, \"Masking\": 19}, {\"Subsequent Mask\": false, \"Window\": 12, \"Masking\": 0}, {\"Subsequent Mask\": false, \"Window\": 12, \"Masking\": 1}, {\"Subsequent Mask\": false, \"Window\": 12, \"Masking\": 2}, {\"Subsequent Mask\": false, \"Window\": 12, \"Masking\": 3}, {\"Subsequent Mask\": false, \"Window\": 12, \"Masking\": 4}, {\"Subsequent Mask\": false, \"Window\": 12, \"Masking\": 5}, {\"Subsequent Mask\": false, \"Window\": 12, \"Masking\": 6}, {\"Subsequent Mask\": false, \"Window\": 12, \"Masking\": 7}, {\"Subsequent Mask\": false, \"Window\": 12, \"Masking\": 8}, {\"Subsequent Mask\": false, \"Window\": 12, \"Masking\": 9}, {\"Subsequent Mask\": false, \"Window\": 12, \"Masking\": 10}, {\"Subsequent Mask\": false, \"Window\": 12, \"Masking\": 11}, {\"Subsequent Mask\": true, \"Window\": 12, \"Masking\": 12}, {\"Subsequent Mask\": true, \"Window\": 12, \"Masking\": 13}, {\"Subsequent Mask\": true, \"Window\": 12, \"Masking\": 14}, {\"Subsequent Mask\": true, \"Window\": 12, \"Masking\": 15}, {\"Subsequent Mask\": true, \"Window\": 12, \"Masking\": 16}, {\"Subsequent Mask\": true, \"Window\": 12, \"Masking\": 17}, {\"Subsequent Mask\": true, \"Window\": 12, \"Masking\": 18}, {\"Subsequent Mask\": true, \"Window\": 12, \"Masking\": 19}, {\"Subsequent Mask\": false, \"Window\": 13, \"Masking\": 0}, {\"Subsequent Mask\": false, \"Window\": 13, \"Masking\": 1}, {\"Subsequent Mask\": false, \"Window\": 13, \"Masking\": 2}, {\"Subsequent Mask\": false, \"Window\": 13, \"Masking\": 3}, {\"Subsequent Mask\": false, \"Window\": 13, \"Masking\": 4}, {\"Subsequent Mask\": false, \"Window\": 13, \"Masking\": 5}, {\"Subsequent Mask\": false, \"Window\": 13, \"Masking\": 6}, {\"Subsequent Mask\": false, \"Window\": 13, \"Masking\": 7}, {\"Subsequent Mask\": false, \"Window\": 13, \"Masking\": 8}, {\"Subsequent Mask\": false, \"Window\": 13, \"Masking\": 9}, {\"Subsequent Mask\": false, \"Window\": 13, \"Masking\": 10}, {\"Subsequent Mask\": false, \"Window\": 13, \"Masking\": 11}, {\"Subsequent Mask\": false, \"Window\": 13, \"Masking\": 12}, {\"Subsequent Mask\": true, \"Window\": 13, \"Masking\": 13}, {\"Subsequent Mask\": true, \"Window\": 13, \"Masking\": 14}, {\"Subsequent Mask\": true, \"Window\": 13, \"Masking\": 15}, {\"Subsequent Mask\": true, \"Window\": 13, \"Masking\": 16}, {\"Subsequent Mask\": true, \"Window\": 13, \"Masking\": 17}, {\"Subsequent Mask\": true, \"Window\": 13, \"Masking\": 18}, {\"Subsequent Mask\": true, \"Window\": 13, \"Masking\": 19}, {\"Subsequent Mask\": false, \"Window\": 14, \"Masking\": 0}, {\"Subsequent Mask\": false, \"Window\": 14, \"Masking\": 1}, {\"Subsequent Mask\": false, \"Window\": 14, \"Masking\": 2}, {\"Subsequent Mask\": false, \"Window\": 14, \"Masking\": 3}, {\"Subsequent Mask\": false, \"Window\": 14, \"Masking\": 4}, {\"Subsequent Mask\": false, \"Window\": 14, \"Masking\": 5}, {\"Subsequent Mask\": false, \"Window\": 14, \"Masking\": 6}, {\"Subsequent Mask\": false, \"Window\": 14, \"Masking\": 7}, {\"Subsequent Mask\": false, \"Window\": 14, \"Masking\": 8}, {\"Subsequent Mask\": false, \"Window\": 14, \"Masking\": 9}, {\"Subsequent Mask\": false, \"Window\": 14, \"Masking\": 10}, {\"Subsequent Mask\": false, \"Window\": 14, \"Masking\": 11}, {\"Subsequent Mask\": false, \"Window\": 14, \"Masking\": 12}, {\"Subsequent Mask\": false, \"Window\": 14, \"Masking\": 13}, {\"Subsequent Mask\": true, \"Window\": 14, \"Masking\": 14}, {\"Subsequent Mask\": true, \"Window\": 14, \"Masking\": 15}, {\"Subsequent Mask\": true, \"Window\": 14, \"Masking\": 16}, {\"Subsequent Mask\": true, \"Window\": 14, \"Masking\": 17}, {\"Subsequent Mask\": true, \"Window\": 14, \"Masking\": 18}, {\"Subsequent Mask\": true, \"Window\": 14, \"Masking\": 19}, {\"Subsequent Mask\": false, \"Window\": 15, \"Masking\": 0}, {\"Subsequent Mask\": false, \"Window\": 15, \"Masking\": 1}, {\"Subsequent Mask\": false, \"Window\": 15, \"Masking\": 2}, {\"Subsequent Mask\": false, \"Window\": 15, \"Masking\": 3}, {\"Subsequent Mask\": false, \"Window\": 15, \"Masking\": 4}, {\"Subsequent Mask\": false, \"Window\": 15, \"Masking\": 5}, {\"Subsequent Mask\": false, \"Window\": 15, \"Masking\": 6}, {\"Subsequent Mask\": false, \"Window\": 15, \"Masking\": 7}, {\"Subsequent Mask\": false, \"Window\": 15, \"Masking\": 8}, {\"Subsequent Mask\": false, \"Window\": 15, \"Masking\": 9}, {\"Subsequent Mask\": false, \"Window\": 15, \"Masking\": 10}, {\"Subsequent Mask\": false, \"Window\": 15, \"Masking\": 11}, {\"Subsequent Mask\": false, \"Window\": 15, \"Masking\": 12}, {\"Subsequent Mask\": false, \"Window\": 15, \"Masking\": 13}, {\"Subsequent Mask\": false, \"Window\": 15, \"Masking\": 14}, {\"Subsequent Mask\": true, \"Window\": 15, \"Masking\": 15}, {\"Subsequent Mask\": true, \"Window\": 15, \"Masking\": 16}, {\"Subsequent Mask\": true, \"Window\": 15, \"Masking\": 17}, {\"Subsequent Mask\": true, \"Window\": 15, \"Masking\": 18}, {\"Subsequent Mask\": true, \"Window\": 15, \"Masking\": 19}, {\"Subsequent Mask\": false, \"Window\": 16, \"Masking\": 0}, {\"Subsequent Mask\": false, \"Window\": 16, \"Masking\": 1}, {\"Subsequent Mask\": false, \"Window\": 16, \"Masking\": 2}, {\"Subsequent Mask\": false, \"Window\": 16, \"Masking\": 3}, {\"Subsequent Mask\": false, \"Window\": 16, \"Masking\": 4}, {\"Subsequent Mask\": false, \"Window\": 16, \"Masking\": 5}, {\"Subsequent Mask\": false, \"Window\": 16, \"Masking\": 6}, {\"Subsequent Mask\": false, \"Window\": 16, \"Masking\": 7}, {\"Subsequent Mask\": false, \"Window\": 16, \"Masking\": 8}, {\"Subsequent Mask\": false, \"Window\": 16, \"Masking\": 9}, {\"Subsequent Mask\": false, \"Window\": 16, \"Masking\": 10}, {\"Subsequent Mask\": false, \"Window\": 16, \"Masking\": 11}, {\"Subsequent Mask\": false, \"Window\": 16, \"Masking\": 12}, {\"Subsequent Mask\": false, \"Window\": 16, \"Masking\": 13}, {\"Subsequent Mask\": false, \"Window\": 16, \"Masking\": 14}, {\"Subsequent Mask\": false, \"Window\": 16, \"Masking\": 15}, {\"Subsequent Mask\": true, \"Window\": 16, \"Masking\": 16}, {\"Subsequent Mask\": true, \"Window\": 16, \"Masking\": 17}, {\"Subsequent Mask\": true, \"Window\": 16, \"Masking\": 18}, {\"Subsequent Mask\": true, \"Window\": 16, \"Masking\": 19}, {\"Subsequent Mask\": false, \"Window\": 17, \"Masking\": 0}, {\"Subsequent Mask\": false, \"Window\": 17, \"Masking\": 1}, {\"Subsequent Mask\": false, \"Window\": 17, \"Masking\": 2}, {\"Subsequent Mask\": false, \"Window\": 17, \"Masking\": 3}, {\"Subsequent Mask\": false, \"Window\": 17, \"Masking\": 4}, {\"Subsequent Mask\": false, \"Window\": 17, \"Masking\": 5}, {\"Subsequent Mask\": false, \"Window\": 17, \"Masking\": 6}, {\"Subsequent Mask\": false, \"Window\": 17, \"Masking\": 7}, {\"Subsequent Mask\": false, \"Window\": 17, \"Masking\": 8}, {\"Subsequent Mask\": false, \"Window\": 17, \"Masking\": 9}, {\"Subsequent Mask\": false, \"Window\": 17, \"Masking\": 10}, {\"Subsequent Mask\": false, \"Window\": 17, \"Masking\": 11}, {\"Subsequent Mask\": false, \"Window\": 17, \"Masking\": 12}, {\"Subsequent Mask\": false, \"Window\": 17, \"Masking\": 13}, {\"Subsequent Mask\": false, \"Window\": 17, \"Masking\": 14}, {\"Subsequent Mask\": false, \"Window\": 17, \"Masking\": 15}, {\"Subsequent Mask\": false, \"Window\": 17, \"Masking\": 16}, {\"Subsequent Mask\": true, \"Window\": 17, \"Masking\": 17}, {\"Subsequent Mask\": true, \"Window\": 17, \"Masking\": 18}, {\"Subsequent Mask\": true, \"Window\": 17, \"Masking\": 19}, {\"Subsequent Mask\": false, \"Window\": 18, \"Masking\": 0}, {\"Subsequent Mask\": false, \"Window\": 18, \"Masking\": 1}, {\"Subsequent Mask\": false, \"Window\": 18, \"Masking\": 2}, {\"Subsequent Mask\": false, \"Window\": 18, \"Masking\": 3}, {\"Subsequent Mask\": false, \"Window\": 18, \"Masking\": 4}, {\"Subsequent Mask\": false, \"Window\": 18, \"Masking\": 5}, {\"Subsequent Mask\": false, \"Window\": 18, \"Masking\": 6}, {\"Subsequent Mask\": false, \"Window\": 18, \"Masking\": 7}, {\"Subsequent Mask\": false, \"Window\": 18, \"Masking\": 8}, {\"Subsequent Mask\": false, \"Window\": 18, \"Masking\": 9}, {\"Subsequent Mask\": false, \"Window\": 18, \"Masking\": 10}, {\"Subsequent Mask\": false, \"Window\": 18, \"Masking\": 11}, {\"Subsequent Mask\": false, \"Window\": 18, \"Masking\": 12}, {\"Subsequent Mask\": false, \"Window\": 18, \"Masking\": 13}, {\"Subsequent Mask\": false, \"Window\": 18, \"Masking\": 14}, {\"Subsequent Mask\": false, \"Window\": 18, \"Masking\": 15}, {\"Subsequent Mask\": false, \"Window\": 18, \"Masking\": 16}, {\"Subsequent Mask\": false, \"Window\": 18, \"Masking\": 17}, {\"Subsequent Mask\": true, \"Window\": 18, \"Masking\": 18}, {\"Subsequent Mask\": true, \"Window\": 18, \"Masking\": 19}, {\"Subsequent Mask\": false, \"Window\": 19, \"Masking\": 0}, {\"Subsequent Mask\": false, \"Window\": 19, \"Masking\": 1}, {\"Subsequent Mask\": false, \"Window\": 19, \"Masking\": 2}, {\"Subsequent Mask\": false, \"Window\": 19, \"Masking\": 3}, {\"Subsequent Mask\": false, \"Window\": 19, \"Masking\": 4}, {\"Subsequent Mask\": false, \"Window\": 19, \"Masking\": 5}, {\"Subsequent Mask\": false, \"Window\": 19, \"Masking\": 6}, {\"Subsequent Mask\": false, \"Window\": 19, \"Masking\": 7}, {\"Subsequent Mask\": false, \"Window\": 19, \"Masking\": 8}, {\"Subsequent Mask\": false, \"Window\": 19, \"Masking\": 9}, {\"Subsequent Mask\": false, \"Window\": 19, \"Masking\": 10}, {\"Subsequent Mask\": false, \"Window\": 19, \"Masking\": 11}, {\"Subsequent Mask\": false, \"Window\": 19, \"Masking\": 12}, {\"Subsequent Mask\": false, \"Window\": 19, \"Masking\": 13}, {\"Subsequent Mask\": false, \"Window\": 19, \"Masking\": 14}, {\"Subsequent Mask\": false, \"Window\": 19, \"Masking\": 15}, {\"Subsequent Mask\": false, \"Window\": 19, \"Masking\": 16}, {\"Subsequent Mask\": false, \"Window\": 19, \"Masking\": 17}, {\"Subsequent Mask\": false, \"Window\": 19, \"Masking\": 18}, {\"Subsequent Mask\": true, \"Window\": 19, \"Masking\": 19}]}}, {\"mode\": \"vega-lite\"});\n",
              "</script>"
            ],
            "text/plain": [
              "alt.Chart(...)"
            ]
          },
          "metadata": {},
          "execution_count": 55
        }
      ]
    },
    {
      "cell_type": "markdown",
      "source": [
        "## Attention"
      ],
      "metadata": {
        "id": "cBgu3qm805L_"
      }
    },
    {
      "cell_type": "markdown",
      "source": [
        "![image.png](data:image/png;base64,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)"
      ],
      "metadata": {
        "id": "cdb1dFQWE4iB"
      }
    },
    {
      "cell_type": "markdown",
      "source": [
        "$Attention(Q, K, V) = softmax(\\frac{QK^T}{\\sqrt{d_k}})V$"
      ],
      "metadata": {
        "id": "SCYJ3xvKE5-Q"
      }
    },
    {
      "cell_type": "code",
      "source": [
        "def attention(query, key, value, mask=None, dropout=None):\n",
        "\n",
        "    \"Computing Scaled Dot Product Attention\"\n",
        "    d_k = query.size(-1)\n",
        "    # TODO How is the key transpose working here?\n",
        "    scores = torch.matmul(query, key.transpose(-2, -1)) / math.sqrt(d_k)\n",
        "\n",
        "    if mask is not None:\n",
        "        scores = scores.masked_fill(mask == 0, -1e9)\n",
        "\n",
        "    weights = scores.softmax(dim=-1)\n",
        "\n",
        "    if dropout is not None:\n",
        "        weights = dropout(weights)\n",
        "    \n",
        "    w_sum = torch.matmul(weights, value)\n",
        "    \n",
        "    return w_sum, weights"
      ],
      "metadata": {
        "id": "i9sQbRyoY30g"
      },
      "execution_count": null,
      "outputs": []
    },
    {
      "cell_type": "markdown",
      "source": [
        "![image.png](data:image/png;base64,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)"
      ],
      "metadata": {
        "id": "lgMqr3n8TQ3Q"
      }
    },
    {
      "cell_type": "code",
      "source": [
        "class MultiHeadedAttention(nn.Module):\n",
        "\n",
        "    def __init__(self, h, d_model, dropout=0.1):\n",
        "        \"Take in model size and number of heads\"\n",
        "\n",
        "        super(MultiHeadedAttention, self).__init__()\n",
        "        assert d_model % h == 0 # Aha this seems important\n",
        "\n",
        "        # We assume d_v == d_k\n",
        "        self.d_k = d_model // h # Floor division - rounds the result down \n",
        "        self.h = h\n",
        "\n",
        "        # Each head only needs 3 linears (one each for Q, K, V)\n",
        "        # The fourth one is used in the ending\n",
        "        self.linears = clones(nn.Linear(d_model, d_model), 4)\n",
        "        self.attn = None\n",
        "        self.dropout = nn.Dropout(p=dropout)\n",
        "    \n",
        "    def forward(self, query, key, value, mask=None):\n",
        "\n",
        "        # TODO: Understand/map all these shape transformations\n",
        "\n",
        "        if mask is not None:\n",
        "            # Same mask is applied to all heads\n",
        "            mask = mask.unsqueeze(1)\n",
        "        \n",
        "        nbatches = query.size(0)\n",
        "\n",
        "\n",
        "        # Step 1. Linear Projection\n",
        "        # Push Q, K, V through a linear layer and reshape them\n",
        "        query, key, value = [\n",
        "            lin(x).view(nbatches, -1, self.h, self.d_k).transpose(1, 2)\n",
        "            for lin, x in zip(self.linears, (query, key, value))\n",
        "        ]\n",
        "\n",
        "        # Step 2. Apply attention to the linear projections\n",
        "        x, self.attn = attention(\n",
        "            query, key, value, mask=mask, dropout=self.dropout\n",
        "        )\n",
        "\n",
        "        # Step 3. \"Concat\" and apply final linear layer\n",
        "        x = (\n",
        "            x.transpose(1, 2)\n",
        "            .contiguous()\n",
        "            .view(nbatches, -1, self.h * self.d_k)\n",
        "        )\n",
        "        x = self.linears[-1](x)\n",
        "\n",
        "        del query\n",
        "        del key\n",
        "        del value\n",
        "        return x"
      ],
      "metadata": {
        "id": "Z8-KAkX55akv"
      },
      "execution_count": null,
      "outputs": []
    },
    {
      "cell_type": "markdown",
      "source": [
        "## Position-wise Feed-Forward Networks"
      ],
      "metadata": {
        "id": "PooJS8QR3SXM"
      }
    },
    {
      "cell_type": "markdown",
      "source": [
        "In addition to attention sub-layers, each of the layers in our encoder and decoder contains a fully connected feed-forward network, which is applied to each position separately and identically. This consists of two linear transformations with a ReLU activation in between.\n",
        "\n"
      ],
      "metadata": {
        "id": "xogfgni6GB1q"
      }
    },
    {
      "cell_type": "code",
      "source": [
        "class PositionWiseFeedForward(nn.Module):\n",
        "\n",
        "    def __init__(self, d_model, d_ff, dropout=0.1):\n",
        "        super(PositionWiseFeedForward, self).__init__()\n",
        "\n",
        "        self.layer1 = nn.Linear(d_model, d_ff)\n",
        "        self.layer2 = nn.Linear(d_ff, d_model)\n",
        "        self.dropout = nn.Dropout(dropout)\n",
        "\n",
        "    def forward(self, x):\n",
        "\n",
        "        x = self.layer1(x)\n",
        "        x = self.dropout(x.relu())\n",
        "        x = self.layer2(x)\n",
        "        return x"
      ],
      "metadata": {
        "id": "UegRwJA2U-85"
      },
      "execution_count": null,
      "outputs": []
    },
    {
      "cell_type": "markdown",
      "source": [
        "## Embeddings and Softmax"
      ],
      "metadata": {
        "id": "kuaQo5mLaiS5"
      }
    },
    {
      "cell_type": "markdown",
      "source": [
        "We share the same weights b/w the two embedding layers and the pre-softmax linear transformation. Like same weights in all 4 of them together.\n",
        "\n",
        "Though we multiply the weights by $\\sqrt{d_{model}}$ in the embedding layer"
      ],
      "metadata": {
        "id": "WO5Z6Q6Zaj9x"
      }
    },
    {
      "cell_type": "code",
      "source": [
        "class Embeddings(nn.Module):\n",
        "\n",
        "    def __init__(self, d_model, vocab):\n",
        "        super(Embeddings, self).__init__()\n",
        "        # LUT = Look-Up Table (?) of embeddings\n",
        "        self.lut = nn.Embedding(vocab, d_model) \n",
        "        self.d_model = d_model\n",
        "\n",
        "    def forward(self, x):\n",
        "        return self.lut(x) * math.sqrt(self.d_model)"
      ],
      "metadata": {
        "id": "3yCpglACU_-_"
      },
      "execution_count": null,
      "outputs": []
    },
    {
      "cell_type": "markdown",
      "source": [
        "## Positional Encoding"
      ],
      "metadata": {
        "id": "-Ct5mCgAkZl7"
      }
    },
    {
      "cell_type": "code",
      "source": [
        "class PositionalEncoding(nn.Module):\n",
        "\n",
        "    # I haven't spent time understanding this code yet.\n",
        "\n",
        "    def __init__(self, d_model, dropout, max_len=5000):\n",
        "        super(PositionalEncoding, self).__init__()\n",
        "\n",
        "        self.dropout = nn.Dropout(p=dropout)\n",
        "\n",
        "        # Compute positional encodings once in log space\n",
        "        # Why: Probably efficiency reasons?\n",
        "        pe = torch.zeros(max_len, d_model)\n",
        "        position = torch.arange(0, max_len).unsqueeze(1)\n",
        "        div_term = torch.exp(\n",
        "            torch.arange(0, d_model, 2) * -(math.log(10000.0) / d_model)\n",
        "        )\n",
        "        pe[:, 0::2] = torch.sin(position * div_term)\n",
        "        pe[:, 1::2] = torch.cos(position * div_term)\n",
        "        pe = pe.unsqueeze(0)\n",
        "        self.register_buffer(\"pe\", pe)\n",
        "\n",
        "    def forward(self, x):\n",
        "        x = x + self.pe[:, : x.size(1)].requires_grad_(False)\n",
        "        return self.dropout(x)"
      ],
      "metadata": {
        "id": "uJdB9Q7Fka17"
      },
      "execution_count": null,
      "outputs": []
    },
    {
      "cell_type": "markdown",
      "source": [
        "Below the positional encoding will add in a sine wave based on position. The frequency and offset of the wave is different for each dimension.\n",
        "\n"
      ],
      "metadata": {
        "id": "AetBzidnG8MN"
      }
    },
    {
      "cell_type": "code",
      "source": [
        "def example_positional():\n",
        "    pe = PositionalEncoding(20, 0)\n",
        "    y = pe.forward(torch.zeros(1, 100, 20))\n",
        "\n",
        "    data = pd.concat(\n",
        "        [\n",
        "            pd.DataFrame(\n",
        "                {\n",
        "                    \"embedding\": y[0, :, dim],\n",
        "                    \"dimension\": dim,\n",
        "                    \"position\": list(range(100)),\n",
        "                }\n",
        "            )\n",
        "            for dim in [4, 5, 6, 7]\n",
        "        ]\n",
        "    )\n",
        "\n",
        "    return (\n",
        "        alt.Chart(data)\n",
        "        .mark_line()\n",
        "        .properties(width=800)\n",
        "        .encode(x=\"position\", y=\"embedding\", color=\"dimension:N\")\n",
        "        .interactive()\n",
        "    )\n",
        "\n",
        "\n",
        "show_example(example_positional)"
      ],
      "metadata": {
        "colab": {
          "base_uri": "https://localhost:8080/",
          "height": 388
        },
        "id": "hp2NA7L_G-jn",
        "outputId": "d713fa75-3667-4452-fcdf-8ae3990f8b22"
      },
      "execution_count": null,
      "outputs": [
        {
          "output_type": "execute_result",
          "data": {
            "text/html": [
              "\n",
              "<div id=\"altair-viz-0175e9b6653449bca13610fa40b3e5fb\"></div>\n",
              "<script type=\"text/javascript\">\n",
              "  var VEGA_DEBUG = (typeof VEGA_DEBUG == \"undefined\") ? {} : VEGA_DEBUG;\n",
              "  (function(spec, embedOpt){\n",
              "    let outputDiv = document.currentScript.previousElementSibling;\n",
              "    if (outputDiv.id !== \"altair-viz-0175e9b6653449bca13610fa40b3e5fb\") {\n",
              "      outputDiv = document.getElementById(\"altair-viz-0175e9b6653449bca13610fa40b3e5fb\");\n",
              "    }\n",
              "    const paths = {\n",
              "      \"vega\": \"https://cdn.jsdelivr.net/npm//vega@5?noext\",\n",
              "      \"vega-lib\": \"https://cdn.jsdelivr.net/npm//vega-lib?noext\",\n",
              "      \"vega-lite\": \"https://cdn.jsdelivr.net/npm//vega-lite@4.17.0?noext\",\n",
              "      \"vega-embed\": \"https://cdn.jsdelivr.net/npm//vega-embed@6?noext\",\n",
              "    };\n",
              "\n",
              "    function maybeLoadScript(lib, version) {\n",
              "      var key = `${lib.replace(\"-\", \"\")}_version`;\n",
              "      return (VEGA_DEBUG[key] == version) ?\n",
              "        Promise.resolve(paths[lib]) :\n",
              "        new Promise(function(resolve, reject) {\n",
              "          var s = document.createElement('script');\n",
              "          document.getElementsByTagName(\"head\")[0].appendChild(s);\n",
              "          s.async = true;\n",
              "          s.onload = () => {\n",
              "            VEGA_DEBUG[key] = version;\n",
              "            return resolve(paths[lib]);\n",
              "          };\n",
              "          s.onerror = () => reject(`Error loading script: ${paths[lib]}`);\n",
              "          s.src = paths[lib];\n",
              "        });\n",
              "    }\n",
              "\n",
              "    function showError(err) {\n",
              "      outputDiv.innerHTML = `<div class=\"error\" style=\"color:red;\">${err}</div>`;\n",
              "      throw err;\n",
              "    }\n",
              "\n",
              "    function displayChart(vegaEmbed) {\n",
              "      vegaEmbed(outputDiv, spec, embedOpt)\n",
              "        .catch(err => showError(`Javascript Error: ${err.message}<br>This usually means there's a typo in your chart specification. See the javascript console for the full traceback.`));\n",
              "    }\n",
              "\n",
              "    if(typeof define === \"function\" && define.amd) {\n",
              "      requirejs.config({paths});\n",
              "      require([\"vega-embed\"], displayChart, err => showError(`Error loading script: ${err.message}`));\n",
              "    } else {\n",
              "      maybeLoadScript(\"vega\", \"5\")\n",
              "        .then(() => maybeLoadScript(\"vega-lite\", \"4.17.0\"))\n",
              "        .then(() => maybeLoadScript(\"vega-embed\", \"6\"))\n",
              "        .catch(showError)\n",
              "        .then(() => displayChart(vegaEmbed));\n",
              "    }\n",
              "  })({\"config\": {\"view\": {\"continuousWidth\": 400, \"continuousHeight\": 300}}, \"data\": {\"name\": \"data-eafc635ddfa311c913cbcc2d2bc4477d\"}, \"mark\": \"line\", \"encoding\": {\"color\": {\"field\": \"dimension\", \"type\": \"nominal\"}, \"x\": {\"field\": \"position\", \"type\": \"quantitative\"}, \"y\": {\"field\": \"embedding\", \"type\": \"quantitative\"}}, \"selection\": {\"selector002\": {\"type\": \"interval\", \"bind\": \"scales\", \"encodings\": [\"x\", \"y\"]}}, \"width\": 800, \"$schema\": \"https://vega.github.io/schema/vega-lite/v4.17.0.json\", \"datasets\": {\"data-eafc635ddfa311c913cbcc2d2bc4477d\": [{\"embedding\": 0.0, \"dimension\": 4, \"position\": 0}, {\"embedding\": 0.15782663226127625, \"dimension\": 4, \"position\": 1}, {\"embedding\": 0.3116971552371979, \"dimension\": 4, \"position\": 2}, {\"embedding\": 0.45775455236434937, \"dimension\": 4, \"position\": 3}, {\"embedding\": 0.5923377275466919, \"dimension\": 4, \"position\": 4}, {\"embedding\": 0.7120732069015503, \"dimension\": 4, \"position\": 5}, {\"embedding\": 0.813959538936615, \"dimension\": 4, \"position\": 6}, {\"embedding\": 0.8954429626464844, \"dimension\": 4, \"position\": 7}, {\"embedding\": 0.9544808864593506, \"dimension\": 4, \"position\": 8}, {\"embedding\": 0.989593505859375, \"dimension\": 4, \"position\": 9}, {\"embedding\": 0.9999006390571594, \"dimension\": 4, \"position\": 10}, {\"embedding\": 0.9851439595222473, \"dimension\": 4, \"position\": 11}, {\"embedding\": 0.94569331407547, \"dimension\": 4, \"position\": 12}, {\"embedding\": 0.8825376033782959, \"dimension\": 4, \"position\": 13}, {\"embedding\": 0.7972599267959595, \"dimension\": 4, \"position\": 14}, {\"embedding\": 0.6919978260993958, \"dimension\": 4, \"position\": 15}, {\"embedding\": 0.5693899393081665, \"dimension\": 4, \"position\": 16}, {\"embedding\": 0.4325096309185028, \"dimension\": 4, \"position\": 17}, {\"embedding\": 0.284787654876709, \"dimension\": 4, \"position\": 18}, {\"embedding\": 0.12992730736732483, \"dimension\": 4, \"position\": 19}, {\"embedding\": -0.028190065175294876, \"dimension\": 4, \"position\": 20}, {\"embedding\": -0.18560057878494263, \"dimension\": 4, \"position\": 21}, {\"embedding\": -0.3383587896823883, \"dimension\": 4, \"position\": 22}, {\"embedding\": -0.4826357960700989, \"dimension\": 4, \"position\": 23}, {\"embedding\": -0.6148146390914917, \"dimension\": 4, \"position\": 24}, {\"embedding\": -0.7315824031829834, \"dimension\": 4, \"position\": 25}, {\"embedding\": -0.8300122618675232, \"dimension\": 4, \"position\": 26}, {\"embedding\": -0.9076365828514099, \"dimension\": 4, \"position\": 27}, {\"embedding\": -0.96250981092453, \"dimension\": 4, \"position\": 28}, {\"embedding\": -0.9932565093040466, \"dimension\": 4, \"position\": 29}, {\"embedding\": -0.9991058707237244, \"dimension\": 4, \"position\": 30}, {\"embedding\": -0.9799113273620605, \"dimension\": 4, \"position\": 31}, {\"embedding\": -0.9361540079116821, \"dimension\": 4, \"position\": 32}, {\"embedding\": -0.8689308166503906, \"dimension\": 4, \"position\": 33}, {\"embedding\": -0.7799267172813416, \"dimension\": 4, \"position\": 34}, {\"embedding\": -0.6713724136352539, \"dimension\": 4, \"position\": 35}, {\"embedding\": -0.5459895133972168, \"dimension\": 4, \"position\": 36}, {\"embedding\": -0.40692076086997986, \"dimension\": 4, \"position\": 37}, {\"embedding\": -0.2576519548892975, \"dimension\": 4, \"position\": 38}, {\"embedding\": -0.10192479938268661, \"dimension\": 4, \"position\": 39}, {\"embedding\": 0.056357722729444504, \"dimension\": 4, \"position\": 40}, {\"embedding\": 0.21322709321975708, \"dimension\": 4, \"position\": 41}, {\"embedding\": 0.3647516369819641, \"dimension\": 4, \"position\": 42}, {\"embedding\": 0.5071332454681396, \"dimension\": 4, \"position\": 43}, {\"embedding\": 0.6368028521537781, \"dimension\": 4, \"position\": 44}, {\"embedding\": 0.7505101561546326, \"dimension\": 4, \"position\": 45}, {\"embedding\": 0.8454052805900574, \"dimension\": 4, \"position\": 46}, {\"embedding\": 0.9191088080406189, \"dimension\": 4, \"position\": 47}, {\"embedding\": 0.9697737693786621, \"dimension\": 4, \"position\": 48}, {\"embedding\": 0.9961300492286682, \"dimension\": 4, \"position\": 49}, {\"embedding\": 0.9975170493125916, \"dimension\": 4, \"position\": 50}, {\"embedding\": 0.9738998413085938, \"dimension\": 4, \"position\": 51}, {\"embedding\": 0.9258706569671631, \"dimension\": 4, \"position\": 52}, {\"embedding\": 0.8546332716941833, \"dimension\": 4, \"position\": 53}, {\"embedding\": 0.7619734406471252, \"dimension\": 4, \"position\": 54}, {\"embedding\": 0.6502137184143066, \"dimension\": 4, \"position\": 55}, {\"embedding\": 0.5221555233001709, \"dimension\": 4, \"position\": 56}, {\"embedding\": 0.38100889325141907, \"dimension\": 4, \"position\": 57}, {\"embedding\": 0.23031172156333923, \"dimension\": 4, \"position\": 58}, {\"embedding\": 0.07384055852890015, \"dimension\": 4, \"position\": 59}, {\"embedding\": -0.08448058366775513, \"dimension\": 4, \"position\": 60}, {\"embedding\": -0.2406841218471527, \"dimension\": 4, \"position\": 61}, {\"embedding\": -0.3908545970916748, \"dimension\": 4, \"position\": 62}, {\"embedding\": -0.5312277674674988, \"dimension\": 4, \"position\": 63}, {\"embedding\": -0.6582850813865662, \"dimension\": 4, \"position\": 64}, {\"embedding\": -0.768841564655304, \"dimension\": 4, \"position\": 65}, {\"embedding\": -0.8601260781288147, \"dimension\": 4, \"position\": 66}, {\"embedding\": -0.9298503994941711, \"dimension\": 4, \"position\": 67}, {\"embedding\": -0.9762668013572693, \"dimension\": 4, \"position\": 68}, {\"embedding\": -0.9982118010520935, \"dimension\": 4, \"position\": 69}, {\"embedding\": -0.9951352477073669, \"dimension\": 4, \"position\": 70}, {\"embedding\": -0.967114269733429, \"dimension\": 4, \"position\": 71}, {\"embedding\": -0.9148513078689575, \"dimension\": 4, \"position\": 72}, {\"embedding\": -0.839656412601471, \"dimension\": 4, \"position\": 73}, {\"embedding\": -0.7434144616127014, \"dimension\": 4, \"position\": 74}, {\"embedding\": -0.6285378336906433, \"dimension\": 4, \"position\": 75}, {\"embedding\": -0.4979061186313629, \"dimension\": 4, \"position\": 76}, {\"embedding\": -0.3547937273979187, \"dimension\": 4, \"position\": 77}, {\"embedding\": -0.20278796553611755, \"dimension\": 4, \"position\": 78}, {\"embedding\": -0.04569905996322632, \"dimension\": 4, \"position\": 79}, {\"embedding\": 0.11253630369901657, \"dimension\": 4, \"position\": 80}, {\"embedding\": 0.2679498493671417, \"dimension\": 4, \"position\": 81}, {\"embedding\": 0.4166468679904938, \"dimension\": 4, \"position\": 82}, {\"embedding\": 0.5549001097679138, \"dimension\": 4, \"position\": 83}, {\"embedding\": 0.6792440414428711, \"dimension\": 4, \"position\": 84}, {\"embedding\": 0.7865618467330933, \"dimension\": 4, \"position\": 85}, {\"embedding\": 0.8741634488105774, \"dimension\": 4, \"position\": 86}, {\"embedding\": 0.9398530125617981, \"dimension\": 4, \"position\": 87}, {\"embedding\": 0.9819839596748352, \"dimension\": 4, \"position\": 88}, {\"embedding\": 0.9995002150535583, \"dimension\": 4, \"position\": 89}, {\"embedding\": 0.9919626712799072, \"dimension\": 4, \"position\": 90}, {\"embedding\": 0.959559977054596, \"dimension\": 4, \"position\": 91}, {\"embedding\": 0.903104841709137, \"dimension\": 4, \"position\": 92}, {\"embedding\": 0.8240122199058533, \"dimension\": 4, \"position\": 93}, {\"embedding\": 0.7242646217346191, \"dimension\": 4, \"position\": 94}, {\"embedding\": 0.6063624024391174, \"dimension\": 4, \"position\": 95}, {\"embedding\": 0.4732609689235687, \"dimension\": 4, \"position\": 96}, {\"embedding\": 0.32829657196998596, \"dimension\": 4, \"position\": 97}, {\"embedding\": 0.17510302364826202, \"dimension\": 4, \"position\": 98}, {\"embedding\": 0.01752028614282608, \"dimension\": 4, \"position\": 99}, {\"embedding\": 1.0, \"dimension\": 5, \"position\": 0}, {\"embedding\": 0.9874668121337891, \"dimension\": 5, \"position\": 1}, {\"embedding\": 0.9501814842224121, \"dimension\": 5, \"position\": 2}, {\"embedding\": 0.8890786170959473, \"dimension\": 5, \"position\": 3}, {\"embedding\": 0.8056897521018982, \"dimension\": 5, \"position\": 4}, {\"embedding\": 0.7021052241325378, \"dimension\": 5, \"position\": 5}, {\"embedding\": 0.5809215903282166, \"dimension\": 5, \"position\": 6}, {\"embedding\": 0.44517630338668823, \"dimension\": 5, \"position\": 7}, {\"embedding\": 0.2982720732688904, \"dimension\": 5, \"position\": 8}, {\"embedding\": 0.14389123022556305, \"dimension\": 5, \"position\": 9}, {\"embedding\": -0.01409643329679966, \"dimension\": 5, \"position\": 10}, {\"embedding\": -0.1717306226491928, \"dimension\": 5, \"position\": 11}, {\"embedding\": -0.32506027817726135, \"dimension\": 5, \"position\": 12}, {\"embedding\": -0.47024187445640564, \"dimension\": 5, \"position\": 13}, {\"embedding\": -0.6036361455917358, \"dimension\": 5, \"position\": 14}, {\"embedding\": -0.7218996286392212, \"dimension\": 5, \"position\": 15}, {\"embedding\": -0.8220675587654114, \"dimension\": 5, \"position\": 16}, {\"embedding\": -0.9016293287277222, \"dimension\": 5, \"position\": 17}, {\"embedding\": -0.9585906267166138, \"dimension\": 5, \"position\": 18}, {\"embedding\": -0.9915235042572021, \"dimension\": 5, \"position\": 19}, {\"embedding\": -0.9996025562286377, \"dimension\": 5, \"position\": 20}, {\"embedding\": -0.9826252460479736, \"dimension\": 5, \"position\": 21}, {\"embedding\": -0.941017210483551, \"dimension\": 5, \"position\": 22}, {\"embedding\": -0.8758211731910706, \"dimension\": 5, \"position\": 23}, {\"embedding\": -0.788671612739563, \"dimension\": 5, \"position\": 24}, {\"embedding\": -0.6817529797554016, \"dimension\": 5, \"position\": 25}, {\"embedding\": -0.5577451586723328, \"dimension\": 5, \"position\": 26}, {\"embedding\": -0.4197568893432617, \"dimension\": 5, \"position\": 27}, {\"embedding\": -0.27124688029289246, \"dimension\": 5, \"position\": 28}, {\"embedding\": -0.11593768745660782, \"dimension\": 5, \"position\": 29}, {\"embedding\": 0.042278096079826355, \"dimension\": 5, \"position\": 30}, {\"embedding\": 0.19943365454673767, \"dimension\": 5, \"position\": 31}, {\"embedding\": 0.3515901565551758, \"dimension\": 5, \"position\": 32}, {\"embedding\": 0.4949335753917694, \"dimension\": 5, \"position\": 33}, {\"embedding\": 0.6258708238601685, \"dimension\": 5, \"position\": 34}, {\"embedding\": 0.7411201596260071, \"dimension\": 5, \"position\": 35}, {\"embedding\": 0.8377919793128967, \"dimension\": 5, \"position\": 36}, {\"embedding\": 0.9134634733200073, \"dimension\": 5, \"position\": 37}, {\"embedding\": 0.9662377834320068, \"dimension\": 5, \"position\": 38}, {\"embedding\": 0.994792103767395, \"dimension\": 5, \"position\": 39}, {\"embedding\": 0.9984106421470642, \"dimension\": 5, \"position\": 40}, {\"embedding\": 0.9770026803016663, \"dimension\": 5, \"position\": 41}, {\"embedding\": 0.931104838848114, \"dimension\": 5, \"position\": 42}, {\"embedding\": 0.8618676662445068, \"dimension\": 5, \"position\": 43}, {\"embedding\": 0.7710266709327698, \"dimension\": 5, \"position\": 44}, {\"embedding\": 0.6608588695526123, \"dimension\": 5, \"position\": 45}, {\"embedding\": 0.5341253876686096, \"dimension\": 5, \"position\": 46}, {\"embedding\": 0.3940037488937378, \"dimension\": 5, \"position\": 47}, {\"embedding\": 0.24400585889816284, \"dimension\": 5, \"position\": 48}, {\"embedding\": 0.08789165318012238, \"dimension\": 5, \"position\": 49}, {\"embedding\": -0.07042567431926727, \"dimension\": 5, \"position\": 50}, {\"embedding\": -0.2269781529903412, \"dimension\": 5, \"position\": 51}, {\"embedding\": -0.37784066796302795, \"dimension\": 5, \"position\": 52}, {\"embedding\": -0.5192320942878723, \"dimension\": 5, \"position\": 53}, {\"embedding\": -0.6476082801818848, \"dimension\": 5, \"position\": 54}, {\"embedding\": -0.7597513794898987, \"dimension\": 5, \"position\": 55}, {\"embedding\": -0.8528502583503723, \"dimension\": 5, \"position\": 56}, {\"embedding\": -0.9245713949203491, \"dimension\": 5, \"position\": 57}, {\"embedding\": -0.973116934299469, \"dimension\": 5, \"position\": 58}, {\"embedding\": -0.9972700476646423, \"dimension\": 5, \"position\": 59}, {\"embedding\": -0.9964250922203064, \"dimension\": 5, \"position\": 60}, {\"embedding\": -0.9706035256385803, \"dimension\": 5, \"position\": 61}, {\"embedding\": -0.9204524159431458, \"dimension\": 5, \"position\": 62}, {\"embedding\": -0.8472290635108948, \"dimension\": 5, \"position\": 63}, {\"embedding\": -0.7527687549591064, \"dimension\": 5, \"position\": 64}, {\"embedding\": -0.6394393444061279, \"dimension\": 5, \"position\": 65}, {\"embedding\": -0.5100815296173096, \"dimension\": 5, \"position\": 66}, {\"embedding\": -0.3679378628730774, \"dimension\": 5, \"position\": 67}, {\"embedding\": -0.2165713608264923, \"dimension\": 5, \"position\": 68}, {\"embedding\": -0.05977622792124748, \"dimension\": 5, \"position\": 69}, {\"embedding\": 0.09851823002099991, \"dimension\": 5, \"position\": 70}, {\"embedding\": 0.254342257976532, \"dimension\": 5, \"position\": 71}, {\"embedding\": 0.4037908613681793, \"dimension\": 5, \"position\": 72}, {\"embedding\": 0.543117880821228, \"dimension\": 5, \"position\": 73}, {\"embedding\": 0.6688309907913208, \"dimension\": 5, \"position\": 74}, {\"embedding\": 0.7777789831161499, \"dimension\": 5, \"position\": 75}, {\"embedding\": 0.8672309517860413, \"dimension\": 5, \"position\": 76}, {\"embedding\": 0.9349446296691895, \"dimension\": 5, \"position\": 77}, {\"embedding\": 0.9792226552963257, \"dimension\": 5, \"position\": 78}, {\"embedding\": 0.998955249786377, \"dimension\": 5, \"position\": 79}, {\"embedding\": 0.9936476349830627, \"dimension\": 5, \"position\": 80}, {\"embedding\": 0.9634328484535217, \"dimension\": 5, \"position\": 81}, {\"embedding\": 0.9090684056282043, \"dimension\": 5, \"position\": 82}, {\"embedding\": 0.8319169878959656, \"dimension\": 5, \"position\": 83}, {\"embedding\": 0.733912467956543, \"dimension\": 5, \"position\": 84}, {\"embedding\": 0.617511510848999, \"dimension\": 5, \"position\": 85}, {\"embedding\": 0.4856317937374115, \"dimension\": 5, \"position\": 86}, {\"embedding\": 0.3415791094303131, \"dimension\": 5, \"position\": 87}, {\"embedding\": 0.18896427750587463, \"dimension\": 5, \"position\": 88}, {\"embedding\": 0.0316128134727478, \"dimension\": 5, \"position\": 89}, {\"embedding\": -0.12653106451034546, \"dimension\": 5, \"position\": 90}, {\"embedding\": -0.28150418400764465, \"dimension\": 5, \"position\": 91}, {\"embedding\": -0.4294200837612152, \"dimension\": 5, \"position\": 92}, {\"embedding\": -0.5665720105171204, \"dimension\": 5, \"position\": 93}, {\"embedding\": -0.6895220875740051, \"dimension\": 5, \"position\": 94}, {\"embedding\": -0.7951884269714355, \"dimension\": 5, \"position\": 95}, {\"embedding\": -0.880922257900238, \"dimension\": 5, \"position\": 96}, {\"embedding\": -0.9445747137069702, \"dimension\": 5, \"position\": 97}, {\"embedding\": -0.9845501184463501, \"dimension\": 5, \"position\": 98}, {\"embedding\": -0.9998465180397034, \"dimension\": 5, \"position\": 99}, {\"embedding\": 0.0, \"dimension\": 6, \"position\": 0}, {\"embedding\": 0.06305388361215591, \"dimension\": 6, \"position\": 1}, {\"embedding\": 0.12585683166980743, \"dimension\": 6, \"position\": 2}, {\"embedding\": 0.18815888464450836, \"dimension\": 6, \"position\": 3}, {\"embedding\": 0.24971213936805725, \"dimension\": 6, \"position\": 4}, {\"embedding\": 0.31027159094810486, \"dimension\": 6, \"position\": 5}, {\"embedding\": 0.3695962131023407, \"dimension\": 6, \"position\": 6}, {\"embedding\": 0.4274499714374542, \"dimension\": 6, \"position\": 7}, {\"embedding\": 0.4836025834083557, \"dimension\": 6, \"position\": 8}, {\"embedding\": 0.5378305912017822, \"dimension\": 6, \"position\": 9}, {\"embedding\": 0.5899181365966797, \"dimension\": 6, \"position\": 10}, {\"embedding\": 0.6396579146385193, \"dimension\": 6, \"position\": 11}, {\"embedding\": 0.6868520379066467, \"dimension\": 6, \"position\": 12}, {\"embedding\": 0.7313126921653748, \"dimension\": 6, \"position\": 13}, {\"embedding\": 0.7728629112243652, \"dimension\": 6, \"position\": 14}, {\"embedding\": 0.8113372921943665, \"dimension\": 6, \"position\": 15}, {\"embedding\": 0.8465827703475952, \"dimension\": 6, \"position\": 16}, {\"embedding\": 0.8784590363502502, \"dimension\": 6, \"position\": 17}, {\"embedding\": 0.9068393111228943, \"dimension\": 6, \"position\": 18}, {\"embedding\": 0.9316105246543884, \"dimension\": 6, \"position\": 19}, {\"embedding\": 0.9526742100715637, \"dimension\": 6, \"position\": 20}, {\"embedding\": 0.9699464440345764, \"dimension\": 6, \"position\": 21}, {\"embedding\": 0.9833585619926453, \"dimension\": 6, \"position\": 22}, {\"embedding\": 0.9928570985794067, \"dimension\": 6, \"position\": 23}, {\"embedding\": 0.9984043836593628, \"dimension\": 6, \"position\": 24}, {\"embedding\": 0.999978244304657, \"dimension\": 6, \"position\": 25}, {\"embedding\": 0.9975724220275879, \"dimension\": 6, \"position\": 26}, {\"embedding\": 0.9911965131759644, \"dimension\": 6, \"position\": 27}, {\"embedding\": 0.9808759093284607, \"dimension\": 6, \"position\": 28}, {\"embedding\": 0.9666516780853271, \"dimension\": 6, \"position\": 29}, {\"embedding\": 0.9485803842544556, \"dimension\": 6, \"position\": 30}, {\"embedding\": 0.9267339110374451, \"dimension\": 6, \"position\": 31}, {\"embedding\": 0.9011994004249573, \"dimension\": 6, \"position\": 32}, {\"embedding\": 0.8720782399177551, \"dimension\": 6, \"position\": 33}, {\"embedding\": 0.8394865393638611, \"dimension\": 6, \"position\": 34}, {\"embedding\": 0.8035537600517273, \"dimension\": 6, \"position\": 35}, {\"embedding\": 0.7644230127334595, \"dimension\": 6, \"position\": 36}, {\"embedding\": 0.7222501039505005, \"dimension\": 6, \"position\": 37}, {\"embedding\": 0.6772029399871826, \"dimension\": 6, \"position\": 38}, {\"embedding\": 0.6294605135917664, \"dimension\": 6, \"position\": 39}, {\"embedding\": 0.57921302318573, \"dimension\": 6, \"position\": 40}, {\"embedding\": 0.5266605615615845, \"dimension\": 6, \"position\": 41}, {\"embedding\": 0.4720119535923004, \"dimension\": 6, \"position\": 42}, {\"embedding\": 0.41548484563827515, \"dimension\": 6, \"position\": 43}, {\"embedding\": 0.3573042154312134, \"dimension\": 6, \"position\": 44}, {\"embedding\": 0.29770180583000183, \"dimension\": 6, \"position\": 45}, {\"embedding\": 0.23691439628601074, \"dimension\": 6, \"position\": 46}, {\"embedding\": 0.17518411576747894, \"dimension\": 6, \"position\": 47}, {\"embedding\": 0.1127568930387497, \"dimension\": 6, \"position\": 48}, {\"embedding\": 0.04988069087266922, \"dimension\": 6, \"position\": 49}, {\"embedding\": -0.013194027356803417, \"dimension\": 6, \"position\": 50}, {\"embedding\": -0.07621623575687408, \"dimension\": 6, \"position\": 51}, {\"embedding\": -0.1389348804950714, \"dimension\": 6, \"position\": 52}, {\"embedding\": -0.20110084116458893, \"dimension\": 6, \"position\": 53}, {\"embedding\": -0.2624664604663849, \"dimension\": 6, \"position\": 54}, {\"embedding\": -0.3227875530719757, \"dimension\": 6, \"position\": 55}, {\"embedding\": -0.3818237781524658, \"dimension\": 6, \"position\": 56}, {\"embedding\": -0.4393406808376312, \"dimension\": 6, \"position\": 57}, {\"embedding\": -0.49510911107063293, \"dimension\": 6, \"position\": 58}, {\"embedding\": -0.5489069223403931, \"dimension\": 6, \"position\": 59}, {\"embedding\": -0.6005204319953918, \"dimension\": 6, \"position\": 60}, {\"embedding\": -0.6497439742088318, \"dimension\": 6, \"position\": 61}, {\"embedding\": -0.6963817477226257, \"dimension\": 6, \"position\": 62}, {\"embedding\": -0.7402478456497192, \"dimension\": 6, \"position\": 63}, {\"embedding\": -0.7811681628227234, \"dimension\": 6, \"position\": 64}, {\"embedding\": -0.8189795017242432, \"dimension\": 6, \"position\": 65}, {\"embedding\": -0.8535317182540894, \"dimension\": 6, \"position\": 66}, {\"embedding\": -0.8846868872642517, \"dimension\": 6, \"position\": 67}, {\"embedding\": -0.9123212099075317, \"dimension\": 6, \"position\": 68}, {\"embedding\": -0.936324954032898, \"dimension\": 6, \"position\": 69}, {\"embedding\": -0.956602156162262, \"dimension\": 6, \"position\": 70}, {\"embedding\": -0.9730724096298218, \"dimension\": 6, \"position\": 71}, {\"embedding\": -0.9856699705123901, \"dimension\": 6, \"position\": 72}, {\"embedding\": -0.9943448305130005, \"dimension\": 6, \"position\": 73}, {\"embedding\": -0.9990625381469727, \"dimension\": 6, \"position\": 74}, {\"embedding\": -0.9998041391372681, \"dimension\": 6, \"position\": 75}, {\"embedding\": -0.9965668320655823, \"dimension\": 6, \"position\": 76}, {\"embedding\": -0.9893633723258972, \"dimension\": 6, \"position\": 77}, {\"embedding\": -0.9782225489616394, \"dimension\": 6, \"position\": 78}, {\"embedding\": -0.963188648223877, \"dimension\": 6, \"position\": 79}, {\"embedding\": -0.9443213939666748, \"dimension\": 6, \"position\": 80}, {\"embedding\": -0.9216960668563843, \"dimension\": 6, \"position\": 81}, {\"embedding\": -0.8954026699066162, \"dimension\": 6, \"position\": 82}, {\"embedding\": -0.8655455708503723, \"dimension\": 6, \"position\": 83}, {\"embedding\": -0.8322440981864929, \"dimension\": 6, \"position\": 84}, {\"embedding\": -0.795630156993866, \"dimension\": 6, \"position\": 85}, {\"embedding\": -0.7558501362800598, \"dimension\": 6, \"position\": 86}, {\"embedding\": -0.7130619883537292, \"dimension\": 6, \"position\": 87}, {\"embedding\": -0.6674357056617737, \"dimension\": 6, \"position\": 88}, {\"embedding\": -0.6191535592079163, \"dimension\": 6, \"position\": 89}, {\"embedding\": -0.5684073567390442, \"dimension\": 6, \"position\": 90}, {\"embedding\": -0.5153986215591431, \"dimension\": 6, \"position\": 91}, {\"embedding\": -0.46033912897109985, \"dimension\": 6, \"position\": 92}, {\"embedding\": -0.40344759821891785, \"dimension\": 6, \"position\": 93}, {\"embedding\": -0.3449500501155853, \"dimension\": 6, \"position\": 94}, {\"embedding\": -0.28508007526397705, \"dimension\": 6, \"position\": 95}, {\"embedding\": -0.22407560050487518, \"dimension\": 6, \"position\": 96}, {\"embedding\": -0.1621788740158081, \"dimension\": 6, \"position\": 97}, {\"embedding\": -0.09963719546794891, \"dimension\": 6, \"position\": 98}, {\"embedding\": -0.03669850528240204, \"dimension\": 6, \"position\": 99}, {\"embedding\": 1.0, \"dimension\": 7, \"position\": 0}, {\"embedding\": 0.9980100989341736, \"dimension\": 7, \"position\": 1}, {\"embedding\": 0.9920483827590942, \"dimension\": 7, \"position\": 2}, {\"embedding\": 0.9821385741233826, \"dimension\": 7, \"position\": 3}, {\"embedding\": 0.9683201313018799, \"dimension\": 7, \"position\": 4}, {\"embedding\": 0.9506479501724243, \"dimension\": 7, \"position\": 5}, {\"embedding\": 0.9291924834251404, \"dimension\": 7, \"position\": 6}, {\"embedding\": 0.9040390253067017, \"dimension\": 7, \"position\": 7}, {\"embedding\": 0.8752877116203308, \"dimension\": 7, \"position\": 8}, {\"embedding\": 0.8430529236793518, \"dimension\": 7, \"position\": 9}, {\"embedding\": 0.8074630498886108, \"dimension\": 7, \"position\": 10}, {\"embedding\": 0.7686597108840942, \"dimension\": 7, \"position\": 11}, {\"embedding\": 0.7267972826957703, \"dimension\": 7, \"position\": 12}, {\"embedding\": 0.6820423603057861, \"dimension\": 7, \"position\": 13}, {\"embedding\": 0.6345730423927307, \"dimension\": 7, \"position\": 14}, {\"embedding\": 0.5845783352851868, \"dimension\": 7, \"position\": 15}, {\"embedding\": 0.532257080078125, \"dimension\": 7, \"position\": 16}, {\"embedding\": 0.47781768441200256, \"dimension\": 7, \"position\": 17}, {\"embedding\": 0.4214765727519989, \"dimension\": 7, \"position\": 18}, {\"embedding\": 0.36345821619033813, \"dimension\": 7, \"position\": 19}, {\"embedding\": 0.30399325489997864, \"dimension\": 7, \"position\": 20}, {\"embedding\": 0.243318572640419, \"dimension\": 7, \"position\": 21}, {\"embedding\": 0.18167544901371002, \"dimension\": 7, \"position\": 22}, {\"embedding\": 0.11930941045284271, \"dimension\": 7, \"position\": 23}, {\"embedding\": 0.056468550115823746, \"dimension\": 7, \"position\": 24}, {\"embedding\": -0.006597157102078199, \"dimension\": 7, \"position\": 25}, {\"embedding\": -0.06963648647069931, \"dimension\": 7, \"position\": 26}, {\"embedding\": -0.1323987990617752, \"dimension\": 7, \"position\": 27}, {\"embedding\": -0.1946340948343277, \"dimension\": 7, \"position\": 28}, {\"embedding\": -0.25609490275382996, \"dimension\": 7, \"position\": 29}, {\"embedding\": -0.31653639674186707, \"dimension\": 7, \"position\": 30}, {\"embedding\": -0.37571826577186584, \"dimension\": 7, \"position\": 31}, {\"embedding\": -0.43340474367141724, \"dimension\": 7, \"position\": 32}, {\"embedding\": -0.4893665015697479, \"dimension\": 7, \"position\": 33}, {\"embedding\": -0.5433804988861084, \"dimension\": 7, \"position\": 34}, {\"embedding\": -0.5952321887016296, \"dimension\": 7, \"position\": 35}, {\"embedding\": -0.6447150111198425, \"dimension\": 7, \"position\": 36}, {\"embedding\": -0.6916319727897644, \"dimension\": 7, \"position\": 37}, {\"embedding\": -0.7357962727546692, \"dimension\": 7, \"position\": 38}, {\"embedding\": -0.7770324349403381, \"dimension\": 7, \"position\": 39}, {\"embedding\": -0.8151761889457703, \"dimension\": 7, \"position\": 40}, {\"embedding\": -0.8500756621360779, \"dimension\": 7, \"position\": 41}, {\"embedding\": -0.8815921545028687, \"dimension\": 7, \"position\": 42}, {\"embedding\": -0.9096000790596008, \"dimension\": 7, \"position\": 43}, {\"embedding\": -0.933988094329834, \"dimension\": 7, \"position\": 44}, {\"embedding\": -0.9546589255332947, \"dimension\": 7, \"position\": 45}, {\"embedding\": -0.971530556678772, \"dimension\": 7, \"position\": 46}, {\"embedding\": -0.9845356941223145, \"dimension\": 7, \"position\": 47}, {\"embedding\": -0.9936226010322571, \"dimension\": 7, \"position\": 48}, {\"embedding\": -0.998755156993866, \"dimension\": 7, \"position\": 49}, {\"embedding\": -0.9999129772186279, \"dimension\": 7, \"position\": 50}, {\"embedding\": -0.9970912933349609, \"dimension\": 7, \"position\": 51}, {\"embedding\": -0.9903014898300171, \"dimension\": 7, \"position\": 52}, {\"embedding\": -0.9795705676078796, \"dimension\": 7, \"position\": 53}, {\"embedding\": -0.964941143989563, \"dimension\": 7, \"position\": 54}, {\"embedding\": -0.9464714527130127, \"dimension\": 7, \"position\": 55}, {\"embedding\": -0.9242351651191711, \"dimension\": 7, \"position\": 56}, {\"embedding\": -0.8983205556869507, \"dimension\": 7, \"position\": 57}, {\"embedding\": -0.8688308000564575, \"dimension\": 7, \"position\": 58}, {\"embedding\": -0.8358834981918335, \"dimension\": 7, \"position\": 59}, {\"embedding\": -0.7996094226837158, \"dimension\": 7, \"position\": 60}, {\"embedding\": -0.7601531147956848, \"dimension\": 7, \"position\": 61}, {\"embedding\": -0.7176715731620789, \"dimension\": 7, \"position\": 62}, {\"embedding\": -0.6723340749740601, \"dimension\": 7, \"position\": 63}, {\"embedding\": -0.6243206262588501, \"dimension\": 7, \"position\": 64}, {\"embedding\": -0.5738227963447571, \"dimension\": 7, \"position\": 65}, {\"embedding\": -0.5210408568382263, \"dimension\": 7, \"position\": 66}, {\"embedding\": -0.46618568897247314, \"dimension\": 7, \"position\": 67}, {\"embedding\": -0.4094752371311188, \"dimension\": 7, \"position\": 68}, {\"embedding\": -0.3511347472667694, \"dimension\": 7, \"position\": 69}, {\"embedding\": -0.2913972735404968, \"dimension\": 7, \"position\": 70}, {\"embedding\": -0.23049965500831604, \"dimension\": 7, \"position\": 71}, {\"embedding\": -0.1686851680278778, \"dimension\": 7, \"position\": 72}, {\"embedding\": -0.10619935393333435, \"dimension\": 7, \"position\": 73}, {\"embedding\": -0.04329042136669159, \"dimension\": 7, \"position\": 74}, {\"embedding\": 0.019790323451161385, \"dimension\": 7, \"position\": 75}, {\"embedding\": 0.08279230445623398, \"dimension\": 7, \"position\": 76}, {\"embedding\": 0.14546526968479156, \"dimension\": 7, \"position\": 77}, {\"embedding\": 0.20755885541439056, \"dimension\": 7, \"position\": 78}, {\"embedding\": 0.2688263952732086, \"dimension\": 7, \"position\": 79}, {\"embedding\": 0.3290245532989502, \"dimension\": 7, \"position\": 80}, {\"embedding\": 0.3879128098487854, \"dimension\": 7, \"position\": 81}, {\"embedding\": 0.4452572762966156, \"dimension\": 7, \"position\": 82}, {\"embedding\": 0.5008301138877869, \"dimension\": 7, \"position\": 83}, {\"embedding\": 0.5544094443321228, \"dimension\": 7, \"position\": 84}, {\"embedding\": 0.605782687664032, \"dimension\": 7, \"position\": 85}, {\"embedding\": 0.6547446846961975, \"dimension\": 7, \"position\": 86}, {\"embedding\": 0.7011010050773621, \"dimension\": 7, \"position\": 87}, {\"embedding\": 0.7446674108505249, \"dimension\": 7, \"position\": 88}, {\"embedding\": 0.7852699160575867, \"dimension\": 7, \"position\": 89}, {\"embedding\": 0.8227472901344299, \"dimension\": 7, \"position\": 90}, {\"embedding\": 0.856950581073761, \"dimension\": 7, \"position\": 91}, {\"embedding\": 0.8877431154251099, \"dimension\": 7, \"position\": 92}, {\"embedding\": 0.9150027632713318, \"dimension\": 7, \"position\": 93}, {\"embedding\": 0.9386210441589355, \"dimension\": 7, \"position\": 94}, {\"embedding\": 0.9585037231445312, \"dimension\": 7, \"position\": 95}, {\"embedding\": 0.9745717644691467, \"dimension\": 7, \"position\": 96}, {\"embedding\": 0.9867613911628723, \"dimension\": 7, \"position\": 97}, {\"embedding\": 0.9950238466262817, \"dimension\": 7, \"position\": 98}, {\"embedding\": 0.9993264079093933, \"dimension\": 7, \"position\": 99}]}}, {\"mode\": \"vega-lite\"});\n",
              "</script>"
            ],
            "text/plain": [
              "alt.Chart(...)"
            ]
          },
          "metadata": {},
          "execution_count": 56
        }
      ]
    },
    {
      "cell_type": "markdown",
      "source": [
        "## Full Model\n",
        "\n",
        "Defining a function from hyperparameters to a full model"
      ],
      "metadata": {
        "id": "lQ57B_BgZ4Vi"
      }
    },
    {
      "cell_type": "code",
      "source": [
        "def make_model(\n",
        "    src_vocab, tgt_vocab, N=6, d_model=512, d_ff=2048, h=8, dropout=0.1):\n",
        "    \"\"\"\n",
        "    Constructing a model from hyperparameters\n",
        "    N: ?\n",
        "    d_model: Model Dimensions\n",
        "    d_ff: ?\n",
        "    h: Attention Heads\n",
        "    \"\"\"\n",
        "\n",
        "    c = copy.deepcopy # Okay. Ig we're gonna use this a lot\n",
        "    attn = MultiHeadedAttention(h, d_model)\n",
        "    ff = PositionWiseFeedForward(d_model, d_ff, dropout) # Why positionwise?\n",
        "    position = PositionalEncoding(d_model, dropout)\n",
        "\n",
        "    model = EncoderDecoder( # I quite like this format\n",
        "\n",
        "        Encoder(EncoderBlock(d_model, c(attn), c(ff), dropout), N),\n",
        "        Decoder(DecoderBlock(d_model, c(attn), c(attn), c(ff), dropout), N),\n",
        "        # Initial embedding layer of encoder\n",
        "        nn.Sequential(Embeddings(d_model, src_vocab), c(position)),\n",
        "        # Initial embedding layer of decoder\n",
        "        nn.Sequential(Embeddings(d_model, tgt_vocab), c(position)),\n",
        "        # Last: Linear and softmax?\n",
        "        Generator(d_model, tgt_vocab)\n",
        "    )\n",
        "\n",
        "\n",
        "    # What is this doing? TODO\n",
        "    # This was important from their code.\n",
        "    # Initialize parameters with Glorot / fan_avg.\n",
        "    for p in model.parameters():\n",
        "        if p.dim() > 1:\n",
        "            nn.init.xavier_uniform_(p)\n",
        "    return model"
      ],
      "metadata": {
        "id": "77jUdFaAQDdQ"
      },
      "execution_count": null,
      "outputs": []
    },
    {
      "cell_type": "markdown",
      "source": [
        "# Inference\n",
        "\n",
        "Here we make a forward step to generate a prediction of the model. Note that we're doing this before training."
      ],
      "metadata": {
        "id": "BTXygYYMfmVO"
      }
    },
    {
      "cell_type": "code",
      "source": [
        "def inference_test():\n",
        "\n",
        "    test_model = make_model(11, 11, 2)\n",
        "    test_model.eval()\n",
        "\n",
        "    src = torch.LongTensor([[1, 2, 3, 4, 5, 6, 7, 8, 9, 10]])\n",
        "    src_mask = torch.ones(1, 1, 10)\n",
        "\n",
        "    context_vector = test_model.encoder(src, src_mask)\n",
        "    ys = torch.zeros(1, 1).type_as(src) # TODO What's this?\n",
        "\n",
        "    for i in range(9):\n",
        "        # Get output embeddings\n",
        "        out = test_model.decode(context_vector, src_mask, ys, subsequent_mask(ys.size(1)).type_as(src.data))\n",
        "        # Use them to generate word probabilities\n",
        "        probs = test_model.generator(out[:, -1])\n",
        "        # Pick highest prob word\n",
        "        _, next_word = torch.max(probs, dim=1)\n",
        "        next_word = next_word.data[0]\n",
        "        ys = torch.cat(\n",
        "            [ys, torch.empty(1, 1).type_as(src.data).fill_(next_word)], dim=1\n",
        "        )\n",
        "\n",
        "    print(\"Example untrained model prediction: \", ys)\n",
        "\n",
        "def run_tests():\n",
        "    for _ in range(10):\n",
        "        inference_test()\n",
        "    \n",
        "\n",
        "show_example(run_tests)"
      ],
      "metadata": {
        "colab": {
          "base_uri": "https://localhost:8080/",
          "height": 502
        },
        "id": "NdsYsCZxfvXI",
        "outputId": "3d17eeb1-3a92-46e1-9054-ad06415288eb"
      },
      "execution_count": null,
      "outputs": [
        {
          "output_type": "stream",
          "name": "stdout",
          "text": [
            "torch.Size([512])\n",
            "torch.Size([512])\n",
            "torch.Size([512])\n",
            "torch.Size([512])\n",
            "tensor([[ 1,  2,  3,  4,  5,  6,  7,  8,  9, 10]])\n",
            "\n",
            "tensor([[ 1.,  2.,  3.,  4.,  5.,  6.,  7.,  8.,  9., 10.]])\n",
            "torch.Size([512]) torch.Size([1, 10])\n"
          ]
        },
        {
          "output_type": "error",
          "ename": "RuntimeError",
          "evalue": "ignored",
          "traceback": [
            "\u001b[0;31m---------------------------------------------------------------------------\u001b[0m",
            "\u001b[0;31mRuntimeError\u001b[0m                              Traceback (most recent call last)",
            "\u001b[0;32m<ipython-input-79-5a40a049645e>\u001b[0m in \u001b[0;36m<module>\u001b[0;34m\u001b[0m\n\u001b[1;32m     29\u001b[0m \u001b[0;34m\u001b[0m\u001b[0m\n\u001b[1;32m     30\u001b[0m \u001b[0;34m\u001b[0m\u001b[0m\n\u001b[0;32m---> 31\u001b[0;31m \u001b[0mshow_example\u001b[0m\u001b[0;34m(\u001b[0m\u001b[0mrun_tests\u001b[0m\u001b[0;34m)\u001b[0m\u001b[0;34m\u001b[0m\u001b[0;34m\u001b[0m\u001b[0m\n\u001b[0m",
            "\u001b[0;32m<ipython-input-3-1475e4dff990>\u001b[0m in \u001b[0;36mshow_example\u001b[0;34m(fn, args)\u001b[0m\n\u001b[1;32m      8\u001b[0m \u001b[0;32mdef\u001b[0m \u001b[0mshow_example\u001b[0m\u001b[0;34m(\u001b[0m\u001b[0mfn\u001b[0m\u001b[0;34m,\u001b[0m \u001b[0margs\u001b[0m\u001b[0;34m=\u001b[0m\u001b[0;34m[\u001b[0m\u001b[0;34m]\u001b[0m\u001b[0;34m)\u001b[0m\u001b[0;34m:\u001b[0m\u001b[0;34m\u001b[0m\u001b[0;34m\u001b[0m\u001b[0m\n\u001b[1;32m      9\u001b[0m     \u001b[0;32mif\u001b[0m \u001b[0m__name__\u001b[0m \u001b[0;34m==\u001b[0m \u001b[0;34m\"__main__\"\u001b[0m \u001b[0;32mand\u001b[0m \u001b[0mRUN_EXAMPLES\u001b[0m\u001b[0;34m:\u001b[0m\u001b[0;34m\u001b[0m\u001b[0;34m\u001b[0m\u001b[0m\n\u001b[0;32m---> 10\u001b[0;31m         \u001b[0;32mreturn\u001b[0m \u001b[0mfn\u001b[0m\u001b[0;34m(\u001b[0m\u001b[0;34m*\u001b[0m\u001b[0margs\u001b[0m\u001b[0;34m)\u001b[0m\u001b[0;34m\u001b[0m\u001b[0;34m\u001b[0m\u001b[0m\n\u001b[0m\u001b[1;32m     11\u001b[0m \u001b[0;34m\u001b[0m\u001b[0m\n\u001b[1;32m     12\u001b[0m \u001b[0;32mdef\u001b[0m \u001b[0mexecute_example\u001b[0m\u001b[0;34m(\u001b[0m\u001b[0mfn\u001b[0m\u001b[0;34m,\u001b[0m \u001b[0margs\u001b[0m\u001b[0;34m=\u001b[0m\u001b[0;34m[\u001b[0m\u001b[0;34m]\u001b[0m\u001b[0;34m)\u001b[0m\u001b[0;34m:\u001b[0m\u001b[0;34m\u001b[0m\u001b[0;34m\u001b[0m\u001b[0m\n",
            "\u001b[0;32m<ipython-input-79-5a40a049645e>\u001b[0m in \u001b[0;36mrun_tests\u001b[0;34m()\u001b[0m\n\u001b[1;32m     26\u001b[0m \u001b[0;32mdef\u001b[0m \u001b[0mrun_tests\u001b[0m\u001b[0;34m(\u001b[0m\u001b[0;34m)\u001b[0m\u001b[0;34m:\u001b[0m\u001b[0;34m\u001b[0m\u001b[0;34m\u001b[0m\u001b[0m\n\u001b[1;32m     27\u001b[0m     \u001b[0;32mfor\u001b[0m \u001b[0m_\u001b[0m \u001b[0;32min\u001b[0m \u001b[0mrange\u001b[0m\u001b[0;34m(\u001b[0m\u001b[0;36m10\u001b[0m\u001b[0;34m)\u001b[0m\u001b[0;34m:\u001b[0m\u001b[0;34m\u001b[0m\u001b[0;34m\u001b[0m\u001b[0m\n\u001b[0;32m---> 28\u001b[0;31m         \u001b[0minference_test\u001b[0m\u001b[0;34m(\u001b[0m\u001b[0;34m)\u001b[0m\u001b[0;34m\u001b[0m\u001b[0;34m\u001b[0m\u001b[0m\n\u001b[0m\u001b[1;32m     29\u001b[0m \u001b[0;34m\u001b[0m\u001b[0m\n\u001b[1;32m     30\u001b[0m \u001b[0;34m\u001b[0m\u001b[0m\n",
            "\u001b[0;32m<ipython-input-79-5a40a049645e>\u001b[0m in \u001b[0;36minference_test\u001b[0;34m()\u001b[0m\n\u001b[1;32m      7\u001b[0m     \u001b[0msrc_mask\u001b[0m \u001b[0;34m=\u001b[0m \u001b[0mtorch\u001b[0m\u001b[0;34m.\u001b[0m\u001b[0mones\u001b[0m\u001b[0;34m(\u001b[0m\u001b[0;36m1\u001b[0m\u001b[0;34m,\u001b[0m \u001b[0;36m1\u001b[0m\u001b[0;34m,\u001b[0m \u001b[0;36m10\u001b[0m\u001b[0;34m)\u001b[0m\u001b[0;34m\u001b[0m\u001b[0;34m\u001b[0m\u001b[0m\n\u001b[1;32m      8\u001b[0m \u001b[0;34m\u001b[0m\u001b[0m\n\u001b[0;32m----> 9\u001b[0;31m     \u001b[0mcontext_vector\u001b[0m \u001b[0;34m=\u001b[0m \u001b[0mtest_model\u001b[0m\u001b[0;34m.\u001b[0m\u001b[0mencoder\u001b[0m\u001b[0;34m(\u001b[0m\u001b[0msrc\u001b[0m\u001b[0;34m,\u001b[0m \u001b[0msrc_mask\u001b[0m\u001b[0;34m)\u001b[0m\u001b[0;34m\u001b[0m\u001b[0;34m\u001b[0m\u001b[0m\n\u001b[0m\u001b[1;32m     10\u001b[0m     \u001b[0mys\u001b[0m \u001b[0;34m=\u001b[0m \u001b[0mtorch\u001b[0m\u001b[0;34m.\u001b[0m\u001b[0mzeros\u001b[0m\u001b[0;34m(\u001b[0m\u001b[0;36m1\u001b[0m\u001b[0;34m,\u001b[0m \u001b[0;36m1\u001b[0m\u001b[0;34m)\u001b[0m\u001b[0;34m.\u001b[0m\u001b[0mtype_as\u001b[0m\u001b[0;34m(\u001b[0m\u001b[0msrc\u001b[0m\u001b[0;34m)\u001b[0m \u001b[0;31m# TODO What's this?\u001b[0m\u001b[0;34m\u001b[0m\u001b[0;34m\u001b[0m\u001b[0m\n\u001b[1;32m     11\u001b[0m \u001b[0;34m\u001b[0m\u001b[0m\n",
            "\u001b[0;32m/usr/local/lib/python3.7/dist-packages/torch/nn/modules/module.py\u001b[0m in \u001b[0;36m_call_impl\u001b[0;34m(self, *input, **kwargs)\u001b[0m\n\u001b[1;32m   1128\u001b[0m         if not (self._backward_hooks or self._forward_hooks or self._forward_pre_hooks or _global_backward_hooks\n\u001b[1;32m   1129\u001b[0m                 or _global_forward_hooks or _global_forward_pre_hooks):\n\u001b[0;32m-> 1130\u001b[0;31m             \u001b[0;32mreturn\u001b[0m \u001b[0mforward_call\u001b[0m\u001b[0;34m(\u001b[0m\u001b[0;34m*\u001b[0m\u001b[0minput\u001b[0m\u001b[0;34m,\u001b[0m \u001b[0;34m**\u001b[0m\u001b[0mkwargs\u001b[0m\u001b[0;34m)\u001b[0m\u001b[0;34m\u001b[0m\u001b[0;34m\u001b[0m\u001b[0m\n\u001b[0m\u001b[1;32m   1131\u001b[0m         \u001b[0;31m# Do not call functions when jit is used\u001b[0m\u001b[0;34m\u001b[0m\u001b[0;34m\u001b[0m\u001b[0;34m\u001b[0m\u001b[0m\n\u001b[1;32m   1132\u001b[0m         \u001b[0mfull_backward_hooks\u001b[0m\u001b[0;34m,\u001b[0m \u001b[0mnon_full_backward_hooks\u001b[0m \u001b[0;34m=\u001b[0m \u001b[0;34m[\u001b[0m\u001b[0;34m]\u001b[0m\u001b[0;34m,\u001b[0m \u001b[0;34m[\u001b[0m\u001b[0;34m]\u001b[0m\u001b[0;34m\u001b[0m\u001b[0;34m\u001b[0m\u001b[0m\n",
            "\u001b[0;32m<ipython-input-52-949958a4bdc4>\u001b[0m in \u001b[0;36mforward\u001b[0;34m(self, x, padding_mask)\u001b[0m\n\u001b[1;32m     13\u001b[0m         \"\"\"\n\u001b[1;32m     14\u001b[0m         \u001b[0;32mfor\u001b[0m \u001b[0mblock\u001b[0m \u001b[0;32min\u001b[0m \u001b[0mself\u001b[0m\u001b[0;34m.\u001b[0m\u001b[0mblocks\u001b[0m\u001b[0;34m:\u001b[0m\u001b[0;34m\u001b[0m\u001b[0;34m\u001b[0m\u001b[0m\n\u001b[0;32m---> 15\u001b[0;31m             \u001b[0mout\u001b[0m \u001b[0;34m=\u001b[0m \u001b[0mblock\u001b[0m\u001b[0;34m(\u001b[0m\u001b[0mx\u001b[0m\u001b[0;34m,\u001b[0m \u001b[0mpadding_mask\u001b[0m\u001b[0;34m)\u001b[0m\u001b[0;34m\u001b[0m\u001b[0;34m\u001b[0m\u001b[0m\n\u001b[0m\u001b[1;32m     16\u001b[0m \u001b[0;34m\u001b[0m\u001b[0m\n\u001b[1;32m     17\u001b[0m         \u001b[0;32mreturn\u001b[0m \u001b[0mself\u001b[0m\u001b[0;34m.\u001b[0m\u001b[0mnorm\u001b[0m\u001b[0;34m(\u001b[0m\u001b[0mx\u001b[0m\u001b[0;34m)\u001b[0m\u001b[0;34m\u001b[0m\u001b[0;34m\u001b[0m\u001b[0m\n",
            "\u001b[0;32m/usr/local/lib/python3.7/dist-packages/torch/nn/modules/module.py\u001b[0m in \u001b[0;36m_call_impl\u001b[0;34m(self, *input, **kwargs)\u001b[0m\n\u001b[1;32m   1128\u001b[0m         if not (self._backward_hooks or self._forward_hooks or self._forward_pre_hooks or _global_backward_hooks\n\u001b[1;32m   1129\u001b[0m                 or _global_forward_hooks or _global_forward_pre_hooks):\n\u001b[0;32m-> 1130\u001b[0;31m             \u001b[0;32mreturn\u001b[0m \u001b[0mforward_call\u001b[0m\u001b[0;34m(\u001b[0m\u001b[0;34m*\u001b[0m\u001b[0minput\u001b[0m\u001b[0;34m,\u001b[0m \u001b[0;34m**\u001b[0m\u001b[0mkwargs\u001b[0m\u001b[0;34m)\u001b[0m\u001b[0;34m\u001b[0m\u001b[0;34m\u001b[0m\u001b[0m\n\u001b[0m\u001b[1;32m   1131\u001b[0m         \u001b[0;31m# Do not call functions when jit is used\u001b[0m\u001b[0;34m\u001b[0m\u001b[0;34m\u001b[0m\u001b[0;34m\u001b[0m\u001b[0m\n\u001b[1;32m   1132\u001b[0m         \u001b[0mfull_backward_hooks\u001b[0m\u001b[0;34m,\u001b[0m \u001b[0mnon_full_backward_hooks\u001b[0m \u001b[0;34m=\u001b[0m \u001b[0;34m[\u001b[0m\u001b[0;34m]\u001b[0m\u001b[0;34m,\u001b[0m \u001b[0;34m[\u001b[0m\u001b[0;34m]\u001b[0m\u001b[0;34m\u001b[0m\u001b[0;34m\u001b[0m\u001b[0m\n",
            "\u001b[0;32m<ipython-input-63-c7d08329a09f>\u001b[0m in \u001b[0;36mforward\u001b[0;34m(self, x, mask)\u001b[0m\n\u001b[1;32m     17\u001b[0m         \u001b[0mff_layer\u001b[0m \u001b[0;34m=\u001b[0m \u001b[0mself\u001b[0m\u001b[0;34m.\u001b[0m\u001b[0msublayer\u001b[0m\u001b[0;34m[\u001b[0m\u001b[0;36m1\u001b[0m\u001b[0;34m]\u001b[0m\u001b[0;34m\u001b[0m\u001b[0;34m\u001b[0m\u001b[0m\n\u001b[1;32m     18\u001b[0m \u001b[0;34m\u001b[0m\u001b[0m\n\u001b[0;32m---> 19\u001b[0;31m         \u001b[0mx\u001b[0m \u001b[0;34m=\u001b[0m \u001b[0mattn_layer\u001b[0m\u001b[0;34m(\u001b[0m\u001b[0mx\u001b[0m\u001b[0;34m,\u001b[0m \u001b[0;32mlambda\u001b[0m \u001b[0mx\u001b[0m\u001b[0;34m:\u001b[0m \u001b[0mself\u001b[0m\u001b[0;34m.\u001b[0m\u001b[0mself_attn\u001b[0m\u001b[0;34m(\u001b[0m\u001b[0mx\u001b[0m\u001b[0;34m,\u001b[0m \u001b[0mx\u001b[0m\u001b[0;34m,\u001b[0m \u001b[0mx\u001b[0m\u001b[0;34m,\u001b[0m \u001b[0mmask\u001b[0m\u001b[0;34m)\u001b[0m\u001b[0;34m)\u001b[0m \u001b[0;31m# K, Q, V, mask\u001b[0m\u001b[0;34m\u001b[0m\u001b[0;34m\u001b[0m\u001b[0m\n\u001b[0m\u001b[1;32m     20\u001b[0m         \u001b[0mx\u001b[0m \u001b[0;34m=\u001b[0m \u001b[0mff_layer\u001b[0m\u001b[0;34m(\u001b[0m\u001b[0mx\u001b[0m\u001b[0;34m,\u001b[0m \u001b[0mself\u001b[0m\u001b[0;34m.\u001b[0m\u001b[0mfeed_forward\u001b[0m\u001b[0;34m)\u001b[0m\u001b[0;34m\u001b[0m\u001b[0;34m\u001b[0m\u001b[0m\n",
            "\u001b[0;32m/usr/local/lib/python3.7/dist-packages/torch/nn/modules/module.py\u001b[0m in \u001b[0;36m_call_impl\u001b[0;34m(self, *input, **kwargs)\u001b[0m\n\u001b[1;32m   1128\u001b[0m         if not (self._backward_hooks or self._forward_hooks or self._forward_pre_hooks or _global_backward_hooks\n\u001b[1;32m   1129\u001b[0m                 or _global_forward_hooks or _global_forward_pre_hooks):\n\u001b[0;32m-> 1130\u001b[0;31m             \u001b[0;32mreturn\u001b[0m \u001b[0mforward_call\u001b[0m\u001b[0;34m(\u001b[0m\u001b[0;34m*\u001b[0m\u001b[0minput\u001b[0m\u001b[0;34m,\u001b[0m \u001b[0;34m**\u001b[0m\u001b[0mkwargs\u001b[0m\u001b[0;34m)\u001b[0m\u001b[0;34m\u001b[0m\u001b[0;34m\u001b[0m\u001b[0m\n\u001b[0m\u001b[1;32m   1131\u001b[0m         \u001b[0;31m# Do not call functions when jit is used\u001b[0m\u001b[0;34m\u001b[0m\u001b[0;34m\u001b[0m\u001b[0;34m\u001b[0m\u001b[0m\n\u001b[1;32m   1132\u001b[0m         \u001b[0mfull_backward_hooks\u001b[0m\u001b[0;34m,\u001b[0m \u001b[0mnon_full_backward_hooks\u001b[0m \u001b[0;34m=\u001b[0m \u001b[0;34m[\u001b[0m\u001b[0;34m]\u001b[0m\u001b[0;34m,\u001b[0m \u001b[0;34m[\u001b[0m\u001b[0;34m]\u001b[0m\u001b[0;34m\u001b[0m\u001b[0;34m\u001b[0m\u001b[0m\n",
            "\u001b[0;32m<ipython-input-70-1908aa13575f>\u001b[0m in \u001b[0;36mforward\u001b[0;34m(self, x, sublayer)\u001b[0m\n\u001b[1;32m     13\u001b[0m     \u001b[0;32mdef\u001b[0m \u001b[0mforward\u001b[0m\u001b[0;34m(\u001b[0m\u001b[0mself\u001b[0m\u001b[0;34m,\u001b[0m \u001b[0mx\u001b[0m\u001b[0;34m,\u001b[0m \u001b[0msublayer\u001b[0m\u001b[0;34m)\u001b[0m\u001b[0;34m:\u001b[0m\u001b[0;34m\u001b[0m\u001b[0;34m\u001b[0m\u001b[0m\n\u001b[1;32m     14\u001b[0m \u001b[0;34m\u001b[0m\u001b[0m\n\u001b[0;32m---> 15\u001b[0;31m         \u001b[0mout\u001b[0m \u001b[0;34m=\u001b[0m \u001b[0mself\u001b[0m\u001b[0;34m.\u001b[0m\u001b[0mnorm\u001b[0m\u001b[0;34m(\u001b[0m\u001b[0mx\u001b[0m\u001b[0;34m)\u001b[0m \u001b[0;31m# Note that we're applying this first as opposed to last, for code simplicity. Why doesn't it fuck up the code tho? Coz it's layerNorm.\u001b[0m\u001b[0;34m\u001b[0m\u001b[0;34m\u001b[0m\u001b[0m\n\u001b[0m\u001b[1;32m     16\u001b[0m         \u001b[0mout\u001b[0m \u001b[0;34m=\u001b[0m \u001b[0msublayer\u001b[0m\u001b[0;34m(\u001b[0m\u001b[0mout\u001b[0m\u001b[0;34m)\u001b[0m\u001b[0;34m\u001b[0m\u001b[0;34m\u001b[0m\u001b[0m\n\u001b[1;32m     17\u001b[0m         \u001b[0mout\u001b[0m \u001b[0;34m=\u001b[0m \u001b[0mself\u001b[0m\u001b[0;34m.\u001b[0m\u001b[0mdropout\u001b[0m\u001b[0;34m(\u001b[0m\u001b[0mout\u001b[0m\u001b[0;34m)\u001b[0m\u001b[0;34m\u001b[0m\u001b[0;34m\u001b[0m\u001b[0m\n",
            "\u001b[0;32m/usr/local/lib/python3.7/dist-packages/torch/nn/modules/module.py\u001b[0m in \u001b[0;36m_call_impl\u001b[0;34m(self, *input, **kwargs)\u001b[0m\n\u001b[1;32m   1128\u001b[0m         if not (self._backward_hooks or self._forward_hooks or self._forward_pre_hooks or _global_backward_hooks\n\u001b[1;32m   1129\u001b[0m                 or _global_forward_hooks or _global_forward_pre_hooks):\n\u001b[0;32m-> 1130\u001b[0;31m             \u001b[0;32mreturn\u001b[0m \u001b[0mforward_call\u001b[0m\u001b[0;34m(\u001b[0m\u001b[0;34m*\u001b[0m\u001b[0minput\u001b[0m\u001b[0;34m,\u001b[0m \u001b[0;34m**\u001b[0m\u001b[0mkwargs\u001b[0m\u001b[0;34m)\u001b[0m\u001b[0;34m\u001b[0m\u001b[0;34m\u001b[0m\u001b[0m\n\u001b[0m\u001b[1;32m   1131\u001b[0m         \u001b[0;31m# Do not call functions when jit is used\u001b[0m\u001b[0;34m\u001b[0m\u001b[0;34m\u001b[0m\u001b[0;34m\u001b[0m\u001b[0m\n\u001b[1;32m   1132\u001b[0m         \u001b[0mfull_backward_hooks\u001b[0m\u001b[0;34m,\u001b[0m \u001b[0mnon_full_backward_hooks\u001b[0m \u001b[0;34m=\u001b[0m \u001b[0;34m[\u001b[0m\u001b[0;34m]\u001b[0m\u001b[0;34m,\u001b[0m \u001b[0;34m[\u001b[0m\u001b[0;34m]\u001b[0m\u001b[0;34m\u001b[0m\u001b[0;34m\u001b[0m\u001b[0m\n",
            "\u001b[0;32m<ipython-input-78-89d45e6dd97d>\u001b[0m in \u001b[0;36mforward\u001b[0;34m(self, x)\u001b[0m\n\u001b[1;32m     25\u001b[0m         \u001b[0mres\u001b[0m \u001b[0;34m=\u001b[0m \u001b[0;34m(\u001b[0m\u001b[0mx\u001b[0m\u001b[0;34m-\u001b[0m\u001b[0mmean\u001b[0m\u001b[0;34m)\u001b[0m\u001b[0;34m/\u001b[0m\u001b[0;34m(\u001b[0m\u001b[0mstd\u001b[0m \u001b[0;34m+\u001b[0m \u001b[0mself\u001b[0m\u001b[0;34m.\u001b[0m\u001b[0meps\u001b[0m\u001b[0;34m)\u001b[0m\u001b[0;34m\u001b[0m\u001b[0;34m\u001b[0m\u001b[0m\n\u001b[1;32m     26\u001b[0m         \u001b[0mprint\u001b[0m\u001b[0;34m(\u001b[0m\u001b[0mself\u001b[0m\u001b[0;34m.\u001b[0m\u001b[0ma\u001b[0m\u001b[0;34m.\u001b[0m\u001b[0mshape\u001b[0m\u001b[0;34m,\u001b[0m \u001b[0mres\u001b[0m\u001b[0;34m.\u001b[0m\u001b[0mshape\u001b[0m\u001b[0;34m)\u001b[0m\u001b[0;34m\u001b[0m\u001b[0;34m\u001b[0m\u001b[0m\n\u001b[0;32m---> 27\u001b[0;31m         \u001b[0mres\u001b[0m \u001b[0;34m=\u001b[0m \u001b[0mself\u001b[0m\u001b[0;34m.\u001b[0m\u001b[0ma\u001b[0m \u001b[0;34m*\u001b[0m \u001b[0mres\u001b[0m\u001b[0;34m\u001b[0m\u001b[0;34m\u001b[0m\u001b[0m\n\u001b[0m\u001b[1;32m     28\u001b[0m         \u001b[0mprint\u001b[0m\u001b[0;34m(\u001b[0m\u001b[0mres\u001b[0m\u001b[0;34m.\u001b[0m\u001b[0mshape\u001b[0m\u001b[0;34m)\u001b[0m\u001b[0;34m\u001b[0m\u001b[0;34m\u001b[0m\u001b[0m\n\u001b[1;32m     29\u001b[0m         \u001b[0mprint\u001b[0m\u001b[0;34m(\u001b[0m\u001b[0mself\u001b[0m\u001b[0;34m.\u001b[0m\u001b[0mb\u001b[0m\u001b[0;34m.\u001b[0m\u001b[0mshape\u001b[0m\u001b[0;34m)\u001b[0m\u001b[0;34m\u001b[0m\u001b[0;34m\u001b[0m\u001b[0m\n",
            "\u001b[0;31mRuntimeError\u001b[0m: The size of tensor a (512) must match the size of tensor b (10) at non-singleton dimension 1"
          ]
        }
      ]
    },
    {
      "cell_type": "markdown",
      "source": [
        "# Training\n",
        "Defining some of the tools needed to train a standard encoder decoder model.\n"
      ],
      "metadata": {
        "id": "FvZ1LWUiA5K-"
      }
    },
    {
      "cell_type": "markdown",
      "source": [
        "First we define a batch object that holds the src and target sentences for training, as well as constructing the masks."
      ],
      "metadata": {
        "id": "ZMVymUGoa1VL"
      }
    },
    {
      "cell_type": "markdown",
      "source": [
        "## Batches and Masking"
      ],
      "metadata": {
        "id": "7NbX0A6UtX4Y"
      }
    },
    {
      "cell_type": "code",
      "source": [
        "class Batch:\n",
        "    \"\"\" Object for holding a batch of data with mask during training.\"\"\"\n",
        "\n",
        "    def __init__(self, src, tgt=None, pad=2): # 2 = <blank> TODO What does this mean?\n",
        "    \n",
        "        self.src = src\n",
        "        self.src_mask = (src != pad).unsqueeze(-2)\n",
        "\n",
        "        if tgt is not None:\n",
        "            self.tgt = tgt[:, :-1]\n",
        "            self.tgt_y = tgt[:, 1:]\n",
        "            self.tgt_mask = self.make_std_mask(self.tgt, pad)\n",
        "            self.ntokens = (self.tgt_y != pad).data.sum()\n",
        "    \n",
        "    @staticmethod\n",
        "    def make_std_mask(tgt, pad):\n",
        "        \"Create a mask to hide padding and future words\"\n",
        "\n",
        "        tgt_mask = (tgt != pad).unsqueeze(-2)\n",
        "        tgt_mask = tgt_mask & subsequent_mask(tgt.size(-1)).type_as(tgt_mask.data)\n",
        "        return tgt_mask"
      ],
      "metadata": {
        "id": "iP_IPc8etZst"
      },
      "execution_count": null,
      "outputs": []
    },
    {
      "cell_type": "markdown",
      "source": [
        "Next we create a generic training and scoring function to keep track of loss. We pass in a generic loss compute function that also handles parameter updates.\n",
        "\n"
      ],
      "metadata": {
        "id": "oYXSukZ6bX0t"
      }
    },
    {
      "cell_type": "code",
      "source": [
        "class TrainState:\n",
        "    \"\"\"Track number of steps, examples, and tokens processed\"\"\"\n",
        "\n",
        "    step: int = 0  # Steps in the current epoch\n",
        "    accum_step: int = 0  # Number of gradient accumulation steps\n",
        "    samples: int = 0  # total # of examples used\n",
        "    tokens: int = 0  # total # of tokens processed"
      ],
      "metadata": {
        "id": "wFOWu8zLxwQ2"
      },
      "execution_count": null,
      "outputs": []
    },
    {
      "cell_type": "code",
      "source": [
        "def run_epoch(data_iter, model, loss_compute, optim, scheduler, mode=\"train\", accum_iter=1, train_state=TrainState()):\n",
        "    \"Train a single epoch\"\n",
        "\n",
        "    start = time.time()\n",
        "    n_accum = 0\n",
        "    total_tokens = 0\n",
        "    total_loss = 0\n",
        "    tokens = 0\n",
        "    for i, batch in enumerate(data_iter):        \n",
        "\n",
        "        out = model.forward(batch.src, batch.tgt, batch.src_mask, batch.tgt_mask)\n",
        "\n",
        "        # What is loss_node?\n",
        "        loss, loss_node = loss_compute(out, batch.tgt_y, batch.ntokens)\n",
        "        # loss_node = loss_node / accum_iter # WHY?\n",
        "\n",
        "        if mode == \"train\" or mode == \"train+log\":\n",
        "\n",
        "            loss_node.backward() # Oh, not loss.backward()? Okay. New question - what's loss?\n",
        "\n",
        "            # Logging\n",
        "            train_state.step += 1\n",
        "            train_state.samples += batch.src.shape[0]\n",
        "            train_state.tokens += batch.ntokens\n",
        "\n",
        "            # Optim step\n",
        "            # Default value  of accum_iter is 1. So update every step.\n",
        "            # When would you not wanna do that?\n",
        "            if i % accum_iter == 0:\n",
        "                optim.step()\n",
        "                optim.zero_grad(set_to_none=True) # I think the param exists for efficiency reasons?\n",
        "                n_accum += 1\n",
        "                train_state.accum_step += 1\n",
        "            \n",
        "            # TODO: what does this do?\n",
        "            scheduler.step()\n",
        "\n",
        "        total_loss += loss\n",
        "        total_tokens += batch.ntokens\n",
        "        tokens += batch.ntokens\n",
        "\n",
        "        if i % 40 == 1 and (mode == \"train\" or mode == \"train+log\"):\n",
        "            lr = optim.param_groups[0][\"lr\"]\n",
        "            elapsed = time.time() - start\n",
        "            print(\n",
        "                (\n",
        "                    \"Epoch Step: %6d | Accumulation Step: %3d | Loss: %6.2f \"\n",
        "                    + \"| Tokens / Sec: %7.1f | Learning Rate: %6.1e\"\n",
        "                )\n",
        "                % (i, n_accum, loss / batch.ntokens, tokens / elapsed, lr)\n",
        "            )\n",
        "            start = time.time()\n",
        "            tokens = 0\n",
        "\n",
        "        del loss\n",
        "        del loss_node\n",
        "    return total_loss / total_tokens, train_state\n",
        "\n",
        "\n"
      ],
      "metadata": {
        "id": "j6sXpYFgE0Fu"
      },
      "execution_count": null,
      "outputs": []
    },
    {
      "cell_type": "markdown",
      "source": [
        "## Optimizer"
      ],
      "metadata": {
        "id": "9c_npdM1c0HJ"
      }
    },
    {
      "cell_type": "markdown",
      "source": [
        "We used the Adam optimizer (cite) with $\\beta_1=0.9, \\beta_2=0.98$ and $\\epsilon=10^{-9}$."
      ],
      "metadata": {
        "id": "LJEGwCEIc7Dz"
      }
    },
    {
      "cell_type": "markdown",
      "source": [
        "## Learning Rate\n"
      ],
      "metadata": {
        "id": "EfkZ1oHkc2a6"
      }
    },
    {
      "cell_type": "markdown",
      "source": [
        "We varied the learning rate over the course of training, according to the formula: $lrate = d_{model}^{-0.5} \\cdot min(step\\_num^{-0.5}, step\\_num \\cdot warmup\\_steps^{-1.5})$\n",
        "\n",
        "This corresponds to increasing the learning rate linearly for the first $warmup\\_steps$ training steps, and decreasing it thereafter proportionally to the inverse square root of the step number.\n",
        "\n",
        "We used $warmup\\_steps = 4000$."
      ],
      "metadata": {
        "id": "G_300rV0dg0b"
      }
    },
    {
      "cell_type": "code",
      "source": [
        "def rate(step, model_size, factor, warmup):\n",
        "    \"\"\"\n",
        "    We need to default the step to 1 for LambdaLR\n",
        "    function to avoid zero raising to negative power\n",
        "    \"\"\"\n",
        "    if step == 0:\n",
        "        step = 1\n",
        "    return factor * (\n",
        "        model_size ** (-0.5) * min(step ** (-0.5), step * warmup ** (-1.5))\n",
        "    )"
      ],
      "metadata": {
        "id": "AwlBrazRvVK7"
      },
      "execution_count": null,
      "outputs": []
    },
    {
      "cell_type": "code",
      "source": [
        "def simple_model():\n",
        "    \n",
        "    V = 11 # What's V? TODO\n",
        "    # TODO use a predefined loss function? WHy not?\n",
        "    # criterion = LabelSmoothing(size=V, padding_idx=0, smoothing=0.0)\n",
        "    criterion = nn.CrossEntropyLoss()\n",
        "    # I like this\n",
        "    model = make_model(V, V, N=2)\n",
        "\n",
        "    optim = torch.optim.Adam(model.parameters(), lr=0.5, betas=(0.9, 0.98), eps=1e-9)\n",
        "\n",
        "    # What's this doing? TODO\n",
        "    lr_scheduler = LambdaLR(\n",
        "        optimizer = optim,\n",
        "        lr_lambda = lambda step: rate(\n",
        "            step, model_size=model.src_embed[0].d_model, factor=1.0, warmup=400\n",
        "        ),\n",
        "    )\n",
        "\n",
        "    batch_size = 80\n",
        "    for epoch in range(20):\n",
        "\n",
        "        model.train() # Setting training mode on\n",
        "\n",
        "        run_epoch(\n",
        "            data_gen(V, batch_size, 20),\n",
        "            model,\n",
        "            SimpleLossCompute(model.generator, criterion),\n",
        "            optim,\n",
        "            lr_scheduler,\n",
        "            mode=\"train\"\n",
        "        )\n",
        "\n",
        "        model.eval()\n",
        "\n",
        "        # What's this for?\n",
        "        run_epoch(\n",
        "            data_gen(V, batch_size, 5),\n",
        "            model,\n",
        "            SimpleLossCompute(model.generator, criterion),\n",
        "            DummyOptimizer(),\n",
        "            DummyScheduler(),\n",
        "            mode=\"eval\"\n",
        "        )[0]\n",
        "\n",
        "        model.eval() # Why again?\n",
        "        src = torch.LongTensor([[0, 1, 2, 3, 4, 5, 6, 7, 8, 9]])\n",
        "        max_len = src.shape[1]\n",
        "        src_mask = torch.ones(1, 1, max_len)\n",
        "        print(greedy_decode(model, src, src_mask, max_len=max_len, start_symbol=0))\n",
        "\n",
        "simple_model()\n"
      ],
      "metadata": {
        "id": "8vW2PzZzA7bc",
        "colab": {
          "base_uri": "https://localhost:8080/",
          "height": 435
        },
        "outputId": "607f2df7-eaf4-4757-bc7e-dc4919bff5c2"
      },
      "execution_count": null,
      "outputs": [
        {
          "output_type": "stream",
          "name": "stdout",
          "text": [
            "Epoch Step:      1 | Accumulation Step:   2 | Loss:   0.00 | Tokens / Sec:   353.1 | Learning Rate: 5.5e-06\n"
          ]
        },
        {
          "output_type": "error",
          "ename": "KeyboardInterrupt",
          "evalue": "ignored",
          "traceback": [
            "\u001b[0;31m---------------------------------------------------------------------------\u001b[0m",
            "\u001b[0;31mKeyboardInterrupt\u001b[0m                         Traceback (most recent call last)",
            "\u001b[0;32m<ipython-input-58-855dfc2df94a>\u001b[0m in \u001b[0;36m<module>\u001b[0;34m\u001b[0m\n\u001b[1;32m     50\u001b[0m         \u001b[0mprint\u001b[0m\u001b[0;34m(\u001b[0m\u001b[0mgreedy_decode\u001b[0m\u001b[0;34m(\u001b[0m\u001b[0mmodel\u001b[0m\u001b[0;34m,\u001b[0m \u001b[0msrc\u001b[0m\u001b[0;34m,\u001b[0m \u001b[0msrc_mask\u001b[0m\u001b[0;34m,\u001b[0m \u001b[0mmax_len\u001b[0m\u001b[0;34m=\u001b[0m\u001b[0mmax_len\u001b[0m\u001b[0;34m,\u001b[0m \u001b[0mstart_symbol\u001b[0m\u001b[0;34m=\u001b[0m\u001b[0;36m0\u001b[0m\u001b[0;34m)\u001b[0m\u001b[0;34m)\u001b[0m\u001b[0;34m\u001b[0m\u001b[0;34m\u001b[0m\u001b[0m\n\u001b[1;32m     51\u001b[0m \u001b[0;34m\u001b[0m\u001b[0m\n\u001b[0;32m---> 52\u001b[0;31m \u001b[0msimple_model\u001b[0m\u001b[0;34m(\u001b[0m\u001b[0;34m)\u001b[0m\u001b[0;34m\u001b[0m\u001b[0;34m\u001b[0m\u001b[0m\n\u001b[0m",
            "\u001b[0;32m<ipython-input-58-855dfc2df94a>\u001b[0m in \u001b[0;36msimple_model\u001b[0;34m()\u001b[0m\n\u001b[1;32m     29\u001b[0m             \u001b[0moptim\u001b[0m\u001b[0;34m,\u001b[0m\u001b[0;34m\u001b[0m\u001b[0;34m\u001b[0m\u001b[0m\n\u001b[1;32m     30\u001b[0m             \u001b[0mlr_scheduler\u001b[0m\u001b[0;34m,\u001b[0m\u001b[0;34m\u001b[0m\u001b[0;34m\u001b[0m\u001b[0m\n\u001b[0;32m---> 31\u001b[0;31m             \u001b[0mmode\u001b[0m\u001b[0;34m=\u001b[0m\u001b[0;34m\"train\"\u001b[0m\u001b[0;34m\u001b[0m\u001b[0;34m\u001b[0m\u001b[0m\n\u001b[0m\u001b[1;32m     32\u001b[0m         )\n\u001b[1;32m     33\u001b[0m \u001b[0;34m\u001b[0m\u001b[0m\n",
            "\u001b[0;32m<ipython-input-48-794a9f38e5d0>\u001b[0m in \u001b[0;36mrun_epoch\u001b[0;34m(data, model, loss_compute, optim, scheduler, mode, accum_iter, train_state)\u001b[0m\n\u001b[1;32m     17\u001b[0m         \u001b[0;32mif\u001b[0m \u001b[0mmode\u001b[0m \u001b[0;34m==\u001b[0m \u001b[0;34m\"train\"\u001b[0m \u001b[0;32mor\u001b[0m \u001b[0mmode\u001b[0m \u001b[0;34m==\u001b[0m \u001b[0;34m\"train+log\"\u001b[0m\u001b[0;34m:\u001b[0m\u001b[0;34m\u001b[0m\u001b[0;34m\u001b[0m\u001b[0m\n\u001b[1;32m     18\u001b[0m \u001b[0;34m\u001b[0m\u001b[0m\n\u001b[0;32m---> 19\u001b[0;31m             \u001b[0mloss_node\u001b[0m\u001b[0;34m.\u001b[0m\u001b[0mbackward\u001b[0m\u001b[0;34m(\u001b[0m\u001b[0;34m)\u001b[0m \u001b[0;31m# Oh, not loss.backward()? Okay. New question - what's loss?\u001b[0m\u001b[0;34m\u001b[0m\u001b[0;34m\u001b[0m\u001b[0m\n\u001b[0m\u001b[1;32m     20\u001b[0m \u001b[0;34m\u001b[0m\u001b[0m\n\u001b[1;32m     21\u001b[0m             \u001b[0;31m# TODO: Add train_state stuff\u001b[0m\u001b[0;34m\u001b[0m\u001b[0;34m\u001b[0m\u001b[0;34m\u001b[0m\u001b[0m\n",
            "\u001b[0;32m/usr/local/lib/python3.7/dist-packages/torch/_tensor.py\u001b[0m in \u001b[0;36mbackward\u001b[0;34m(self, gradient, retain_graph, create_graph, inputs)\u001b[0m\n\u001b[1;32m    394\u001b[0m                 \u001b[0mcreate_graph\u001b[0m\u001b[0;34m=\u001b[0m\u001b[0mcreate_graph\u001b[0m\u001b[0;34m,\u001b[0m\u001b[0;34m\u001b[0m\u001b[0;34m\u001b[0m\u001b[0m\n\u001b[1;32m    395\u001b[0m                 inputs=inputs)\n\u001b[0;32m--> 396\u001b[0;31m         \u001b[0mtorch\u001b[0m\u001b[0;34m.\u001b[0m\u001b[0mautograd\u001b[0m\u001b[0;34m.\u001b[0m\u001b[0mbackward\u001b[0m\u001b[0;34m(\u001b[0m\u001b[0mself\u001b[0m\u001b[0;34m,\u001b[0m \u001b[0mgradient\u001b[0m\u001b[0;34m,\u001b[0m \u001b[0mretain_graph\u001b[0m\u001b[0;34m,\u001b[0m \u001b[0mcreate_graph\u001b[0m\u001b[0;34m,\u001b[0m \u001b[0minputs\u001b[0m\u001b[0;34m=\u001b[0m\u001b[0minputs\u001b[0m\u001b[0;34m)\u001b[0m\u001b[0;34m\u001b[0m\u001b[0;34m\u001b[0m\u001b[0m\n\u001b[0m\u001b[1;32m    397\u001b[0m \u001b[0;34m\u001b[0m\u001b[0m\n\u001b[1;32m    398\u001b[0m     \u001b[0;32mdef\u001b[0m \u001b[0mregister_hook\u001b[0m\u001b[0;34m(\u001b[0m\u001b[0mself\u001b[0m\u001b[0;34m,\u001b[0m \u001b[0mhook\u001b[0m\u001b[0;34m)\u001b[0m\u001b[0;34m:\u001b[0m\u001b[0;34m\u001b[0m\u001b[0;34m\u001b[0m\u001b[0m\n",
            "\u001b[0;32m/usr/local/lib/python3.7/dist-packages/torch/autograd/__init__.py\u001b[0m in \u001b[0;36mbackward\u001b[0;34m(tensors, grad_tensors, retain_graph, create_graph, grad_variables, inputs)\u001b[0m\n\u001b[1;32m    173\u001b[0m     Variable._execution_engine.run_backward(  # Calls into the C++ engine to run the backward pass\n\u001b[1;32m    174\u001b[0m         \u001b[0mtensors\u001b[0m\u001b[0;34m,\u001b[0m \u001b[0mgrad_tensors_\u001b[0m\u001b[0;34m,\u001b[0m \u001b[0mretain_graph\u001b[0m\u001b[0;34m,\u001b[0m \u001b[0mcreate_graph\u001b[0m\u001b[0;34m,\u001b[0m \u001b[0minputs\u001b[0m\u001b[0;34m,\u001b[0m\u001b[0;34m\u001b[0m\u001b[0;34m\u001b[0m\u001b[0m\n\u001b[0;32m--> 175\u001b[0;31m         allow_unreachable=True, accumulate_grad=True)  # Calls into the C++ engine to run the backward pass\n\u001b[0m\u001b[1;32m    176\u001b[0m \u001b[0;34m\u001b[0m\u001b[0m\n\u001b[1;32m    177\u001b[0m def grad(\n",
            "\u001b[0;31mKeyboardInterrupt\u001b[0m: "
          ]
        }
      ]
    },
    {
      "cell_type": "markdown",
      "source": [
        "Inference\n",
        "\n",
        "Here we make a forward step to generate a prediction of the model. We try to use our transformer to memorize the input. As you will see the output is randomly generated due to the fact that the model is not trained yet. In the next tutorial we will build the training function and try to train our model to memorize the numbers from 1 to 10.\n",
        "\n"
      ],
      "metadata": {
        "id": "tLnV_y_GnoFp"
      }
    },
    {
      "cell_type": "code",
      "source": [
        "def inference_test():\n",
        "    "
      ],
      "metadata": {
        "id": "9tNLVnx3nkgI"
      },
      "execution_count": null,
      "outputs": []
    },
    {
      "cell_type": "code",
      "source": [],
      "metadata": {
        "id": "q1dEBEqXa-H8"
      },
      "execution_count": null,
      "outputs": []
    },
    {
      "cell_type": "code",
      "source": [],
      "metadata": {
        "id": "8iNNK5Aca-K1"
      },
      "execution_count": null,
      "outputs": []
    },
    {
      "cell_type": "code",
      "source": [],
      "metadata": {
        "id": "WGgxgvfOa-Nb"
      },
      "execution_count": null,
      "outputs": []
    },
    {
      "cell_type": "code",
      "source": [],
      "metadata": {
        "id": "mJKtzq_ma-P-"
      },
      "execution_count": null,
      "outputs": []
    },
    {
      "cell_type": "code",
      "source": [],
      "metadata": {
        "id": "x1mWc2pwa-TC"
      },
      "execution_count": null,
      "outputs": []
    },
    {
      "cell_type": "code",
      "source": [],
      "metadata": {
        "id": "6CSi6aMGa-Vy"
      },
      "execution_count": null,
      "outputs": []
    },
    {
      "cell_type": "code",
      "source": [
        "from torch.optim.lr_scheduler import LambdaLR\n"
      ],
      "metadata": {
        "id": "ZSI9LxOGsRyl"
      },
      "execution_count": null,
      "outputs": []
    },
    {
      "cell_type": "code",
      "source": [
        "def rate(step, model_size, factor, warmup):\n",
        "\n",
        "    \"\"\"\n",
        "    We have to default the step to 1 for LambdaLR function\n",
        "    to avoid zero raising to negative power.\n",
        "    TODO: Bruh what?\n",
        "    \"\"\"\n",
        "    if step == 0:\n",
        "        step = 1\n",
        "    return factor * (\n",
        "        model_size ** (-0.5) * min(step ** (-0.5), step * warmup ** (-1.5))\n",
        "    )"
      ],
      "metadata": {
        "id": "atUu_Pehst9f"
      },
      "execution_count": null,
      "outputs": []
    },
    {
      "cell_type": "markdown",
      "source": [],
      "metadata": {
        "id": "iG5mmmBbd1M-"
      }
    },
    {
      "cell_type": "markdown",
      "source": [
        "## Regularization"
      ],
      "metadata": {
        "id": "JkvdMUcxd3pH"
      }
    },
    {
      "cell_type": "markdown",
      "source": [
        "### Label Smoothing\n",
        "\n",
        "Label smoothing actually starts to penalize the model if it gets very confident about a given choice.\n",
        "\n"
      ],
      "metadata": {
        "id": "2CB7rDLud6gE"
      }
    },
    {
      "cell_type": "markdown",
      "source": [
        "During training, we employed label smoothing of value $\\epsilon_{ls} = 0.1$. "
      ],
      "metadata": {
        "id": "DuP2LLiCd756"
      }
    },
    {
      "cell_type": "code",
      "source": [
        "class LabelSmoothing(nn.Module):\n",
        "    \"Implement label smoothing\"\n",
        "\n",
        "    # TODO It's super interesting that we're using the init/forward framework\n",
        "    # for implementing quite a few things here, aside from nns themselves.\n",
        "    def __init__(self, size, padding_idx, smoothing=0.0):\n",
        "        super(LabelSmoothing, self).__init__()\n",
        "\n",
        "        self.criterion = nn.KLDivLoss(reduction=\"sum\")\n",
        "        self.padding_idx = padding_idx\n",
        "        self.confidence = 1.0 - smoothing\n",
        "        self.smoothing = smoothing\n",
        "        self.size = size\n",
        "        self.true_dist = None\n",
        "    \n",
        "    def forward(self, x, target):\n",
        "        assert x.size(1) == self.size\n",
        "\n",
        "        true_dist = x.data.clone()\n",
        "        true_dist.fill_(self.smoothing / (self.size - 2))\n",
        "        true_dist.scatter_(1, target.data.unsqueeze(1), self.confidence)\n",
        "        true_dist[:, self.padding_idx] = 0\n",
        "        mask = torch.nonzero(target.data == self.padding_idx)\n",
        "        if mask.dim() > 0:\n",
        "            true_dist.index_fill_(0, mask.squeeze(), 0.0)\n",
        "        self.true_dist = true_dist\n",
        "        return self.criterion(x, true_dist.clone().detach())"
      ],
      "metadata": {
        "id": "c5wgFMEReEzS"
      },
      "execution_count": null,
      "outputs": []
    },
    {
      "cell_type": "markdown",
      "source": [
        "# A Demo Example"
      ],
      "metadata": {
        "id": "CBIjq2SG3sfn"
      }
    },
    {
      "cell_type": "markdown",
      "source": [
        "Trying out the model on a super simple task\n",
        "\n",
        "We can begin by trying out a simple copy-task. Given a random set of input symbols from a small vocabulary, the goal is to generate back those same symbols.\n",
        "\n"
      ],
      "metadata": {
        "id": "SDjk63we-UA1"
      }
    },
    {
      "cell_type": "markdown",
      "source": [
        "## Synthetic Data"
      ],
      "metadata": {
        "id": "G3hxKRAa68yz"
      }
    },
    {
      "cell_type": "code",
      "source": [
        "def data_gen(V, batch_size, nbatches):\n",
        "    \"Generate random data for a src-tgt copy task\"\n",
        "\n",
        "    for i in range(nbatches):\n",
        "        data = torch.randint(1, V, size=(batch_size, 10))\n",
        "        data[:, 0] = 1\n",
        "        src = data.requires_grad_(False).clone().detach() # What are we doing here TODO\n",
        "        tgt = data.requires_grad_(False).clone().detach()\n",
        "\n",
        "        yield Batch(src, tgt, 0) # TODO Why yield?\n",
        "        # Hmm I don't have anything called Batch. Neither does their code. The hell?"
      ],
      "metadata": {
        "id": "Owl52cka641T"
      },
      "execution_count": null,
      "outputs": []
    },
    {
      "cell_type": "markdown",
      "source": [
        "## Simple Loss Function"
      ],
      "metadata": {
        "id": "BXEijKhD-YaQ"
      }
    },
    {
      "cell_type": "code",
      "source": [
        "class SimpleLossCompute:\n",
        "    \"A simple loss compute and train function\"\n",
        "\n",
        "    def __init__(self, generator, criterion):\n",
        "        self.generator = generator\n",
        "        self.criterion = criterion\n",
        "\n",
        "    # I'm not super sure I understand this function, but it's not a priority.\n",
        "    # Treat it as a black box and move ahead.\n",
        "    def __call__(self, x, y, norm):\n",
        "        x = self.generator(x)\n",
        "        simple_loss = (\n",
        "            self.criterion(\n",
        "                x.contiguous().view(-1, x.size(-1)), y.contiguous().view(-1)\n",
        "            )\n",
        "            / norm\n",
        "        )\n",
        "\n",
        "        return simple_loss.data * norm, simple_loss"
      ],
      "metadata": {
        "id": "6bf9Hbyx-Zsy"
      },
      "execution_count": null,
      "outputs": []
    },
    {
      "cell_type": "markdown",
      "source": [
        "## Greedy Decoding\n",
        "\n",
        "This code predicts a translation using greedy decoding for simplicity."
      ],
      "metadata": {
        "id": "410L5Iqh_G9o"
      }
    },
    {
      "cell_type": "code",
      "source": [
        "# TODO why is this needed? I don't get it\n",
        "\n",
        "def greedy_decode(model, src, src_mask, max_len, start_symbol):\n",
        "\n",
        "    memory = model.encode(src, src_mask) # TODO hmm why does the encoder need the mask?\n",
        "    # And why is this called memory? I would call it a context vector\n",
        "\n",
        "    # What's ys? Like empty label data to start from?\n",
        "    ys = torch.zeros(1, 1).fill_(start_symbol).type_as(src.data)\n",
        "\n",
        "    for i in range(max_len -1):\n",
        "\n",
        "        out = model.decode(\n",
        "            memory, src_mask, ys, subsequent_mask(ys.size(1)).type_as(src.data)\n",
        "        )\n",
        "\n",
        "        # What's this? TODO\n",
        "        # Oh so this is the softmax output of the model\n",
        "        prob = model.generator(out[:, -1])\n",
        "        _, next_word = torch.max(prob, dim=1)\n",
        "        next_word = next_word.data[0]\n",
        "\n",
        "        # Oh so you're just editing ys with the new word. Isn't there a simpler\n",
        "        # way to do that? TODO\n",
        "        ys = torch.cat(\n",
        "            [ys, torch.zeros(1, 1).type_as(src.data).fill_(next_word)], dim=1\n",
        "        )\n",
        "\n",
        "        return ys"
      ],
      "metadata": {
        "id": "kOYkKiNf_INX"
      },
      "execution_count": null,
      "outputs": []
    }
  ]
}